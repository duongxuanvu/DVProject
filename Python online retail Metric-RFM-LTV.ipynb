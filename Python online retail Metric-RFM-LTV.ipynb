{
 "cells": [
  {
   "cell_type": "markdown",
   "metadata": {},
   "source": [
    "Import Data"
   ]
  },
  {
   "cell_type": "code",
   "execution_count": 84,
   "metadata": {},
   "outputs": [],
   "source": [
    "#import library\n",
    "import os\n",
    "import pandas as pd \n",
    "import matplotlib.pyplot as plt\n",
    "import seaborn as sns\n",
    "import plotly.express as px\n",
    "import numpy as np\n",
    "from datetime import datetime , timedelta\n",
    "import plotly.offline as pyoff\n",
    "import plotly.graph_objs as go"
   ]
  },
  {
   "cell_type": "code",
   "execution_count": 85,
   "metadata": {},
   "outputs": [
    {
     "data": {
      "text/html": [
       "<div>\n",
       "<style scoped>\n",
       "    .dataframe tbody tr th:only-of-type {\n",
       "        vertical-align: middle;\n",
       "    }\n",
       "\n",
       "    .dataframe tbody tr th {\n",
       "        vertical-align: top;\n",
       "    }\n",
       "\n",
       "    .dataframe thead th {\n",
       "        text-align: right;\n",
       "    }\n",
       "</style>\n",
       "<table border=\"1\" class=\"dataframe\">\n",
       "  <thead>\n",
       "    <tr style=\"text-align: right;\">\n",
       "      <th></th>\n",
       "      <th>InvoiceNo</th>\n",
       "      <th>StockCode</th>\n",
       "      <th>Description</th>\n",
       "      <th>Quantity</th>\n",
       "      <th>InvoiceDate</th>\n",
       "      <th>UnitPrice</th>\n",
       "      <th>CustomerID</th>\n",
       "      <th>Country</th>\n",
       "    </tr>\n",
       "  </thead>\n",
       "  <tbody>\n",
       "    <tr>\n",
       "      <th>0</th>\n",
       "      <td>536365</td>\n",
       "      <td>85123A</td>\n",
       "      <td>WHITE HANGING HEART T-LIGHT HOLDER</td>\n",
       "      <td>6</td>\n",
       "      <td>12/1/2010 8:26</td>\n",
       "      <td>2.55</td>\n",
       "      <td>17850.0</td>\n",
       "      <td>United Kingdom</td>\n",
       "    </tr>\n",
       "    <tr>\n",
       "      <th>1</th>\n",
       "      <td>536365</td>\n",
       "      <td>71053</td>\n",
       "      <td>WHITE METAL LANTERN</td>\n",
       "      <td>6</td>\n",
       "      <td>12/1/2010 8:26</td>\n",
       "      <td>3.39</td>\n",
       "      <td>17850.0</td>\n",
       "      <td>United Kingdom</td>\n",
       "    </tr>\n",
       "    <tr>\n",
       "      <th>2</th>\n",
       "      <td>536365</td>\n",
       "      <td>84406B</td>\n",
       "      <td>CREAM CUPID HEARTS COAT HANGER</td>\n",
       "      <td>8</td>\n",
       "      <td>12/1/2010 8:26</td>\n",
       "      <td>2.75</td>\n",
       "      <td>17850.0</td>\n",
       "      <td>United Kingdom</td>\n",
       "    </tr>\n",
       "    <tr>\n",
       "      <th>3</th>\n",
       "      <td>536365</td>\n",
       "      <td>84029G</td>\n",
       "      <td>KNITTED UNION FLAG HOT WATER BOTTLE</td>\n",
       "      <td>6</td>\n",
       "      <td>12/1/2010 8:26</td>\n",
       "      <td>3.39</td>\n",
       "      <td>17850.0</td>\n",
       "      <td>United Kingdom</td>\n",
       "    </tr>\n",
       "    <tr>\n",
       "      <th>4</th>\n",
       "      <td>536365</td>\n",
       "      <td>84029E</td>\n",
       "      <td>RED WOOLLY HOTTIE WHITE HEART.</td>\n",
       "      <td>6</td>\n",
       "      <td>12/1/2010 8:26</td>\n",
       "      <td>3.39</td>\n",
       "      <td>17850.0</td>\n",
       "      <td>United Kingdom</td>\n",
       "    </tr>\n",
       "  </tbody>\n",
       "</table>\n",
       "</div>"
      ],
      "text/plain": [
       "  InvoiceNo StockCode                          Description  Quantity  \\\n",
       "0    536365    85123A   WHITE HANGING HEART T-LIGHT HOLDER         6   \n",
       "1    536365     71053                  WHITE METAL LANTERN         6   \n",
       "2    536365    84406B       CREAM CUPID HEARTS COAT HANGER         8   \n",
       "3    536365    84029G  KNITTED UNION FLAG HOT WATER BOTTLE         6   \n",
       "4    536365    84029E       RED WOOLLY HOTTIE WHITE HEART.         6   \n",
       "\n",
       "      InvoiceDate  UnitPrice  CustomerID         Country  \n",
       "0  12/1/2010 8:26       2.55     17850.0  United Kingdom  \n",
       "1  12/1/2010 8:26       3.39     17850.0  United Kingdom  \n",
       "2  12/1/2010 8:26       2.75     17850.0  United Kingdom  \n",
       "3  12/1/2010 8:26       3.39     17850.0  United Kingdom  \n",
       "4  12/1/2010 8:26       3.39     17850.0  United Kingdom  "
      ]
     },
     "execution_count": 85,
     "metadata": {},
     "output_type": "execute_result"
    }
   ],
   "source": [
    "path = 'C:/Users/DUONG-PC/OneDrive/Desktop/Python onlineretail Rinez Nguyen/OnlineRetail.csv'\n",
    "df_retail = pd.read_csv(path,encoding= 'unicode_escape')\n",
    "df_retail.head()"
   ]
  },
  {
   "cell_type": "markdown",
   "metadata": {},
   "source": [
    "EDA & Data cleaning"
   ]
  },
  {
   "cell_type": "code",
   "execution_count": 86,
   "metadata": {},
   "outputs": [
    {
     "name": "stdout",
     "output_type": "stream",
     "text": [
      "<class 'pandas.core.frame.DataFrame'>\n",
      "RangeIndex: 541909 entries, 0 to 541908\n",
      "Data columns (total 8 columns):\n",
      " #   Column       Non-Null Count   Dtype  \n",
      "---  ------       --------------   -----  \n",
      " 0   InvoiceNo    541909 non-null  object \n",
      " 1   StockCode    541909 non-null  object \n",
      " 2   Description  540455 non-null  object \n",
      " 3   Quantity     541909 non-null  int64  \n",
      " 4   InvoiceDate  541909 non-null  object \n",
      " 5   UnitPrice    541909 non-null  float64\n",
      " 6   CustomerID   406829 non-null  float64\n",
      " 7   Country      541909 non-null  object \n",
      "dtypes: float64(2), int64(1), object(5)\n",
      "memory usage: 33.1+ MB\n"
     ]
    }
   ],
   "source": [
    "df_retail.info()"
   ]
  },
  {
   "cell_type": "code",
   "execution_count": 87,
   "metadata": {},
   "outputs": [
    {
     "name": "stdout",
     "output_type": "stream",
     "text": [
      "<class 'pandas.core.frame.DataFrame'>\n",
      "RangeIndex: 541909 entries, 0 to 541908\n",
      "Data columns (total 8 columns):\n",
      " #   Column       Non-Null Count   Dtype         \n",
      "---  ------       --------------   -----         \n",
      " 0   InvoiceNo    541909 non-null  object        \n",
      " 1   StockCode    541909 non-null  object        \n",
      " 2   Description  540455 non-null  object        \n",
      " 3   Quantity     541909 non-null  int64         \n",
      " 4   InvoiceDate  541909 non-null  datetime64[ns]\n",
      " 5   UnitPrice    541909 non-null  float64       \n",
      " 6   CustomerID   406829 non-null  float64       \n",
      " 7   Country      541909 non-null  object        \n",
      "dtypes: datetime64[ns](1), float64(2), int64(1), object(4)\n",
      "memory usage: 33.1+ MB\n"
     ]
    }
   ],
   "source": [
    "#convert invoicedate to datetime\n",
    "df_retail['InvoiceDate']=pd.to_datetime(df_retail['InvoiceDate'])\n",
    "df_retail.info()"
   ]
  },
  {
   "cell_type": "code",
   "execution_count": 88,
   "metadata": {},
   "outputs": [
    {
     "data": {
      "text/html": [
       "<div>\n",
       "<style scoped>\n",
       "    .dataframe tbody tr th:only-of-type {\n",
       "        vertical-align: middle;\n",
       "    }\n",
       "\n",
       "    .dataframe tbody tr th {\n",
       "        vertical-align: top;\n",
       "    }\n",
       "\n",
       "    .dataframe thead th {\n",
       "        text-align: right;\n",
       "    }\n",
       "</style>\n",
       "<table border=\"1\" class=\"dataframe\">\n",
       "  <thead>\n",
       "    <tr style=\"text-align: right;\">\n",
       "      <th></th>\n",
       "      <th>InvoiceNo</th>\n",
       "      <th>StockCode</th>\n",
       "      <th>Description</th>\n",
       "      <th>Quantity</th>\n",
       "      <th>InvoiceDate</th>\n",
       "      <th>UnitPrice</th>\n",
       "      <th>CustomerID</th>\n",
       "      <th>Country</th>\n",
       "      <th>Invoice_year</th>\n",
       "      <th>Invoice_month</th>\n",
       "      <th>Invoice_date</th>\n",
       "      <th>Invoice_hour</th>\n",
       "      <th>Invoice_YearMonth</th>\n",
       "    </tr>\n",
       "  </thead>\n",
       "  <tbody>\n",
       "    <tr>\n",
       "      <th>0</th>\n",
       "      <td>536365</td>\n",
       "      <td>85123A</td>\n",
       "      <td>WHITE HANGING HEART T-LIGHT HOLDER</td>\n",
       "      <td>6</td>\n",
       "      <td>2010-12-01 08:26:00</td>\n",
       "      <td>2.55</td>\n",
       "      <td>17850.0</td>\n",
       "      <td>United Kingdom</td>\n",
       "      <td>2010</td>\n",
       "      <td>12</td>\n",
       "      <td>1</td>\n",
       "      <td>8</td>\n",
       "      <td>201012</td>\n",
       "    </tr>\n",
       "    <tr>\n",
       "      <th>1</th>\n",
       "      <td>536365</td>\n",
       "      <td>71053</td>\n",
       "      <td>WHITE METAL LANTERN</td>\n",
       "      <td>6</td>\n",
       "      <td>2010-12-01 08:26:00</td>\n",
       "      <td>3.39</td>\n",
       "      <td>17850.0</td>\n",
       "      <td>United Kingdom</td>\n",
       "      <td>2010</td>\n",
       "      <td>12</td>\n",
       "      <td>1</td>\n",
       "      <td>8</td>\n",
       "      <td>201012</td>\n",
       "    </tr>\n",
       "    <tr>\n",
       "      <th>2</th>\n",
       "      <td>536365</td>\n",
       "      <td>84406B</td>\n",
       "      <td>CREAM CUPID HEARTS COAT HANGER</td>\n",
       "      <td>8</td>\n",
       "      <td>2010-12-01 08:26:00</td>\n",
       "      <td>2.75</td>\n",
       "      <td>17850.0</td>\n",
       "      <td>United Kingdom</td>\n",
       "      <td>2010</td>\n",
       "      <td>12</td>\n",
       "      <td>1</td>\n",
       "      <td>8</td>\n",
       "      <td>201012</td>\n",
       "    </tr>\n",
       "    <tr>\n",
       "      <th>3</th>\n",
       "      <td>536365</td>\n",
       "      <td>84029G</td>\n",
       "      <td>KNITTED UNION FLAG HOT WATER BOTTLE</td>\n",
       "      <td>6</td>\n",
       "      <td>2010-12-01 08:26:00</td>\n",
       "      <td>3.39</td>\n",
       "      <td>17850.0</td>\n",
       "      <td>United Kingdom</td>\n",
       "      <td>2010</td>\n",
       "      <td>12</td>\n",
       "      <td>1</td>\n",
       "      <td>8</td>\n",
       "      <td>201012</td>\n",
       "    </tr>\n",
       "    <tr>\n",
       "      <th>4</th>\n",
       "      <td>536365</td>\n",
       "      <td>84029E</td>\n",
       "      <td>RED WOOLLY HOTTIE WHITE HEART.</td>\n",
       "      <td>6</td>\n",
       "      <td>2010-12-01 08:26:00</td>\n",
       "      <td>3.39</td>\n",
       "      <td>17850.0</td>\n",
       "      <td>United Kingdom</td>\n",
       "      <td>2010</td>\n",
       "      <td>12</td>\n",
       "      <td>1</td>\n",
       "      <td>8</td>\n",
       "      <td>201012</td>\n",
       "    </tr>\n",
       "    <tr>\n",
       "      <th>...</th>\n",
       "      <td>...</td>\n",
       "      <td>...</td>\n",
       "      <td>...</td>\n",
       "      <td>...</td>\n",
       "      <td>...</td>\n",
       "      <td>...</td>\n",
       "      <td>...</td>\n",
       "      <td>...</td>\n",
       "      <td>...</td>\n",
       "      <td>...</td>\n",
       "      <td>...</td>\n",
       "      <td>...</td>\n",
       "      <td>...</td>\n",
       "    </tr>\n",
       "    <tr>\n",
       "      <th>541904</th>\n",
       "      <td>581587</td>\n",
       "      <td>22613</td>\n",
       "      <td>PACK OF 20 SPACEBOY NAPKINS</td>\n",
       "      <td>12</td>\n",
       "      <td>2011-12-09 12:50:00</td>\n",
       "      <td>0.85</td>\n",
       "      <td>12680.0</td>\n",
       "      <td>France</td>\n",
       "      <td>2011</td>\n",
       "      <td>12</td>\n",
       "      <td>9</td>\n",
       "      <td>12</td>\n",
       "      <td>201112</td>\n",
       "    </tr>\n",
       "    <tr>\n",
       "      <th>541905</th>\n",
       "      <td>581587</td>\n",
       "      <td>22899</td>\n",
       "      <td>CHILDREN'S APRON DOLLY GIRL</td>\n",
       "      <td>6</td>\n",
       "      <td>2011-12-09 12:50:00</td>\n",
       "      <td>2.10</td>\n",
       "      <td>12680.0</td>\n",
       "      <td>France</td>\n",
       "      <td>2011</td>\n",
       "      <td>12</td>\n",
       "      <td>9</td>\n",
       "      <td>12</td>\n",
       "      <td>201112</td>\n",
       "    </tr>\n",
       "    <tr>\n",
       "      <th>541906</th>\n",
       "      <td>581587</td>\n",
       "      <td>23254</td>\n",
       "      <td>CHILDRENS CUTLERY DOLLY GIRL</td>\n",
       "      <td>4</td>\n",
       "      <td>2011-12-09 12:50:00</td>\n",
       "      <td>4.15</td>\n",
       "      <td>12680.0</td>\n",
       "      <td>France</td>\n",
       "      <td>2011</td>\n",
       "      <td>12</td>\n",
       "      <td>9</td>\n",
       "      <td>12</td>\n",
       "      <td>201112</td>\n",
       "    </tr>\n",
       "    <tr>\n",
       "      <th>541907</th>\n",
       "      <td>581587</td>\n",
       "      <td>23255</td>\n",
       "      <td>CHILDRENS CUTLERY CIRCUS PARADE</td>\n",
       "      <td>4</td>\n",
       "      <td>2011-12-09 12:50:00</td>\n",
       "      <td>4.15</td>\n",
       "      <td>12680.0</td>\n",
       "      <td>France</td>\n",
       "      <td>2011</td>\n",
       "      <td>12</td>\n",
       "      <td>9</td>\n",
       "      <td>12</td>\n",
       "      <td>201112</td>\n",
       "    </tr>\n",
       "    <tr>\n",
       "      <th>541908</th>\n",
       "      <td>581587</td>\n",
       "      <td>22138</td>\n",
       "      <td>BAKING SET 9 PIECE RETROSPOT</td>\n",
       "      <td>3</td>\n",
       "      <td>2011-12-09 12:50:00</td>\n",
       "      <td>4.95</td>\n",
       "      <td>12680.0</td>\n",
       "      <td>France</td>\n",
       "      <td>2011</td>\n",
       "      <td>12</td>\n",
       "      <td>9</td>\n",
       "      <td>12</td>\n",
       "      <td>201112</td>\n",
       "    </tr>\n",
       "  </tbody>\n",
       "</table>\n",
       "<p>541909 rows × 13 columns</p>\n",
       "</div>"
      ],
      "text/plain": [
       "       InvoiceNo StockCode                          Description  Quantity  \\\n",
       "0         536365    85123A   WHITE HANGING HEART T-LIGHT HOLDER         6   \n",
       "1         536365     71053                  WHITE METAL LANTERN         6   \n",
       "2         536365    84406B       CREAM CUPID HEARTS COAT HANGER         8   \n",
       "3         536365    84029G  KNITTED UNION FLAG HOT WATER BOTTLE         6   \n",
       "4         536365    84029E       RED WOOLLY HOTTIE WHITE HEART.         6   \n",
       "...          ...       ...                                  ...       ...   \n",
       "541904    581587     22613          PACK OF 20 SPACEBOY NAPKINS        12   \n",
       "541905    581587     22899         CHILDREN'S APRON DOLLY GIRL          6   \n",
       "541906    581587     23254        CHILDRENS CUTLERY DOLLY GIRL          4   \n",
       "541907    581587     23255      CHILDRENS CUTLERY CIRCUS PARADE         4   \n",
       "541908    581587     22138        BAKING SET 9 PIECE RETROSPOT          3   \n",
       "\n",
       "               InvoiceDate  UnitPrice  CustomerID         Country  \\\n",
       "0      2010-12-01 08:26:00       2.55     17850.0  United Kingdom   \n",
       "1      2010-12-01 08:26:00       3.39     17850.0  United Kingdom   \n",
       "2      2010-12-01 08:26:00       2.75     17850.0  United Kingdom   \n",
       "3      2010-12-01 08:26:00       3.39     17850.0  United Kingdom   \n",
       "4      2010-12-01 08:26:00       3.39     17850.0  United Kingdom   \n",
       "...                    ...        ...         ...             ...   \n",
       "541904 2011-12-09 12:50:00       0.85     12680.0          France   \n",
       "541905 2011-12-09 12:50:00       2.10     12680.0          France   \n",
       "541906 2011-12-09 12:50:00       4.15     12680.0          France   \n",
       "541907 2011-12-09 12:50:00       4.15     12680.0          France   \n",
       "541908 2011-12-09 12:50:00       4.95     12680.0          France   \n",
       "\n",
       "        Invoice_year  Invoice_month  Invoice_date  Invoice_hour  \\\n",
       "0               2010             12             1             8   \n",
       "1               2010             12             1             8   \n",
       "2               2010             12             1             8   \n",
       "3               2010             12             1             8   \n",
       "4               2010             12             1             8   \n",
       "...              ...            ...           ...           ...   \n",
       "541904          2011             12             9            12   \n",
       "541905          2011             12             9            12   \n",
       "541906          2011             12             9            12   \n",
       "541907          2011             12             9            12   \n",
       "541908          2011             12             9            12   \n",
       "\n",
       "        Invoice_YearMonth  \n",
       "0                  201012  \n",
       "1                  201012  \n",
       "2                  201012  \n",
       "3                  201012  \n",
       "4                  201012  \n",
       "...                   ...  \n",
       "541904             201112  \n",
       "541905             201112  \n",
       "541906             201112  \n",
       "541907             201112  \n",
       "541908             201112  \n",
       "\n",
       "[541909 rows x 13 columns]"
      ]
     },
     "execution_count": 88,
     "metadata": {},
     "output_type": "execute_result"
    }
   ],
   "source": [
    "df_retail['Invoice_year'] = df_retail['InvoiceDate'].dt.year\n",
    "df_retail['Invoice_month'] = df_retail['InvoiceDate'].dt.month\n",
    "df_retail['Invoice_date'] = df_retail['InvoiceDate'].dt.day\n",
    "df_retail['Invoice_hour'] = df_retail['InvoiceDate'].dt.hour\n",
    "df_retail['Invoice_YearMonth'] = df_retail['InvoiceDate'].map(lambda x:x.year*100 + x.month)\n",
    "df_retail"
   ]
  },
  {
   "cell_type": "code",
   "execution_count": 89,
   "metadata": {},
   "outputs": [],
   "source": [
    "df_retail['Revenue'] = df_retail['UnitPrice']*df_retail['Quantity']"
   ]
  },
  {
   "cell_type": "markdown",
   "metadata": {},
   "source": [
    "Tang truong doanh thu theo thang??"
   ]
  },
  {
   "cell_type": "code",
   "execution_count": 90,
   "metadata": {},
   "outputs": [
    {
     "data": {
      "text/plain": [
       "array([201012, 201101, 201102, 201103, 201104, 201105, 201106, 201107,\n",
       "       201108, 201109, 201110, 201111, 201112], dtype=int64)"
      ]
     },
     "execution_count": 90,
     "metadata": {},
     "output_type": "execute_result"
    }
   ],
   "source": [
    "df_retail['Invoice_YearMonth'].unique()"
   ]
  },
  {
   "cell_type": "code",
   "execution_count": 91,
   "metadata": {},
   "outputs": [
    {
     "data": {
      "text/html": [
       "<div>\n",
       "<style scoped>\n",
       "    .dataframe tbody tr th:only-of-type {\n",
       "        vertical-align: middle;\n",
       "    }\n",
       "\n",
       "    .dataframe tbody tr th {\n",
       "        vertical-align: top;\n",
       "    }\n",
       "\n",
       "    .dataframe thead th {\n",
       "        text-align: right;\n",
       "    }\n",
       "</style>\n",
       "<table border=\"1\" class=\"dataframe\">\n",
       "  <thead>\n",
       "    <tr style=\"text-align: right;\">\n",
       "      <th></th>\n",
       "      <th>Invoice_YearMonth</th>\n",
       "      <th>Revenue</th>\n",
       "    </tr>\n",
       "  </thead>\n",
       "  <tbody>\n",
       "    <tr>\n",
       "      <th>0</th>\n",
       "      <td>201012</td>\n",
       "      <td>748957.020</td>\n",
       "    </tr>\n",
       "    <tr>\n",
       "      <th>1</th>\n",
       "      <td>201101</td>\n",
       "      <td>560000.260</td>\n",
       "    </tr>\n",
       "    <tr>\n",
       "      <th>2</th>\n",
       "      <td>201102</td>\n",
       "      <td>498062.650</td>\n",
       "    </tr>\n",
       "    <tr>\n",
       "      <th>3</th>\n",
       "      <td>201103</td>\n",
       "      <td>683267.080</td>\n",
       "    </tr>\n",
       "    <tr>\n",
       "      <th>4</th>\n",
       "      <td>201104</td>\n",
       "      <td>493207.121</td>\n",
       "    </tr>\n",
       "    <tr>\n",
       "      <th>5</th>\n",
       "      <td>201105</td>\n",
       "      <td>723333.510</td>\n",
       "    </tr>\n",
       "    <tr>\n",
       "      <th>6</th>\n",
       "      <td>201106</td>\n",
       "      <td>691123.120</td>\n",
       "    </tr>\n",
       "    <tr>\n",
       "      <th>7</th>\n",
       "      <td>201107</td>\n",
       "      <td>681300.111</td>\n",
       "    </tr>\n",
       "    <tr>\n",
       "      <th>8</th>\n",
       "      <td>201108</td>\n",
       "      <td>682680.510</td>\n",
       "    </tr>\n",
       "    <tr>\n",
       "      <th>9</th>\n",
       "      <td>201109</td>\n",
       "      <td>1019687.622</td>\n",
       "    </tr>\n",
       "    <tr>\n",
       "      <th>10</th>\n",
       "      <td>201110</td>\n",
       "      <td>1070704.670</td>\n",
       "    </tr>\n",
       "    <tr>\n",
       "      <th>11</th>\n",
       "      <td>201111</td>\n",
       "      <td>1461756.250</td>\n",
       "    </tr>\n",
       "    <tr>\n",
       "      <th>12</th>\n",
       "      <td>201112</td>\n",
       "      <td>433668.010</td>\n",
       "    </tr>\n",
       "  </tbody>\n",
       "</table>\n",
       "</div>"
      ],
      "text/plain": [
       "    Invoice_YearMonth      Revenue\n",
       "0              201012   748957.020\n",
       "1              201101   560000.260\n",
       "2              201102   498062.650\n",
       "3              201103   683267.080\n",
       "4              201104   493207.121\n",
       "5              201105   723333.510\n",
       "6              201106   691123.120\n",
       "7              201107   681300.111\n",
       "8              201108   682680.510\n",
       "9              201109  1019687.622\n",
       "10             201110  1070704.670\n",
       "11             201111  1461756.250\n",
       "12             201112   433668.010"
      ]
     },
     "execution_count": 91,
     "metadata": {},
     "output_type": "execute_result"
    }
   ],
   "source": [
    "df_RevenueMonth = df_retail.groupby('Invoice_YearMonth')['Revenue'].sum().reset_index()\n",
    "df_RevenueMonth"
   ]
  },
  {
   "cell_type": "code",
   "execution_count": 92,
   "metadata": {},
   "outputs": [
    {
     "data": {
      "text/html": [
       "<div>\n",
       "<style scoped>\n",
       "    .dataframe tbody tr th:only-of-type {\n",
       "        vertical-align: middle;\n",
       "    }\n",
       "\n",
       "    .dataframe tbody tr th {\n",
       "        vertical-align: top;\n",
       "    }\n",
       "\n",
       "    .dataframe thead th {\n",
       "        text-align: right;\n",
       "    }\n",
       "</style>\n",
       "<table border=\"1\" class=\"dataframe\">\n",
       "  <thead>\n",
       "    <tr style=\"text-align: right;\">\n",
       "      <th></th>\n",
       "      <th>Invoice_YearMonth</th>\n",
       "      <th>Revenue</th>\n",
       "      <th>pct_change%</th>\n",
       "    </tr>\n",
       "  </thead>\n",
       "  <tbody>\n",
       "    <tr>\n",
       "      <th>0</th>\n",
       "      <td>201012</td>\n",
       "      <td>748957.020</td>\n",
       "      <td>0.000000</td>\n",
       "    </tr>\n",
       "    <tr>\n",
       "      <th>1</th>\n",
       "      <td>201101</td>\n",
       "      <td>560000.260</td>\n",
       "      <td>-25.229320</td>\n",
       "    </tr>\n",
       "    <tr>\n",
       "      <th>2</th>\n",
       "      <td>201102</td>\n",
       "      <td>498062.650</td>\n",
       "      <td>-11.060282</td>\n",
       "    </tr>\n",
       "    <tr>\n",
       "      <th>3</th>\n",
       "      <td>201103</td>\n",
       "      <td>683267.080</td>\n",
       "      <td>37.184967</td>\n",
       "    </tr>\n",
       "    <tr>\n",
       "      <th>4</th>\n",
       "      <td>201104</td>\n",
       "      <td>493207.121</td>\n",
       "      <td>-27.816350</td>\n",
       "    </tr>\n",
       "    <tr>\n",
       "      <th>5</th>\n",
       "      <td>201105</td>\n",
       "      <td>723333.510</td>\n",
       "      <td>46.659178</td>\n",
       "    </tr>\n",
       "    <tr>\n",
       "      <th>6</th>\n",
       "      <td>201106</td>\n",
       "      <td>691123.120</td>\n",
       "      <td>-4.453048</td>\n",
       "    </tr>\n",
       "    <tr>\n",
       "      <th>7</th>\n",
       "      <td>201107</td>\n",
       "      <td>681300.111</td>\n",
       "      <td>-1.421311</td>\n",
       "    </tr>\n",
       "    <tr>\n",
       "      <th>8</th>\n",
       "      <td>201108</td>\n",
       "      <td>682680.510</td>\n",
       "      <td>0.202612</td>\n",
       "    </tr>\n",
       "    <tr>\n",
       "      <th>9</th>\n",
       "      <td>201109</td>\n",
       "      <td>1019687.622</td>\n",
       "      <td>49.365275</td>\n",
       "    </tr>\n",
       "    <tr>\n",
       "      <th>10</th>\n",
       "      <td>201110</td>\n",
       "      <td>1070704.670</td>\n",
       "      <td>5.003204</td>\n",
       "    </tr>\n",
       "    <tr>\n",
       "      <th>11</th>\n",
       "      <td>201111</td>\n",
       "      <td>1461756.250</td>\n",
       "      <td>36.522824</td>\n",
       "    </tr>\n",
       "    <tr>\n",
       "      <th>12</th>\n",
       "      <td>201112</td>\n",
       "      <td>433668.010</td>\n",
       "      <td>-70.332399</td>\n",
       "    </tr>\n",
       "  </tbody>\n",
       "</table>\n",
       "</div>"
      ],
      "text/plain": [
       "    Invoice_YearMonth      Revenue  pct_change%\n",
       "0              201012   748957.020     0.000000\n",
       "1              201101   560000.260   -25.229320\n",
       "2              201102   498062.650   -11.060282\n",
       "3              201103   683267.080    37.184967\n",
       "4              201104   493207.121   -27.816350\n",
       "5              201105   723333.510    46.659178\n",
       "6              201106   691123.120    -4.453048\n",
       "7              201107   681300.111    -1.421311\n",
       "8              201108   682680.510     0.202612\n",
       "9              201109  1019687.622    49.365275\n",
       "10             201110  1070704.670     5.003204\n",
       "11             201111  1461756.250    36.522824\n",
       "12             201112   433668.010   -70.332399"
      ]
     },
     "execution_count": 92,
     "metadata": {},
     "output_type": "execute_result"
    }
   ],
   "source": [
    "pct_change_list =[0]\n",
    "for i in range(len(df_RevenueMonth)-1):\n",
    "    pct_change=(df_RevenueMonth['Revenue'][i+1] - df_RevenueMonth['Revenue'][i])*100/df_RevenueMonth['Revenue'][i]\n",
    "    pct_change_list.append(pct_change)\n",
    "pct_change_list\n",
    "df_RevenueMonth['pct_change%']= pct_change_list\n",
    "df_RevenueMonth"
   ]
  },
  {
   "cell_type": "code",
   "execution_count": 93,
   "metadata": {},
   "outputs": [
    {
     "data": {
      "text/html": [
       "<div>\n",
       "<style scoped>\n",
       "    .dataframe tbody tr th:only-of-type {\n",
       "        vertical-align: middle;\n",
       "    }\n",
       "\n",
       "    .dataframe tbody tr th {\n",
       "        vertical-align: top;\n",
       "    }\n",
       "\n",
       "    .dataframe thead th {\n",
       "        text-align: right;\n",
       "    }\n",
       "</style>\n",
       "<table border=\"1\" class=\"dataframe\">\n",
       "  <thead>\n",
       "    <tr style=\"text-align: right;\">\n",
       "      <th></th>\n",
       "      <th>Invoice_YearMonth</th>\n",
       "      <th>Revenue</th>\n",
       "      <th>pct_change%</th>\n",
       "      <th>pct_change%2</th>\n",
       "    </tr>\n",
       "  </thead>\n",
       "  <tbody>\n",
       "    <tr>\n",
       "      <th>0</th>\n",
       "      <td>201012</td>\n",
       "      <td>748957.020</td>\n",
       "      <td>0.000000</td>\n",
       "      <td>NaN</td>\n",
       "    </tr>\n",
       "    <tr>\n",
       "      <th>1</th>\n",
       "      <td>201101</td>\n",
       "      <td>560000.260</td>\n",
       "      <td>-25.229320</td>\n",
       "      <td>-0.252293</td>\n",
       "    </tr>\n",
       "    <tr>\n",
       "      <th>2</th>\n",
       "      <td>201102</td>\n",
       "      <td>498062.650</td>\n",
       "      <td>-11.060282</td>\n",
       "      <td>-0.110603</td>\n",
       "    </tr>\n",
       "    <tr>\n",
       "      <th>3</th>\n",
       "      <td>201103</td>\n",
       "      <td>683267.080</td>\n",
       "      <td>37.184967</td>\n",
       "      <td>0.371850</td>\n",
       "    </tr>\n",
       "    <tr>\n",
       "      <th>4</th>\n",
       "      <td>201104</td>\n",
       "      <td>493207.121</td>\n",
       "      <td>-27.816350</td>\n",
       "      <td>-0.278163</td>\n",
       "    </tr>\n",
       "    <tr>\n",
       "      <th>5</th>\n",
       "      <td>201105</td>\n",
       "      <td>723333.510</td>\n",
       "      <td>46.659178</td>\n",
       "      <td>0.466592</td>\n",
       "    </tr>\n",
       "    <tr>\n",
       "      <th>6</th>\n",
       "      <td>201106</td>\n",
       "      <td>691123.120</td>\n",
       "      <td>-4.453048</td>\n",
       "      <td>-0.044530</td>\n",
       "    </tr>\n",
       "    <tr>\n",
       "      <th>7</th>\n",
       "      <td>201107</td>\n",
       "      <td>681300.111</td>\n",
       "      <td>-1.421311</td>\n",
       "      <td>-0.014213</td>\n",
       "    </tr>\n",
       "    <tr>\n",
       "      <th>8</th>\n",
       "      <td>201108</td>\n",
       "      <td>682680.510</td>\n",
       "      <td>0.202612</td>\n",
       "      <td>0.002026</td>\n",
       "    </tr>\n",
       "    <tr>\n",
       "      <th>9</th>\n",
       "      <td>201109</td>\n",
       "      <td>1019687.622</td>\n",
       "      <td>49.365275</td>\n",
       "      <td>0.493653</td>\n",
       "    </tr>\n",
       "    <tr>\n",
       "      <th>10</th>\n",
       "      <td>201110</td>\n",
       "      <td>1070704.670</td>\n",
       "      <td>5.003204</td>\n",
       "      <td>0.050032</td>\n",
       "    </tr>\n",
       "    <tr>\n",
       "      <th>11</th>\n",
       "      <td>201111</td>\n",
       "      <td>1461756.250</td>\n",
       "      <td>36.522824</td>\n",
       "      <td>0.365228</td>\n",
       "    </tr>\n",
       "    <tr>\n",
       "      <th>12</th>\n",
       "      <td>201112</td>\n",
       "      <td>433668.010</td>\n",
       "      <td>-70.332399</td>\n",
       "      <td>-0.703324</td>\n",
       "    </tr>\n",
       "  </tbody>\n",
       "</table>\n",
       "</div>"
      ],
      "text/plain": [
       "    Invoice_YearMonth      Revenue  pct_change%  pct_change%2\n",
       "0              201012   748957.020     0.000000           NaN\n",
       "1              201101   560000.260   -25.229320     -0.252293\n",
       "2              201102   498062.650   -11.060282     -0.110603\n",
       "3              201103   683267.080    37.184967      0.371850\n",
       "4              201104   493207.121   -27.816350     -0.278163\n",
       "5              201105   723333.510    46.659178      0.466592\n",
       "6              201106   691123.120    -4.453048     -0.044530\n",
       "7              201107   681300.111    -1.421311     -0.014213\n",
       "8              201108   682680.510     0.202612      0.002026\n",
       "9              201109  1019687.622    49.365275      0.493653\n",
       "10             201110  1070704.670     5.003204      0.050032\n",
       "11             201111  1461756.250    36.522824      0.365228\n",
       "12             201112   433668.010   -70.332399     -0.703324"
      ]
     },
     "execution_count": 93,
     "metadata": {},
     "output_type": "execute_result"
    }
   ],
   "source": [
    "#solution 2: pd.pct_change\n",
    "df_RevenueMonth['pct_change%2'] =df_RevenueMonth['Revenue'].pct_change()\n",
    "df_RevenueMonth"
   ]
  },
  {
   "cell_type": "code",
   "execution_count": 94,
   "metadata": {},
   "outputs": [
    {
     "data": {
      "application/vnd.plotly.v1+json": {
       "config": {
        "plotlyServerURL": "https://plot.ly"
       },
       "data": [
        {
         "hovertemplate": "Invoice_YearMonth=%{x}<br>pct_change%=%{text}<extra></extra>",
         "legendgroup": "",
         "line": {
          "color": "#636efa",
          "dash": "solid"
         },
         "marker": {
          "symbol": "circle"
         },
         "mode": "text+lines+markers",
         "name": "",
         "orientation": "v",
         "showlegend": false,
         "text": [
          0,
          -25.229319567630196,
          -11.060282364868899,
          37.184966590046436,
          -27.8163495012814,
          46.659178102175055,
          -4.453048221144907,
          -1.4213110104028877,
          0.2026124724937812,
          49.36527512701365,
          5.003203618372447,
          36.52282379603333,
          -70.33239912605129
         ],
         "textposition": "top center",
         "type": "scatter",
         "x": [
          "201012",
          "201101",
          "201102",
          "201103",
          "201104",
          "201105",
          "201106",
          "201107",
          "201108",
          "201109",
          "201110",
          "201111",
          "201112"
         ],
         "xaxis": "x",
         "y": [
          0,
          -25.229319567630196,
          -11.060282364868899,
          37.184966590046436,
          -27.8163495012814,
          46.659178102175055,
          -4.453048221144907,
          -1.4213110104028877,
          0.2026124724937812,
          49.36527512701365,
          5.003203618372447,
          36.52282379603333,
          -70.33239912605129
         ],
         "yaxis": "y"
        }
       ],
       "layout": {
        "legend": {
         "tracegroupgap": 0
        },
        "template": {
         "data": {
          "bar": [
           {
            "error_x": {
             "color": "#2a3f5f"
            },
            "error_y": {
             "color": "#2a3f5f"
            },
            "marker": {
             "line": {
              "color": "#E5ECF6",
              "width": 0.5
             },
             "pattern": {
              "fillmode": "overlay",
              "size": 10,
              "solidity": 0.2
             }
            },
            "type": "bar"
           }
          ],
          "barpolar": [
           {
            "marker": {
             "line": {
              "color": "#E5ECF6",
              "width": 0.5
             },
             "pattern": {
              "fillmode": "overlay",
              "size": 10,
              "solidity": 0.2
             }
            },
            "type": "barpolar"
           }
          ],
          "carpet": [
           {
            "aaxis": {
             "endlinecolor": "#2a3f5f",
             "gridcolor": "white",
             "linecolor": "white",
             "minorgridcolor": "white",
             "startlinecolor": "#2a3f5f"
            },
            "baxis": {
             "endlinecolor": "#2a3f5f",
             "gridcolor": "white",
             "linecolor": "white",
             "minorgridcolor": "white",
             "startlinecolor": "#2a3f5f"
            },
            "type": "carpet"
           }
          ],
          "choropleth": [
           {
            "colorbar": {
             "outlinewidth": 0,
             "ticks": ""
            },
            "type": "choropleth"
           }
          ],
          "contour": [
           {
            "colorbar": {
             "outlinewidth": 0,
             "ticks": ""
            },
            "colorscale": [
             [
              0,
              "#0d0887"
             ],
             [
              0.1111111111111111,
              "#46039f"
             ],
             [
              0.2222222222222222,
              "#7201a8"
             ],
             [
              0.3333333333333333,
              "#9c179e"
             ],
             [
              0.4444444444444444,
              "#bd3786"
             ],
             [
              0.5555555555555556,
              "#d8576b"
             ],
             [
              0.6666666666666666,
              "#ed7953"
             ],
             [
              0.7777777777777778,
              "#fb9f3a"
             ],
             [
              0.8888888888888888,
              "#fdca26"
             ],
             [
              1,
              "#f0f921"
             ]
            ],
            "type": "contour"
           }
          ],
          "contourcarpet": [
           {
            "colorbar": {
             "outlinewidth": 0,
             "ticks": ""
            },
            "type": "contourcarpet"
           }
          ],
          "heatmap": [
           {
            "colorbar": {
             "outlinewidth": 0,
             "ticks": ""
            },
            "colorscale": [
             [
              0,
              "#0d0887"
             ],
             [
              0.1111111111111111,
              "#46039f"
             ],
             [
              0.2222222222222222,
              "#7201a8"
             ],
             [
              0.3333333333333333,
              "#9c179e"
             ],
             [
              0.4444444444444444,
              "#bd3786"
             ],
             [
              0.5555555555555556,
              "#d8576b"
             ],
             [
              0.6666666666666666,
              "#ed7953"
             ],
             [
              0.7777777777777778,
              "#fb9f3a"
             ],
             [
              0.8888888888888888,
              "#fdca26"
             ],
             [
              1,
              "#f0f921"
             ]
            ],
            "type": "heatmap"
           }
          ],
          "heatmapgl": [
           {
            "colorbar": {
             "outlinewidth": 0,
             "ticks": ""
            },
            "colorscale": [
             [
              0,
              "#0d0887"
             ],
             [
              0.1111111111111111,
              "#46039f"
             ],
             [
              0.2222222222222222,
              "#7201a8"
             ],
             [
              0.3333333333333333,
              "#9c179e"
             ],
             [
              0.4444444444444444,
              "#bd3786"
             ],
             [
              0.5555555555555556,
              "#d8576b"
             ],
             [
              0.6666666666666666,
              "#ed7953"
             ],
             [
              0.7777777777777778,
              "#fb9f3a"
             ],
             [
              0.8888888888888888,
              "#fdca26"
             ],
             [
              1,
              "#f0f921"
             ]
            ],
            "type": "heatmapgl"
           }
          ],
          "histogram": [
           {
            "marker": {
             "pattern": {
              "fillmode": "overlay",
              "size": 10,
              "solidity": 0.2
             }
            },
            "type": "histogram"
           }
          ],
          "histogram2d": [
           {
            "colorbar": {
             "outlinewidth": 0,
             "ticks": ""
            },
            "colorscale": [
             [
              0,
              "#0d0887"
             ],
             [
              0.1111111111111111,
              "#46039f"
             ],
             [
              0.2222222222222222,
              "#7201a8"
             ],
             [
              0.3333333333333333,
              "#9c179e"
             ],
             [
              0.4444444444444444,
              "#bd3786"
             ],
             [
              0.5555555555555556,
              "#d8576b"
             ],
             [
              0.6666666666666666,
              "#ed7953"
             ],
             [
              0.7777777777777778,
              "#fb9f3a"
             ],
             [
              0.8888888888888888,
              "#fdca26"
             ],
             [
              1,
              "#f0f921"
             ]
            ],
            "type": "histogram2d"
           }
          ],
          "histogram2dcontour": [
           {
            "colorbar": {
             "outlinewidth": 0,
             "ticks": ""
            },
            "colorscale": [
             [
              0,
              "#0d0887"
             ],
             [
              0.1111111111111111,
              "#46039f"
             ],
             [
              0.2222222222222222,
              "#7201a8"
             ],
             [
              0.3333333333333333,
              "#9c179e"
             ],
             [
              0.4444444444444444,
              "#bd3786"
             ],
             [
              0.5555555555555556,
              "#d8576b"
             ],
             [
              0.6666666666666666,
              "#ed7953"
             ],
             [
              0.7777777777777778,
              "#fb9f3a"
             ],
             [
              0.8888888888888888,
              "#fdca26"
             ],
             [
              1,
              "#f0f921"
             ]
            ],
            "type": "histogram2dcontour"
           }
          ],
          "mesh3d": [
           {
            "colorbar": {
             "outlinewidth": 0,
             "ticks": ""
            },
            "type": "mesh3d"
           }
          ],
          "parcoords": [
           {
            "line": {
             "colorbar": {
              "outlinewidth": 0,
              "ticks": ""
             }
            },
            "type": "parcoords"
           }
          ],
          "pie": [
           {
            "automargin": true,
            "type": "pie"
           }
          ],
          "scatter": [
           {
            "marker": {
             "colorbar": {
              "outlinewidth": 0,
              "ticks": ""
             }
            },
            "type": "scatter"
           }
          ],
          "scatter3d": [
           {
            "line": {
             "colorbar": {
              "outlinewidth": 0,
              "ticks": ""
             }
            },
            "marker": {
             "colorbar": {
              "outlinewidth": 0,
              "ticks": ""
             }
            },
            "type": "scatter3d"
           }
          ],
          "scattercarpet": [
           {
            "marker": {
             "colorbar": {
              "outlinewidth": 0,
              "ticks": ""
             }
            },
            "type": "scattercarpet"
           }
          ],
          "scattergeo": [
           {
            "marker": {
             "colorbar": {
              "outlinewidth": 0,
              "ticks": ""
             }
            },
            "type": "scattergeo"
           }
          ],
          "scattergl": [
           {
            "marker": {
             "colorbar": {
              "outlinewidth": 0,
              "ticks": ""
             }
            },
            "type": "scattergl"
           }
          ],
          "scattermapbox": [
           {
            "marker": {
             "colorbar": {
              "outlinewidth": 0,
              "ticks": ""
             }
            },
            "type": "scattermapbox"
           }
          ],
          "scatterpolar": [
           {
            "marker": {
             "colorbar": {
              "outlinewidth": 0,
              "ticks": ""
             }
            },
            "type": "scatterpolar"
           }
          ],
          "scatterpolargl": [
           {
            "marker": {
             "colorbar": {
              "outlinewidth": 0,
              "ticks": ""
             }
            },
            "type": "scatterpolargl"
           }
          ],
          "scatterternary": [
           {
            "marker": {
             "colorbar": {
              "outlinewidth": 0,
              "ticks": ""
             }
            },
            "type": "scatterternary"
           }
          ],
          "surface": [
           {
            "colorbar": {
             "outlinewidth": 0,
             "ticks": ""
            },
            "colorscale": [
             [
              0,
              "#0d0887"
             ],
             [
              0.1111111111111111,
              "#46039f"
             ],
             [
              0.2222222222222222,
              "#7201a8"
             ],
             [
              0.3333333333333333,
              "#9c179e"
             ],
             [
              0.4444444444444444,
              "#bd3786"
             ],
             [
              0.5555555555555556,
              "#d8576b"
             ],
             [
              0.6666666666666666,
              "#ed7953"
             ],
             [
              0.7777777777777778,
              "#fb9f3a"
             ],
             [
              0.8888888888888888,
              "#fdca26"
             ],
             [
              1,
              "#f0f921"
             ]
            ],
            "type": "surface"
           }
          ],
          "table": [
           {
            "cells": {
             "fill": {
              "color": "#EBF0F8"
             },
             "line": {
              "color": "white"
             }
            },
            "header": {
             "fill": {
              "color": "#C8D4E3"
             },
             "line": {
              "color": "white"
             }
            },
            "type": "table"
           }
          ]
         },
         "layout": {
          "annotationdefaults": {
           "arrowcolor": "#2a3f5f",
           "arrowhead": 0,
           "arrowwidth": 1
          },
          "autotypenumbers": "strict",
          "coloraxis": {
           "colorbar": {
            "outlinewidth": 0,
            "ticks": ""
           }
          },
          "colorscale": {
           "diverging": [
            [
             0,
             "#8e0152"
            ],
            [
             0.1,
             "#c51b7d"
            ],
            [
             0.2,
             "#de77ae"
            ],
            [
             0.3,
             "#f1b6da"
            ],
            [
             0.4,
             "#fde0ef"
            ],
            [
             0.5,
             "#f7f7f7"
            ],
            [
             0.6,
             "#e6f5d0"
            ],
            [
             0.7,
             "#b8e186"
            ],
            [
             0.8,
             "#7fbc41"
            ],
            [
             0.9,
             "#4d9221"
            ],
            [
             1,
             "#276419"
            ]
           ],
           "sequential": [
            [
             0,
             "#0d0887"
            ],
            [
             0.1111111111111111,
             "#46039f"
            ],
            [
             0.2222222222222222,
             "#7201a8"
            ],
            [
             0.3333333333333333,
             "#9c179e"
            ],
            [
             0.4444444444444444,
             "#bd3786"
            ],
            [
             0.5555555555555556,
             "#d8576b"
            ],
            [
             0.6666666666666666,
             "#ed7953"
            ],
            [
             0.7777777777777778,
             "#fb9f3a"
            ],
            [
             0.8888888888888888,
             "#fdca26"
            ],
            [
             1,
             "#f0f921"
            ]
           ],
           "sequentialminus": [
            [
             0,
             "#0d0887"
            ],
            [
             0.1111111111111111,
             "#46039f"
            ],
            [
             0.2222222222222222,
             "#7201a8"
            ],
            [
             0.3333333333333333,
             "#9c179e"
            ],
            [
             0.4444444444444444,
             "#bd3786"
            ],
            [
             0.5555555555555556,
             "#d8576b"
            ],
            [
             0.6666666666666666,
             "#ed7953"
            ],
            [
             0.7777777777777778,
             "#fb9f3a"
            ],
            [
             0.8888888888888888,
             "#fdca26"
            ],
            [
             1,
             "#f0f921"
            ]
           ]
          },
          "colorway": [
           "#636efa",
           "#EF553B",
           "#00cc96",
           "#ab63fa",
           "#FFA15A",
           "#19d3f3",
           "#FF6692",
           "#B6E880",
           "#FF97FF",
           "#FECB52"
          ],
          "font": {
           "color": "#2a3f5f"
          },
          "geo": {
           "bgcolor": "white",
           "lakecolor": "white",
           "landcolor": "#E5ECF6",
           "showlakes": true,
           "showland": true,
           "subunitcolor": "white"
          },
          "hoverlabel": {
           "align": "left"
          },
          "hovermode": "closest",
          "mapbox": {
           "style": "light"
          },
          "paper_bgcolor": "white",
          "plot_bgcolor": "#E5ECF6",
          "polar": {
           "angularaxis": {
            "gridcolor": "white",
            "linecolor": "white",
            "ticks": ""
           },
           "bgcolor": "#E5ECF6",
           "radialaxis": {
            "gridcolor": "white",
            "linecolor": "white",
            "ticks": ""
           }
          },
          "scene": {
           "xaxis": {
            "backgroundcolor": "#E5ECF6",
            "gridcolor": "white",
            "gridwidth": 2,
            "linecolor": "white",
            "showbackground": true,
            "ticks": "",
            "zerolinecolor": "white"
           },
           "yaxis": {
            "backgroundcolor": "#E5ECF6",
            "gridcolor": "white",
            "gridwidth": 2,
            "linecolor": "white",
            "showbackground": true,
            "ticks": "",
            "zerolinecolor": "white"
           },
           "zaxis": {
            "backgroundcolor": "#E5ECF6",
            "gridcolor": "white",
            "gridwidth": 2,
            "linecolor": "white",
            "showbackground": true,
            "ticks": "",
            "zerolinecolor": "white"
           }
          },
          "shapedefaults": {
           "line": {
            "color": "#2a3f5f"
           }
          },
          "ternary": {
           "aaxis": {
            "gridcolor": "white",
            "linecolor": "white",
            "ticks": ""
           },
           "baxis": {
            "gridcolor": "white",
            "linecolor": "white",
            "ticks": ""
           },
           "bgcolor": "#E5ECF6",
           "caxis": {
            "gridcolor": "white",
            "linecolor": "white",
            "ticks": ""
           }
          },
          "title": {
           "x": 0.05
          },
          "xaxis": {
           "automargin": true,
           "gridcolor": "white",
           "linecolor": "white",
           "ticks": "",
           "title": {
            "standoff": 15
           },
           "zerolinecolor": "white",
           "zerolinewidth": 2
          },
          "yaxis": {
           "automargin": true,
           "gridcolor": "white",
           "linecolor": "white",
           "ticks": "",
           "title": {
            "standoff": 15
           },
           "zerolinecolor": "white",
           "zerolinewidth": 2
          }
         }
        },
        "title": {
         "text": "pct_change by Month"
        },
        "xaxis": {
         "anchor": "y",
         "domain": [
          0,
          1
         ],
         "title": {
          "text": "Invoice_YearMonth"
         }
        },
        "yaxis": {
         "anchor": "x",
         "domain": [
          0,
          1
         ],
         "title": {
          "text": "pct_change%"
         }
        }
       }
      }
     },
     "metadata": {},
     "output_type": "display_data"
    }
   ],
   "source": [
    "df_RevenueMonth['Invoice_YearMonth'] = df_RevenueMonth['Invoice_YearMonth'].astype(str)\n",
    "fig = px.line(df_RevenueMonth, x=\"Invoice_YearMonth\", y=\"pct_change%\", title=\"pct_change by Month\",text='pct_change%')\n",
    "fig.update_traces(textposition=\"top center\")\n",
    "fig.show()"
   ]
  },
  {
   "cell_type": "markdown",
   "metadata": {},
   "source": [
    "Customer Active Monthly"
   ]
  },
  {
   "cell_type": "code",
   "execution_count": 95,
   "metadata": {},
   "outputs": [
    {
     "data": {
      "text/html": [
       "<div>\n",
       "<style scoped>\n",
       "    .dataframe tbody tr th:only-of-type {\n",
       "        vertical-align: middle;\n",
       "    }\n",
       "\n",
       "    .dataframe tbody tr th {\n",
       "        vertical-align: top;\n",
       "    }\n",
       "\n",
       "    .dataframe thead th {\n",
       "        text-align: right;\n",
       "    }\n",
       "</style>\n",
       "<table border=\"1\" class=\"dataframe\">\n",
       "  <thead>\n",
       "    <tr style=\"text-align: right;\">\n",
       "      <th></th>\n",
       "      <th>InvoiceNo</th>\n",
       "      <th>StockCode</th>\n",
       "      <th>Description</th>\n",
       "      <th>Quantity</th>\n",
       "      <th>InvoiceDate</th>\n",
       "      <th>UnitPrice</th>\n",
       "      <th>CustomerID</th>\n",
       "      <th>Country</th>\n",
       "      <th>Invoice_year</th>\n",
       "      <th>Invoice_month</th>\n",
       "      <th>Invoice_date</th>\n",
       "      <th>Invoice_hour</th>\n",
       "      <th>Invoice_YearMonth</th>\n",
       "      <th>Revenue</th>\n",
       "    </tr>\n",
       "  </thead>\n",
       "  <tbody>\n",
       "    <tr>\n",
       "      <th>0</th>\n",
       "      <td>536365</td>\n",
       "      <td>85123A</td>\n",
       "      <td>WHITE HANGING HEART T-LIGHT HOLDER</td>\n",
       "      <td>6</td>\n",
       "      <td>2010-12-01 08:26:00</td>\n",
       "      <td>2.55</td>\n",
       "      <td>17850.0</td>\n",
       "      <td>United Kingdom</td>\n",
       "      <td>2010</td>\n",
       "      <td>12</td>\n",
       "      <td>1</td>\n",
       "      <td>8</td>\n",
       "      <td>201012</td>\n",
       "      <td>15.30</td>\n",
       "    </tr>\n",
       "    <tr>\n",
       "      <th>1</th>\n",
       "      <td>536365</td>\n",
       "      <td>71053</td>\n",
       "      <td>WHITE METAL LANTERN</td>\n",
       "      <td>6</td>\n",
       "      <td>2010-12-01 08:26:00</td>\n",
       "      <td>3.39</td>\n",
       "      <td>17850.0</td>\n",
       "      <td>United Kingdom</td>\n",
       "      <td>2010</td>\n",
       "      <td>12</td>\n",
       "      <td>1</td>\n",
       "      <td>8</td>\n",
       "      <td>201012</td>\n",
       "      <td>20.34</td>\n",
       "    </tr>\n",
       "    <tr>\n",
       "      <th>2</th>\n",
       "      <td>536365</td>\n",
       "      <td>84406B</td>\n",
       "      <td>CREAM CUPID HEARTS COAT HANGER</td>\n",
       "      <td>8</td>\n",
       "      <td>2010-12-01 08:26:00</td>\n",
       "      <td>2.75</td>\n",
       "      <td>17850.0</td>\n",
       "      <td>United Kingdom</td>\n",
       "      <td>2010</td>\n",
       "      <td>12</td>\n",
       "      <td>1</td>\n",
       "      <td>8</td>\n",
       "      <td>201012</td>\n",
       "      <td>22.00</td>\n",
       "    </tr>\n",
       "    <tr>\n",
       "      <th>3</th>\n",
       "      <td>536365</td>\n",
       "      <td>84029G</td>\n",
       "      <td>KNITTED UNION FLAG HOT WATER BOTTLE</td>\n",
       "      <td>6</td>\n",
       "      <td>2010-12-01 08:26:00</td>\n",
       "      <td>3.39</td>\n",
       "      <td>17850.0</td>\n",
       "      <td>United Kingdom</td>\n",
       "      <td>2010</td>\n",
       "      <td>12</td>\n",
       "      <td>1</td>\n",
       "      <td>8</td>\n",
       "      <td>201012</td>\n",
       "      <td>20.34</td>\n",
       "    </tr>\n",
       "    <tr>\n",
       "      <th>4</th>\n",
       "      <td>536365</td>\n",
       "      <td>84029E</td>\n",
       "      <td>RED WOOLLY HOTTIE WHITE HEART.</td>\n",
       "      <td>6</td>\n",
       "      <td>2010-12-01 08:26:00</td>\n",
       "      <td>3.39</td>\n",
       "      <td>17850.0</td>\n",
       "      <td>United Kingdom</td>\n",
       "      <td>2010</td>\n",
       "      <td>12</td>\n",
       "      <td>1</td>\n",
       "      <td>8</td>\n",
       "      <td>201012</td>\n",
       "      <td>20.34</td>\n",
       "    </tr>\n",
       "  </tbody>\n",
       "</table>\n",
       "</div>"
      ],
      "text/plain": [
       "  InvoiceNo StockCode                          Description  Quantity  \\\n",
       "0    536365    85123A   WHITE HANGING HEART T-LIGHT HOLDER         6   \n",
       "1    536365     71053                  WHITE METAL LANTERN         6   \n",
       "2    536365    84406B       CREAM CUPID HEARTS COAT HANGER         8   \n",
       "3    536365    84029G  KNITTED UNION FLAG HOT WATER BOTTLE         6   \n",
       "4    536365    84029E       RED WOOLLY HOTTIE WHITE HEART.         6   \n",
       "\n",
       "          InvoiceDate  UnitPrice  CustomerID         Country  Invoice_year  \\\n",
       "0 2010-12-01 08:26:00       2.55     17850.0  United Kingdom          2010   \n",
       "1 2010-12-01 08:26:00       3.39     17850.0  United Kingdom          2010   \n",
       "2 2010-12-01 08:26:00       2.75     17850.0  United Kingdom          2010   \n",
       "3 2010-12-01 08:26:00       3.39     17850.0  United Kingdom          2010   \n",
       "4 2010-12-01 08:26:00       3.39     17850.0  United Kingdom          2010   \n",
       "\n",
       "   Invoice_month  Invoice_date  Invoice_hour  Invoice_YearMonth  Revenue  \n",
       "0             12             1             8             201012    15.30  \n",
       "1             12             1             8             201012    20.34  \n",
       "2             12             1             8             201012    22.00  \n",
       "3             12             1             8             201012    20.34  \n",
       "4             12             1             8             201012    20.34  "
      ]
     },
     "execution_count": 95,
     "metadata": {},
     "output_type": "execute_result"
    }
   ],
   "source": [
    "df_retail.head()"
   ]
  },
  {
   "cell_type": "code",
   "execution_count": 96,
   "metadata": {},
   "outputs": [
    {
     "data": {
      "text/plain": [
       "United Kingdom          495478\n",
       "Germany                   9495\n",
       "France                    8557\n",
       "EIRE                      8196\n",
       "Spain                     2533\n",
       "Netherlands               2371\n",
       "Belgium                   2069\n",
       "Switzerland               2002\n",
       "Portugal                  1519\n",
       "Australia                 1259\n",
       "Norway                    1086\n",
       "Italy                      803\n",
       "Channel Islands            758\n",
       "Finland                    695\n",
       "Cyprus                     622\n",
       "Sweden                     462\n",
       "Unspecified                446\n",
       "Austria                    401\n",
       "Denmark                    389\n",
       "Japan                      358\n",
       "Poland                     341\n",
       "Israel                     297\n",
       "USA                        291\n",
       "Hong Kong                  288\n",
       "Singapore                  229\n",
       "Iceland                    182\n",
       "Canada                     151\n",
       "Greece                     146\n",
       "Malta                      127\n",
       "United Arab Emirates        68\n",
       "European Community          61\n",
       "RSA                         58\n",
       "Lebanon                     45\n",
       "Lithuania                   35\n",
       "Brazil                      32\n",
       "Czech Republic              30\n",
       "Bahrain                     19\n",
       "Saudi Arabia                10\n",
       "Name: Country, dtype: int64"
      ]
     },
     "execution_count": 96,
     "metadata": {},
     "output_type": "execute_result"
    }
   ],
   "source": [
    "df_retail['Country'].value_counts()"
   ]
  },
  {
   "cell_type": "markdown",
   "metadata": {},
   "source": [
    "Do số lượng đơn hàng tập trung chủ yếu tại thị trường UK nên đánh giá số lượng khách hàng active tại thị trường UK"
   ]
  },
  {
   "cell_type": "code",
   "execution_count": 97,
   "metadata": {},
   "outputs": [
    {
     "data": {
      "text/html": [
       "<div>\n",
       "<style scoped>\n",
       "    .dataframe tbody tr th:only-of-type {\n",
       "        vertical-align: middle;\n",
       "    }\n",
       "\n",
       "    .dataframe tbody tr th {\n",
       "        vertical-align: top;\n",
       "    }\n",
       "\n",
       "    .dataframe thead th {\n",
       "        text-align: right;\n",
       "    }\n",
       "</style>\n",
       "<table border=\"1\" class=\"dataframe\">\n",
       "  <thead>\n",
       "    <tr style=\"text-align: right;\">\n",
       "      <th></th>\n",
       "      <th>InvoiceNo</th>\n",
       "      <th>StockCode</th>\n",
       "      <th>Description</th>\n",
       "      <th>Quantity</th>\n",
       "      <th>InvoiceDate</th>\n",
       "      <th>UnitPrice</th>\n",
       "      <th>CustomerID</th>\n",
       "      <th>Country</th>\n",
       "      <th>Invoice_year</th>\n",
       "      <th>Invoice_month</th>\n",
       "      <th>Invoice_date</th>\n",
       "      <th>Invoice_hour</th>\n",
       "      <th>Invoice_YearMonth</th>\n",
       "      <th>Revenue</th>\n",
       "    </tr>\n",
       "  </thead>\n",
       "  <tbody>\n",
       "    <tr>\n",
       "      <th>0</th>\n",
       "      <td>536365</td>\n",
       "      <td>85123A</td>\n",
       "      <td>WHITE HANGING HEART T-LIGHT HOLDER</td>\n",
       "      <td>6</td>\n",
       "      <td>2010-12-01 08:26:00</td>\n",
       "      <td>2.55</td>\n",
       "      <td>17850.0</td>\n",
       "      <td>United Kingdom</td>\n",
       "      <td>2010</td>\n",
       "      <td>12</td>\n",
       "      <td>1</td>\n",
       "      <td>8</td>\n",
       "      <td>201012</td>\n",
       "      <td>15.30</td>\n",
       "    </tr>\n",
       "    <tr>\n",
       "      <th>1</th>\n",
       "      <td>536365</td>\n",
       "      <td>71053</td>\n",
       "      <td>WHITE METAL LANTERN</td>\n",
       "      <td>6</td>\n",
       "      <td>2010-12-01 08:26:00</td>\n",
       "      <td>3.39</td>\n",
       "      <td>17850.0</td>\n",
       "      <td>United Kingdom</td>\n",
       "      <td>2010</td>\n",
       "      <td>12</td>\n",
       "      <td>1</td>\n",
       "      <td>8</td>\n",
       "      <td>201012</td>\n",
       "      <td>20.34</td>\n",
       "    </tr>\n",
       "    <tr>\n",
       "      <th>2</th>\n",
       "      <td>536365</td>\n",
       "      <td>84406B</td>\n",
       "      <td>CREAM CUPID HEARTS COAT HANGER</td>\n",
       "      <td>8</td>\n",
       "      <td>2010-12-01 08:26:00</td>\n",
       "      <td>2.75</td>\n",
       "      <td>17850.0</td>\n",
       "      <td>United Kingdom</td>\n",
       "      <td>2010</td>\n",
       "      <td>12</td>\n",
       "      <td>1</td>\n",
       "      <td>8</td>\n",
       "      <td>201012</td>\n",
       "      <td>22.00</td>\n",
       "    </tr>\n",
       "    <tr>\n",
       "      <th>3</th>\n",
       "      <td>536365</td>\n",
       "      <td>84029G</td>\n",
       "      <td>KNITTED UNION FLAG HOT WATER BOTTLE</td>\n",
       "      <td>6</td>\n",
       "      <td>2010-12-01 08:26:00</td>\n",
       "      <td>3.39</td>\n",
       "      <td>17850.0</td>\n",
       "      <td>United Kingdom</td>\n",
       "      <td>2010</td>\n",
       "      <td>12</td>\n",
       "      <td>1</td>\n",
       "      <td>8</td>\n",
       "      <td>201012</td>\n",
       "      <td>20.34</td>\n",
       "    </tr>\n",
       "    <tr>\n",
       "      <th>4</th>\n",
       "      <td>536365</td>\n",
       "      <td>84029E</td>\n",
       "      <td>RED WOOLLY HOTTIE WHITE HEART.</td>\n",
       "      <td>6</td>\n",
       "      <td>2010-12-01 08:26:00</td>\n",
       "      <td>3.39</td>\n",
       "      <td>17850.0</td>\n",
       "      <td>United Kingdom</td>\n",
       "      <td>2010</td>\n",
       "      <td>12</td>\n",
       "      <td>1</td>\n",
       "      <td>8</td>\n",
       "      <td>201012</td>\n",
       "      <td>20.34</td>\n",
       "    </tr>\n",
       "  </tbody>\n",
       "</table>\n",
       "</div>"
      ],
      "text/plain": [
       "  InvoiceNo StockCode                          Description  Quantity  \\\n",
       "0    536365    85123A   WHITE HANGING HEART T-LIGHT HOLDER         6   \n",
       "1    536365     71053                  WHITE METAL LANTERN         6   \n",
       "2    536365    84406B       CREAM CUPID HEARTS COAT HANGER         8   \n",
       "3    536365    84029G  KNITTED UNION FLAG HOT WATER BOTTLE         6   \n",
       "4    536365    84029E       RED WOOLLY HOTTIE WHITE HEART.         6   \n",
       "\n",
       "          InvoiceDate  UnitPrice  CustomerID         Country  Invoice_year  \\\n",
       "0 2010-12-01 08:26:00       2.55     17850.0  United Kingdom          2010   \n",
       "1 2010-12-01 08:26:00       3.39     17850.0  United Kingdom          2010   \n",
       "2 2010-12-01 08:26:00       2.75     17850.0  United Kingdom          2010   \n",
       "3 2010-12-01 08:26:00       3.39     17850.0  United Kingdom          2010   \n",
       "4 2010-12-01 08:26:00       3.39     17850.0  United Kingdom          2010   \n",
       "\n",
       "   Invoice_month  Invoice_date  Invoice_hour  Invoice_YearMonth  Revenue  \n",
       "0             12             1             8             201012    15.30  \n",
       "1             12             1             8             201012    20.34  \n",
       "2             12             1             8             201012    22.00  \n",
       "3             12             1             8             201012    20.34  \n",
       "4             12             1             8             201012    20.34  "
      ]
     },
     "execution_count": 97,
     "metadata": {},
     "output_type": "execute_result"
    }
   ],
   "source": [
    "df_uk =df_retail[df_retail['Country'] =='United Kingdom'].reset_index(drop=True)\n",
    "df_uk.head()"
   ]
  },
  {
   "cell_type": "code",
   "execution_count": 98,
   "metadata": {},
   "outputs": [
    {
     "data": {
      "text/html": [
       "<div>\n",
       "<style scoped>\n",
       "    .dataframe tbody tr th:only-of-type {\n",
       "        vertical-align: middle;\n",
       "    }\n",
       "\n",
       "    .dataframe tbody tr th {\n",
       "        vertical-align: top;\n",
       "    }\n",
       "\n",
       "    .dataframe thead th {\n",
       "        text-align: right;\n",
       "    }\n",
       "</style>\n",
       "<table border=\"1\" class=\"dataframe\">\n",
       "  <thead>\n",
       "    <tr style=\"text-align: right;\">\n",
       "      <th></th>\n",
       "      <th>Invoice_YearMonth</th>\n",
       "      <th>CustomerID</th>\n",
       "    </tr>\n",
       "  </thead>\n",
       "  <tbody>\n",
       "    <tr>\n",
       "      <th>0</th>\n",
       "      <td>201012</td>\n",
       "      <td>871</td>\n",
       "    </tr>\n",
       "    <tr>\n",
       "      <th>1</th>\n",
       "      <td>201101</td>\n",
       "      <td>684</td>\n",
       "    </tr>\n",
       "    <tr>\n",
       "      <th>2</th>\n",
       "      <td>201102</td>\n",
       "      <td>714</td>\n",
       "    </tr>\n",
       "    <tr>\n",
       "      <th>3</th>\n",
       "      <td>201103</td>\n",
       "      <td>923</td>\n",
       "    </tr>\n",
       "    <tr>\n",
       "      <th>4</th>\n",
       "      <td>201104</td>\n",
       "      <td>817</td>\n",
       "    </tr>\n",
       "    <tr>\n",
       "      <th>5</th>\n",
       "      <td>201105</td>\n",
       "      <td>985</td>\n",
       "    </tr>\n",
       "    <tr>\n",
       "      <th>6</th>\n",
       "      <td>201106</td>\n",
       "      <td>943</td>\n",
       "    </tr>\n",
       "    <tr>\n",
       "      <th>7</th>\n",
       "      <td>201107</td>\n",
       "      <td>899</td>\n",
       "    </tr>\n",
       "    <tr>\n",
       "      <th>8</th>\n",
       "      <td>201108</td>\n",
       "      <td>867</td>\n",
       "    </tr>\n",
       "    <tr>\n",
       "      <th>9</th>\n",
       "      <td>201109</td>\n",
       "      <td>1177</td>\n",
       "    </tr>\n",
       "    <tr>\n",
       "      <th>10</th>\n",
       "      <td>201110</td>\n",
       "      <td>1285</td>\n",
       "    </tr>\n",
       "    <tr>\n",
       "      <th>11</th>\n",
       "      <td>201111</td>\n",
       "      <td>1548</td>\n",
       "    </tr>\n",
       "    <tr>\n",
       "      <th>12</th>\n",
       "      <td>201112</td>\n",
       "      <td>617</td>\n",
       "    </tr>\n",
       "  </tbody>\n",
       "</table>\n",
       "</div>"
      ],
      "text/plain": [
       "    Invoice_YearMonth  CustomerID\n",
       "0              201012         871\n",
       "1              201101         684\n",
       "2              201102         714\n",
       "3              201103         923\n",
       "4              201104         817\n",
       "5              201105         985\n",
       "6              201106         943\n",
       "7              201107         899\n",
       "8              201108         867\n",
       "9              201109        1177\n",
       "10             201110        1285\n",
       "11             201111        1548\n",
       "12             201112         617"
      ]
     },
     "execution_count": 98,
     "metadata": {},
     "output_type": "execute_result"
    }
   ],
   "source": [
    "df_monthly_cus_active=df_uk.groupby('Invoice_YearMonth')['CustomerID'].nunique().reset_index()\n",
    "df_monthly_cus_active"
   ]
  },
  {
   "cell_type": "code",
   "execution_count": 99,
   "metadata": {},
   "outputs": [
    {
     "data": {
      "application/vnd.plotly.v1+json": {
       "config": {
        "plotlyServerURL": "https://plot.ly"
       },
       "data": [
        {
         "hovertemplate": "Invoice_YearMonth=%{x}<br>CustomerID=%{text}<extra></extra>",
         "legendgroup": "",
         "line": {
          "color": "#636efa",
          "dash": "solid"
         },
         "marker": {
          "symbol": "circle"
         },
         "mode": "text+lines+markers",
         "name": "",
         "orientation": "v",
         "showlegend": false,
         "text": [
          871,
          684,
          714,
          923,
          817,
          985,
          943,
          899,
          867,
          1177,
          1285,
          1548,
          617
         ],
         "textposition": "top center",
         "type": "scatter",
         "x": [
          "201012",
          "201101",
          "201102",
          "201103",
          "201104",
          "201105",
          "201106",
          "201107",
          "201108",
          "201109",
          "201110",
          "201111",
          "201112"
         ],
         "xaxis": "x",
         "y": [
          871,
          684,
          714,
          923,
          817,
          985,
          943,
          899,
          867,
          1177,
          1285,
          1548,
          617
         ],
         "yaxis": "y"
        }
       ],
       "layout": {
        "legend": {
         "tracegroupgap": 0
        },
        "template": {
         "data": {
          "bar": [
           {
            "error_x": {
             "color": "#2a3f5f"
            },
            "error_y": {
             "color": "#2a3f5f"
            },
            "marker": {
             "line": {
              "color": "#E5ECF6",
              "width": 0.5
             },
             "pattern": {
              "fillmode": "overlay",
              "size": 10,
              "solidity": 0.2
             }
            },
            "type": "bar"
           }
          ],
          "barpolar": [
           {
            "marker": {
             "line": {
              "color": "#E5ECF6",
              "width": 0.5
             },
             "pattern": {
              "fillmode": "overlay",
              "size": 10,
              "solidity": 0.2
             }
            },
            "type": "barpolar"
           }
          ],
          "carpet": [
           {
            "aaxis": {
             "endlinecolor": "#2a3f5f",
             "gridcolor": "white",
             "linecolor": "white",
             "minorgridcolor": "white",
             "startlinecolor": "#2a3f5f"
            },
            "baxis": {
             "endlinecolor": "#2a3f5f",
             "gridcolor": "white",
             "linecolor": "white",
             "minorgridcolor": "white",
             "startlinecolor": "#2a3f5f"
            },
            "type": "carpet"
           }
          ],
          "choropleth": [
           {
            "colorbar": {
             "outlinewidth": 0,
             "ticks": ""
            },
            "type": "choropleth"
           }
          ],
          "contour": [
           {
            "colorbar": {
             "outlinewidth": 0,
             "ticks": ""
            },
            "colorscale": [
             [
              0,
              "#0d0887"
             ],
             [
              0.1111111111111111,
              "#46039f"
             ],
             [
              0.2222222222222222,
              "#7201a8"
             ],
             [
              0.3333333333333333,
              "#9c179e"
             ],
             [
              0.4444444444444444,
              "#bd3786"
             ],
             [
              0.5555555555555556,
              "#d8576b"
             ],
             [
              0.6666666666666666,
              "#ed7953"
             ],
             [
              0.7777777777777778,
              "#fb9f3a"
             ],
             [
              0.8888888888888888,
              "#fdca26"
             ],
             [
              1,
              "#f0f921"
             ]
            ],
            "type": "contour"
           }
          ],
          "contourcarpet": [
           {
            "colorbar": {
             "outlinewidth": 0,
             "ticks": ""
            },
            "type": "contourcarpet"
           }
          ],
          "heatmap": [
           {
            "colorbar": {
             "outlinewidth": 0,
             "ticks": ""
            },
            "colorscale": [
             [
              0,
              "#0d0887"
             ],
             [
              0.1111111111111111,
              "#46039f"
             ],
             [
              0.2222222222222222,
              "#7201a8"
             ],
             [
              0.3333333333333333,
              "#9c179e"
             ],
             [
              0.4444444444444444,
              "#bd3786"
             ],
             [
              0.5555555555555556,
              "#d8576b"
             ],
             [
              0.6666666666666666,
              "#ed7953"
             ],
             [
              0.7777777777777778,
              "#fb9f3a"
             ],
             [
              0.8888888888888888,
              "#fdca26"
             ],
             [
              1,
              "#f0f921"
             ]
            ],
            "type": "heatmap"
           }
          ],
          "heatmapgl": [
           {
            "colorbar": {
             "outlinewidth": 0,
             "ticks": ""
            },
            "colorscale": [
             [
              0,
              "#0d0887"
             ],
             [
              0.1111111111111111,
              "#46039f"
             ],
             [
              0.2222222222222222,
              "#7201a8"
             ],
             [
              0.3333333333333333,
              "#9c179e"
             ],
             [
              0.4444444444444444,
              "#bd3786"
             ],
             [
              0.5555555555555556,
              "#d8576b"
             ],
             [
              0.6666666666666666,
              "#ed7953"
             ],
             [
              0.7777777777777778,
              "#fb9f3a"
             ],
             [
              0.8888888888888888,
              "#fdca26"
             ],
             [
              1,
              "#f0f921"
             ]
            ],
            "type": "heatmapgl"
           }
          ],
          "histogram": [
           {
            "marker": {
             "pattern": {
              "fillmode": "overlay",
              "size": 10,
              "solidity": 0.2
             }
            },
            "type": "histogram"
           }
          ],
          "histogram2d": [
           {
            "colorbar": {
             "outlinewidth": 0,
             "ticks": ""
            },
            "colorscale": [
             [
              0,
              "#0d0887"
             ],
             [
              0.1111111111111111,
              "#46039f"
             ],
             [
              0.2222222222222222,
              "#7201a8"
             ],
             [
              0.3333333333333333,
              "#9c179e"
             ],
             [
              0.4444444444444444,
              "#bd3786"
             ],
             [
              0.5555555555555556,
              "#d8576b"
             ],
             [
              0.6666666666666666,
              "#ed7953"
             ],
             [
              0.7777777777777778,
              "#fb9f3a"
             ],
             [
              0.8888888888888888,
              "#fdca26"
             ],
             [
              1,
              "#f0f921"
             ]
            ],
            "type": "histogram2d"
           }
          ],
          "histogram2dcontour": [
           {
            "colorbar": {
             "outlinewidth": 0,
             "ticks": ""
            },
            "colorscale": [
             [
              0,
              "#0d0887"
             ],
             [
              0.1111111111111111,
              "#46039f"
             ],
             [
              0.2222222222222222,
              "#7201a8"
             ],
             [
              0.3333333333333333,
              "#9c179e"
             ],
             [
              0.4444444444444444,
              "#bd3786"
             ],
             [
              0.5555555555555556,
              "#d8576b"
             ],
             [
              0.6666666666666666,
              "#ed7953"
             ],
             [
              0.7777777777777778,
              "#fb9f3a"
             ],
             [
              0.8888888888888888,
              "#fdca26"
             ],
             [
              1,
              "#f0f921"
             ]
            ],
            "type": "histogram2dcontour"
           }
          ],
          "mesh3d": [
           {
            "colorbar": {
             "outlinewidth": 0,
             "ticks": ""
            },
            "type": "mesh3d"
           }
          ],
          "parcoords": [
           {
            "line": {
             "colorbar": {
              "outlinewidth": 0,
              "ticks": ""
             }
            },
            "type": "parcoords"
           }
          ],
          "pie": [
           {
            "automargin": true,
            "type": "pie"
           }
          ],
          "scatter": [
           {
            "marker": {
             "colorbar": {
              "outlinewidth": 0,
              "ticks": ""
             }
            },
            "type": "scatter"
           }
          ],
          "scatter3d": [
           {
            "line": {
             "colorbar": {
              "outlinewidth": 0,
              "ticks": ""
             }
            },
            "marker": {
             "colorbar": {
              "outlinewidth": 0,
              "ticks": ""
             }
            },
            "type": "scatter3d"
           }
          ],
          "scattercarpet": [
           {
            "marker": {
             "colorbar": {
              "outlinewidth": 0,
              "ticks": ""
             }
            },
            "type": "scattercarpet"
           }
          ],
          "scattergeo": [
           {
            "marker": {
             "colorbar": {
              "outlinewidth": 0,
              "ticks": ""
             }
            },
            "type": "scattergeo"
           }
          ],
          "scattergl": [
           {
            "marker": {
             "colorbar": {
              "outlinewidth": 0,
              "ticks": ""
             }
            },
            "type": "scattergl"
           }
          ],
          "scattermapbox": [
           {
            "marker": {
             "colorbar": {
              "outlinewidth": 0,
              "ticks": ""
             }
            },
            "type": "scattermapbox"
           }
          ],
          "scatterpolar": [
           {
            "marker": {
             "colorbar": {
              "outlinewidth": 0,
              "ticks": ""
             }
            },
            "type": "scatterpolar"
           }
          ],
          "scatterpolargl": [
           {
            "marker": {
             "colorbar": {
              "outlinewidth": 0,
              "ticks": ""
             }
            },
            "type": "scatterpolargl"
           }
          ],
          "scatterternary": [
           {
            "marker": {
             "colorbar": {
              "outlinewidth": 0,
              "ticks": ""
             }
            },
            "type": "scatterternary"
           }
          ],
          "surface": [
           {
            "colorbar": {
             "outlinewidth": 0,
             "ticks": ""
            },
            "colorscale": [
             [
              0,
              "#0d0887"
             ],
             [
              0.1111111111111111,
              "#46039f"
             ],
             [
              0.2222222222222222,
              "#7201a8"
             ],
             [
              0.3333333333333333,
              "#9c179e"
             ],
             [
              0.4444444444444444,
              "#bd3786"
             ],
             [
              0.5555555555555556,
              "#d8576b"
             ],
             [
              0.6666666666666666,
              "#ed7953"
             ],
             [
              0.7777777777777778,
              "#fb9f3a"
             ],
             [
              0.8888888888888888,
              "#fdca26"
             ],
             [
              1,
              "#f0f921"
             ]
            ],
            "type": "surface"
           }
          ],
          "table": [
           {
            "cells": {
             "fill": {
              "color": "#EBF0F8"
             },
             "line": {
              "color": "white"
             }
            },
            "header": {
             "fill": {
              "color": "#C8D4E3"
             },
             "line": {
              "color": "white"
             }
            },
            "type": "table"
           }
          ]
         },
         "layout": {
          "annotationdefaults": {
           "arrowcolor": "#2a3f5f",
           "arrowhead": 0,
           "arrowwidth": 1
          },
          "autotypenumbers": "strict",
          "coloraxis": {
           "colorbar": {
            "outlinewidth": 0,
            "ticks": ""
           }
          },
          "colorscale": {
           "diverging": [
            [
             0,
             "#8e0152"
            ],
            [
             0.1,
             "#c51b7d"
            ],
            [
             0.2,
             "#de77ae"
            ],
            [
             0.3,
             "#f1b6da"
            ],
            [
             0.4,
             "#fde0ef"
            ],
            [
             0.5,
             "#f7f7f7"
            ],
            [
             0.6,
             "#e6f5d0"
            ],
            [
             0.7,
             "#b8e186"
            ],
            [
             0.8,
             "#7fbc41"
            ],
            [
             0.9,
             "#4d9221"
            ],
            [
             1,
             "#276419"
            ]
           ],
           "sequential": [
            [
             0,
             "#0d0887"
            ],
            [
             0.1111111111111111,
             "#46039f"
            ],
            [
             0.2222222222222222,
             "#7201a8"
            ],
            [
             0.3333333333333333,
             "#9c179e"
            ],
            [
             0.4444444444444444,
             "#bd3786"
            ],
            [
             0.5555555555555556,
             "#d8576b"
            ],
            [
             0.6666666666666666,
             "#ed7953"
            ],
            [
             0.7777777777777778,
             "#fb9f3a"
            ],
            [
             0.8888888888888888,
             "#fdca26"
            ],
            [
             1,
             "#f0f921"
            ]
           ],
           "sequentialminus": [
            [
             0,
             "#0d0887"
            ],
            [
             0.1111111111111111,
             "#46039f"
            ],
            [
             0.2222222222222222,
             "#7201a8"
            ],
            [
             0.3333333333333333,
             "#9c179e"
            ],
            [
             0.4444444444444444,
             "#bd3786"
            ],
            [
             0.5555555555555556,
             "#d8576b"
            ],
            [
             0.6666666666666666,
             "#ed7953"
            ],
            [
             0.7777777777777778,
             "#fb9f3a"
            ],
            [
             0.8888888888888888,
             "#fdca26"
            ],
            [
             1,
             "#f0f921"
            ]
           ]
          },
          "colorway": [
           "#636efa",
           "#EF553B",
           "#00cc96",
           "#ab63fa",
           "#FFA15A",
           "#19d3f3",
           "#FF6692",
           "#B6E880",
           "#FF97FF",
           "#FECB52"
          ],
          "font": {
           "color": "#2a3f5f"
          },
          "geo": {
           "bgcolor": "white",
           "lakecolor": "white",
           "landcolor": "#E5ECF6",
           "showlakes": true,
           "showland": true,
           "subunitcolor": "white"
          },
          "hoverlabel": {
           "align": "left"
          },
          "hovermode": "closest",
          "mapbox": {
           "style": "light"
          },
          "paper_bgcolor": "white",
          "plot_bgcolor": "#E5ECF6",
          "polar": {
           "angularaxis": {
            "gridcolor": "white",
            "linecolor": "white",
            "ticks": ""
           },
           "bgcolor": "#E5ECF6",
           "radialaxis": {
            "gridcolor": "white",
            "linecolor": "white",
            "ticks": ""
           }
          },
          "scene": {
           "xaxis": {
            "backgroundcolor": "#E5ECF6",
            "gridcolor": "white",
            "gridwidth": 2,
            "linecolor": "white",
            "showbackground": true,
            "ticks": "",
            "zerolinecolor": "white"
           },
           "yaxis": {
            "backgroundcolor": "#E5ECF6",
            "gridcolor": "white",
            "gridwidth": 2,
            "linecolor": "white",
            "showbackground": true,
            "ticks": "",
            "zerolinecolor": "white"
           },
           "zaxis": {
            "backgroundcolor": "#E5ECF6",
            "gridcolor": "white",
            "gridwidth": 2,
            "linecolor": "white",
            "showbackground": true,
            "ticks": "",
            "zerolinecolor": "white"
           }
          },
          "shapedefaults": {
           "line": {
            "color": "#2a3f5f"
           }
          },
          "ternary": {
           "aaxis": {
            "gridcolor": "white",
            "linecolor": "white",
            "ticks": ""
           },
           "baxis": {
            "gridcolor": "white",
            "linecolor": "white",
            "ticks": ""
           },
           "bgcolor": "#E5ECF6",
           "caxis": {
            "gridcolor": "white",
            "linecolor": "white",
            "ticks": ""
           }
          },
          "title": {
           "x": 0.05
          },
          "xaxis": {
           "automargin": true,
           "gridcolor": "white",
           "linecolor": "white",
           "ticks": "",
           "title": {
            "standoff": 15
           },
           "zerolinecolor": "white",
           "zerolinewidth": 2
          },
          "yaxis": {
           "automargin": true,
           "gridcolor": "white",
           "linecolor": "white",
           "ticks": "",
           "title": {
            "standoff": 15
           },
           "zerolinecolor": "white",
           "zerolinewidth": 2
          }
         }
        },
        "title": {
         "text": "Customer Active by Month"
        },
        "xaxis": {
         "anchor": "y",
         "domain": [
          0,
          1
         ],
         "title": {
          "text": "Invoice_YearMonth"
         }
        },
        "yaxis": {
         "anchor": "x",
         "domain": [
          0,
          1
         ],
         "title": {
          "text": "CustomerID"
         }
        }
       }
      }
     },
     "metadata": {},
     "output_type": "display_data"
    }
   ],
   "source": [
    "df_monthly_cus_active['Invoice_YearMonth'] = df_monthly_cus_active['Invoice_YearMonth'].astype(str)\n",
    "fig = px.line(df_monthly_cus_active, x=\"Invoice_YearMonth\", y=\"CustomerID\", title=\"Customer Active by Month\",text = 'CustomerID')\n",
    "fig.update_traces(textposition=\"top center\")\n",
    "fig.show()"
   ]
  },
  {
   "cell_type": "code",
   "execution_count": 100,
   "metadata": {},
   "outputs": [
    {
     "data": {
      "image/png": "[encoded data removed]",
      "text/plain": [
       "<Figure size 2376x504 with 1 Axes>"
      ]
     },
     "metadata": {
      "needs_background": "light"
     },
     "output_type": "display_data"
    }
   ],
   "source": [
    "plt.figure(figsize = (33, 7))\n",
    "g=sns.lineplot(data=df_monthly_cus_active,x='Invoice_YearMonth',y='CustomerID')\n",
    "g.set_title('Customer Active by Month',y=1.03)\n",
    "plt.show()"
   ]
  },
  {
   "cell_type": "code",
   "execution_count": 101,
   "metadata": {},
   "outputs": [
    {
     "name": "stderr",
     "output_type": "stream",
     "text": [
      "c:\\Users\\DUONG-PC\\anaconda3\\lib\\site-packages\\plotly\\graph_objs\\_deprecations.py:378: DeprecationWarning:\n",
      "\n",
      "plotly.graph_objs.Line is deprecated.\n",
      "Please replace it with one of the following more specific types\n",
      "  - plotly.graph_objs.scatter.Line\n",
      "  - plotly.graph_objs.layout.shape.Line\n",
      "  - etc.\n",
      "\n",
      "\n"
     ]
    },
    {
     "data": {
      "text/plain": [
       "'temp-plot.html'"
      ]
     },
     "execution_count": 101,
     "metadata": {},
     "output_type": "execute_result"
    }
   ],
   "source": [
    "plot_data =[\n",
    "    go.Line(\n",
    "        x=df_monthly_cus_active['Invoice_YearMonth'],\n",
    "        y= df_monthly_cus_active['CustomerID']\n",
    "    )\n",
    "]\n",
    "plot_layout = go.Layout(\n",
    "    xaxis = {'type':'category'},\n",
    "    title ='Monthly Customer Active'\n",
    ")\n",
    "fig= go.Figure(data=plot_data,layout=plot_layout)\n",
    "pyoff.plot(fig)"
   ]
  },
  {
   "cell_type": "markdown",
   "metadata": {},
   "source": [
    "Trung bình 1 tháng có bao nhiêu sản phẩm bán ra"
   ]
  },
  {
   "cell_type": "code",
   "execution_count": 102,
   "metadata": {},
   "outputs": [
    {
     "data": {
      "text/html": [
       "<div>\n",
       "<style scoped>\n",
       "    .dataframe tbody tr th:only-of-type {\n",
       "        vertical-align: middle;\n",
       "    }\n",
       "\n",
       "    .dataframe tbody tr th {\n",
       "        vertical-align: top;\n",
       "    }\n",
       "\n",
       "    .dataframe thead th {\n",
       "        text-align: right;\n",
       "    }\n",
       "</style>\n",
       "<table border=\"1\" class=\"dataframe\">\n",
       "  <thead>\n",
       "    <tr style=\"text-align: right;\">\n",
       "      <th></th>\n",
       "      <th>Invoice_YearMonth</th>\n",
       "      <th>Quantity</th>\n",
       "    </tr>\n",
       "  </thead>\n",
       "  <tbody>\n",
       "    <tr>\n",
       "      <th>0</th>\n",
       "      <td>201012</td>\n",
       "      <td>342228</td>\n",
       "    </tr>\n",
       "    <tr>\n",
       "      <th>1</th>\n",
       "      <td>201101</td>\n",
       "      <td>308966</td>\n",
       "    </tr>\n",
       "    <tr>\n",
       "      <th>2</th>\n",
       "      <td>201102</td>\n",
       "      <td>277989</td>\n",
       "    </tr>\n",
       "    <tr>\n",
       "      <th>3</th>\n",
       "      <td>201103</td>\n",
       "      <td>351872</td>\n",
       "    </tr>\n",
       "    <tr>\n",
       "      <th>4</th>\n",
       "      <td>201104</td>\n",
       "      <td>289098</td>\n",
       "    </tr>\n",
       "    <tr>\n",
       "      <th>5</th>\n",
       "      <td>201105</td>\n",
       "      <td>380391</td>\n",
       "    </tr>\n",
       "    <tr>\n",
       "      <th>6</th>\n",
       "      <td>201106</td>\n",
       "      <td>341623</td>\n",
       "    </tr>\n",
       "    <tr>\n",
       "      <th>7</th>\n",
       "      <td>201107</td>\n",
       "      <td>391116</td>\n",
       "    </tr>\n",
       "    <tr>\n",
       "      <th>8</th>\n",
       "      <td>201108</td>\n",
       "      <td>406199</td>\n",
       "    </tr>\n",
       "    <tr>\n",
       "      <th>9</th>\n",
       "      <td>201109</td>\n",
       "      <td>549817</td>\n",
       "    </tr>\n",
       "    <tr>\n",
       "      <th>10</th>\n",
       "      <td>201110</td>\n",
       "      <td>570532</td>\n",
       "    </tr>\n",
       "    <tr>\n",
       "      <th>11</th>\n",
       "      <td>201111</td>\n",
       "      <td>740286</td>\n",
       "    </tr>\n",
       "    <tr>\n",
       "      <th>12</th>\n",
       "      <td>201112</td>\n",
       "      <td>226333</td>\n",
       "    </tr>\n",
       "  </tbody>\n",
       "</table>\n",
       "</div>"
      ],
      "text/plain": [
       "    Invoice_YearMonth  Quantity\n",
       "0              201012    342228\n",
       "1              201101    308966\n",
       "2              201102    277989\n",
       "3              201103    351872\n",
       "4              201104    289098\n",
       "5              201105    380391\n",
       "6              201106    341623\n",
       "7              201107    391116\n",
       "8              201108    406199\n",
       "9              201109    549817\n",
       "10             201110    570532\n",
       "11             201111    740286\n",
       "12             201112    226333"
      ]
     },
     "execution_count": 102,
     "metadata": {},
     "output_type": "execute_result"
    }
   ],
   "source": [
    "df_monthly_items_sold = df_retail.groupby('Invoice_YearMonth')['Quantity'].sum().reset_index()\n",
    "df_monthly_items_sold"
   ]
  },
  {
   "cell_type": "code",
   "execution_count": 103,
   "metadata": {},
   "outputs": [
    {
     "data": {
      "text/plain": [
       "398188.46153846156"
      ]
     },
     "execution_count": 103,
     "metadata": {},
     "output_type": "execute_result"
    }
   ],
   "source": [
    "df_monthly_items_sold['Quantity'].mean()"
   ]
  },
  {
   "cell_type": "code",
   "execution_count": 104,
   "metadata": {},
   "outputs": [
    {
     "data": {
      "application/vnd.plotly.v1+json": {
       "config": {
        "plotlyServerURL": "https://plot.ly"
       },
       "data": [
        {
         "hovertemplate": "Invoice_YearMonth=%{x}<br>Quantity=%{text}<extra></extra>",
         "legendgroup": "",
         "line": {
          "color": "#636efa",
          "dash": "solid"
         },
         "marker": {
          "symbol": "circle"
         },
         "mode": "text+lines+markers",
         "name": "",
         "orientation": "v",
         "showlegend": false,
         "text": [
          342228,
          308966,
          277989,
          351872,
          289098,
          380391,
          341623,
          391116,
          406199,
          549817,
          570532,
          740286,
          226333
         ],
         "textposition": "top center",
         "type": "scatter",
         "x": [
          "201012",
          "201101",
          "201102",
          "201103",
          "201104",
          "201105",
          "201106",
          "201107",
          "201108",
          "201109",
          "201110",
          "201111",
          "201112"
         ],
         "xaxis": "x",
         "y": [
          342228,
          308966,
          277989,
          351872,
          289098,
          380391,
          341623,
          391116,
          406199,
          549817,
          570532,
          740286,
          226333
         ],
         "yaxis": "y"
        }
       ],
       "layout": {
        "legend": {
         "tracegroupgap": 0
        },
        "template": {
         "data": {
          "bar": [
           {
            "error_x": {
             "color": "#2a3f5f"
            },
            "error_y": {
             "color": "#2a3f5f"
            },
            "marker": {
             "line": {
              "color": "#E5ECF6",
              "width": 0.5
             },
             "pattern": {
              "fillmode": "overlay",
              "size": 10,
              "solidity": 0.2
             }
            },
            "type": "bar"
           }
          ],
          "barpolar": [
           {
            "marker": {
             "line": {
              "color": "#E5ECF6",
              "width": 0.5
             },
             "pattern": {
              "fillmode": "overlay",
              "size": 10,
              "solidity": 0.2
             }
            },
            "type": "barpolar"
           }
          ],
          "carpet": [
           {
            "aaxis": {
             "endlinecolor": "#2a3f5f",
             "gridcolor": "white",
             "linecolor": "white",
             "minorgridcolor": "white",
             "startlinecolor": "#2a3f5f"
            },
            "baxis": {
             "endlinecolor": "#2a3f5f",
             "gridcolor": "white",
             "linecolor": "white",
             "minorgridcolor": "white",
             "startlinecolor": "#2a3f5f"
            },
            "type": "carpet"
           }
          ],
          "choropleth": [
           {
            "colorbar": {
             "outlinewidth": 0,
             "ticks": ""
            },
            "type": "choropleth"
           }
          ],
          "contour": [
           {
            "colorbar": {
             "outlinewidth": 0,
             "ticks": ""
            },
            "colorscale": [
             [
              0,
              "#0d0887"
             ],
             [
              0.1111111111111111,
              "#46039f"
             ],
             [
              0.2222222222222222,
              "#7201a8"
             ],
             [
              0.3333333333333333,
              "#9c179e"
             ],
             [
              0.4444444444444444,
              "#bd3786"
             ],
             [
              0.5555555555555556,
              "#d8576b"
             ],
             [
              0.6666666666666666,
              "#ed7953"
             ],
             [
              0.7777777777777778,
              "#fb9f3a"
             ],
             [
              0.8888888888888888,
              "#fdca26"
             ],
             [
              1,
              "#f0f921"
             ]
            ],
            "type": "contour"
           }
          ],
          "contourcarpet": [
           {
            "colorbar": {
             "outlinewidth": 0,
             "ticks": ""
            },
            "type": "contourcarpet"
           }
          ],
          "heatmap": [
           {
            "colorbar": {
             "outlinewidth": 0,
             "ticks": ""
            },
            "colorscale": [
             [
              0,
              "#0d0887"
             ],
             [
              0.1111111111111111,
              "#46039f"
             ],
             [
              0.2222222222222222,
              "#7201a8"
             ],
             [
              0.3333333333333333,
              "#9c179e"
             ],
             [
              0.4444444444444444,
              "#bd3786"
             ],
             [
              0.5555555555555556,
              "#d8576b"
             ],
             [
              0.6666666666666666,
              "#ed7953"
             ],
             [
              0.7777777777777778,
              "#fb9f3a"
             ],
             [
              0.8888888888888888,
              "#fdca26"
             ],
             [
              1,
              "#f0f921"
             ]
            ],
            "type": "heatmap"
           }
          ],
          "heatmapgl": [
           {
            "colorbar": {
             "outlinewidth": 0,
             "ticks": ""
            },
            "colorscale": [
             [
              0,
              "#0d0887"
             ],
             [
              0.1111111111111111,
              "#46039f"
             ],
             [
              0.2222222222222222,
              "#7201a8"
             ],
             [
              0.3333333333333333,
              "#9c179e"
             ],
             [
              0.4444444444444444,
              "#bd3786"
             ],
             [
              0.5555555555555556,
              "#d8576b"
             ],
             [
              0.6666666666666666,
              "#ed7953"
             ],
             [
              0.7777777777777778,
              "#fb9f3a"
             ],
             [
              0.8888888888888888,
              "#fdca26"
             ],
             [
              1,
              "#f0f921"
             ]
            ],
            "type": "heatmapgl"
           }
          ],
          "histogram": [
           {
            "marker": {
             "pattern": {
              "fillmode": "overlay",
              "size": 10,
              "solidity": 0.2
             }
            },
            "type": "histogram"
           }
          ],
          "histogram2d": [
           {
            "colorbar": {
             "outlinewidth": 0,
             "ticks": ""
            },
            "colorscale": [
             [
              0,
              "#0d0887"
             ],
             [
              0.1111111111111111,
              "#46039f"
             ],
             [
              0.2222222222222222,
              "#7201a8"
             ],
             [
              0.3333333333333333,
              "#9c179e"
             ],
             [
              0.4444444444444444,
              "#bd3786"
             ],
             [
              0.5555555555555556,
              "#d8576b"
             ],
             [
              0.6666666666666666,
              "#ed7953"
             ],
             [
              0.7777777777777778,
              "#fb9f3a"
             ],
             [
              0.8888888888888888,
              "#fdca26"
             ],
             [
              1,
              "#f0f921"
             ]
            ],
            "type": "histogram2d"
           }
          ],
          "histogram2dcontour": [
           {
            "colorbar": {
             "outlinewidth": 0,
             "ticks": ""
            },
            "colorscale": [
             [
              0,
              "#0d0887"
             ],
             [
              0.1111111111111111,
              "#46039f"
             ],
             [
              0.2222222222222222,
              "#7201a8"
             ],
             [
              0.3333333333333333,
              "#9c179e"
             ],
             [
              0.4444444444444444,
              "#bd3786"
             ],
             [
              0.5555555555555556,
              "#d8576b"
             ],
             [
              0.6666666666666666,
              "#ed7953"
             ],
             [
              0.7777777777777778,
              "#fb9f3a"
             ],
             [
              0.8888888888888888,
              "#fdca26"
             ],
             [
              1,
              "#f0f921"
             ]
            ],
            "type": "histogram2dcontour"
           }
          ],
          "mesh3d": [
           {
            "colorbar": {
             "outlinewidth": 0,
             "ticks": ""
            },
            "type": "mesh3d"
           }
          ],
          "parcoords": [
           {
            "line": {
             "colorbar": {
              "outlinewidth": 0,
              "ticks": ""
             }
            },
            "type": "parcoords"
           }
          ],
          "pie": [
           {
            "automargin": true,
            "type": "pie"
           }
          ],
          "scatter": [
           {
            "marker": {
             "colorbar": {
              "outlinewidth": 0,
              "ticks": ""
             }
            },
            "type": "scatter"
           }
          ],
          "scatter3d": [
           {
            "line": {
             "colorbar": {
              "outlinewidth": 0,
              "ticks": ""
             }
            },
            "marker": {
             "colorbar": {
              "outlinewidth": 0,
              "ticks": ""
             }
            },
            "type": "scatter3d"
           }
          ],
          "scattercarpet": [
           {
            "marker": {
             "colorbar": {
              "outlinewidth": 0,
              "ticks": ""
             }
            },
            "type": "scattercarpet"
           }
          ],
          "scattergeo": [
           {
            "marker": {
             "colorbar": {
              "outlinewidth": 0,
              "ticks": ""
             }
            },
            "type": "scattergeo"
           }
          ],
          "scattergl": [
           {
            "marker": {
             "colorbar": {
              "outlinewidth": 0,
              "ticks": ""
             }
            },
            "type": "scattergl"
           }
          ],
          "scattermapbox": [
           {
            "marker": {
             "colorbar": {
              "outlinewidth": 0,
              "ticks": ""
             }
            },
            "type": "scattermapbox"
           }
          ],
          "scatterpolar": [
           {
            "marker": {
             "colorbar": {
              "outlinewidth": 0,
              "ticks": ""
             }
            },
            "type": "scatterpolar"
           }
          ],
          "scatterpolargl": [
           {
            "marker": {
             "colorbar": {
              "outlinewidth": 0,
              "ticks": ""
             }
            },
            "type": "scatterpolargl"
           }
          ],
          "scatterternary": [
           {
            "marker": {
             "colorbar": {
              "outlinewidth": 0,
              "ticks": ""
             }
            },
            "type": "scatterternary"
           }
          ],
          "surface": [
           {
            "colorbar": {
             "outlinewidth": 0,
             "ticks": ""
            },
            "colorscale": [
             [
              0,
              "#0d0887"
             ],
             [
              0.1111111111111111,
              "#46039f"
             ],
             [
              0.2222222222222222,
              "#7201a8"
             ],
             [
              0.3333333333333333,
              "#9c179e"
             ],
             [
              0.4444444444444444,
              "#bd3786"
             ],
             [
              0.5555555555555556,
              "#d8576b"
             ],
             [
              0.6666666666666666,
              "#ed7953"
             ],
             [
              0.7777777777777778,
              "#fb9f3a"
             ],
             [
              0.8888888888888888,
              "#fdca26"
             ],
             [
              1,
              "#f0f921"
             ]
            ],
            "type": "surface"
           }
          ],
          "table": [
           {
            "cells": {
             "fill": {
              "color": "#EBF0F8"
             },
             "line": {
              "color": "white"
             }
            },
            "header": {
             "fill": {
              "color": "#C8D4E3"
             },
             "line": {
              "color": "white"
             }
            },
            "type": "table"
           }
          ]
         },
         "layout": {
          "annotationdefaults": {
           "arrowcolor": "#2a3f5f",
           "arrowhead": 0,
           "arrowwidth": 1
          },
          "autotypenumbers": "strict",
          "coloraxis": {
           "colorbar": {
            "outlinewidth": 0,
            "ticks": ""
           }
          },
          "colorscale": {
           "diverging": [
            [
             0,
             "#8e0152"
            ],
            [
             0.1,
             "#c51b7d"
            ],
            [
             0.2,
             "#de77ae"
            ],
            [
             0.3,
             "#f1b6da"
            ],
            [
             0.4,
             "#fde0ef"
            ],
            [
             0.5,
             "#f7f7f7"
            ],
            [
             0.6,
             "#e6f5d0"
            ],
            [
             0.7,
             "#b8e186"
            ],
            [
             0.8,
             "#7fbc41"
            ],
            [
             0.9,
             "#4d9221"
            ],
            [
             1,
             "#276419"
            ]
           ],
           "sequential": [
            [
             0,
             "#0d0887"
            ],
            [
             0.1111111111111111,
             "#46039f"
            ],
            [
             0.2222222222222222,
             "#7201a8"
            ],
            [
             0.3333333333333333,
             "#9c179e"
            ],
            [
             0.4444444444444444,
             "#bd3786"
            ],
            [
             0.5555555555555556,
             "#d8576b"
            ],
            [
             0.6666666666666666,
             "#ed7953"
            ],
            [
             0.7777777777777778,
             "#fb9f3a"
            ],
            [
             0.8888888888888888,
             "#fdca26"
            ],
            [
             1,
             "#f0f921"
            ]
           ],
           "sequentialminus": [
            [
             0,
             "#0d0887"
            ],
            [
             0.1111111111111111,
             "#46039f"
            ],
            [
             0.2222222222222222,
             "#7201a8"
            ],
            [
             0.3333333333333333,
             "#9c179e"
            ],
            [
             0.4444444444444444,
             "#bd3786"
            ],
            [
             0.5555555555555556,
             "#d8576b"
            ],
            [
             0.6666666666666666,
             "#ed7953"
            ],
            [
             0.7777777777777778,
             "#fb9f3a"
            ],
            [
             0.8888888888888888,
             "#fdca26"
            ],
            [
             1,
             "#f0f921"
            ]
           ]
          },
          "colorway": [
           "#636efa",
           "#EF553B",
           "#00cc96",
           "#ab63fa",
           "#FFA15A",
           "#19d3f3",
           "#FF6692",
           "#B6E880",
           "#FF97FF",
           "#FECB52"
          ],
          "font": {
           "color": "#2a3f5f"
          },
          "geo": {
           "bgcolor": "white",
           "lakecolor": "white",
           "landcolor": "#E5ECF6",
           "showlakes": true,
           "showland": true,
           "subunitcolor": "white"
          },
          "hoverlabel": {
           "align": "left"
          },
          "hovermode": "closest",
          "mapbox": {
           "style": "light"
          },
          "paper_bgcolor": "white",
          "plot_bgcolor": "#E5ECF6",
          "polar": {
           "angularaxis": {
            "gridcolor": "white",
            "linecolor": "white",
            "ticks": ""
           },
           "bgcolor": "#E5ECF6",
           "radialaxis": {
            "gridcolor": "white",
            "linecolor": "white",
            "ticks": ""
           }
          },
          "scene": {
           "xaxis": {
            "backgroundcolor": "#E5ECF6",
            "gridcolor": "white",
            "gridwidth": 2,
            "linecolor": "white",
            "showbackground": true,
            "ticks": "",
            "zerolinecolor": "white"
           },
           "yaxis": {
            "backgroundcolor": "#E5ECF6",
            "gridcolor": "white",
            "gridwidth": 2,
            "linecolor": "white",
            "showbackground": true,
            "ticks": "",
            "zerolinecolor": "white"
           },
           "zaxis": {
            "backgroundcolor": "#E5ECF6",
            "gridcolor": "white",
            "gridwidth": 2,
            "linecolor": "white",
            "showbackground": true,
            "ticks": "",
            "zerolinecolor": "white"
           }
          },
          "shapedefaults": {
           "line": {
            "color": "#2a3f5f"
           }
          },
          "ternary": {
           "aaxis": {
            "gridcolor": "white",
            "linecolor": "white",
            "ticks": ""
           },
           "baxis": {
            "gridcolor": "white",
            "linecolor": "white",
            "ticks": ""
           },
           "bgcolor": "#E5ECF6",
           "caxis": {
            "gridcolor": "white",
            "linecolor": "white",
            "ticks": ""
           }
          },
          "title": {
           "x": 0.05
          },
          "xaxis": {
           "automargin": true,
           "gridcolor": "white",
           "linecolor": "white",
           "ticks": "",
           "title": {
            "standoff": 15
           },
           "zerolinecolor": "white",
           "zerolinewidth": 2
          },
          "yaxis": {
           "automargin": true,
           "gridcolor": "white",
           "linecolor": "white",
           "ticks": "",
           "title": {
            "standoff": 15
           },
           "zerolinecolor": "white",
           "zerolinewidth": 2
          }
         }
        },
        "title": {
         "text": "Quantity Items Sold by Month"
        },
        "xaxis": {
         "anchor": "y",
         "domain": [
          0,
          1
         ],
         "title": {
          "text": "Invoice_YearMonth"
         }
        },
        "yaxis": {
         "anchor": "x",
         "domain": [
          0,
          1
         ],
         "title": {
          "text": "Quantity"
         }
        }
       }
      }
     },
     "metadata": {},
     "output_type": "display_data"
    }
   ],
   "source": [
    "df_monthly_items_sold['Invoice_YearMonth'] = df_monthly_items_sold['Invoice_YearMonth'].astype(str)\n",
    "fig = px.line(df_monthly_items_sold, x=\"Invoice_YearMonth\", y=\"Quantity\", title=\"Quantity Items Sold by Month\",text = 'Quantity')\n",
    "fig.update_traces(textposition=\"top center\")\n",
    "fig.show()"
   ]
  },
  {
   "cell_type": "markdown",
   "metadata": {},
   "source": [
    "Revenue Per Month"
   ]
  },
  {
   "cell_type": "code",
   "execution_count": 105,
   "metadata": {},
   "outputs": [
    {
     "data": {
      "text/html": [
       "<div>\n",
       "<style scoped>\n",
       "    .dataframe tbody tr th:only-of-type {\n",
       "        vertical-align: middle;\n",
       "    }\n",
       "\n",
       "    .dataframe tbody tr th {\n",
       "        vertical-align: top;\n",
       "    }\n",
       "\n",
       "    .dataframe thead th {\n",
       "        text-align: right;\n",
       "    }\n",
       "</style>\n",
       "<table border=\"1\" class=\"dataframe\">\n",
       "  <thead>\n",
       "    <tr style=\"text-align: right;\">\n",
       "      <th></th>\n",
       "      <th>Invoice_YearMonth</th>\n",
       "      <th>Revenue</th>\n",
       "    </tr>\n",
       "  </thead>\n",
       "  <tbody>\n",
       "    <tr>\n",
       "      <th>0</th>\n",
       "      <td>201012</td>\n",
       "      <td>748957.020</td>\n",
       "    </tr>\n",
       "    <tr>\n",
       "      <th>1</th>\n",
       "      <td>201101</td>\n",
       "      <td>560000.260</td>\n",
       "    </tr>\n",
       "    <tr>\n",
       "      <th>2</th>\n",
       "      <td>201102</td>\n",
       "      <td>498062.650</td>\n",
       "    </tr>\n",
       "    <tr>\n",
       "      <th>3</th>\n",
       "      <td>201103</td>\n",
       "      <td>683267.080</td>\n",
       "    </tr>\n",
       "    <tr>\n",
       "      <th>4</th>\n",
       "      <td>201104</td>\n",
       "      <td>493207.121</td>\n",
       "    </tr>\n",
       "    <tr>\n",
       "      <th>5</th>\n",
       "      <td>201105</td>\n",
       "      <td>723333.510</td>\n",
       "    </tr>\n",
       "    <tr>\n",
       "      <th>6</th>\n",
       "      <td>201106</td>\n",
       "      <td>691123.120</td>\n",
       "    </tr>\n",
       "    <tr>\n",
       "      <th>7</th>\n",
       "      <td>201107</td>\n",
       "      <td>681300.111</td>\n",
       "    </tr>\n",
       "    <tr>\n",
       "      <th>8</th>\n",
       "      <td>201108</td>\n",
       "      <td>682680.510</td>\n",
       "    </tr>\n",
       "    <tr>\n",
       "      <th>9</th>\n",
       "      <td>201109</td>\n",
       "      <td>1019687.622</td>\n",
       "    </tr>\n",
       "    <tr>\n",
       "      <th>10</th>\n",
       "      <td>201110</td>\n",
       "      <td>1070704.670</td>\n",
       "    </tr>\n",
       "    <tr>\n",
       "      <th>11</th>\n",
       "      <td>201111</td>\n",
       "      <td>1461756.250</td>\n",
       "    </tr>\n",
       "    <tr>\n",
       "      <th>12</th>\n",
       "      <td>201112</td>\n",
       "      <td>433668.010</td>\n",
       "    </tr>\n",
       "  </tbody>\n",
       "</table>\n",
       "</div>"
      ],
      "text/plain": [
       "    Invoice_YearMonth      Revenue\n",
       "0              201012   748957.020\n",
       "1              201101   560000.260\n",
       "2              201102   498062.650\n",
       "3              201103   683267.080\n",
       "4              201104   493207.121\n",
       "5              201105   723333.510\n",
       "6              201106   691123.120\n",
       "7              201107   681300.111\n",
       "8              201108   682680.510\n",
       "9              201109  1019687.622\n",
       "10             201110  1070704.670\n",
       "11             201111  1461756.250\n",
       "12             201112   433668.010"
      ]
     },
     "execution_count": 105,
     "metadata": {},
     "output_type": "execute_result"
    }
   ],
   "source": [
    "df_Revenue_month=df_retail.groupby('Invoice_YearMonth')['Revenue'].sum().reset_index()\n",
    "df_Revenue_month"
   ]
  },
  {
   "cell_type": "code",
   "execution_count": 106,
   "metadata": {},
   "outputs": [
    {
     "data": {
      "text/plain": [
       "749826.7641538461"
      ]
     },
     "execution_count": 106,
     "metadata": {},
     "output_type": "execute_result"
    }
   ],
   "source": [
    "df_RevenueMonth['Revenue'].mean()"
   ]
  },
  {
   "cell_type": "code",
   "execution_count": 107,
   "metadata": {},
   "outputs": [
    {
     "data": {
      "application/vnd.plotly.v1+json": {
       "config": {
        "plotlyServerURL": "https://plot.ly"
       },
       "data": [
        {
         "hovertemplate": "Invoice_YearMonth=%{x}<br>Revenue=%{text}<extra></extra>",
         "legendgroup": "",
         "line": {
          "color": "#636efa",
          "dash": "solid"
         },
         "marker": {
          "symbol": "circle"
         },
         "mode": "text+lines+markers",
         "name": "",
         "orientation": "v",
         "showlegend": false,
         "text": [
          748957.02,
          560000.26,
          498062.65,
          683267.08,
          493207.121,
          723333.51,
          691123.12,
          681300.111,
          682680.51,
          1019687.622,
          1070704.67,
          1461756.25,
          433668.01
         ],
         "textposition": "top center",
         "type": "scatter",
         "x": [
          "201012",
          "201101",
          "201102",
          "201103",
          "201104",
          "201105",
          "201106",
          "201107",
          "201108",
          "201109",
          "201110",
          "201111",
          "201112"
         ],
         "xaxis": "x",
         "y": [
          748957.02,
          560000.26,
          498062.65,
          683267.08,
          493207.121,
          723333.51,
          691123.12,
          681300.111,
          682680.51,
          1019687.622,
          1070704.67,
          1461756.25,
          433668.01
         ],
         "yaxis": "y"
        }
       ],
       "layout": {
        "legend": {
         "tracegroupgap": 0
        },
        "template": {
         "data": {
          "bar": [
           {
            "error_x": {
             "color": "#2a3f5f"
            },
            "error_y": {
             "color": "#2a3f5f"
            },
            "marker": {
             "line": {
              "color": "#E5ECF6",
              "width": 0.5
             },
             "pattern": {
              "fillmode": "overlay",
              "size": 10,
              "solidity": 0.2
             }
            },
            "type": "bar"
           }
          ],
          "barpolar": [
           {
            "marker": {
             "line": {
              "color": "#E5ECF6",
              "width": 0.5
             },
             "pattern": {
              "fillmode": "overlay",
              "size": 10,
              "solidity": 0.2
             }
            },
            "type": "barpolar"
           }
          ],
          "carpet": [
           {
            "aaxis": {
             "endlinecolor": "#2a3f5f",
             "gridcolor": "white",
             "linecolor": "white",
             "minorgridcolor": "white",
             "startlinecolor": "#2a3f5f"
            },
            "baxis": {
             "endlinecolor": "#2a3f5f",
             "gridcolor": "white",
             "linecolor": "white",
             "minorgridcolor": "white",
             "startlinecolor": "#2a3f5f"
            },
            "type": "carpet"
           }
          ],
          "choropleth": [
           {
            "colorbar": {
             "outlinewidth": 0,
             "ticks": ""
            },
            "type": "choropleth"
           }
          ],
          "contour": [
           {
            "colorbar": {
             "outlinewidth": 0,
             "ticks": ""
            },
            "colorscale": [
             [
              0,
              "#0d0887"
             ],
             [
              0.1111111111111111,
              "#46039f"
             ],
             [
              0.2222222222222222,
              "#7201a8"
             ],
             [
              0.3333333333333333,
              "#9c179e"
             ],
             [
              0.4444444444444444,
              "#bd3786"
             ],
             [
              0.5555555555555556,
              "#d8576b"
             ],
             [
              0.6666666666666666,
              "#ed7953"
             ],
             [
              0.7777777777777778,
              "#fb9f3a"
             ],
             [
              0.8888888888888888,
              "#fdca26"
             ],
             [
              1,
              "#f0f921"
             ]
            ],
            "type": "contour"
           }
          ],
          "contourcarpet": [
           {
            "colorbar": {
             "outlinewidth": 0,
             "ticks": ""
            },
            "type": "contourcarpet"
           }
          ],
          "heatmap": [
           {
            "colorbar": {
             "outlinewidth": 0,
             "ticks": ""
            },
            "colorscale": [
             [
              0,
              "#0d0887"
             ],
             [
              0.1111111111111111,
              "#46039f"
             ],
             [
              0.2222222222222222,
              "#7201a8"
             ],
             [
              0.3333333333333333,
              "#9c179e"
             ],
             [
              0.4444444444444444,
              "#bd3786"
             ],
             [
              0.5555555555555556,
              "#d8576b"
             ],
             [
              0.6666666666666666,
              "#ed7953"
             ],
             [
              0.7777777777777778,
              "#fb9f3a"
             ],
             [
              0.8888888888888888,
              "#fdca26"
             ],
             [
              1,
              "#f0f921"
             ]
            ],
            "type": "heatmap"
           }
          ],
          "heatmapgl": [
           {
            "colorbar": {
             "outlinewidth": 0,
             "ticks": ""
            },
            "colorscale": [
             [
              0,
              "#0d0887"
             ],
             [
              0.1111111111111111,
              "#46039f"
             ],
             [
              0.2222222222222222,
              "#7201a8"
             ],
             [
              0.3333333333333333,
              "#9c179e"
             ],
             [
              0.4444444444444444,
              "#bd3786"
             ],
             [
              0.5555555555555556,
              "#d8576b"
             ],
             [
              0.6666666666666666,
              "#ed7953"
             ],
             [
              0.7777777777777778,
              "#fb9f3a"
             ],
             [
              0.8888888888888888,
              "#fdca26"
             ],
             [
              1,
              "#f0f921"
             ]
            ],
            "type": "heatmapgl"
           }
          ],
          "histogram": [
           {
            "marker": {
             "pattern": {
              "fillmode": "overlay",
              "size": 10,
              "solidity": 0.2
             }
            },
            "type": "histogram"
           }
          ],
          "histogram2d": [
           {
            "colorbar": {
             "outlinewidth": 0,
             "ticks": ""
            },
            "colorscale": [
             [
              0,
              "#0d0887"
             ],
             [
              0.1111111111111111,
              "#46039f"
             ],
             [
              0.2222222222222222,
              "#7201a8"
             ],
             [
              0.3333333333333333,
              "#9c179e"
             ],
             [
              0.4444444444444444,
              "#bd3786"
             ],
             [
              0.5555555555555556,
              "#d8576b"
             ],
             [
              0.6666666666666666,
              "#ed7953"
             ],
             [
              0.7777777777777778,
              "#fb9f3a"
             ],
             [
              0.8888888888888888,
              "#fdca26"
             ],
             [
              1,
              "#f0f921"
             ]
            ],
            "type": "histogram2d"
           }
          ],
          "histogram2dcontour": [
           {
            "colorbar": {
             "outlinewidth": 0,
             "ticks": ""
            },
            "colorscale": [
             [
              0,
              "#0d0887"
             ],
             [
              0.1111111111111111,
              "#46039f"
             ],
             [
              0.2222222222222222,
              "#7201a8"
             ],
             [
              0.3333333333333333,
              "#9c179e"
             ],
             [
              0.4444444444444444,
              "#bd3786"
             ],
             [
              0.5555555555555556,
              "#d8576b"
             ],
             [
              0.6666666666666666,
              "#ed7953"
             ],
             [
              0.7777777777777778,
              "#fb9f3a"
             ],
             [
              0.8888888888888888,
              "#fdca26"
             ],
             [
              1,
              "#f0f921"
             ]
            ],
            "type": "histogram2dcontour"
           }
          ],
          "mesh3d": [
           {
            "colorbar": {
             "outlinewidth": 0,
             "ticks": ""
            },
            "type": "mesh3d"
           }
          ],
          "parcoords": [
           {
            "line": {
             "colorbar": {
              "outlinewidth": 0,
              "ticks": ""
             }
            },
            "type": "parcoords"
           }
          ],
          "pie": [
           {
            "automargin": true,
            "type": "pie"
           }
          ],
          "scatter": [
           {
            "marker": {
             "colorbar": {
              "outlinewidth": 0,
              "ticks": ""
             }
            },
            "type": "scatter"
           }
          ],
          "scatter3d": [
           {
            "line": {
             "colorbar": {
              "outlinewidth": 0,
              "ticks": ""
             }
            },
            "marker": {
             "colorbar": {
              "outlinewidth": 0,
              "ticks": ""
             }
            },
            "type": "scatter3d"
           }
          ],
          "scattercarpet": [
           {
            "marker": {
             "colorbar": {
              "outlinewidth": 0,
              "ticks": ""
             }
            },
            "type": "scattercarpet"
           }
          ],
          "scattergeo": [
           {
            "marker": {
             "colorbar": {
              "outlinewidth": 0,
              "ticks": ""
             }
            },
            "type": "scattergeo"
           }
          ],
          "scattergl": [
           {
            "marker": {
             "colorbar": {
              "outlinewidth": 0,
              "ticks": ""
             }
            },
            "type": "scattergl"
           }
          ],
          "scattermapbox": [
           {
            "marker": {
             "colorbar": {
              "outlinewidth": 0,
              "ticks": ""
             }
            },
            "type": "scattermapbox"
           }
          ],
          "scatterpolar": [
           {
            "marker": {
             "colorbar": {
              "outlinewidth": 0,
              "ticks": ""
             }
            },
            "type": "scatterpolar"
           }
          ],
          "scatterpolargl": [
           {
            "marker": {
             "colorbar": {
              "outlinewidth": 0,
              "ticks": ""
             }
            },
            "type": "scatterpolargl"
           }
          ],
          "scatterternary": [
           {
            "marker": {
             "colorbar": {
              "outlinewidth": 0,
              "ticks": ""
             }
            },
            "type": "scatterternary"
           }
          ],
          "surface": [
           {
            "colorbar": {
             "outlinewidth": 0,
             "ticks": ""
            },
            "colorscale": [
             [
              0,
              "#0d0887"
             ],
             [
              0.1111111111111111,
              "#46039f"
             ],
             [
              0.2222222222222222,
              "#7201a8"
             ],
             [
              0.3333333333333333,
              "#9c179e"
             ],
             [
              0.4444444444444444,
              "#bd3786"
             ],
             [
              0.5555555555555556,
              "#d8576b"
             ],
             [
              0.6666666666666666,
              "#ed7953"
             ],
             [
              0.7777777777777778,
              "#fb9f3a"
             ],
             [
              0.8888888888888888,
              "#fdca26"
             ],
             [
              1,
              "#f0f921"
             ]
            ],
            "type": "surface"
           }
          ],
          "table": [
           {
            "cells": {
             "fill": {
              "color": "#EBF0F8"
             },
             "line": {
              "color": "white"
             }
            },
            "header": {
             "fill": {
              "color": "#C8D4E3"
             },
             "line": {
              "color": "white"
             }
            },
            "type": "table"
           }
          ]
         },
         "layout": {
          "annotationdefaults": {
           "arrowcolor": "#2a3f5f",
           "arrowhead": 0,
           "arrowwidth": 1
          },
          "autotypenumbers": "strict",
          "coloraxis": {
           "colorbar": {
            "outlinewidth": 0,
            "ticks": ""
           }
          },
          "colorscale": {
           "diverging": [
            [
             0,
             "#8e0152"
            ],
            [
             0.1,
             "#c51b7d"
            ],
            [
             0.2,
             "#de77ae"
            ],
            [
             0.3,
             "#f1b6da"
            ],
            [
             0.4,
             "#fde0ef"
            ],
            [
             0.5,
             "#f7f7f7"
            ],
            [
             0.6,
             "#e6f5d0"
            ],
            [
             0.7,
             "#b8e186"
            ],
            [
             0.8,
             "#7fbc41"
            ],
            [
             0.9,
             "#4d9221"
            ],
            [
             1,
             "#276419"
            ]
           ],
           "sequential": [
            [
             0,
             "#0d0887"
            ],
            [
             0.1111111111111111,
             "#46039f"
            ],
            [
             0.2222222222222222,
             "#7201a8"
            ],
            [
             0.3333333333333333,
             "#9c179e"
            ],
            [
             0.4444444444444444,
             "#bd3786"
            ],
            [
             0.5555555555555556,
             "#d8576b"
            ],
            [
             0.6666666666666666,
             "#ed7953"
            ],
            [
             0.7777777777777778,
             "#fb9f3a"
            ],
            [
             0.8888888888888888,
             "#fdca26"
            ],
            [
             1,
             "#f0f921"
            ]
           ],
           "sequentialminus": [
            [
             0,
             "#0d0887"
            ],
            [
             0.1111111111111111,
             "#46039f"
            ],
            [
             0.2222222222222222,
             "#7201a8"
            ],
            [
             0.3333333333333333,
             "#9c179e"
            ],
            [
             0.4444444444444444,
             "#bd3786"
            ],
            [
             0.5555555555555556,
             "#d8576b"
            ],
            [
             0.6666666666666666,
             "#ed7953"
            ],
            [
             0.7777777777777778,
             "#fb9f3a"
            ],
            [
             0.8888888888888888,
             "#fdca26"
            ],
            [
             1,
             "#f0f921"
            ]
           ]
          },
          "colorway": [
           "#636efa",
           "#EF553B",
           "#00cc96",
           "#ab63fa",
           "#FFA15A",
           "#19d3f3",
           "#FF6692",
           "#B6E880",
           "#FF97FF",
           "#FECB52"
          ],
          "font": {
           "color": "#2a3f5f"
          },
          "geo": {
           "bgcolor": "white",
           "lakecolor": "white",
           "landcolor": "#E5ECF6",
           "showlakes": true,
           "showland": true,
           "subunitcolor": "white"
          },
          "hoverlabel": {
           "align": "left"
          },
          "hovermode": "closest",
          "mapbox": {
           "style": "light"
          },
          "paper_bgcolor": "white",
          "plot_bgcolor": "#E5ECF6",
          "polar": {
           "angularaxis": {
            "gridcolor": "white",
            "linecolor": "white",
            "ticks": ""
           },
           "bgcolor": "#E5ECF6",
           "radialaxis": {
            "gridcolor": "white",
            "linecolor": "white",
            "ticks": ""
           }
          },
          "scene": {
           "xaxis": {
            "backgroundcolor": "#E5ECF6",
            "gridcolor": "white",
            "gridwidth": 2,
            "linecolor": "white",
            "showbackground": true,
            "ticks": "",
            "zerolinecolor": "white"
           },
           "yaxis": {
            "backgroundcolor": "#E5ECF6",
            "gridcolor": "white",
            "gridwidth": 2,
            "linecolor": "white",
            "showbackground": true,
            "ticks": "",
            "zerolinecolor": "white"
           },
           "zaxis": {
            "backgroundcolor": "#E5ECF6",
            "gridcolor": "white",
            "gridwidth": 2,
            "linecolor": "white",
            "showbackground": true,
            "ticks": "",
            "zerolinecolor": "white"
           }
          },
          "shapedefaults": {
           "line": {
            "color": "#2a3f5f"
           }
          },
          "ternary": {
           "aaxis": {
            "gridcolor": "white",
            "linecolor": "white",
            "ticks": ""
           },
           "baxis": {
            "gridcolor": "white",
            "linecolor": "white",
            "ticks": ""
           },
           "bgcolor": "#E5ECF6",
           "caxis": {
            "gridcolor": "white",
            "linecolor": "white",
            "ticks": ""
           }
          },
          "title": {
           "x": 0.05
          },
          "xaxis": {
           "automargin": true,
           "gridcolor": "white",
           "linecolor": "white",
           "ticks": "",
           "title": {
            "standoff": 15
           },
           "zerolinecolor": "white",
           "zerolinewidth": 2
          },
          "yaxis": {
           "automargin": true,
           "gridcolor": "white",
           "linecolor": "white",
           "ticks": "",
           "title": {
            "standoff": 15
           },
           "zerolinecolor": "white",
           "zerolinewidth": 2
          }
         }
        },
        "title": {
         "text": "Revenue by Month"
        },
        "xaxis": {
         "anchor": "y",
         "domain": [
          0,
          1
         ],
         "title": {
          "text": "Invoice_YearMonth"
         }
        },
        "yaxis": {
         "anchor": "x",
         "domain": [
          0,
          1
         ],
         "title": {
          "text": "Revenue"
         }
        }
       }
      }
     },
     "metadata": {},
     "output_type": "display_data"
    }
   ],
   "source": [
    "df_Revenue_month['Invoice_YearMonth'] = df_Revenue_month['Invoice_YearMonth'].astype(str)\n",
    "fig = px.line(df_Revenue_month, x=\"Invoice_YearMonth\", y=\"Revenue\", title=\"Revenue by Month\",text = 'Revenue')\n",
    "fig.update_traces(textposition=\"top center\")\n",
    "fig.show()"
   ]
  },
  {
   "cell_type": "markdown",
   "metadata": {},
   "source": [
    "New & Existing Customer"
   ]
  },
  {
   "cell_type": "code",
   "execution_count": 108,
   "metadata": {},
   "outputs": [
    {
     "data": {
      "text/plain": [
       "(495478, 14)"
      ]
     },
     "execution_count": 108,
     "metadata": {},
     "output_type": "execute_result"
    }
   ],
   "source": [
    "df_uk.shape"
   ]
  },
  {
   "cell_type": "code",
   "execution_count": 109,
   "metadata": {},
   "outputs": [
    {
     "data": {
      "text/html": [
       "<div>\n",
       "<style scoped>\n",
       "    .dataframe tbody tr th:only-of-type {\n",
       "        vertical-align: middle;\n",
       "    }\n",
       "\n",
       "    .dataframe tbody tr th {\n",
       "        vertical-align: top;\n",
       "    }\n",
       "\n",
       "    .dataframe thead th {\n",
       "        text-align: right;\n",
       "    }\n",
       "</style>\n",
       "<table border=\"1\" class=\"dataframe\">\n",
       "  <thead>\n",
       "    <tr style=\"text-align: right;\">\n",
       "      <th></th>\n",
       "      <th>CustomerID</th>\n",
       "      <th>MinPurchaseYearMonth</th>\n",
       "    </tr>\n",
       "  </thead>\n",
       "  <tbody>\n",
       "    <tr>\n",
       "      <th>0</th>\n",
       "      <td>12346.0</td>\n",
       "      <td>201101</td>\n",
       "    </tr>\n",
       "    <tr>\n",
       "      <th>1</th>\n",
       "      <td>12747.0</td>\n",
       "      <td>201012</td>\n",
       "    </tr>\n",
       "    <tr>\n",
       "      <th>2</th>\n",
       "      <td>12748.0</td>\n",
       "      <td>201012</td>\n",
       "    </tr>\n",
       "    <tr>\n",
       "      <th>3</th>\n",
       "      <td>12749.0</td>\n",
       "      <td>201105</td>\n",
       "    </tr>\n",
       "    <tr>\n",
       "      <th>4</th>\n",
       "      <td>12820.0</td>\n",
       "      <td>201101</td>\n",
       "    </tr>\n",
       "    <tr>\n",
       "      <th>...</th>\n",
       "      <td>...</td>\n",
       "      <td>...</td>\n",
       "    </tr>\n",
       "    <tr>\n",
       "      <th>3945</th>\n",
       "      <td>18280.0</td>\n",
       "      <td>201103</td>\n",
       "    </tr>\n",
       "    <tr>\n",
       "      <th>3946</th>\n",
       "      <td>18281.0</td>\n",
       "      <td>201106</td>\n",
       "    </tr>\n",
       "    <tr>\n",
       "      <th>3947</th>\n",
       "      <td>18282.0</td>\n",
       "      <td>201108</td>\n",
       "    </tr>\n",
       "    <tr>\n",
       "      <th>3948</th>\n",
       "      <td>18283.0</td>\n",
       "      <td>201101</td>\n",
       "    </tr>\n",
       "    <tr>\n",
       "      <th>3949</th>\n",
       "      <td>18287.0</td>\n",
       "      <td>201105</td>\n",
       "    </tr>\n",
       "  </tbody>\n",
       "</table>\n",
       "<p>3950 rows × 2 columns</p>\n",
       "</div>"
      ],
      "text/plain": [
       "      CustomerID  MinPurchaseYearMonth\n",
       "0        12346.0                201101\n",
       "1        12747.0                201012\n",
       "2        12748.0                201012\n",
       "3        12749.0                201105\n",
       "4        12820.0                201101\n",
       "...          ...                   ...\n",
       "3945     18280.0                201103\n",
       "3946     18281.0                201106\n",
       "3947     18282.0                201108\n",
       "3948     18283.0                201101\n",
       "3949     18287.0                201105\n",
       "\n",
       "[3950 rows x 2 columns]"
      ]
     },
     "execution_count": 109,
     "metadata": {},
     "output_type": "execute_result"
    }
   ],
   "source": [
    "df_min_purchase=df_uk.groupby('CustomerID')['Invoice_YearMonth'].min().reset_index()\n",
    "df_min_purchase.columns=['CustomerID','MinPurchaseYearMonth']\n",
    "df_min_purchase"
   ]
  },
  {
   "cell_type": "code",
   "execution_count": 110,
   "metadata": {},
   "outputs": [
    {
     "data": {
      "text/html": [
       "<div>\n",
       "<style scoped>\n",
       "    .dataframe tbody tr th:only-of-type {\n",
       "        vertical-align: middle;\n",
       "    }\n",
       "\n",
       "    .dataframe tbody tr th {\n",
       "        vertical-align: top;\n",
       "    }\n",
       "\n",
       "    .dataframe thead th {\n",
       "        text-align: right;\n",
       "    }\n",
       "</style>\n",
       "<table border=\"1\" class=\"dataframe\">\n",
       "  <thead>\n",
       "    <tr style=\"text-align: right;\">\n",
       "      <th></th>\n",
       "      <th>InvoiceNo</th>\n",
       "      <th>StockCode</th>\n",
       "      <th>Description</th>\n",
       "      <th>Quantity</th>\n",
       "      <th>InvoiceDate</th>\n",
       "      <th>UnitPrice</th>\n",
       "      <th>CustomerID</th>\n",
       "      <th>Country</th>\n",
       "      <th>Invoice_year</th>\n",
       "      <th>Invoice_month</th>\n",
       "      <th>Invoice_date</th>\n",
       "      <th>Invoice_hour</th>\n",
       "      <th>Invoice_YearMonth</th>\n",
       "      <th>Revenue</th>\n",
       "      <th>MinPurchaseYearMonth</th>\n",
       "    </tr>\n",
       "  </thead>\n",
       "  <tbody>\n",
       "    <tr>\n",
       "      <th>0</th>\n",
       "      <td>536365</td>\n",
       "      <td>85123A</td>\n",
       "      <td>WHITE HANGING HEART T-LIGHT HOLDER</td>\n",
       "      <td>6</td>\n",
       "      <td>2010-12-01 08:26:00</td>\n",
       "      <td>2.55</td>\n",
       "      <td>17850.0</td>\n",
       "      <td>United Kingdom</td>\n",
       "      <td>2010</td>\n",
       "      <td>12</td>\n",
       "      <td>1</td>\n",
       "      <td>8</td>\n",
       "      <td>201012</td>\n",
       "      <td>15.30</td>\n",
       "      <td>201012.0</td>\n",
       "    </tr>\n",
       "    <tr>\n",
       "      <th>1</th>\n",
       "      <td>536365</td>\n",
       "      <td>71053</td>\n",
       "      <td>WHITE METAL LANTERN</td>\n",
       "      <td>6</td>\n",
       "      <td>2010-12-01 08:26:00</td>\n",
       "      <td>3.39</td>\n",
       "      <td>17850.0</td>\n",
       "      <td>United Kingdom</td>\n",
       "      <td>2010</td>\n",
       "      <td>12</td>\n",
       "      <td>1</td>\n",
       "      <td>8</td>\n",
       "      <td>201012</td>\n",
       "      <td>20.34</td>\n",
       "      <td>201012.0</td>\n",
       "    </tr>\n",
       "    <tr>\n",
       "      <th>2</th>\n",
       "      <td>536365</td>\n",
       "      <td>84406B</td>\n",
       "      <td>CREAM CUPID HEARTS COAT HANGER</td>\n",
       "      <td>8</td>\n",
       "      <td>2010-12-01 08:26:00</td>\n",
       "      <td>2.75</td>\n",
       "      <td>17850.0</td>\n",
       "      <td>United Kingdom</td>\n",
       "      <td>2010</td>\n",
       "      <td>12</td>\n",
       "      <td>1</td>\n",
       "      <td>8</td>\n",
       "      <td>201012</td>\n",
       "      <td>22.00</td>\n",
       "      <td>201012.0</td>\n",
       "    </tr>\n",
       "    <tr>\n",
       "      <th>3</th>\n",
       "      <td>536365</td>\n",
       "      <td>84029G</td>\n",
       "      <td>KNITTED UNION FLAG HOT WATER BOTTLE</td>\n",
       "      <td>6</td>\n",
       "      <td>2010-12-01 08:26:00</td>\n",
       "      <td>3.39</td>\n",
       "      <td>17850.0</td>\n",
       "      <td>United Kingdom</td>\n",
       "      <td>2010</td>\n",
       "      <td>12</td>\n",
       "      <td>1</td>\n",
       "      <td>8</td>\n",
       "      <td>201012</td>\n",
       "      <td>20.34</td>\n",
       "      <td>201012.0</td>\n",
       "    </tr>\n",
       "    <tr>\n",
       "      <th>4</th>\n",
       "      <td>536365</td>\n",
       "      <td>84029E</td>\n",
       "      <td>RED WOOLLY HOTTIE WHITE HEART.</td>\n",
       "      <td>6</td>\n",
       "      <td>2010-12-01 08:26:00</td>\n",
       "      <td>3.39</td>\n",
       "      <td>17850.0</td>\n",
       "      <td>United Kingdom</td>\n",
       "      <td>2010</td>\n",
       "      <td>12</td>\n",
       "      <td>1</td>\n",
       "      <td>8</td>\n",
       "      <td>201012</td>\n",
       "      <td>20.34</td>\n",
       "      <td>201012.0</td>\n",
       "    </tr>\n",
       "    <tr>\n",
       "      <th>...</th>\n",
       "      <td>...</td>\n",
       "      <td>...</td>\n",
       "      <td>...</td>\n",
       "      <td>...</td>\n",
       "      <td>...</td>\n",
       "      <td>...</td>\n",
       "      <td>...</td>\n",
       "      <td>...</td>\n",
       "      <td>...</td>\n",
       "      <td>...</td>\n",
       "      <td>...</td>\n",
       "      <td>...</td>\n",
       "      <td>...</td>\n",
       "      <td>...</td>\n",
       "      <td>...</td>\n",
       "    </tr>\n",
       "    <tr>\n",
       "      <th>495473</th>\n",
       "      <td>581585</td>\n",
       "      <td>22466</td>\n",
       "      <td>FAIRY TALE COTTAGE NIGHT LIGHT</td>\n",
       "      <td>12</td>\n",
       "      <td>2011-12-09 12:31:00</td>\n",
       "      <td>1.95</td>\n",
       "      <td>15804.0</td>\n",
       "      <td>United Kingdom</td>\n",
       "      <td>2011</td>\n",
       "      <td>12</td>\n",
       "      <td>9</td>\n",
       "      <td>12</td>\n",
       "      <td>201112</td>\n",
       "      <td>23.40</td>\n",
       "      <td>201105.0</td>\n",
       "    </tr>\n",
       "    <tr>\n",
       "      <th>495474</th>\n",
       "      <td>581586</td>\n",
       "      <td>22061</td>\n",
       "      <td>LARGE CAKE STAND  HANGING STRAWBERY</td>\n",
       "      <td>8</td>\n",
       "      <td>2011-12-09 12:49:00</td>\n",
       "      <td>2.95</td>\n",
       "      <td>13113.0</td>\n",
       "      <td>United Kingdom</td>\n",
       "      <td>2011</td>\n",
       "      <td>12</td>\n",
       "      <td>9</td>\n",
       "      <td>12</td>\n",
       "      <td>201112</td>\n",
       "      <td>23.60</td>\n",
       "      <td>201012.0</td>\n",
       "    </tr>\n",
       "    <tr>\n",
       "      <th>495475</th>\n",
       "      <td>581586</td>\n",
       "      <td>23275</td>\n",
       "      <td>SET OF 3 HANGING OWLS OLLIE BEAK</td>\n",
       "      <td>24</td>\n",
       "      <td>2011-12-09 12:49:00</td>\n",
       "      <td>1.25</td>\n",
       "      <td>13113.0</td>\n",
       "      <td>United Kingdom</td>\n",
       "      <td>2011</td>\n",
       "      <td>12</td>\n",
       "      <td>9</td>\n",
       "      <td>12</td>\n",
       "      <td>201112</td>\n",
       "      <td>30.00</td>\n",
       "      <td>201012.0</td>\n",
       "    </tr>\n",
       "    <tr>\n",
       "      <th>495476</th>\n",
       "      <td>581586</td>\n",
       "      <td>21217</td>\n",
       "      <td>RED RETROSPOT ROUND CAKE TINS</td>\n",
       "      <td>24</td>\n",
       "      <td>2011-12-09 12:49:00</td>\n",
       "      <td>8.95</td>\n",
       "      <td>13113.0</td>\n",
       "      <td>United Kingdom</td>\n",
       "      <td>2011</td>\n",
       "      <td>12</td>\n",
       "      <td>9</td>\n",
       "      <td>12</td>\n",
       "      <td>201112</td>\n",
       "      <td>214.80</td>\n",
       "      <td>201012.0</td>\n",
       "    </tr>\n",
       "    <tr>\n",
       "      <th>495477</th>\n",
       "      <td>581586</td>\n",
       "      <td>20685</td>\n",
       "      <td>DOORMAT RED RETROSPOT</td>\n",
       "      <td>10</td>\n",
       "      <td>2011-12-09 12:49:00</td>\n",
       "      <td>7.08</td>\n",
       "      <td>13113.0</td>\n",
       "      <td>United Kingdom</td>\n",
       "      <td>2011</td>\n",
       "      <td>12</td>\n",
       "      <td>9</td>\n",
       "      <td>12</td>\n",
       "      <td>201112</td>\n",
       "      <td>70.80</td>\n",
       "      <td>201012.0</td>\n",
       "    </tr>\n",
       "  </tbody>\n",
       "</table>\n",
       "<p>495478 rows × 15 columns</p>\n",
       "</div>"
      ],
      "text/plain": [
       "       InvoiceNo StockCode                          Description  Quantity  \\\n",
       "0         536365    85123A   WHITE HANGING HEART T-LIGHT HOLDER         6   \n",
       "1         536365     71053                  WHITE METAL LANTERN         6   \n",
       "2         536365    84406B       CREAM CUPID HEARTS COAT HANGER         8   \n",
       "3         536365    84029G  KNITTED UNION FLAG HOT WATER BOTTLE         6   \n",
       "4         536365    84029E       RED WOOLLY HOTTIE WHITE HEART.         6   \n",
       "...          ...       ...                                  ...       ...   \n",
       "495473    581585     22466       FAIRY TALE COTTAGE NIGHT LIGHT        12   \n",
       "495474    581586     22061  LARGE CAKE STAND  HANGING STRAWBERY         8   \n",
       "495475    581586     23275     SET OF 3 HANGING OWLS OLLIE BEAK        24   \n",
       "495476    581586     21217        RED RETROSPOT ROUND CAKE TINS        24   \n",
       "495477    581586     20685                DOORMAT RED RETROSPOT        10   \n",
       "\n",
       "               InvoiceDate  UnitPrice  CustomerID         Country  \\\n",
       "0      2010-12-01 08:26:00       2.55     17850.0  United Kingdom   \n",
       "1      2010-12-01 08:26:00       3.39     17850.0  United Kingdom   \n",
       "2      2010-12-01 08:26:00       2.75     17850.0  United Kingdom   \n",
       "3      2010-12-01 08:26:00       3.39     17850.0  United Kingdom   \n",
       "4      2010-12-01 08:26:00       3.39     17850.0  United Kingdom   \n",
       "...                    ...        ...         ...             ...   \n",
       "495473 2011-12-09 12:31:00       1.95     15804.0  United Kingdom   \n",
       "495474 2011-12-09 12:49:00       2.95     13113.0  United Kingdom   \n",
       "495475 2011-12-09 12:49:00       1.25     13113.0  United Kingdom   \n",
       "495476 2011-12-09 12:49:00       8.95     13113.0  United Kingdom   \n",
       "495477 2011-12-09 12:49:00       7.08     13113.0  United Kingdom   \n",
       "\n",
       "        Invoice_year  Invoice_month  Invoice_date  Invoice_hour  \\\n",
       "0               2010             12             1             8   \n",
       "1               2010             12             1             8   \n",
       "2               2010             12             1             8   \n",
       "3               2010             12             1             8   \n",
       "4               2010             12             1             8   \n",
       "...              ...            ...           ...           ...   \n",
       "495473          2011             12             9            12   \n",
       "495474          2011             12             9            12   \n",
       "495475          2011             12             9            12   \n",
       "495476          2011             12             9            12   \n",
       "495477          2011             12             9            12   \n",
       "\n",
       "        Invoice_YearMonth  Revenue  MinPurchaseYearMonth  \n",
       "0                  201012    15.30              201012.0  \n",
       "1                  201012    20.34              201012.0  \n",
       "2                  201012    22.00              201012.0  \n",
       "3                  201012    20.34              201012.0  \n",
       "4                  201012    20.34              201012.0  \n",
       "...                   ...      ...                   ...  \n",
       "495473             201112    23.40              201105.0  \n",
       "495474             201112    23.60              201012.0  \n",
       "495475             201112    30.00              201012.0  \n",
       "495476             201112   214.80              201012.0  \n",
       "495477             201112    70.80              201012.0  \n",
       "\n",
       "[495478 rows x 15 columns]"
      ]
     },
     "execution_count": 110,
     "metadata": {},
     "output_type": "execute_result"
    }
   ],
   "source": [
    "df_merge = df_uk.merge(df_min_purchase,on='CustomerID',how='left')\n",
    "df_merge"
   ]
  },
  {
   "cell_type": "code",
   "execution_count": 111,
   "metadata": {},
   "outputs": [],
   "source": [
    "df_merge['Customer_Type']='New'"
   ]
  },
  {
   "cell_type": "code",
   "execution_count": 112,
   "metadata": {},
   "outputs": [],
   "source": [
    "df_merge.loc[df_merge['MinPurchaseYearMonth']!= df_merge['Invoice_YearMonth'],'Customer_Type'] = 'Existing'"
   ]
  },
  {
   "cell_type": "code",
   "execution_count": 113,
   "metadata": {},
   "outputs": [
    {
     "data": {
      "text/html": [
       "<div>\n",
       "<style scoped>\n",
       "    .dataframe tbody tr th:only-of-type {\n",
       "        vertical-align: middle;\n",
       "    }\n",
       "\n",
       "    .dataframe tbody tr th {\n",
       "        vertical-align: top;\n",
       "    }\n",
       "\n",
       "    .dataframe thead th {\n",
       "        text-align: right;\n",
       "    }\n",
       "</style>\n",
       "<table border=\"1\" class=\"dataframe\">\n",
       "  <thead>\n",
       "    <tr style=\"text-align: right;\">\n",
       "      <th></th>\n",
       "      <th>InvoiceNo</th>\n",
       "      <th>StockCode</th>\n",
       "      <th>Description</th>\n",
       "      <th>Quantity</th>\n",
       "      <th>InvoiceDate</th>\n",
       "      <th>UnitPrice</th>\n",
       "      <th>CustomerID</th>\n",
       "      <th>Country</th>\n",
       "      <th>Invoice_year</th>\n",
       "      <th>Invoice_month</th>\n",
       "      <th>Invoice_date</th>\n",
       "      <th>Invoice_hour</th>\n",
       "      <th>Invoice_YearMonth</th>\n",
       "      <th>Revenue</th>\n",
       "      <th>MinPurchaseYearMonth</th>\n",
       "      <th>Customer_Type</th>\n",
       "    </tr>\n",
       "  </thead>\n",
       "  <tbody>\n",
       "    <tr>\n",
       "      <th>0</th>\n",
       "      <td>536365</td>\n",
       "      <td>85123A</td>\n",
       "      <td>WHITE HANGING HEART T-LIGHT HOLDER</td>\n",
       "      <td>6</td>\n",
       "      <td>2010-12-01 08:26:00</td>\n",
       "      <td>2.55</td>\n",
       "      <td>17850.0</td>\n",
       "      <td>United Kingdom</td>\n",
       "      <td>2010</td>\n",
       "      <td>12</td>\n",
       "      <td>1</td>\n",
       "      <td>8</td>\n",
       "      <td>201012</td>\n",
       "      <td>15.30</td>\n",
       "      <td>201012.0</td>\n",
       "      <td>New</td>\n",
       "    </tr>\n",
       "    <tr>\n",
       "      <th>1</th>\n",
       "      <td>536365</td>\n",
       "      <td>71053</td>\n",
       "      <td>WHITE METAL LANTERN</td>\n",
       "      <td>6</td>\n",
       "      <td>2010-12-01 08:26:00</td>\n",
       "      <td>3.39</td>\n",
       "      <td>17850.0</td>\n",
       "      <td>United Kingdom</td>\n",
       "      <td>2010</td>\n",
       "      <td>12</td>\n",
       "      <td>1</td>\n",
       "      <td>8</td>\n",
       "      <td>201012</td>\n",
       "      <td>20.34</td>\n",
       "      <td>201012.0</td>\n",
       "      <td>New</td>\n",
       "    </tr>\n",
       "    <tr>\n",
       "      <th>2</th>\n",
       "      <td>536365</td>\n",
       "      <td>84406B</td>\n",
       "      <td>CREAM CUPID HEARTS COAT HANGER</td>\n",
       "      <td>8</td>\n",
       "      <td>2010-12-01 08:26:00</td>\n",
       "      <td>2.75</td>\n",
       "      <td>17850.0</td>\n",
       "      <td>United Kingdom</td>\n",
       "      <td>2010</td>\n",
       "      <td>12</td>\n",
       "      <td>1</td>\n",
       "      <td>8</td>\n",
       "      <td>201012</td>\n",
       "      <td>22.00</td>\n",
       "      <td>201012.0</td>\n",
       "      <td>New</td>\n",
       "    </tr>\n",
       "    <tr>\n",
       "      <th>3</th>\n",
       "      <td>536365</td>\n",
       "      <td>84029G</td>\n",
       "      <td>KNITTED UNION FLAG HOT WATER BOTTLE</td>\n",
       "      <td>6</td>\n",
       "      <td>2010-12-01 08:26:00</td>\n",
       "      <td>3.39</td>\n",
       "      <td>17850.0</td>\n",
       "      <td>United Kingdom</td>\n",
       "      <td>2010</td>\n",
       "      <td>12</td>\n",
       "      <td>1</td>\n",
       "      <td>8</td>\n",
       "      <td>201012</td>\n",
       "      <td>20.34</td>\n",
       "      <td>201012.0</td>\n",
       "      <td>New</td>\n",
       "    </tr>\n",
       "    <tr>\n",
       "      <th>4</th>\n",
       "      <td>536365</td>\n",
       "      <td>84029E</td>\n",
       "      <td>RED WOOLLY HOTTIE WHITE HEART.</td>\n",
       "      <td>6</td>\n",
       "      <td>2010-12-01 08:26:00</td>\n",
       "      <td>3.39</td>\n",
       "      <td>17850.0</td>\n",
       "      <td>United Kingdom</td>\n",
       "      <td>2010</td>\n",
       "      <td>12</td>\n",
       "      <td>1</td>\n",
       "      <td>8</td>\n",
       "      <td>201012</td>\n",
       "      <td>20.34</td>\n",
       "      <td>201012.0</td>\n",
       "      <td>New</td>\n",
       "    </tr>\n",
       "    <tr>\n",
       "      <th>...</th>\n",
       "      <td>...</td>\n",
       "      <td>...</td>\n",
       "      <td>...</td>\n",
       "      <td>...</td>\n",
       "      <td>...</td>\n",
       "      <td>...</td>\n",
       "      <td>...</td>\n",
       "      <td>...</td>\n",
       "      <td>...</td>\n",
       "      <td>...</td>\n",
       "      <td>...</td>\n",
       "      <td>...</td>\n",
       "      <td>...</td>\n",
       "      <td>...</td>\n",
       "      <td>...</td>\n",
       "      <td>...</td>\n",
       "    </tr>\n",
       "    <tr>\n",
       "      <th>495473</th>\n",
       "      <td>581585</td>\n",
       "      <td>22466</td>\n",
       "      <td>FAIRY TALE COTTAGE NIGHT LIGHT</td>\n",
       "      <td>12</td>\n",
       "      <td>2011-12-09 12:31:00</td>\n",
       "      <td>1.95</td>\n",
       "      <td>15804.0</td>\n",
       "      <td>United Kingdom</td>\n",
       "      <td>2011</td>\n",
       "      <td>12</td>\n",
       "      <td>9</td>\n",
       "      <td>12</td>\n",
       "      <td>201112</td>\n",
       "      <td>23.40</td>\n",
       "      <td>201105.0</td>\n",
       "      <td>Existing</td>\n",
       "    </tr>\n",
       "    <tr>\n",
       "      <th>495474</th>\n",
       "      <td>581586</td>\n",
       "      <td>22061</td>\n",
       "      <td>LARGE CAKE STAND  HANGING STRAWBERY</td>\n",
       "      <td>8</td>\n",
       "      <td>2011-12-09 12:49:00</td>\n",
       "      <td>2.95</td>\n",
       "      <td>13113.0</td>\n",
       "      <td>United Kingdom</td>\n",
       "      <td>2011</td>\n",
       "      <td>12</td>\n",
       "      <td>9</td>\n",
       "      <td>12</td>\n",
       "      <td>201112</td>\n",
       "      <td>23.60</td>\n",
       "      <td>201012.0</td>\n",
       "      <td>Existing</td>\n",
       "    </tr>\n",
       "    <tr>\n",
       "      <th>495475</th>\n",
       "      <td>581586</td>\n",
       "      <td>23275</td>\n",
       "      <td>SET OF 3 HANGING OWLS OLLIE BEAK</td>\n",
       "      <td>24</td>\n",
       "      <td>2011-12-09 12:49:00</td>\n",
       "      <td>1.25</td>\n",
       "      <td>13113.0</td>\n",
       "      <td>United Kingdom</td>\n",
       "      <td>2011</td>\n",
       "      <td>12</td>\n",
       "      <td>9</td>\n",
       "      <td>12</td>\n",
       "      <td>201112</td>\n",
       "      <td>30.00</td>\n",
       "      <td>201012.0</td>\n",
       "      <td>Existing</td>\n",
       "    </tr>\n",
       "    <tr>\n",
       "      <th>495476</th>\n",
       "      <td>581586</td>\n",
       "      <td>21217</td>\n",
       "      <td>RED RETROSPOT ROUND CAKE TINS</td>\n",
       "      <td>24</td>\n",
       "      <td>2011-12-09 12:49:00</td>\n",
       "      <td>8.95</td>\n",
       "      <td>13113.0</td>\n",
       "      <td>United Kingdom</td>\n",
       "      <td>2011</td>\n",
       "      <td>12</td>\n",
       "      <td>9</td>\n",
       "      <td>12</td>\n",
       "      <td>201112</td>\n",
       "      <td>214.80</td>\n",
       "      <td>201012.0</td>\n",
       "      <td>Existing</td>\n",
       "    </tr>\n",
       "    <tr>\n",
       "      <th>495477</th>\n",
       "      <td>581586</td>\n",
       "      <td>20685</td>\n",
       "      <td>DOORMAT RED RETROSPOT</td>\n",
       "      <td>10</td>\n",
       "      <td>2011-12-09 12:49:00</td>\n",
       "      <td>7.08</td>\n",
       "      <td>13113.0</td>\n",
       "      <td>United Kingdom</td>\n",
       "      <td>2011</td>\n",
       "      <td>12</td>\n",
       "      <td>9</td>\n",
       "      <td>12</td>\n",
       "      <td>201112</td>\n",
       "      <td>70.80</td>\n",
       "      <td>201012.0</td>\n",
       "      <td>Existing</td>\n",
       "    </tr>\n",
       "  </tbody>\n",
       "</table>\n",
       "<p>495478 rows × 16 columns</p>\n",
       "</div>"
      ],
      "text/plain": [
       "       InvoiceNo StockCode                          Description  Quantity  \\\n",
       "0         536365    85123A   WHITE HANGING HEART T-LIGHT HOLDER         6   \n",
       "1         536365     71053                  WHITE METAL LANTERN         6   \n",
       "2         536365    84406B       CREAM CUPID HEARTS COAT HANGER         8   \n",
       "3         536365    84029G  KNITTED UNION FLAG HOT WATER BOTTLE         6   \n",
       "4         536365    84029E       RED WOOLLY HOTTIE WHITE HEART.         6   \n",
       "...          ...       ...                                  ...       ...   \n",
       "495473    581585     22466       FAIRY TALE COTTAGE NIGHT LIGHT        12   \n",
       "495474    581586     22061  LARGE CAKE STAND  HANGING STRAWBERY         8   \n",
       "495475    581586     23275     SET OF 3 HANGING OWLS OLLIE BEAK        24   \n",
       "495476    581586     21217        RED RETROSPOT ROUND CAKE TINS        24   \n",
       "495477    581586     20685                DOORMAT RED RETROSPOT        10   \n",
       "\n",
       "               InvoiceDate  UnitPrice  CustomerID         Country  \\\n",
       "0      2010-12-01 08:26:00       2.55     17850.0  United Kingdom   \n",
       "1      2010-12-01 08:26:00       3.39     17850.0  United Kingdom   \n",
       "2      2010-12-01 08:26:00       2.75     17850.0  United Kingdom   \n",
       "3      2010-12-01 08:26:00       3.39     17850.0  United Kingdom   \n",
       "4      2010-12-01 08:26:00       3.39     17850.0  United Kingdom   \n",
       "...                    ...        ...         ...             ...   \n",
       "495473 2011-12-09 12:31:00       1.95     15804.0  United Kingdom   \n",
       "495474 2011-12-09 12:49:00       2.95     13113.0  United Kingdom   \n",
       "495475 2011-12-09 12:49:00       1.25     13113.0  United Kingdom   \n",
       "495476 2011-12-09 12:49:00       8.95     13113.0  United Kingdom   \n",
       "495477 2011-12-09 12:49:00       7.08     13113.0  United Kingdom   \n",
       "\n",
       "        Invoice_year  Invoice_month  Invoice_date  Invoice_hour  \\\n",
       "0               2010             12             1             8   \n",
       "1               2010             12             1             8   \n",
       "2               2010             12             1             8   \n",
       "3               2010             12             1             8   \n",
       "4               2010             12             1             8   \n",
       "...              ...            ...           ...           ...   \n",
       "495473          2011             12             9            12   \n",
       "495474          2011             12             9            12   \n",
       "495475          2011             12             9            12   \n",
       "495476          2011             12             9            12   \n",
       "495477          2011             12             9            12   \n",
       "\n",
       "        Invoice_YearMonth  Revenue  MinPurchaseYearMonth Customer_Type  \n",
       "0                  201012    15.30              201012.0           New  \n",
       "1                  201012    20.34              201012.0           New  \n",
       "2                  201012    22.00              201012.0           New  \n",
       "3                  201012    20.34              201012.0           New  \n",
       "4                  201012    20.34              201012.0           New  \n",
       "...                   ...      ...                   ...           ...  \n",
       "495473             201112    23.40              201105.0      Existing  \n",
       "495474             201112    23.60              201012.0      Existing  \n",
       "495475             201112    30.00              201012.0      Existing  \n",
       "495476             201112   214.80              201012.0      Existing  \n",
       "495477             201112    70.80              201012.0      Existing  \n",
       "\n",
       "[495478 rows x 16 columns]"
      ]
     },
     "execution_count": 113,
     "metadata": {},
     "output_type": "execute_result"
    }
   ],
   "source": [
    "df_merge"
   ]
  },
  {
   "cell_type": "code",
   "execution_count": 114,
   "metadata": {},
   "outputs": [
    {
     "data": {
      "text/plain": [
       "Existing    389714\n",
       "New         105764\n",
       "Name: Customer_Type, dtype: int64"
      ]
     },
     "execution_count": 114,
     "metadata": {},
     "output_type": "execute_result"
    }
   ],
   "source": [
    "df_merge['Customer_Type'].value_counts()"
   ]
  },
  {
   "cell_type": "code",
   "execution_count": 115,
   "metadata": {},
   "outputs": [
    {
     "data": {
      "text/html": [
       "<div>\n",
       "<style scoped>\n",
       "    .dataframe tbody tr th:only-of-type {\n",
       "        vertical-align: middle;\n",
       "    }\n",
       "\n",
       "    .dataframe tbody tr th {\n",
       "        vertical-align: top;\n",
       "    }\n",
       "\n",
       "    .dataframe thead th {\n",
       "        text-align: right;\n",
       "    }\n",
       "</style>\n",
       "<table border=\"1\" class=\"dataframe\">\n",
       "  <thead>\n",
       "    <tr style=\"text-align: right;\">\n",
       "      <th></th>\n",
       "      <th>Invoice_YearMonth</th>\n",
       "      <th>Customer_Type</th>\n",
       "      <th>Revenue</th>\n",
       "    </tr>\n",
       "  </thead>\n",
       "  <tbody>\n",
       "    <tr>\n",
       "      <th>0</th>\n",
       "      <td>201012</td>\n",
       "      <td>Existing</td>\n",
       "      <td>192942.880</td>\n",
       "    </tr>\n",
       "    <tr>\n",
       "      <th>1</th>\n",
       "      <td>201012</td>\n",
       "      <td>New</td>\n",
       "      <td>483799.740</td>\n",
       "    </tr>\n",
       "    <tr>\n",
       "      <th>2</th>\n",
       "      <td>201101</td>\n",
       "      <td>Existing</td>\n",
       "      <td>277602.530</td>\n",
       "    </tr>\n",
       "    <tr>\n",
       "      <th>3</th>\n",
       "      <td>201101</td>\n",
       "      <td>New</td>\n",
       "      <td>156705.770</td>\n",
       "    </tr>\n",
       "    <tr>\n",
       "      <th>4</th>\n",
       "      <td>201102</td>\n",
       "      <td>Existing</td>\n",
       "      <td>280388.910</td>\n",
       "    </tr>\n",
       "    <tr>\n",
       "      <th>5</th>\n",
       "      <td>201102</td>\n",
       "      <td>New</td>\n",
       "      <td>127859.000</td>\n",
       "    </tr>\n",
       "    <tr>\n",
       "      <th>6</th>\n",
       "      <td>201103</td>\n",
       "      <td>Existing</td>\n",
       "      <td>399139.550</td>\n",
       "    </tr>\n",
       "    <tr>\n",
       "      <th>7</th>\n",
       "      <td>201103</td>\n",
       "      <td>New</td>\n",
       "      <td>160567.840</td>\n",
       "    </tr>\n",
       "    <tr>\n",
       "      <th>8</th>\n",
       "      <td>201104</td>\n",
       "      <td>Existing</td>\n",
       "      <td>333736.290</td>\n",
       "    </tr>\n",
       "    <tr>\n",
       "      <th>9</th>\n",
       "      <td>201104</td>\n",
       "      <td>New</td>\n",
       "      <td>108517.751</td>\n",
       "    </tr>\n",
       "    <tr>\n",
       "      <th>10</th>\n",
       "      <td>201105</td>\n",
       "      <td>Existing</td>\n",
       "      <td>505612.370</td>\n",
       "    </tr>\n",
       "    <tr>\n",
       "      <th>11</th>\n",
       "      <td>201105</td>\n",
       "      <td>New</td>\n",
       "      <td>90847.490</td>\n",
       "    </tr>\n",
       "    <tr>\n",
       "      <th>12</th>\n",
       "      <td>201106</td>\n",
       "      <td>Existing</td>\n",
       "      <td>489999.160</td>\n",
       "    </tr>\n",
       "    <tr>\n",
       "      <th>13</th>\n",
       "      <td>201106</td>\n",
       "      <td>New</td>\n",
       "      <td>64479.190</td>\n",
       "    </tr>\n",
       "    <tr>\n",
       "      <th>14</th>\n",
       "      <td>201107</td>\n",
       "      <td>Existing</td>\n",
       "      <td>512025.850</td>\n",
       "    </tr>\n",
       "    <tr>\n",
       "      <th>15</th>\n",
       "      <td>201107</td>\n",
       "      <td>New</td>\n",
       "      <td>53453.991</td>\n",
       "    </tr>\n",
       "    <tr>\n",
       "      <th>16</th>\n",
       "      <td>201108</td>\n",
       "      <td>Existing</td>\n",
       "      <td>483511.020</td>\n",
       "    </tr>\n",
       "    <tr>\n",
       "      <th>17</th>\n",
       "      <td>201108</td>\n",
       "      <td>New</td>\n",
       "      <td>55619.480</td>\n",
       "    </tr>\n",
       "    <tr>\n",
       "      <th>18</th>\n",
       "      <td>201109</td>\n",
       "      <td>Existing</td>\n",
       "      <td>726350.211</td>\n",
       "    </tr>\n",
       "    <tr>\n",
       "      <th>19</th>\n",
       "      <td>201109</td>\n",
       "      <td>New</td>\n",
       "      <td>135667.941</td>\n",
       "    </tr>\n",
       "    <tr>\n",
       "      <th>20</th>\n",
       "      <td>201110</td>\n",
       "      <td>Existing</td>\n",
       "      <td>743497.910</td>\n",
       "    </tr>\n",
       "    <tr>\n",
       "      <th>21</th>\n",
       "      <td>201110</td>\n",
       "      <td>New</td>\n",
       "      <td>133940.280</td>\n",
       "    </tr>\n",
       "    <tr>\n",
       "      <th>22</th>\n",
       "      <td>201111</td>\n",
       "      <td>Existing</td>\n",
       "      <td>1165652.030</td>\n",
       "    </tr>\n",
       "    <tr>\n",
       "      <th>23</th>\n",
       "      <td>201111</td>\n",
       "      <td>New</td>\n",
       "      <td>117153.750</td>\n",
       "    </tr>\n",
       "    <tr>\n",
       "      <th>24</th>\n",
       "      <td>201112</td>\n",
       "      <td>Existing</td>\n",
       "      <td>364287.620</td>\n",
       "    </tr>\n",
       "    <tr>\n",
       "      <th>25</th>\n",
       "      <td>201112</td>\n",
       "      <td>New</td>\n",
       "      <td>24447.810</td>\n",
       "    </tr>\n",
       "  </tbody>\n",
       "</table>\n",
       "</div>"
      ],
      "text/plain": [
       "    Invoice_YearMonth Customer_Type      Revenue\n",
       "0              201012      Existing   192942.880\n",
       "1              201012           New   483799.740\n",
       "2              201101      Existing   277602.530\n",
       "3              201101           New   156705.770\n",
       "4              201102      Existing   280388.910\n",
       "5              201102           New   127859.000\n",
       "6              201103      Existing   399139.550\n",
       "7              201103           New   160567.840\n",
       "8              201104      Existing   333736.290\n",
       "9              201104           New   108517.751\n",
       "10             201105      Existing   505612.370\n",
       "11             201105           New    90847.490\n",
       "12             201106      Existing   489999.160\n",
       "13             201106           New    64479.190\n",
       "14             201107      Existing   512025.850\n",
       "15             201107           New    53453.991\n",
       "16             201108      Existing   483511.020\n",
       "17             201108           New    55619.480\n",
       "18             201109      Existing   726350.211\n",
       "19             201109           New   135667.941\n",
       "20             201110      Existing   743497.910\n",
       "21             201110           New   133940.280\n",
       "22             201111      Existing  1165652.030\n",
       "23             201111           New   117153.750\n",
       "24             201112      Existing   364287.620\n",
       "25             201112           New    24447.810"
      ]
     },
     "execution_count": 115,
     "metadata": {},
     "output_type": "execute_result"
    }
   ],
   "source": [
    "df_merge1=df_merge.groupby(['Invoice_YearMonth','Customer_Type'])['Revenue'].sum().reset_index()\n",
    "df_merge1"
   ]
  },
  {
   "cell_type": "code",
   "execution_count": 116,
   "metadata": {},
   "outputs": [
    {
     "data": {
      "application/vnd.plotly.v1+json": {
       "config": {
        "plotlyServerURL": "https://plot.ly"
       },
       "data": [
        {
         "alignmentgroup": "True",
         "hovertemplate": "Customer_Type=Existing<br>Invoice_YearMonth=%{x}<br>Revenue=%{text}<extra></extra>",
         "legendgroup": "Existing",
         "marker": {
          "color": "#636efa",
          "pattern": {
           "shape": ""
          }
         },
         "name": "Existing",
         "offsetgroup": "Existing",
         "orientation": "v",
         "showlegend": true,
         "text": [
          192942.88,
          277602.53,
          280388.91,
          399139.55,
          333736.29,
          505612.37,
          489999.16,
          512025.85,
          483511.02,
          726350.211,
          743497.91,
          1165652.03,
          364287.62
         ],
         "textposition": "inside",
         "type": "bar",
         "x": [
          "201012",
          "201101",
          "201102",
          "201103",
          "201104",
          "201105",
          "201106",
          "201107",
          "201108",
          "201109",
          "201110",
          "201111",
          "201112"
         ],
         "xaxis": "x",
         "y": [
          192942.88,
          277602.53,
          280388.91,
          399139.55,
          333736.29,
          505612.37,
          489999.16,
          512025.85,
          483511.02,
          726350.211,
          743497.91,
          1165652.03,
          364287.62
         ],
         "yaxis": "y"
        },
        {
         "alignmentgroup": "True",
         "hovertemplate": "Customer_Type=New<br>Invoice_YearMonth=%{x}<br>Revenue=%{text}<extra></extra>",
         "legendgroup": "New",
         "marker": {
          "color": "#EF553B",
          "pattern": {
           "shape": ""
          }
         },
         "name": "New",
         "offsetgroup": "New",
         "orientation": "v",
         "showlegend": true,
         "text": [
          483799.74,
          156705.77,
          127859,
          160567.84,
          108517.751,
          90847.49,
          64479.19,
          53453.991,
          55619.48,
          135667.941,
          133940.28,
          117153.75,
          24447.81
         ],
         "textposition": "inside",
         "type": "bar",
         "x": [
          "201012",
          "201101",
          "201102",
          "201103",
          "201104",
          "201105",
          "201106",
          "201107",
          "201108",
          "201109",
          "201110",
          "201111",
          "201112"
         ],
         "xaxis": "x",
         "y": [
          483799.74,
          156705.77,
          127859,
          160567.84,
          108517.751,
          90847.49,
          64479.19,
          53453.991,
          55619.48,
          135667.941,
          133940.28,
          117153.75,
          24447.81
         ],
         "yaxis": "y"
        }
       ],
       "layout": {
        "barmode": "relative",
        "legend": {
         "title": {
          "text": "Customer_Type"
         },
         "tracegroupgap": 0
        },
        "template": {
         "data": {
          "bar": [
           {
            "error_x": {
             "color": "#2a3f5f"
            },
            "error_y": {
             "color": "#2a3f5f"
            },
            "marker": {
             "line": {
              "color": "#E5ECF6",
              "width": 0.5
             },
             "pattern": {
              "fillmode": "overlay",
              "size": 10,
              "solidity": 0.2
             }
            },
            "type": "bar"
           }
          ],
          "barpolar": [
           {
            "marker": {
             "line": {
              "color": "#E5ECF6",
              "width": 0.5
             },
             "pattern": {
              "fillmode": "overlay",
              "size": 10,
              "solidity": 0.2
             }
            },
            "type": "barpolar"
           }
          ],
          "carpet": [
           {
            "aaxis": {
             "endlinecolor": "#2a3f5f",
             "gridcolor": "white",
             "linecolor": "white",
             "minorgridcolor": "white",
             "startlinecolor": "#2a3f5f"
            },
            "baxis": {
             "endlinecolor": "#2a3f5f",
             "gridcolor": "white",
             "linecolor": "white",
             "minorgridcolor": "white",
             "startlinecolor": "#2a3f5f"
            },
            "type": "carpet"
           }
          ],
          "choropleth": [
           {
            "colorbar": {
             "outlinewidth": 0,
             "ticks": ""
            },
            "type": "choropleth"
           }
          ],
          "contour": [
           {
            "colorbar": {
             "outlinewidth": 0,
             "ticks": ""
            },
            "colorscale": [
             [
              0,
              "#0d0887"
             ],
             [
              0.1111111111111111,
              "#46039f"
             ],
             [
              0.2222222222222222,
              "#7201a8"
             ],
             [
              0.3333333333333333,
              "#9c179e"
             ],
             [
              0.4444444444444444,
              "#bd3786"
             ],
             [
              0.5555555555555556,
              "#d8576b"
             ],
             [
              0.6666666666666666,
              "#ed7953"
             ],
             [
              0.7777777777777778,
              "#fb9f3a"
             ],
             [
              0.8888888888888888,
              "#fdca26"
             ],
             [
              1,
              "#f0f921"
             ]
            ],
            "type": "contour"
           }
          ],
          "contourcarpet": [
           {
            "colorbar": {
             "outlinewidth": 0,
             "ticks": ""
            },
            "type": "contourcarpet"
           }
          ],
          "heatmap": [
           {
            "colorbar": {
             "outlinewidth": 0,
             "ticks": ""
            },
            "colorscale": [
             [
              0,
              "#0d0887"
             ],
             [
              0.1111111111111111,
              "#46039f"
             ],
             [
              0.2222222222222222,
              "#7201a8"
             ],
             [
              0.3333333333333333,
              "#9c179e"
             ],
             [
              0.4444444444444444,
              "#bd3786"
             ],
             [
              0.5555555555555556,
              "#d8576b"
             ],
             [
              0.6666666666666666,
              "#ed7953"
             ],
             [
              0.7777777777777778,
              "#fb9f3a"
             ],
             [
              0.8888888888888888,
              "#fdca26"
             ],
             [
              1,
              "#f0f921"
             ]
            ],
            "type": "heatmap"
           }
          ],
          "heatmapgl": [
           {
            "colorbar": {
             "outlinewidth": 0,
             "ticks": ""
            },
            "colorscale": [
             [
              0,
              "#0d0887"
             ],
             [
              0.1111111111111111,
              "#46039f"
             ],
             [
              0.2222222222222222,
              "#7201a8"
             ],
             [
              0.3333333333333333,
              "#9c179e"
             ],
             [
              0.4444444444444444,
              "#bd3786"
             ],
             [
              0.5555555555555556,
              "#d8576b"
             ],
             [
              0.6666666666666666,
              "#ed7953"
             ],
             [
              0.7777777777777778,
              "#fb9f3a"
             ],
             [
              0.8888888888888888,
              "#fdca26"
             ],
             [
              1,
              "#f0f921"
             ]
            ],
            "type": "heatmapgl"
           }
          ],
          "histogram": [
           {
            "marker": {
             "pattern": {
              "fillmode": "overlay",
              "size": 10,
              "solidity": 0.2
             }
            },
            "type": "histogram"
           }
          ],
          "histogram2d": [
           {
            "colorbar": {
             "outlinewidth": 0,
             "ticks": ""
            },
            "colorscale": [
             [
              0,
              "#0d0887"
             ],
             [
              0.1111111111111111,
              "#46039f"
             ],
             [
              0.2222222222222222,
              "#7201a8"
             ],
             [
              0.3333333333333333,
              "#9c179e"
             ],
             [
              0.4444444444444444,
              "#bd3786"
             ],
             [
              0.5555555555555556,
              "#d8576b"
             ],
             [
              0.6666666666666666,
              "#ed7953"
             ],
             [
              0.7777777777777778,
              "#fb9f3a"
             ],
             [
              0.8888888888888888,
              "#fdca26"
             ],
             [
              1,
              "#f0f921"
             ]
            ],
            "type": "histogram2d"
           }
          ],
          "histogram2dcontour": [
           {
            "colorbar": {
             "outlinewidth": 0,
             "ticks": ""
            },
            "colorscale": [
             [
              0,
              "#0d0887"
             ],
             [
              0.1111111111111111,
              "#46039f"
             ],
             [
              0.2222222222222222,
              "#7201a8"
             ],
             [
              0.3333333333333333,
              "#9c179e"
             ],
             [
              0.4444444444444444,
              "#bd3786"
             ],
             [
              0.5555555555555556,
              "#d8576b"
             ],
             [
              0.6666666666666666,
              "#ed7953"
             ],
             [
              0.7777777777777778,
              "#fb9f3a"
             ],
             [
              0.8888888888888888,
              "#fdca26"
             ],
             [
              1,
              "#f0f921"
             ]
            ],
            "type": "histogram2dcontour"
           }
          ],
          "mesh3d": [
           {
            "colorbar": {
             "outlinewidth": 0,
             "ticks": ""
            },
            "type": "mesh3d"
           }
          ],
          "parcoords": [
           {
            "line": {
             "colorbar": {
              "outlinewidth": 0,
              "ticks": ""
             }
            },
            "type": "parcoords"
           }
          ],
          "pie": [
           {
            "automargin": true,
            "type": "pie"
           }
          ],
          "scatter": [
           {
            "marker": {
             "colorbar": {
              "outlinewidth": 0,
              "ticks": ""
             }
            },
            "type": "scatter"
           }
          ],
          "scatter3d": [
           {
            "line": {
             "colorbar": {
              "outlinewidth": 0,
              "ticks": ""
             }
            },
            "marker": {
             "colorbar": {
              "outlinewidth": 0,
              "ticks": ""
             }
            },
            "type": "scatter3d"
           }
          ],
          "scattercarpet": [
           {
            "marker": {
             "colorbar": {
              "outlinewidth": 0,
              "ticks": ""
             }
            },
            "type": "scattercarpet"
           }
          ],
          "scattergeo": [
           {
            "marker": {
             "colorbar": {
              "outlinewidth": 0,
              "ticks": ""
             }
            },
            "type": "scattergeo"
           }
          ],
          "scattergl": [
           {
            "marker": {
             "colorbar": {
              "outlinewidth": 0,
              "ticks": ""
             }
            },
            "type": "scattergl"
           }
          ],
          "scattermapbox": [
           {
            "marker": {
             "colorbar": {
              "outlinewidth": 0,
              "ticks": ""
             }
            },
            "type": "scattermapbox"
           }
          ],
          "scatterpolar": [
           {
            "marker": {
             "colorbar": {
              "outlinewidth": 0,
              "ticks": ""
             }
            },
            "type": "scatterpolar"
           }
          ],
          "scatterpolargl": [
           {
            "marker": {
             "colorbar": {
              "outlinewidth": 0,
              "ticks": ""
             }
            },
            "type": "scatterpolargl"
           }
          ],
          "scatterternary": [
           {
            "marker": {
             "colorbar": {
              "outlinewidth": 0,
              "ticks": ""
             }
            },
            "type": "scatterternary"
           }
          ],
          "surface": [
           {
            "colorbar": {
             "outlinewidth": 0,
             "ticks": ""
            },
            "colorscale": [
             [
              0,
              "#0d0887"
             ],
             [
              0.1111111111111111,
              "#46039f"
             ],
             [
              0.2222222222222222,
              "#7201a8"
             ],
             [
              0.3333333333333333,
              "#9c179e"
             ],
             [
              0.4444444444444444,
              "#bd3786"
             ],
             [
              0.5555555555555556,
              "#d8576b"
             ],
             [
              0.6666666666666666,
              "#ed7953"
             ],
             [
              0.7777777777777778,
              "#fb9f3a"
             ],
             [
              0.8888888888888888,
              "#fdca26"
             ],
             [
              1,
              "#f0f921"
             ]
            ],
            "type": "surface"
           }
          ],
          "table": [
           {
            "cells": {
             "fill": {
              "color": "#EBF0F8"
             },
             "line": {
              "color": "white"
             }
            },
            "header": {
             "fill": {
              "color": "#C8D4E3"
             },
             "line": {
              "color": "white"
             }
            },
            "type": "table"
           }
          ]
         },
         "layout": {
          "annotationdefaults": {
           "arrowcolor": "#2a3f5f",
           "arrowhead": 0,
           "arrowwidth": 1
          },
          "autotypenumbers": "strict",
          "coloraxis": {
           "colorbar": {
            "outlinewidth": 0,
            "ticks": ""
           }
          },
          "colorscale": {
           "diverging": [
            [
             0,
             "#8e0152"
            ],
            [
             0.1,
             "#c51b7d"
            ],
            [
             0.2,
             "#de77ae"
            ],
            [
             0.3,
             "#f1b6da"
            ],
            [
             0.4,
             "#fde0ef"
            ],
            [
             0.5,
             "#f7f7f7"
            ],
            [
             0.6,
             "#e6f5d0"
            ],
            [
             0.7,
             "#b8e186"
            ],
            [
             0.8,
             "#7fbc41"
            ],
            [
             0.9,
             "#4d9221"
            ],
            [
             1,
             "#276419"
            ]
           ],
           "sequential": [
            [
             0,
             "#0d0887"
            ],
            [
             0.1111111111111111,
             "#46039f"
            ],
            [
             0.2222222222222222,
             "#7201a8"
            ],
            [
             0.3333333333333333,
             "#9c179e"
            ],
            [
             0.4444444444444444,
             "#bd3786"
            ],
            [
             0.5555555555555556,
             "#d8576b"
            ],
            [
             0.6666666666666666,
             "#ed7953"
            ],
            [
             0.7777777777777778,
             "#fb9f3a"
            ],
            [
             0.8888888888888888,
             "#fdca26"
            ],
            [
             1,
             "#f0f921"
            ]
           ],
           "sequentialminus": [
            [
             0,
             "#0d0887"
            ],
            [
             0.1111111111111111,
             "#46039f"
            ],
            [
             0.2222222222222222,
             "#7201a8"
            ],
            [
             0.3333333333333333,
             "#9c179e"
            ],
            [
             0.4444444444444444,
             "#bd3786"
            ],
            [
             0.5555555555555556,
             "#d8576b"
            ],
            [
             0.6666666666666666,
             "#ed7953"
            ],
            [
             0.7777777777777778,
             "#fb9f3a"
            ],
            [
             0.8888888888888888,
             "#fdca26"
            ],
            [
             1,
             "#f0f921"
            ]
           ]
          },
          "colorway": [
           "#636efa",
           "#EF553B",
           "#00cc96",
           "#ab63fa",
           "#FFA15A",
           "#19d3f3",
           "#FF6692",
           "#B6E880",
           "#FF97FF",
           "#FECB52"
          ],
          "font": {
           "color": "#2a3f5f"
          },
          "geo": {
           "bgcolor": "white",
           "lakecolor": "white",
           "landcolor": "#E5ECF6",
           "showlakes": true,
           "showland": true,
           "subunitcolor": "white"
          },
          "hoverlabel": {
           "align": "left"
          },
          "hovermode": "closest",
          "mapbox": {
           "style": "light"
          },
          "paper_bgcolor": "white",
          "plot_bgcolor": "#E5ECF6",
          "polar": {
           "angularaxis": {
            "gridcolor": "white",
            "linecolor": "white",
            "ticks": ""
           },
           "bgcolor": "#E5ECF6",
           "radialaxis": {
            "gridcolor": "white",
            "linecolor": "white",
            "ticks": ""
           }
          },
          "scene": {
           "xaxis": {
            "backgroundcolor": "#E5ECF6",
            "gridcolor": "white",
            "gridwidth": 2,
            "linecolor": "white",
            "showbackground": true,
            "ticks": "",
            "zerolinecolor": "white"
           },
           "yaxis": {
            "backgroundcolor": "#E5ECF6",
            "gridcolor": "white",
            "gridwidth": 2,
            "linecolor": "white",
            "showbackground": true,
            "ticks": "",
            "zerolinecolor": "white"
           },
           "zaxis": {
            "backgroundcolor": "#E5ECF6",
            "gridcolor": "white",
            "gridwidth": 2,
            "linecolor": "white",
            "showbackground": true,
            "ticks": "",
            "zerolinecolor": "white"
           }
          },
          "shapedefaults": {
           "line": {
            "color": "#2a3f5f"
           }
          },
          "ternary": {
           "aaxis": {
            "gridcolor": "white",
            "linecolor": "white",
            "ticks": ""
           },
           "baxis": {
            "gridcolor": "white",
            "linecolor": "white",
            "ticks": ""
           },
           "bgcolor": "#E5ECF6",
           "caxis": {
            "gridcolor": "white",
            "linecolor": "white",
            "ticks": ""
           }
          },
          "title": {
           "x": 0.05
          },
          "xaxis": {
           "automargin": true,
           "gridcolor": "white",
           "linecolor": "white",
           "ticks": "",
           "title": {
            "standoff": 15
           },
           "zerolinecolor": "white",
           "zerolinewidth": 2
          },
          "yaxis": {
           "automargin": true,
           "gridcolor": "white",
           "linecolor": "white",
           "ticks": "",
           "title": {
            "standoff": 15
           },
           "zerolinecolor": "white",
           "zerolinewidth": 2
          }
         }
        },
        "title": {
         "text": "Revenue Customer Type by Month"
        },
        "xaxis": {
         "anchor": "y",
         "domain": [
          0,
          1
         ],
         "title": {
          "text": "Invoice_YearMonth"
         }
        },
        "yaxis": {
         "anchor": "x",
         "domain": [
          0,
          1
         ],
         "title": {
          "text": "Revenue"
         }
        }
       }
      }
     },
     "metadata": {},
     "output_type": "display_data"
    }
   ],
   "source": [
    "df_merge1['Invoice_YearMonth'] = df_merge1['Invoice_YearMonth'].astype(str)\n",
    "fig = px.bar(df_merge1, x=\"Invoice_YearMonth\", y=\"Revenue\", title=\"Revenue Customer Type by Month\",text = 'Revenue',color='Customer_Type')\n",
    "fig.update_traces(textposition=\"inside\")\n",
    "fig.show()"
   ]
  },
  {
   "cell_type": "code",
   "execution_count": 117,
   "metadata": {},
   "outputs": [
    {
     "data": {
      "text/plain": [
       "Invoice_YearMonth\n",
       "201012         inf\n",
       "201101    1.124224\n",
       "201102    0.904000\n",
       "201103    0.792233\n",
       "201104    0.510166\n",
       "201105    0.343793\n",
       "201106    0.281250\n",
       "201107    0.236589\n",
       "201108    0.192572\n",
       "201109    0.304878\n",
       "201110    0.328852\n",
       "201111    0.236422\n",
       "201112    0.058319\n",
       "Name: CustomerID, dtype: float64"
      ]
     },
     "execution_count": 117,
     "metadata": {},
     "output_type": "execute_result"
    }
   ],
   "source": [
    "countnew = df_merge.query(\"Customer_Type == 'New'\").groupby('Invoice_YearMonth')['CustomerID'].nunique()\n",
    "countexist = df_merge.query(\"Customer_Type == 'Existing'\").groupby('Invoice_YearMonth')['CustomerID'].nunique()\n",
    "df_user_ratio=countnew/countexist\n",
    "df_user_ratio.reset_index()\n",
    "df_user_ratio"
   ]
  },
  {
   "cell_type": "markdown",
   "metadata": {},
   "source": [
    "Monthly Retension Rate"
   ]
  },
  {
   "cell_type": "code",
   "execution_count": 118,
   "metadata": {},
   "outputs": [
    {
     "data": {
      "text/html": [
       "<div>\n",
       "<style scoped>\n",
       "    .dataframe tbody tr th:only-of-type {\n",
       "        vertical-align: middle;\n",
       "    }\n",
       "\n",
       "    .dataframe tbody tr th {\n",
       "        vertical-align: top;\n",
       "    }\n",
       "\n",
       "    .dataframe thead th {\n",
       "        text-align: right;\n",
       "    }\n",
       "</style>\n",
       "<table border=\"1\" class=\"dataframe\">\n",
       "  <thead>\n",
       "    <tr style=\"text-align: right;\">\n",
       "      <th></th>\n",
       "      <th>InvoiceNo</th>\n",
       "      <th>StockCode</th>\n",
       "      <th>Description</th>\n",
       "      <th>Quantity</th>\n",
       "      <th>InvoiceDate</th>\n",
       "      <th>UnitPrice</th>\n",
       "      <th>CustomerID</th>\n",
       "      <th>Country</th>\n",
       "      <th>Invoice_year</th>\n",
       "      <th>Invoice_month</th>\n",
       "      <th>Invoice_date</th>\n",
       "      <th>Invoice_hour</th>\n",
       "      <th>Invoice_YearMonth</th>\n",
       "      <th>Revenue</th>\n",
       "    </tr>\n",
       "  </thead>\n",
       "  <tbody>\n",
       "    <tr>\n",
       "      <th>0</th>\n",
       "      <td>536365</td>\n",
       "      <td>85123A</td>\n",
       "      <td>WHITE HANGING HEART T-LIGHT HOLDER</td>\n",
       "      <td>6</td>\n",
       "      <td>2010-12-01 08:26:00</td>\n",
       "      <td>2.55</td>\n",
       "      <td>17850.0</td>\n",
       "      <td>United Kingdom</td>\n",
       "      <td>2010</td>\n",
       "      <td>12</td>\n",
       "      <td>1</td>\n",
       "      <td>8</td>\n",
       "      <td>201012</td>\n",
       "      <td>15.30</td>\n",
       "    </tr>\n",
       "    <tr>\n",
       "      <th>1</th>\n",
       "      <td>536365</td>\n",
       "      <td>71053</td>\n",
       "      <td>WHITE METAL LANTERN</td>\n",
       "      <td>6</td>\n",
       "      <td>2010-12-01 08:26:00</td>\n",
       "      <td>3.39</td>\n",
       "      <td>17850.0</td>\n",
       "      <td>United Kingdom</td>\n",
       "      <td>2010</td>\n",
       "      <td>12</td>\n",
       "      <td>1</td>\n",
       "      <td>8</td>\n",
       "      <td>201012</td>\n",
       "      <td>20.34</td>\n",
       "    </tr>\n",
       "    <tr>\n",
       "      <th>2</th>\n",
       "      <td>536365</td>\n",
       "      <td>84406B</td>\n",
       "      <td>CREAM CUPID HEARTS COAT HANGER</td>\n",
       "      <td>8</td>\n",
       "      <td>2010-12-01 08:26:00</td>\n",
       "      <td>2.75</td>\n",
       "      <td>17850.0</td>\n",
       "      <td>United Kingdom</td>\n",
       "      <td>2010</td>\n",
       "      <td>12</td>\n",
       "      <td>1</td>\n",
       "      <td>8</td>\n",
       "      <td>201012</td>\n",
       "      <td>22.00</td>\n",
       "    </tr>\n",
       "    <tr>\n",
       "      <th>3</th>\n",
       "      <td>536365</td>\n",
       "      <td>84029G</td>\n",
       "      <td>KNITTED UNION FLAG HOT WATER BOTTLE</td>\n",
       "      <td>6</td>\n",
       "      <td>2010-12-01 08:26:00</td>\n",
       "      <td>3.39</td>\n",
       "      <td>17850.0</td>\n",
       "      <td>United Kingdom</td>\n",
       "      <td>2010</td>\n",
       "      <td>12</td>\n",
       "      <td>1</td>\n",
       "      <td>8</td>\n",
       "      <td>201012</td>\n",
       "      <td>20.34</td>\n",
       "    </tr>\n",
       "    <tr>\n",
       "      <th>4</th>\n",
       "      <td>536365</td>\n",
       "      <td>84029E</td>\n",
       "      <td>RED WOOLLY HOTTIE WHITE HEART.</td>\n",
       "      <td>6</td>\n",
       "      <td>2010-12-01 08:26:00</td>\n",
       "      <td>3.39</td>\n",
       "      <td>17850.0</td>\n",
       "      <td>United Kingdom</td>\n",
       "      <td>2010</td>\n",
       "      <td>12</td>\n",
       "      <td>1</td>\n",
       "      <td>8</td>\n",
       "      <td>201012</td>\n",
       "      <td>20.34</td>\n",
       "    </tr>\n",
       "  </tbody>\n",
       "</table>\n",
       "</div>"
      ],
      "text/plain": [
       "  InvoiceNo StockCode                          Description  Quantity  \\\n",
       "0    536365    85123A   WHITE HANGING HEART T-LIGHT HOLDER         6   \n",
       "1    536365     71053                  WHITE METAL LANTERN         6   \n",
       "2    536365    84406B       CREAM CUPID HEARTS COAT HANGER         8   \n",
       "3    536365    84029G  KNITTED UNION FLAG HOT WATER BOTTLE         6   \n",
       "4    536365    84029E       RED WOOLLY HOTTIE WHITE HEART.         6   \n",
       "\n",
       "          InvoiceDate  UnitPrice  CustomerID         Country  Invoice_year  \\\n",
       "0 2010-12-01 08:26:00       2.55     17850.0  United Kingdom          2010   \n",
       "1 2010-12-01 08:26:00       3.39     17850.0  United Kingdom          2010   \n",
       "2 2010-12-01 08:26:00       2.75     17850.0  United Kingdom          2010   \n",
       "3 2010-12-01 08:26:00       3.39     17850.0  United Kingdom          2010   \n",
       "4 2010-12-01 08:26:00       3.39     17850.0  United Kingdom          2010   \n",
       "\n",
       "   Invoice_month  Invoice_date  Invoice_hour  Invoice_YearMonth  Revenue  \n",
       "0             12             1             8             201012    15.30  \n",
       "1             12             1             8             201012    20.34  \n",
       "2             12             1             8             201012    22.00  \n",
       "3             12             1             8             201012    20.34  \n",
       "4             12             1             8             201012    20.34  "
      ]
     },
     "execution_count": 118,
     "metadata": {},
     "output_type": "execute_result"
    }
   ],
   "source": [
    "df_uk.head()"
   ]
  },
  {
   "cell_type": "code",
   "execution_count": 119,
   "metadata": {},
   "outputs": [
    {
     "data": {
      "text/html": [
       "<div>\n",
       "<style scoped>\n",
       "    .dataframe tbody tr th:only-of-type {\n",
       "        vertical-align: middle;\n",
       "    }\n",
       "\n",
       "    .dataframe tbody tr th {\n",
       "        vertical-align: top;\n",
       "    }\n",
       "\n",
       "    .dataframe thead th {\n",
       "        text-align: right;\n",
       "    }\n",
       "</style>\n",
       "<table border=\"1\" class=\"dataframe\">\n",
       "  <thead>\n",
       "    <tr style=\"text-align: right;\">\n",
       "      <th></th>\n",
       "      <th>Invoice_YearMonth</th>\n",
       "      <th>CustomerID</th>\n",
       "    </tr>\n",
       "  </thead>\n",
       "  <tbody>\n",
       "    <tr>\n",
       "      <th>0</th>\n",
       "      <td>201012</td>\n",
       "      <td>871</td>\n",
       "    </tr>\n",
       "    <tr>\n",
       "      <th>1</th>\n",
       "      <td>201101</td>\n",
       "      <td>684</td>\n",
       "    </tr>\n",
       "    <tr>\n",
       "      <th>2</th>\n",
       "      <td>201102</td>\n",
       "      <td>714</td>\n",
       "    </tr>\n",
       "    <tr>\n",
       "      <th>3</th>\n",
       "      <td>201103</td>\n",
       "      <td>923</td>\n",
       "    </tr>\n",
       "    <tr>\n",
       "      <th>4</th>\n",
       "      <td>201104</td>\n",
       "      <td>817</td>\n",
       "    </tr>\n",
       "    <tr>\n",
       "      <th>5</th>\n",
       "      <td>201105</td>\n",
       "      <td>985</td>\n",
       "    </tr>\n",
       "    <tr>\n",
       "      <th>6</th>\n",
       "      <td>201106</td>\n",
       "      <td>943</td>\n",
       "    </tr>\n",
       "    <tr>\n",
       "      <th>7</th>\n",
       "      <td>201107</td>\n",
       "      <td>899</td>\n",
       "    </tr>\n",
       "    <tr>\n",
       "      <th>8</th>\n",
       "      <td>201108</td>\n",
       "      <td>867</td>\n",
       "    </tr>\n",
       "    <tr>\n",
       "      <th>9</th>\n",
       "      <td>201109</td>\n",
       "      <td>1177</td>\n",
       "    </tr>\n",
       "    <tr>\n",
       "      <th>10</th>\n",
       "      <td>201110</td>\n",
       "      <td>1285</td>\n",
       "    </tr>\n",
       "    <tr>\n",
       "      <th>11</th>\n",
       "      <td>201111</td>\n",
       "      <td>1548</td>\n",
       "    </tr>\n",
       "    <tr>\n",
       "      <th>12</th>\n",
       "      <td>201112</td>\n",
       "      <td>617</td>\n",
       "    </tr>\n",
       "  </tbody>\n",
       "</table>\n",
       "</div>"
      ],
      "text/plain": [
       "    Invoice_YearMonth  CustomerID\n",
       "0              201012         871\n",
       "1              201101         684\n",
       "2              201102         714\n",
       "3              201103         923\n",
       "4              201104         817\n",
       "5              201105         985\n",
       "6              201106         943\n",
       "7              201107         899\n",
       "8              201108         867\n",
       "9              201109        1177\n",
       "10             201110        1285\n",
       "11             201111        1548\n",
       "12             201112         617"
      ]
     },
     "execution_count": 119,
     "metadata": {},
     "output_type": "execute_result"
    }
   ],
   "source": [
    "df_monthly_active = df_uk.groupby('Invoice_YearMonth')['CustomerID'].nunique().reset_index()\n",
    "df_monthly_active"
   ]
  },
  {
   "cell_type": "code",
   "execution_count": 120,
   "metadata": {},
   "outputs": [
    {
     "data": {
      "text/html": [
       "<div>\n",
       "<style scoped>\n",
       "    .dataframe tbody tr th:only-of-type {\n",
       "        vertical-align: middle;\n",
       "    }\n",
       "\n",
       "    .dataframe tbody tr th {\n",
       "        vertical-align: top;\n",
       "    }\n",
       "\n",
       "    .dataframe thead th {\n",
       "        text-align: right;\n",
       "    }\n",
       "</style>\n",
       "<table border=\"1\" class=\"dataframe\">\n",
       "  <thead>\n",
       "    <tr style=\"text-align: right;\">\n",
       "      <th></th>\n",
       "      <th>CustomerID</th>\n",
       "      <th>Invoice_YearMonth</th>\n",
       "      <th>Revenue</th>\n",
       "    </tr>\n",
       "  </thead>\n",
       "  <tbody>\n",
       "    <tr>\n",
       "      <th>0</th>\n",
       "      <td>12346.0</td>\n",
       "      <td>201101</td>\n",
       "      <td>0.00</td>\n",
       "    </tr>\n",
       "    <tr>\n",
       "      <th>1</th>\n",
       "      <td>12747.0</td>\n",
       "      <td>201012</td>\n",
       "      <td>706.27</td>\n",
       "    </tr>\n",
       "    <tr>\n",
       "      <th>2</th>\n",
       "      <td>12747.0</td>\n",
       "      <td>201101</td>\n",
       "      <td>303.04</td>\n",
       "    </tr>\n",
       "    <tr>\n",
       "      <th>3</th>\n",
       "      <td>12747.0</td>\n",
       "      <td>201103</td>\n",
       "      <td>310.78</td>\n",
       "    </tr>\n",
       "    <tr>\n",
       "      <th>4</th>\n",
       "      <td>12747.0</td>\n",
       "      <td>201105</td>\n",
       "      <td>771.31</td>\n",
       "    </tr>\n",
       "    <tr>\n",
       "      <th>...</th>\n",
       "      <td>...</td>\n",
       "      <td>...</td>\n",
       "      <td>...</td>\n",
       "    </tr>\n",
       "    <tr>\n",
       "      <th>12325</th>\n",
       "      <td>18283.0</td>\n",
       "      <td>201110</td>\n",
       "      <td>114.65</td>\n",
       "    </tr>\n",
       "    <tr>\n",
       "      <th>12326</th>\n",
       "      <td>18283.0</td>\n",
       "      <td>201111</td>\n",
       "      <td>651.56</td>\n",
       "    </tr>\n",
       "    <tr>\n",
       "      <th>12327</th>\n",
       "      <td>18283.0</td>\n",
       "      <td>201112</td>\n",
       "      <td>208.00</td>\n",
       "    </tr>\n",
       "    <tr>\n",
       "      <th>12328</th>\n",
       "      <td>18287.0</td>\n",
       "      <td>201105</td>\n",
       "      <td>765.28</td>\n",
       "    </tr>\n",
       "    <tr>\n",
       "      <th>12329</th>\n",
       "      <td>18287.0</td>\n",
       "      <td>201110</td>\n",
       "      <td>1072.00</td>\n",
       "    </tr>\n",
       "  </tbody>\n",
       "</table>\n",
       "<p>12330 rows × 3 columns</p>\n",
       "</div>"
      ],
      "text/plain": [
       "       CustomerID  Invoice_YearMonth  Revenue\n",
       "0         12346.0             201101     0.00\n",
       "1         12747.0             201012   706.27\n",
       "2         12747.0             201101   303.04\n",
       "3         12747.0             201103   310.78\n",
       "4         12747.0             201105   771.31\n",
       "...           ...                ...      ...\n",
       "12325     18283.0             201110   114.65\n",
       "12326     18283.0             201111   651.56\n",
       "12327     18283.0             201112   208.00\n",
       "12328     18287.0             201105   765.28\n",
       "12329     18287.0             201110  1072.00\n",
       "\n",
       "[12330 rows x 3 columns]"
      ]
     },
     "execution_count": 120,
     "metadata": {},
     "output_type": "execute_result"
    }
   ],
   "source": [
    "df_user_purchase =df_uk.groupby(['CustomerID','Invoice_YearMonth'])['Revenue'].sum().reset_index()\n",
    "df_user_purchase"
   ]
  },
  {
   "cell_type": "code",
   "execution_count": 121,
   "metadata": {},
   "outputs": [
    {
     "data": {
      "text/html": [
       "<div>\n",
       "<style scoped>\n",
       "    .dataframe tbody tr th:only-of-type {\n",
       "        vertical-align: middle;\n",
       "    }\n",
       "\n",
       "    .dataframe tbody tr th {\n",
       "        vertical-align: top;\n",
       "    }\n",
       "\n",
       "    .dataframe thead th {\n",
       "        text-align: right;\n",
       "    }\n",
       "</style>\n",
       "<table border=\"1\" class=\"dataframe\">\n",
       "  <thead>\n",
       "    <tr style=\"text-align: right;\">\n",
       "      <th>Invoice_YearMonth</th>\n",
       "      <th>CustomerID</th>\n",
       "      <th>201012</th>\n",
       "      <th>201101</th>\n",
       "      <th>201102</th>\n",
       "      <th>201103</th>\n",
       "      <th>201104</th>\n",
       "      <th>201105</th>\n",
       "      <th>201106</th>\n",
       "      <th>201107</th>\n",
       "      <th>201108</th>\n",
       "      <th>201109</th>\n",
       "      <th>201110</th>\n",
       "      <th>201111</th>\n",
       "      <th>201112</th>\n",
       "    </tr>\n",
       "  </thead>\n",
       "  <tbody>\n",
       "    <tr>\n",
       "      <th>0</th>\n",
       "      <td>12346.0</td>\n",
       "      <td>0</td>\n",
       "      <td>1</td>\n",
       "      <td>0</td>\n",
       "      <td>0</td>\n",
       "      <td>0</td>\n",
       "      <td>0</td>\n",
       "      <td>0</td>\n",
       "      <td>0</td>\n",
       "      <td>0</td>\n",
       "      <td>0</td>\n",
       "      <td>0</td>\n",
       "      <td>0</td>\n",
       "      <td>0</td>\n",
       "    </tr>\n",
       "    <tr>\n",
       "      <th>1</th>\n",
       "      <td>12747.0</td>\n",
       "      <td>1</td>\n",
       "      <td>1</td>\n",
       "      <td>0</td>\n",
       "      <td>1</td>\n",
       "      <td>0</td>\n",
       "      <td>1</td>\n",
       "      <td>1</td>\n",
       "      <td>0</td>\n",
       "      <td>1</td>\n",
       "      <td>0</td>\n",
       "      <td>1</td>\n",
       "      <td>1</td>\n",
       "      <td>1</td>\n",
       "    </tr>\n",
       "    <tr>\n",
       "      <th>2</th>\n",
       "      <td>12748.0</td>\n",
       "      <td>1</td>\n",
       "      <td>1</td>\n",
       "      <td>1</td>\n",
       "      <td>1</td>\n",
       "      <td>1</td>\n",
       "      <td>1</td>\n",
       "      <td>1</td>\n",
       "      <td>1</td>\n",
       "      <td>1</td>\n",
       "      <td>1</td>\n",
       "      <td>1</td>\n",
       "      <td>1</td>\n",
       "      <td>1</td>\n",
       "    </tr>\n",
       "    <tr>\n",
       "      <th>3</th>\n",
       "      <td>12749.0</td>\n",
       "      <td>0</td>\n",
       "      <td>0</td>\n",
       "      <td>0</td>\n",
       "      <td>0</td>\n",
       "      <td>0</td>\n",
       "      <td>1</td>\n",
       "      <td>0</td>\n",
       "      <td>0</td>\n",
       "      <td>1</td>\n",
       "      <td>0</td>\n",
       "      <td>0</td>\n",
       "      <td>1</td>\n",
       "      <td>1</td>\n",
       "    </tr>\n",
       "    <tr>\n",
       "      <th>4</th>\n",
       "      <td>12820.0</td>\n",
       "      <td>0</td>\n",
       "      <td>1</td>\n",
       "      <td>0</td>\n",
       "      <td>0</td>\n",
       "      <td>0</td>\n",
       "      <td>0</td>\n",
       "      <td>0</td>\n",
       "      <td>0</td>\n",
       "      <td>0</td>\n",
       "      <td>1</td>\n",
       "      <td>1</td>\n",
       "      <td>0</td>\n",
       "      <td>1</td>\n",
       "    </tr>\n",
       "    <tr>\n",
       "      <th>...</th>\n",
       "      <td>...</td>\n",
       "      <td>...</td>\n",
       "      <td>...</td>\n",
       "      <td>...</td>\n",
       "      <td>...</td>\n",
       "      <td>...</td>\n",
       "      <td>...</td>\n",
       "      <td>...</td>\n",
       "      <td>...</td>\n",
       "      <td>...</td>\n",
       "      <td>...</td>\n",
       "      <td>...</td>\n",
       "      <td>...</td>\n",
       "      <td>...</td>\n",
       "    </tr>\n",
       "    <tr>\n",
       "      <th>3945</th>\n",
       "      <td>18280.0</td>\n",
       "      <td>0</td>\n",
       "      <td>0</td>\n",
       "      <td>0</td>\n",
       "      <td>1</td>\n",
       "      <td>0</td>\n",
       "      <td>0</td>\n",
       "      <td>0</td>\n",
       "      <td>0</td>\n",
       "      <td>0</td>\n",
       "      <td>0</td>\n",
       "      <td>0</td>\n",
       "      <td>0</td>\n",
       "      <td>0</td>\n",
       "    </tr>\n",
       "    <tr>\n",
       "      <th>3946</th>\n",
       "      <td>18281.0</td>\n",
       "      <td>0</td>\n",
       "      <td>0</td>\n",
       "      <td>0</td>\n",
       "      <td>0</td>\n",
       "      <td>0</td>\n",
       "      <td>0</td>\n",
       "      <td>1</td>\n",
       "      <td>0</td>\n",
       "      <td>0</td>\n",
       "      <td>0</td>\n",
       "      <td>0</td>\n",
       "      <td>0</td>\n",
       "      <td>0</td>\n",
       "    </tr>\n",
       "    <tr>\n",
       "      <th>3947</th>\n",
       "      <td>18282.0</td>\n",
       "      <td>0</td>\n",
       "      <td>0</td>\n",
       "      <td>0</td>\n",
       "      <td>0</td>\n",
       "      <td>0</td>\n",
       "      <td>0</td>\n",
       "      <td>0</td>\n",
       "      <td>0</td>\n",
       "      <td>1</td>\n",
       "      <td>0</td>\n",
       "      <td>0</td>\n",
       "      <td>0</td>\n",
       "      <td>1</td>\n",
       "    </tr>\n",
       "    <tr>\n",
       "      <th>3948</th>\n",
       "      <td>18283.0</td>\n",
       "      <td>0</td>\n",
       "      <td>1</td>\n",
       "      <td>1</td>\n",
       "      <td>0</td>\n",
       "      <td>1</td>\n",
       "      <td>1</td>\n",
       "      <td>1</td>\n",
       "      <td>1</td>\n",
       "      <td>0</td>\n",
       "      <td>1</td>\n",
       "      <td>1</td>\n",
       "      <td>1</td>\n",
       "      <td>1</td>\n",
       "    </tr>\n",
       "    <tr>\n",
       "      <th>3949</th>\n",
       "      <td>18287.0</td>\n",
       "      <td>0</td>\n",
       "      <td>0</td>\n",
       "      <td>0</td>\n",
       "      <td>0</td>\n",
       "      <td>0</td>\n",
       "      <td>1</td>\n",
       "      <td>0</td>\n",
       "      <td>0</td>\n",
       "      <td>0</td>\n",
       "      <td>0</td>\n",
       "      <td>1</td>\n",
       "      <td>0</td>\n",
       "      <td>0</td>\n",
       "    </tr>\n",
       "  </tbody>\n",
       "</table>\n",
       "<p>3950 rows × 14 columns</p>\n",
       "</div>"
      ],
      "text/plain": [
       "Invoice_YearMonth  CustomerID  201012  201101  201102  201103  201104  201105  \\\n",
       "0                     12346.0       0       1       0       0       0       0   \n",
       "1                     12747.0       1       1       0       1       0       1   \n",
       "2                     12748.0       1       1       1       1       1       1   \n",
       "3                     12749.0       0       0       0       0       0       1   \n",
       "4                     12820.0       0       1       0       0       0       0   \n",
       "...                       ...     ...     ...     ...     ...     ...     ...   \n",
       "3945                  18280.0       0       0       0       1       0       0   \n",
       "3946                  18281.0       0       0       0       0       0       0   \n",
       "3947                  18282.0       0       0       0       0       0       0   \n",
       "3948                  18283.0       0       1       1       0       1       1   \n",
       "3949                  18287.0       0       0       0       0       0       1   \n",
       "\n",
       "Invoice_YearMonth  201106  201107  201108  201109  201110  201111  201112  \n",
       "0                       0       0       0       0       0       0       0  \n",
       "1                       1       0       1       0       1       1       1  \n",
       "2                       1       1       1       1       1       1       1  \n",
       "3                       0       0       1       0       0       1       1  \n",
       "4                       0       0       0       1       1       0       1  \n",
       "...                   ...     ...     ...     ...     ...     ...     ...  \n",
       "3945                    0       0       0       0       0       0       0  \n",
       "3946                    1       0       0       0       0       0       0  \n",
       "3947                    0       0       1       0       0       0       1  \n",
       "3948                    1       1       0       1       1       1       1  \n",
       "3949                    0       0       0       0       1       0       0  \n",
       "\n",
       "[3950 rows x 14 columns]"
      ]
     },
     "execution_count": 121,
     "metadata": {},
     "output_type": "execute_result"
    }
   ],
   "source": [
    "df_retension = pd.crosstab(df_user_purchase['CustomerID'],df_user_purchase['Invoice_YearMonth']).reset_index()\n",
    "df_retension"
   ]
  },
  {
   "cell_type": "code",
   "execution_count": 122,
   "metadata": {},
   "outputs": [
    {
     "data": {
      "text/plain": [
       "Index(['CustomerID',       201012,       201101,       201102,       201103,\n",
       "             201104,       201105,       201106,       201107,       201108,\n",
       "             201109,       201110,       201111,       201112],\n",
       "      dtype='object', name='Invoice_YearMonth')"
      ]
     },
     "execution_count": 122,
     "metadata": {},
     "output_type": "execute_result"
    }
   ],
   "source": [
    "df_retension.columns"
   ]
  },
  {
   "cell_type": "code",
   "execution_count": 123,
   "metadata": {},
   "outputs": [
    {
     "data": {
      "text/plain": [
       "Index([201101, 201102, 201103, 201104, 201105, 201106, 201107, 201108, 201109,\n",
       "       201110, 201111, 201112],\n",
       "      dtype='object', name='Invoice_YearMonth')"
      ]
     },
     "execution_count": 123,
     "metadata": {},
     "output_type": "execute_result"
    }
   ],
   "source": [
    "months=df_retension.columns[2:]\n",
    "months"
   ]
  },
  {
   "cell_type": "code",
   "execution_count": 124,
   "metadata": {},
   "outputs": [
    {
     "data": {
      "text/plain": [
       "684"
      ]
     },
     "execution_count": 124,
     "metadata": {},
     "output_type": "execute_result"
    }
   ],
   "source": [
    "# total customer at 201101\n",
    "df_retension[201101].sum()"
   ]
  },
  {
   "cell_type": "code",
   "execution_count": 125,
   "metadata": {},
   "outputs": [
    {
     "data": {
      "text/plain": [
       "310"
      ]
     },
     "execution_count": 125,
     "metadata": {},
     "output_type": "execute_result"
    }
   ],
   "source": [
    "# total customer retension 201102 so 201101 la bao nhieu? tuong duong bang crosstab  1-1 o ca 2 cot 201101 and 201102\n",
    "df_retension[(df_retension[201101] == 1) & (df_retension[201102] == 1)][201102].sum()\n",
    "df_retension[(df_retension[201102] == 1) & (df_retension[201103] == 1)][201103].sum()\n",
    "df_retension[(df_retension[201103] == 1) & (df_retension[201104] == 1)][201104].sum()\n",
    "#..."
   ]
  },
  {
   "cell_type": "code",
   "execution_count": 126,
   "metadata": {},
   "outputs": [
    {
     "name": "stdout",
     "output_type": "stream",
     "text": [
      "[{'Invoice_YearMonth': 201102, 'TotalUserCount': 714, 'RetainedUserCount': 263}, {'Invoice_YearMonth': 201103, 'TotalUserCount': 923, 'RetainedUserCount': 305}, {'Invoice_YearMonth': 201104, 'TotalUserCount': 817, 'RetainedUserCount': 310}, {'Invoice_YearMonth': 201105, 'TotalUserCount': 985, 'RetainedUserCount': 369}, {'Invoice_YearMonth': 201106, 'TotalUserCount': 943, 'RetainedUserCount': 417}, {'Invoice_YearMonth': 201107, 'TotalUserCount': 899, 'RetainedUserCount': 379}, {'Invoice_YearMonth': 201108, 'TotalUserCount': 867, 'RetainedUserCount': 391}, {'Invoice_YearMonth': 201109, 'TotalUserCount': 1177, 'RetainedUserCount': 417}, {'Invoice_YearMonth': 201110, 'TotalUserCount': 1285, 'RetainedUserCount': 502}, {'Invoice_YearMonth': 201111, 'TotalUserCount': 1548, 'RetainedUserCount': 616}, {'Invoice_YearMonth': 201112, 'TotalUserCount': 617, 'RetainedUserCount': 402}]\n"
     ]
    }
   ],
   "source": [
    "retension_array =[]\n",
    "for i in range(len(months) -1):\n",
    "    retension_data ={}\n",
    "    select_month = months[i+1]\n",
    "    previous_month = months[i]\n",
    "    retension_data['Invoice_YearMonth'] = int(select_month) # tao key-value cho dict\n",
    "    retension_data['TotalUserCount'] = df_retension[select_month].sum() # tao key-value cho dict\n",
    "    retension_data['RetainedUserCount'] = df_retension[(df_retension[select_month] == 1) & (df_retension[previous_month] == 1)][select_month].sum() # tao key-value cho dict\n",
    "    retension_array.append(retension_data) # add dict to list\n",
    "print(retension_array)\n",
    "\n"
   ]
  },
  {
   "cell_type": "code",
   "execution_count": 127,
   "metadata": {},
   "outputs": [
    {
     "data": {
      "text/html": [
       "<div>\n",
       "<style scoped>\n",
       "    .dataframe tbody tr th:only-of-type {\n",
       "        vertical-align: middle;\n",
       "    }\n",
       "\n",
       "    .dataframe tbody tr th {\n",
       "        vertical-align: top;\n",
       "    }\n",
       "\n",
       "    .dataframe thead th {\n",
       "        text-align: right;\n",
       "    }\n",
       "</style>\n",
       "<table border=\"1\" class=\"dataframe\">\n",
       "  <thead>\n",
       "    <tr style=\"text-align: right;\">\n",
       "      <th></th>\n",
       "      <th>Invoice_YearMonth</th>\n",
       "      <th>TotalUserCount</th>\n",
       "      <th>RetainedUserCount</th>\n",
       "    </tr>\n",
       "  </thead>\n",
       "  <tbody>\n",
       "    <tr>\n",
       "      <th>0</th>\n",
       "      <td>201102</td>\n",
       "      <td>714</td>\n",
       "      <td>263</td>\n",
       "    </tr>\n",
       "    <tr>\n",
       "      <th>1</th>\n",
       "      <td>201103</td>\n",
       "      <td>923</td>\n",
       "      <td>305</td>\n",
       "    </tr>\n",
       "    <tr>\n",
       "      <th>2</th>\n",
       "      <td>201104</td>\n",
       "      <td>817</td>\n",
       "      <td>310</td>\n",
       "    </tr>\n",
       "    <tr>\n",
       "      <th>3</th>\n",
       "      <td>201105</td>\n",
       "      <td>985</td>\n",
       "      <td>369</td>\n",
       "    </tr>\n",
       "    <tr>\n",
       "      <th>4</th>\n",
       "      <td>201106</td>\n",
       "      <td>943</td>\n",
       "      <td>417</td>\n",
       "    </tr>\n",
       "    <tr>\n",
       "      <th>5</th>\n",
       "      <td>201107</td>\n",
       "      <td>899</td>\n",
       "      <td>379</td>\n",
       "    </tr>\n",
       "    <tr>\n",
       "      <th>6</th>\n",
       "      <td>201108</td>\n",
       "      <td>867</td>\n",
       "      <td>391</td>\n",
       "    </tr>\n",
       "    <tr>\n",
       "      <th>7</th>\n",
       "      <td>201109</td>\n",
       "      <td>1177</td>\n",
       "      <td>417</td>\n",
       "    </tr>\n",
       "    <tr>\n",
       "      <th>8</th>\n",
       "      <td>201110</td>\n",
       "      <td>1285</td>\n",
       "      <td>502</td>\n",
       "    </tr>\n",
       "    <tr>\n",
       "      <th>9</th>\n",
       "      <td>201111</td>\n",
       "      <td>1548</td>\n",
       "      <td>616</td>\n",
       "    </tr>\n",
       "    <tr>\n",
       "      <th>10</th>\n",
       "      <td>201112</td>\n",
       "      <td>617</td>\n",
       "      <td>402</td>\n",
       "    </tr>\n",
       "  </tbody>\n",
       "</table>\n",
       "</div>"
      ],
      "text/plain": [
       "    Invoice_YearMonth  TotalUserCount  RetainedUserCount\n",
       "0              201102             714                263\n",
       "1              201103             923                305\n",
       "2              201104             817                310\n",
       "3              201105             985                369\n",
       "4              201106             943                417\n",
       "5              201107             899                379\n",
       "6              201108             867                391\n",
       "7              201109            1177                417\n",
       "8              201110            1285                502\n",
       "9              201111            1548                616\n",
       "10             201112             617                402"
      ]
     },
     "execution_count": 127,
     "metadata": {},
     "output_type": "execute_result"
    }
   ],
   "source": [
    "df_retension_f = pd.DataFrame(retension_array)\n",
    "df_retension_f\n"
   ]
  },
  {
   "cell_type": "code",
   "execution_count": 128,
   "metadata": {},
   "outputs": [
    {
     "data": {
      "text/html": [
       "<div>\n",
       "<style scoped>\n",
       "    .dataframe tbody tr th:only-of-type {\n",
       "        vertical-align: middle;\n",
       "    }\n",
       "\n",
       "    .dataframe tbody tr th {\n",
       "        vertical-align: top;\n",
       "    }\n",
       "\n",
       "    .dataframe thead th {\n",
       "        text-align: right;\n",
       "    }\n",
       "</style>\n",
       "<table border=\"1\" class=\"dataframe\">\n",
       "  <thead>\n",
       "    <tr style=\"text-align: right;\">\n",
       "      <th></th>\n",
       "      <th>Invoice_YearMonth</th>\n",
       "      <th>TotalUserCount</th>\n",
       "      <th>RetainedUserCount</th>\n",
       "      <th>Retension_Rate</th>\n",
       "    </tr>\n",
       "  </thead>\n",
       "  <tbody>\n",
       "    <tr>\n",
       "      <th>0</th>\n",
       "      <td>201102</td>\n",
       "      <td>714</td>\n",
       "      <td>263</td>\n",
       "      <td>0.368</td>\n",
       "    </tr>\n",
       "    <tr>\n",
       "      <th>1</th>\n",
       "      <td>201103</td>\n",
       "      <td>923</td>\n",
       "      <td>305</td>\n",
       "      <td>0.330</td>\n",
       "    </tr>\n",
       "    <tr>\n",
       "      <th>2</th>\n",
       "      <td>201104</td>\n",
       "      <td>817</td>\n",
       "      <td>310</td>\n",
       "      <td>0.379</td>\n",
       "    </tr>\n",
       "    <tr>\n",
       "      <th>3</th>\n",
       "      <td>201105</td>\n",
       "      <td>985</td>\n",
       "      <td>369</td>\n",
       "      <td>0.375</td>\n",
       "    </tr>\n",
       "    <tr>\n",
       "      <th>4</th>\n",
       "      <td>201106</td>\n",
       "      <td>943</td>\n",
       "      <td>417</td>\n",
       "      <td>0.442</td>\n",
       "    </tr>\n",
       "    <tr>\n",
       "      <th>5</th>\n",
       "      <td>201107</td>\n",
       "      <td>899</td>\n",
       "      <td>379</td>\n",
       "      <td>0.422</td>\n",
       "    </tr>\n",
       "    <tr>\n",
       "      <th>6</th>\n",
       "      <td>201108</td>\n",
       "      <td>867</td>\n",
       "      <td>391</td>\n",
       "      <td>0.451</td>\n",
       "    </tr>\n",
       "    <tr>\n",
       "      <th>7</th>\n",
       "      <td>201109</td>\n",
       "      <td>1177</td>\n",
       "      <td>417</td>\n",
       "      <td>0.354</td>\n",
       "    </tr>\n",
       "    <tr>\n",
       "      <th>8</th>\n",
       "      <td>201110</td>\n",
       "      <td>1285</td>\n",
       "      <td>502</td>\n",
       "      <td>0.391</td>\n",
       "    </tr>\n",
       "    <tr>\n",
       "      <th>9</th>\n",
       "      <td>201111</td>\n",
       "      <td>1548</td>\n",
       "      <td>616</td>\n",
       "      <td>0.398</td>\n",
       "    </tr>\n",
       "    <tr>\n",
       "      <th>10</th>\n",
       "      <td>201112</td>\n",
       "      <td>617</td>\n",
       "      <td>402</td>\n",
       "      <td>0.652</td>\n",
       "    </tr>\n",
       "  </tbody>\n",
       "</table>\n",
       "</div>"
      ],
      "text/plain": [
       "    Invoice_YearMonth  TotalUserCount  RetainedUserCount  Retension_Rate\n",
       "0              201102             714                263           0.368\n",
       "1              201103             923                305           0.330\n",
       "2              201104             817                310           0.379\n",
       "3              201105             985                369           0.375\n",
       "4              201106             943                417           0.442\n",
       "5              201107             899                379           0.422\n",
       "6              201108             867                391           0.451\n",
       "7              201109            1177                417           0.354\n",
       "8              201110            1285                502           0.391\n",
       "9              201111            1548                616           0.398\n",
       "10             201112             617                402           0.652"
      ]
     },
     "execution_count": 128,
     "metadata": {},
     "output_type": "execute_result"
    }
   ],
   "source": [
    "df_retension_f['Retension_Rate']= df_retension_f['RetainedUserCount'] / df_retension_f['TotalUserCount']\n",
    "df_retension_f['Retension_Rate'] = df_retension_f['Retension_Rate'].round(3)\n",
    "df_retension_f"
   ]
  },
  {
   "cell_type": "code",
   "execution_count": 129,
   "metadata": {},
   "outputs": [
    {
     "data": {
      "application/vnd.plotly.v1+json": {
       "config": {
        "plotlyServerURL": "https://plot.ly"
       },
       "data": [
        {
         "hovertemplate": "Invoice_YearMonth=%{x}<br>Retension_Rate=%{text}<extra></extra>",
         "legendgroup": "",
         "line": {
          "color": "#636efa",
          "dash": "solid"
         },
         "marker": {
          "symbol": "circle"
         },
         "mode": "text+lines+markers",
         "name": "",
         "orientation": "v",
         "showlegend": false,
         "text": [
          0.368,
          0.33,
          0.379,
          0.375,
          0.442,
          0.422,
          0.451,
          0.354,
          0.391,
          0.398,
          0.652
         ],
         "textposition": "top center",
         "type": "scatter",
         "x": [
          "201102",
          "201103",
          "201104",
          "201105",
          "201106",
          "201107",
          "201108",
          "201109",
          "201110",
          "201111",
          "201112"
         ],
         "xaxis": "x",
         "y": [
          0.368,
          0.33,
          0.379,
          0.375,
          0.442,
          0.422,
          0.451,
          0.354,
          0.391,
          0.398,
          0.652
         ],
         "yaxis": "y"
        }
       ],
       "layout": {
        "legend": {
         "tracegroupgap": 0
        },
        "margin": {
         "t": 60
        },
        "template": {
         "data": {
          "bar": [
           {
            "error_x": {
             "color": "#2a3f5f"
            },
            "error_y": {
             "color": "#2a3f5f"
            },
            "marker": {
             "line": {
              "color": "#E5ECF6",
              "width": 0.5
             },
             "pattern": {
              "fillmode": "overlay",
              "size": 10,
              "solidity": 0.2
             }
            },
            "type": "bar"
           }
          ],
          "barpolar": [
           {
            "marker": {
             "line": {
              "color": "#E5ECF6",
              "width": 0.5
             },
             "pattern": {
              "fillmode": "overlay",
              "size": 10,
              "solidity": 0.2
             }
            },
            "type": "barpolar"
           }
          ],
          "carpet": [
           {
            "aaxis": {
             "endlinecolor": "#2a3f5f",
             "gridcolor": "white",
             "linecolor": "white",
             "minorgridcolor": "white",
             "startlinecolor": "#2a3f5f"
            },
            "baxis": {
             "endlinecolor": "#2a3f5f",
             "gridcolor": "white",
             "linecolor": "white",
             "minorgridcolor": "white",
             "startlinecolor": "#2a3f5f"
            },
            "type": "carpet"
           }
          ],
          "choropleth": [
           {
            "colorbar": {
             "outlinewidth": 0,
             "ticks": ""
            },
            "type": "choropleth"
           }
          ],
          "contour": [
           {
            "colorbar": {
             "outlinewidth": 0,
             "ticks": ""
            },
            "colorscale": [
             [
              0,
              "#0d0887"
             ],
             [
              0.1111111111111111,
              "#46039f"
             ],
             [
              0.2222222222222222,
              "#7201a8"
             ],
             [
              0.3333333333333333,
              "#9c179e"
             ],
             [
              0.4444444444444444,
              "#bd3786"
             ],
             [
              0.5555555555555556,
              "#d8576b"
             ],
             [
              0.6666666666666666,
              "#ed7953"
             ],
             [
              0.7777777777777778,
              "#fb9f3a"
             ],
             [
              0.8888888888888888,
              "#fdca26"
             ],
             [
              1,
              "#f0f921"
             ]
            ],
            "type": "contour"
           }
          ],
          "contourcarpet": [
           {
            "colorbar": {
             "outlinewidth": 0,
             "ticks": ""
            },
            "type": "contourcarpet"
           }
          ],
          "heatmap": [
           {
            "colorbar": {
             "outlinewidth": 0,
             "ticks": ""
            },
            "colorscale": [
             [
              0,
              "#0d0887"
             ],
             [
              0.1111111111111111,
              "#46039f"
             ],
             [
              0.2222222222222222,
              "#7201a8"
             ],
             [
              0.3333333333333333,
              "#9c179e"
             ],
             [
              0.4444444444444444,
              "#bd3786"
             ],
             [
              0.5555555555555556,
              "#d8576b"
             ],
             [
              0.6666666666666666,
              "#ed7953"
             ],
             [
              0.7777777777777778,
              "#fb9f3a"
             ],
             [
              0.8888888888888888,
              "#fdca26"
             ],
             [
              1,
              "#f0f921"
             ]
            ],
            "type": "heatmap"
           }
          ],
          "heatmapgl": [
           {
            "colorbar": {
             "outlinewidth": 0,
             "ticks": ""
            },
            "colorscale": [
             [
              0,
              "#0d0887"
             ],
             [
              0.1111111111111111,
              "#46039f"
             ],
             [
              0.2222222222222222,
              "#7201a8"
             ],
             [
              0.3333333333333333,
              "#9c179e"
             ],
             [
              0.4444444444444444,
              "#bd3786"
             ],
             [
              0.5555555555555556,
              "#d8576b"
             ],
             [
              0.6666666666666666,
              "#ed7953"
             ],
             [
              0.7777777777777778,
              "#fb9f3a"
             ],
             [
              0.8888888888888888,
              "#fdca26"
             ],
             [
              1,
              "#f0f921"
             ]
            ],
            "type": "heatmapgl"
           }
          ],
          "histogram": [
           {
            "marker": {
             "pattern": {
              "fillmode": "overlay",
              "size": 10,
              "solidity": 0.2
             }
            },
            "type": "histogram"
           }
          ],
          "histogram2d": [
           {
            "colorbar": {
             "outlinewidth": 0,
             "ticks": ""
            },
            "colorscale": [
             [
              0,
              "#0d0887"
             ],
             [
              0.1111111111111111,
              "#46039f"
             ],
             [
              0.2222222222222222,
              "#7201a8"
             ],
             [
              0.3333333333333333,
              "#9c179e"
             ],
             [
              0.4444444444444444,
              "#bd3786"
             ],
             [
              0.5555555555555556,
              "#d8576b"
             ],
             [
              0.6666666666666666,
              "#ed7953"
             ],
             [
              0.7777777777777778,
              "#fb9f3a"
             ],
             [
              0.8888888888888888,
              "#fdca26"
             ],
             [
              1,
              "#f0f921"
             ]
            ],
            "type": "histogram2d"
           }
          ],
          "histogram2dcontour": [
           {
            "colorbar": {
             "outlinewidth": 0,
             "ticks": ""
            },
            "colorscale": [
             [
              0,
              "#0d0887"
             ],
             [
              0.1111111111111111,
              "#46039f"
             ],
             [
              0.2222222222222222,
              "#7201a8"
             ],
             [
              0.3333333333333333,
              "#9c179e"
             ],
             [
              0.4444444444444444,
              "#bd3786"
             ],
             [
              0.5555555555555556,
              "#d8576b"
             ],
             [
              0.6666666666666666,
              "#ed7953"
             ],
             [
              0.7777777777777778,
              "#fb9f3a"
             ],
             [
              0.8888888888888888,
              "#fdca26"
             ],
             [
              1,
              "#f0f921"
             ]
            ],
            "type": "histogram2dcontour"
           }
          ],
          "mesh3d": [
           {
            "colorbar": {
             "outlinewidth": 0,
             "ticks": ""
            },
            "type": "mesh3d"
           }
          ],
          "parcoords": [
           {
            "line": {
             "colorbar": {
              "outlinewidth": 0,
              "ticks": ""
             }
            },
            "type": "parcoords"
           }
          ],
          "pie": [
           {
            "automargin": true,
            "type": "pie"
           }
          ],
          "scatter": [
           {
            "marker": {
             "colorbar": {
              "outlinewidth": 0,
              "ticks": ""
             }
            },
            "type": "scatter"
           }
          ],
          "scatter3d": [
           {
            "line": {
             "colorbar": {
              "outlinewidth": 0,
              "ticks": ""
             }
            },
            "marker": {
             "colorbar": {
              "outlinewidth": 0,
              "ticks": ""
             }
            },
            "type": "scatter3d"
           }
          ],
          "scattercarpet": [
           {
            "marker": {
             "colorbar": {
              "outlinewidth": 0,
              "ticks": ""
             }
            },
            "type": "scattercarpet"
           }
          ],
          "scattergeo": [
           {
            "marker": {
             "colorbar": {
              "outlinewidth": 0,
              "ticks": ""
             }
            },
            "type": "scattergeo"
           }
          ],
          "scattergl": [
           {
            "marker": {
             "colorbar": {
              "outlinewidth": 0,
              "ticks": ""
             }
            },
            "type": "scattergl"
           }
          ],
          "scattermapbox": [
           {
            "marker": {
             "colorbar": {
              "outlinewidth": 0,
              "ticks": ""
             }
            },
            "type": "scattermapbox"
           }
          ],
          "scatterpolar": [
           {
            "marker": {
             "colorbar": {
              "outlinewidth": 0,
              "ticks": ""
             }
            },
            "type": "scatterpolar"
           }
          ],
          "scatterpolargl": [
           {
            "marker": {
             "colorbar": {
              "outlinewidth": 0,
              "ticks": ""
             }
            },
            "type": "scatterpolargl"
           }
          ],
          "scatterternary": [
           {
            "marker": {
             "colorbar": {
              "outlinewidth": 0,
              "ticks": ""
             }
            },
            "type": "scatterternary"
           }
          ],
          "surface": [
           {
            "colorbar": {
             "outlinewidth": 0,
             "ticks": ""
            },
            "colorscale": [
             [
              0,
              "#0d0887"
             ],
             [
              0.1111111111111111,
              "#46039f"
             ],
             [
              0.2222222222222222,
              "#7201a8"
             ],
             [
              0.3333333333333333,
              "#9c179e"
             ],
             [
              0.4444444444444444,
              "#bd3786"
             ],
             [
              0.5555555555555556,
              "#d8576b"
             ],
             [
              0.6666666666666666,
              "#ed7953"
             ],
             [
              0.7777777777777778,
              "#fb9f3a"
             ],
             [
              0.8888888888888888,
              "#fdca26"
             ],
             [
              1,
              "#f0f921"
             ]
            ],
            "type": "surface"
           }
          ],
          "table": [
           {
            "cells": {
             "fill": {
              "color": "#EBF0F8"
             },
             "line": {
              "color": "white"
             }
            },
            "header": {
             "fill": {
              "color": "#C8D4E3"
             },
             "line": {
              "color": "white"
             }
            },
            "type": "table"
           }
          ]
         },
         "layout": {
          "annotationdefaults": {
           "arrowcolor": "#2a3f5f",
           "arrowhead": 0,
           "arrowwidth": 1
          },
          "autotypenumbers": "strict",
          "coloraxis": {
           "colorbar": {
            "outlinewidth": 0,
            "ticks": ""
           }
          },
          "colorscale": {
           "diverging": [
            [
             0,
             "#8e0152"
            ],
            [
             0.1,
             "#c51b7d"
            ],
            [
             0.2,
             "#de77ae"
            ],
            [
             0.3,
             "#f1b6da"
            ],
            [
             0.4,
             "#fde0ef"
            ],
            [
             0.5,
             "#f7f7f7"
            ],
            [
             0.6,
             "#e6f5d0"
            ],
            [
             0.7,
             "#b8e186"
            ],
            [
             0.8,
             "#7fbc41"
            ],
            [
             0.9,
             "#4d9221"
            ],
            [
             1,
             "#276419"
            ]
           ],
           "sequential": [
            [
             0,
             "#0d0887"
            ],
            [
             0.1111111111111111,
             "#46039f"
            ],
            [
             0.2222222222222222,
             "#7201a8"
            ],
            [
             0.3333333333333333,
             "#9c179e"
            ],
            [
             0.4444444444444444,
             "#bd3786"
            ],
            [
             0.5555555555555556,
             "#d8576b"
            ],
            [
             0.6666666666666666,
             "#ed7953"
            ],
            [
             0.7777777777777778,
             "#fb9f3a"
            ],
            [
             0.8888888888888888,
             "#fdca26"
            ],
            [
             1,
             "#f0f921"
            ]
           ],
           "sequentialminus": [
            [
             0,
             "#0d0887"
            ],
            [
             0.1111111111111111,
             "#46039f"
            ],
            [
             0.2222222222222222,
             "#7201a8"
            ],
            [
             0.3333333333333333,
             "#9c179e"
            ],
            [
             0.4444444444444444,
             "#bd3786"
            ],
            [
             0.5555555555555556,
             "#d8576b"
            ],
            [
             0.6666666666666666,
             "#ed7953"
            ],
            [
             0.7777777777777778,
             "#fb9f3a"
            ],
            [
             0.8888888888888888,
             "#fdca26"
            ],
            [
             1,
             "#f0f921"
            ]
           ]
          },
          "colorway": [
           "#636efa",
           "#EF553B",
           "#00cc96",
           "#ab63fa",
           "#FFA15A",
           "#19d3f3",
           "#FF6692",
           "#B6E880",
           "#FF97FF",
           "#FECB52"
          ],
          "font": {
           "color": "#2a3f5f"
          },
          "geo": {
           "bgcolor": "white",
           "lakecolor": "white",
           "landcolor": "#E5ECF6",
           "showlakes": true,
           "showland": true,
           "subunitcolor": "white"
          },
          "hoverlabel": {
           "align": "left"
          },
          "hovermode": "closest",
          "mapbox": {
           "style": "light"
          },
          "paper_bgcolor": "white",
          "plot_bgcolor": "#E5ECF6",
          "polar": {
           "angularaxis": {
            "gridcolor": "white",
            "linecolor": "white",
            "ticks": ""
           },
           "bgcolor": "#E5ECF6",
           "radialaxis": {
            "gridcolor": "white",
            "linecolor": "white",
            "ticks": ""
           }
          },
          "scene": {
           "xaxis": {
            "backgroundcolor": "#E5ECF6",
            "gridcolor": "white",
            "gridwidth": 2,
            "linecolor": "white",
            "showbackground": true,
            "ticks": "",
            "zerolinecolor": "white"
           },
           "yaxis": {
            "backgroundcolor": "#E5ECF6",
            "gridcolor": "white",
            "gridwidth": 2,
            "linecolor": "white",
            "showbackground": true,
            "ticks": "",
            "zerolinecolor": "white"
           },
           "zaxis": {
            "backgroundcolor": "#E5ECF6",
            "gridcolor": "white",
            "gridwidth": 2,
            "linecolor": "white",
            "showbackground": true,
            "ticks": "",
            "zerolinecolor": "white"
           }
          },
          "shapedefaults": {
           "line": {
            "color": "#2a3f5f"
           }
          },
          "ternary": {
           "aaxis": {
            "gridcolor": "white",
            "linecolor": "white",
            "ticks": ""
           },
           "baxis": {
            "gridcolor": "white",
            "linecolor": "white",
            "ticks": ""
           },
           "bgcolor": "#E5ECF6",
           "caxis": {
            "gridcolor": "white",
            "linecolor": "white",
            "ticks": ""
           }
          },
          "title": {
           "x": 0.05
          },
          "xaxis": {
           "automargin": true,
           "gridcolor": "white",
           "linecolor": "white",
           "ticks": "",
           "title": {
            "standoff": 15
           },
           "zerolinecolor": "white",
           "zerolinewidth": 2
          },
          "yaxis": {
           "automargin": true,
           "gridcolor": "white",
           "linecolor": "white",
           "ticks": "",
           "title": {
            "standoff": 15
           },
           "zerolinecolor": "white",
           "zerolinewidth": 2
          }
         }
        },
        "xaxis": {
         "anchor": "y",
         "domain": [
          0,
          1
         ],
         "title": {
          "text": "Invoice_YearMonth"
         }
        },
        "yaxis": {
         "anchor": "x",
         "domain": [
          0,
          1
         ],
         "title": {
          "text": "Retension_Rate"
         }
        }
       }
      }
     },
     "metadata": {},
     "output_type": "display_data"
    }
   ],
   "source": [
    "df_retension_f['Invoice_YearMonth'] = df_retension_f['Invoice_YearMonth'].astype(str)\n",
    "fig=px.line(df_retension_f,x='Invoice_YearMonth',y='Retension_Rate',text='Retension_Rate')\n",
    "fig.update_traces(textposition=\"top center\")\n",
    "fig.show()"
   ]
  },
  {
   "cell_type": "markdown",
   "metadata": {},
   "source": [
    "Cohort "
   ]
  },
  {
   "cell_type": "code",
   "execution_count": 130,
   "metadata": {},
   "outputs": [
    {
     "data": {
      "text/html": [
       "<div>\n",
       "<style scoped>\n",
       "    .dataframe tbody tr th:only-of-type {\n",
       "        vertical-align: middle;\n",
       "    }\n",
       "\n",
       "    .dataframe tbody tr th {\n",
       "        vertical-align: top;\n",
       "    }\n",
       "\n",
       "    .dataframe thead th {\n",
       "        text-align: right;\n",
       "    }\n",
       "</style>\n",
       "<table border=\"1\" class=\"dataframe\">\n",
       "  <thead>\n",
       "    <tr style=\"text-align: right;\">\n",
       "      <th></th>\n",
       "      <th>CustomerID</th>\n",
       "      <th>MinPurchaseYearMonth</th>\n",
       "    </tr>\n",
       "  </thead>\n",
       "  <tbody>\n",
       "    <tr>\n",
       "      <th>0</th>\n",
       "      <td>12346.0</td>\n",
       "      <td>201101</td>\n",
       "    </tr>\n",
       "    <tr>\n",
       "      <th>1</th>\n",
       "      <td>12747.0</td>\n",
       "      <td>201012</td>\n",
       "    </tr>\n",
       "    <tr>\n",
       "      <th>2</th>\n",
       "      <td>12748.0</td>\n",
       "      <td>201012</td>\n",
       "    </tr>\n",
       "    <tr>\n",
       "      <th>3</th>\n",
       "      <td>12749.0</td>\n",
       "      <td>201105</td>\n",
       "    </tr>\n",
       "    <tr>\n",
       "      <th>4</th>\n",
       "      <td>12820.0</td>\n",
       "      <td>201101</td>\n",
       "    </tr>\n",
       "  </tbody>\n",
       "</table>\n",
       "</div>"
      ],
      "text/plain": [
       "   CustomerID  MinPurchaseYearMonth\n",
       "0     12346.0                201101\n",
       "1     12747.0                201012\n",
       "2     12748.0                201012\n",
       "3     12749.0                201105\n",
       "4     12820.0                201101"
      ]
     },
     "execution_count": 130,
     "metadata": {},
     "output_type": "execute_result"
    }
   ],
   "source": [
    "df_min_purchase.head()"
   ]
  },
  {
   "cell_type": "code",
   "execution_count": 131,
   "metadata": {},
   "outputs": [
    {
     "data": {
      "text/html": [
       "<div>\n",
       "<style scoped>\n",
       "    .dataframe tbody tr th:only-of-type {\n",
       "        vertical-align: middle;\n",
       "    }\n",
       "\n",
       "    .dataframe tbody tr th {\n",
       "        vertical-align: top;\n",
       "    }\n",
       "\n",
       "    .dataframe thead th {\n",
       "        text-align: right;\n",
       "    }\n",
       "</style>\n",
       "<table border=\"1\" class=\"dataframe\">\n",
       "  <thead>\n",
       "    <tr style=\"text-align: right;\">\n",
       "      <th></th>\n",
       "      <th>CustomerID</th>\n",
       "      <th>Invoice_YearMonth</th>\n",
       "      <th>Revenue</th>\n",
       "    </tr>\n",
       "  </thead>\n",
       "  <tbody>\n",
       "    <tr>\n",
       "      <th>0</th>\n",
       "      <td>12346.0</td>\n",
       "      <td>201101</td>\n",
       "      <td>0.00</td>\n",
       "    </tr>\n",
       "    <tr>\n",
       "      <th>1</th>\n",
       "      <td>12747.0</td>\n",
       "      <td>201012</td>\n",
       "      <td>706.27</td>\n",
       "    </tr>\n",
       "    <tr>\n",
       "      <th>2</th>\n",
       "      <td>12747.0</td>\n",
       "      <td>201101</td>\n",
       "      <td>303.04</td>\n",
       "    </tr>\n",
       "    <tr>\n",
       "      <th>3</th>\n",
       "      <td>12747.0</td>\n",
       "      <td>201103</td>\n",
       "      <td>310.78</td>\n",
       "    </tr>\n",
       "    <tr>\n",
       "      <th>4</th>\n",
       "      <td>12747.0</td>\n",
       "      <td>201105</td>\n",
       "      <td>771.31</td>\n",
       "    </tr>\n",
       "  </tbody>\n",
       "</table>\n",
       "</div>"
      ],
      "text/plain": [
       "   CustomerID  Invoice_YearMonth  Revenue\n",
       "0     12346.0             201101     0.00\n",
       "1     12747.0             201012   706.27\n",
       "2     12747.0             201101   303.04\n",
       "3     12747.0             201103   310.78\n",
       "4     12747.0             201105   771.31"
      ]
     },
     "execution_count": 131,
     "metadata": {},
     "output_type": "execute_result"
    }
   ],
   "source": [
    "df_user_purchase.head()"
   ]
  },
  {
   "cell_type": "code",
   "execution_count": 132,
   "metadata": {},
   "outputs": [
    {
     "data": {
      "text/html": [
       "<div>\n",
       "<style scoped>\n",
       "    .dataframe tbody tr th:only-of-type {\n",
       "        vertical-align: middle;\n",
       "    }\n",
       "\n",
       "    .dataframe tbody tr th {\n",
       "        vertical-align: top;\n",
       "    }\n",
       "\n",
       "    .dataframe thead th {\n",
       "        text-align: right;\n",
       "    }\n",
       "</style>\n",
       "<table border=\"1\" class=\"dataframe\">\n",
       "  <thead>\n",
       "    <tr style=\"text-align: right;\">\n",
       "      <th>Invoice_YearMonth</th>\n",
       "      <th>CustomerID</th>\n",
       "      <th>201012</th>\n",
       "      <th>201101</th>\n",
       "      <th>201102</th>\n",
       "      <th>201103</th>\n",
       "      <th>201104</th>\n",
       "      <th>201105</th>\n",
       "      <th>201106</th>\n",
       "      <th>201107</th>\n",
       "      <th>201108</th>\n",
       "      <th>201109</th>\n",
       "      <th>201110</th>\n",
       "      <th>201111</th>\n",
       "      <th>201112</th>\n",
       "    </tr>\n",
       "  </thead>\n",
       "  <tbody>\n",
       "    <tr>\n",
       "      <th>0</th>\n",
       "      <td>12346.0</td>\n",
       "      <td>0</td>\n",
       "      <td>1</td>\n",
       "      <td>0</td>\n",
       "      <td>0</td>\n",
       "      <td>0</td>\n",
       "      <td>0</td>\n",
       "      <td>0</td>\n",
       "      <td>0</td>\n",
       "      <td>0</td>\n",
       "      <td>0</td>\n",
       "      <td>0</td>\n",
       "      <td>0</td>\n",
       "      <td>0</td>\n",
       "    </tr>\n",
       "    <tr>\n",
       "      <th>1</th>\n",
       "      <td>12747.0</td>\n",
       "      <td>1</td>\n",
       "      <td>1</td>\n",
       "      <td>0</td>\n",
       "      <td>1</td>\n",
       "      <td>0</td>\n",
       "      <td>1</td>\n",
       "      <td>1</td>\n",
       "      <td>0</td>\n",
       "      <td>1</td>\n",
       "      <td>0</td>\n",
       "      <td>1</td>\n",
       "      <td>1</td>\n",
       "      <td>1</td>\n",
       "    </tr>\n",
       "    <tr>\n",
       "      <th>2</th>\n",
       "      <td>12748.0</td>\n",
       "      <td>1</td>\n",
       "      <td>1</td>\n",
       "      <td>1</td>\n",
       "      <td>1</td>\n",
       "      <td>1</td>\n",
       "      <td>1</td>\n",
       "      <td>1</td>\n",
       "      <td>1</td>\n",
       "      <td>1</td>\n",
       "      <td>1</td>\n",
       "      <td>1</td>\n",
       "      <td>1</td>\n",
       "      <td>1</td>\n",
       "    </tr>\n",
       "    <tr>\n",
       "      <th>3</th>\n",
       "      <td>12749.0</td>\n",
       "      <td>0</td>\n",
       "      <td>0</td>\n",
       "      <td>0</td>\n",
       "      <td>0</td>\n",
       "      <td>0</td>\n",
       "      <td>1</td>\n",
       "      <td>0</td>\n",
       "      <td>0</td>\n",
       "      <td>1</td>\n",
       "      <td>0</td>\n",
       "      <td>0</td>\n",
       "      <td>1</td>\n",
       "      <td>1</td>\n",
       "    </tr>\n",
       "    <tr>\n",
       "      <th>4</th>\n",
       "      <td>12820.0</td>\n",
       "      <td>0</td>\n",
       "      <td>1</td>\n",
       "      <td>0</td>\n",
       "      <td>0</td>\n",
       "      <td>0</td>\n",
       "      <td>0</td>\n",
       "      <td>0</td>\n",
       "      <td>0</td>\n",
       "      <td>0</td>\n",
       "      <td>1</td>\n",
       "      <td>1</td>\n",
       "      <td>0</td>\n",
       "      <td>1</td>\n",
       "    </tr>\n",
       "  </tbody>\n",
       "</table>\n",
       "</div>"
      ],
      "text/plain": [
       "Invoice_YearMonth  CustomerID  201012  201101  201102  201103  201104  201105  \\\n",
       "0                     12346.0       0       1       0       0       0       0   \n",
       "1                     12747.0       1       1       0       1       0       1   \n",
       "2                     12748.0       1       1       1       1       1       1   \n",
       "3                     12749.0       0       0       0       0       0       1   \n",
       "4                     12820.0       0       1       0       0       0       0   \n",
       "\n",
       "Invoice_YearMonth  201106  201107  201108  201109  201110  201111  201112  \n",
       "0                       0       0       0       0       0       0       0  \n",
       "1                       1       0       1       0       1       1       1  \n",
       "2                       1       1       1       1       1       1       1  \n",
       "3                       0       0       1       0       0       1       1  \n",
       "4                       0       0       0       1       1       0       1  "
      ]
     },
     "execution_count": 132,
     "metadata": {},
     "output_type": "execute_result"
    }
   ],
   "source": [
    "df_retension.head()"
   ]
  },
  {
   "cell_type": "code",
   "execution_count": 133,
   "metadata": {},
   "outputs": [
    {
     "data": {
      "text/html": [
       "<div>\n",
       "<style scoped>\n",
       "    .dataframe tbody tr th:only-of-type {\n",
       "        vertical-align: middle;\n",
       "    }\n",
       "\n",
       "    .dataframe tbody tr th {\n",
       "        vertical-align: top;\n",
       "    }\n",
       "\n",
       "    .dataframe thead th {\n",
       "        text-align: right;\n",
       "    }\n",
       "</style>\n",
       "<table border=\"1\" class=\"dataframe\">\n",
       "  <thead>\n",
       "    <tr style=\"text-align: right;\">\n",
       "      <th></th>\n",
       "      <th>CustomerID</th>\n",
       "      <th>201012</th>\n",
       "      <th>201101</th>\n",
       "      <th>201102</th>\n",
       "      <th>201103</th>\n",
       "      <th>201104</th>\n",
       "      <th>201105</th>\n",
       "      <th>201106</th>\n",
       "      <th>201107</th>\n",
       "      <th>201108</th>\n",
       "      <th>201109</th>\n",
       "      <th>201110</th>\n",
       "      <th>201111</th>\n",
       "      <th>201112</th>\n",
       "      <th>MinPurchaseYearMonth</th>\n",
       "    </tr>\n",
       "  </thead>\n",
       "  <tbody>\n",
       "    <tr>\n",
       "      <th>0</th>\n",
       "      <td>12346.0</td>\n",
       "      <td>0</td>\n",
       "      <td>1</td>\n",
       "      <td>0</td>\n",
       "      <td>0</td>\n",
       "      <td>0</td>\n",
       "      <td>0</td>\n",
       "      <td>0</td>\n",
       "      <td>0</td>\n",
       "      <td>0</td>\n",
       "      <td>0</td>\n",
       "      <td>0</td>\n",
       "      <td>0</td>\n",
       "      <td>0</td>\n",
       "      <td>201101</td>\n",
       "    </tr>\n",
       "    <tr>\n",
       "      <th>1</th>\n",
       "      <td>12747.0</td>\n",
       "      <td>1</td>\n",
       "      <td>1</td>\n",
       "      <td>0</td>\n",
       "      <td>1</td>\n",
       "      <td>0</td>\n",
       "      <td>1</td>\n",
       "      <td>1</td>\n",
       "      <td>0</td>\n",
       "      <td>1</td>\n",
       "      <td>0</td>\n",
       "      <td>1</td>\n",
       "      <td>1</td>\n",
       "      <td>1</td>\n",
       "      <td>201012</td>\n",
       "    </tr>\n",
       "    <tr>\n",
       "      <th>2</th>\n",
       "      <td>12748.0</td>\n",
       "      <td>1</td>\n",
       "      <td>1</td>\n",
       "      <td>1</td>\n",
       "      <td>1</td>\n",
       "      <td>1</td>\n",
       "      <td>1</td>\n",
       "      <td>1</td>\n",
       "      <td>1</td>\n",
       "      <td>1</td>\n",
       "      <td>1</td>\n",
       "      <td>1</td>\n",
       "      <td>1</td>\n",
       "      <td>1</td>\n",
       "      <td>201012</td>\n",
       "    </tr>\n",
       "    <tr>\n",
       "      <th>3</th>\n",
       "      <td>12749.0</td>\n",
       "      <td>0</td>\n",
       "      <td>0</td>\n",
       "      <td>0</td>\n",
       "      <td>0</td>\n",
       "      <td>0</td>\n",
       "      <td>1</td>\n",
       "      <td>0</td>\n",
       "      <td>0</td>\n",
       "      <td>1</td>\n",
       "      <td>0</td>\n",
       "      <td>0</td>\n",
       "      <td>1</td>\n",
       "      <td>1</td>\n",
       "      <td>201105</td>\n",
       "    </tr>\n",
       "    <tr>\n",
       "      <th>4</th>\n",
       "      <td>12820.0</td>\n",
       "      <td>0</td>\n",
       "      <td>1</td>\n",
       "      <td>0</td>\n",
       "      <td>0</td>\n",
       "      <td>0</td>\n",
       "      <td>0</td>\n",
       "      <td>0</td>\n",
       "      <td>0</td>\n",
       "      <td>0</td>\n",
       "      <td>1</td>\n",
       "      <td>1</td>\n",
       "      <td>0</td>\n",
       "      <td>1</td>\n",
       "      <td>201101</td>\n",
       "    </tr>\n",
       "    <tr>\n",
       "      <th>...</th>\n",
       "      <td>...</td>\n",
       "      <td>...</td>\n",
       "      <td>...</td>\n",
       "      <td>...</td>\n",
       "      <td>...</td>\n",
       "      <td>...</td>\n",
       "      <td>...</td>\n",
       "      <td>...</td>\n",
       "      <td>...</td>\n",
       "      <td>...</td>\n",
       "      <td>...</td>\n",
       "      <td>...</td>\n",
       "      <td>...</td>\n",
       "      <td>...</td>\n",
       "      <td>...</td>\n",
       "    </tr>\n",
       "    <tr>\n",
       "      <th>3945</th>\n",
       "      <td>18280.0</td>\n",
       "      <td>0</td>\n",
       "      <td>0</td>\n",
       "      <td>0</td>\n",
       "      <td>1</td>\n",
       "      <td>0</td>\n",
       "      <td>0</td>\n",
       "      <td>0</td>\n",
       "      <td>0</td>\n",
       "      <td>0</td>\n",
       "      <td>0</td>\n",
       "      <td>0</td>\n",
       "      <td>0</td>\n",
       "      <td>0</td>\n",
       "      <td>201103</td>\n",
       "    </tr>\n",
       "    <tr>\n",
       "      <th>3946</th>\n",
       "      <td>18281.0</td>\n",
       "      <td>0</td>\n",
       "      <td>0</td>\n",
       "      <td>0</td>\n",
       "      <td>0</td>\n",
       "      <td>0</td>\n",
       "      <td>0</td>\n",
       "      <td>1</td>\n",
       "      <td>0</td>\n",
       "      <td>0</td>\n",
       "      <td>0</td>\n",
       "      <td>0</td>\n",
       "      <td>0</td>\n",
       "      <td>0</td>\n",
       "      <td>201106</td>\n",
       "    </tr>\n",
       "    <tr>\n",
       "      <th>3947</th>\n",
       "      <td>18282.0</td>\n",
       "      <td>0</td>\n",
       "      <td>0</td>\n",
       "      <td>0</td>\n",
       "      <td>0</td>\n",
       "      <td>0</td>\n",
       "      <td>0</td>\n",
       "      <td>0</td>\n",
       "      <td>0</td>\n",
       "      <td>1</td>\n",
       "      <td>0</td>\n",
       "      <td>0</td>\n",
       "      <td>0</td>\n",
       "      <td>1</td>\n",
       "      <td>201108</td>\n",
       "    </tr>\n",
       "    <tr>\n",
       "      <th>3948</th>\n",
       "      <td>18283.0</td>\n",
       "      <td>0</td>\n",
       "      <td>1</td>\n",
       "      <td>1</td>\n",
       "      <td>0</td>\n",
       "      <td>1</td>\n",
       "      <td>1</td>\n",
       "      <td>1</td>\n",
       "      <td>1</td>\n",
       "      <td>0</td>\n",
       "      <td>1</td>\n",
       "      <td>1</td>\n",
       "      <td>1</td>\n",
       "      <td>1</td>\n",
       "      <td>201101</td>\n",
       "    </tr>\n",
       "    <tr>\n",
       "      <th>3949</th>\n",
       "      <td>18287.0</td>\n",
       "      <td>0</td>\n",
       "      <td>0</td>\n",
       "      <td>0</td>\n",
       "      <td>0</td>\n",
       "      <td>0</td>\n",
       "      <td>1</td>\n",
       "      <td>0</td>\n",
       "      <td>0</td>\n",
       "      <td>0</td>\n",
       "      <td>0</td>\n",
       "      <td>1</td>\n",
       "      <td>0</td>\n",
       "      <td>0</td>\n",
       "      <td>201105</td>\n",
       "    </tr>\n",
       "  </tbody>\n",
       "</table>\n",
       "<p>3950 rows × 15 columns</p>\n",
       "</div>"
      ],
      "text/plain": [
       "      CustomerID  201012  201101  201102  201103  201104  201105  201106  \\\n",
       "0        12346.0       0       1       0       0       0       0       0   \n",
       "1        12747.0       1       1       0       1       0       1       1   \n",
       "2        12748.0       1       1       1       1       1       1       1   \n",
       "3        12749.0       0       0       0       0       0       1       0   \n",
       "4        12820.0       0       1       0       0       0       0       0   \n",
       "...          ...     ...     ...     ...     ...     ...     ...     ...   \n",
       "3945     18280.0       0       0       0       1       0       0       0   \n",
       "3946     18281.0       0       0       0       0       0       0       1   \n",
       "3947     18282.0       0       0       0       0       0       0       0   \n",
       "3948     18283.0       0       1       1       0       1       1       1   \n",
       "3949     18287.0       0       0       0       0       0       1       0   \n",
       "\n",
       "      201107  201108  201109  201110  201111  201112  MinPurchaseYearMonth  \n",
       "0          0       0       0       0       0       0                201101  \n",
       "1          0       1       0       1       1       1                201012  \n",
       "2          1       1       1       1       1       1                201012  \n",
       "3          0       1       0       0       1       1                201105  \n",
       "4          0       0       1       1       0       1                201101  \n",
       "...      ...     ...     ...     ...     ...     ...                   ...  \n",
       "3945       0       0       0       0       0       0                201103  \n",
       "3946       0       0       0       0       0       0                201106  \n",
       "3947       0       1       0       0       0       1                201108  \n",
       "3948       1       0       1       1       1       1                201101  \n",
       "3949       0       0       0       1       0       0                201105  \n",
       "\n",
       "[3950 rows x 15 columns]"
      ]
     },
     "execution_count": 133,
     "metadata": {},
     "output_type": "execute_result"
    }
   ],
   "source": [
    "df_retension = pd.merge(df_retension,df_min_purchase[['CustomerID','MinPurchaseYearMonth']],on='CustomerID')\n",
    "df_retension"
   ]
  },
  {
   "cell_type": "code",
   "execution_count": 134,
   "metadata": {},
   "outputs": [
    {
     "data": {
      "text/html": [
       "<div>\n",
       "<style scoped>\n",
       "    .dataframe tbody tr th:only-of-type {\n",
       "        vertical-align: middle;\n",
       "    }\n",
       "\n",
       "    .dataframe tbody tr th {\n",
       "        vertical-align: top;\n",
       "    }\n",
       "\n",
       "    .dataframe thead th {\n",
       "        text-align: right;\n",
       "    }\n",
       "</style>\n",
       "<table border=\"1\" class=\"dataframe\">\n",
       "  <thead>\n",
       "    <tr style=\"text-align: right;\">\n",
       "      <th></th>\n",
       "      <th>m_CustomerID</th>\n",
       "      <th>m_201012</th>\n",
       "      <th>m_201101</th>\n",
       "      <th>m_201102</th>\n",
       "      <th>m_201103</th>\n",
       "      <th>m_201104</th>\n",
       "      <th>m_201105</th>\n",
       "      <th>m_201106</th>\n",
       "      <th>m_201107</th>\n",
       "      <th>m_201108</th>\n",
       "      <th>m_201109</th>\n",
       "      <th>m_201110</th>\n",
       "      <th>m_201111</th>\n",
       "      <th>m_201112</th>\n",
       "      <th>MinPurchaseYearMonth</th>\n",
       "    </tr>\n",
       "  </thead>\n",
       "  <tbody>\n",
       "    <tr>\n",
       "      <th>0</th>\n",
       "      <td>12346.0</td>\n",
       "      <td>0</td>\n",
       "      <td>1</td>\n",
       "      <td>0</td>\n",
       "      <td>0</td>\n",
       "      <td>0</td>\n",
       "      <td>0</td>\n",
       "      <td>0</td>\n",
       "      <td>0</td>\n",
       "      <td>0</td>\n",
       "      <td>0</td>\n",
       "      <td>0</td>\n",
       "      <td>0</td>\n",
       "      <td>0</td>\n",
       "      <td>201101</td>\n",
       "    </tr>\n",
       "    <tr>\n",
       "      <th>1</th>\n",
       "      <td>12747.0</td>\n",
       "      <td>1</td>\n",
       "      <td>1</td>\n",
       "      <td>0</td>\n",
       "      <td>1</td>\n",
       "      <td>0</td>\n",
       "      <td>1</td>\n",
       "      <td>1</td>\n",
       "      <td>0</td>\n",
       "      <td>1</td>\n",
       "      <td>0</td>\n",
       "      <td>1</td>\n",
       "      <td>1</td>\n",
       "      <td>1</td>\n",
       "      <td>201012</td>\n",
       "    </tr>\n",
       "    <tr>\n",
       "      <th>2</th>\n",
       "      <td>12748.0</td>\n",
       "      <td>1</td>\n",
       "      <td>1</td>\n",
       "      <td>1</td>\n",
       "      <td>1</td>\n",
       "      <td>1</td>\n",
       "      <td>1</td>\n",
       "      <td>1</td>\n",
       "      <td>1</td>\n",
       "      <td>1</td>\n",
       "      <td>1</td>\n",
       "      <td>1</td>\n",
       "      <td>1</td>\n",
       "      <td>1</td>\n",
       "      <td>201012</td>\n",
       "    </tr>\n",
       "    <tr>\n",
       "      <th>3</th>\n",
       "      <td>12749.0</td>\n",
       "      <td>0</td>\n",
       "      <td>0</td>\n",
       "      <td>0</td>\n",
       "      <td>0</td>\n",
       "      <td>0</td>\n",
       "      <td>1</td>\n",
       "      <td>0</td>\n",
       "      <td>0</td>\n",
       "      <td>1</td>\n",
       "      <td>0</td>\n",
       "      <td>0</td>\n",
       "      <td>1</td>\n",
       "      <td>1</td>\n",
       "      <td>201105</td>\n",
       "    </tr>\n",
       "    <tr>\n",
       "      <th>4</th>\n",
       "      <td>12820.0</td>\n",
       "      <td>0</td>\n",
       "      <td>1</td>\n",
       "      <td>0</td>\n",
       "      <td>0</td>\n",
       "      <td>0</td>\n",
       "      <td>0</td>\n",
       "      <td>0</td>\n",
       "      <td>0</td>\n",
       "      <td>0</td>\n",
       "      <td>1</td>\n",
       "      <td>1</td>\n",
       "      <td>0</td>\n",
       "      <td>1</td>\n",
       "      <td>201101</td>\n",
       "    </tr>\n",
       "    <tr>\n",
       "      <th>...</th>\n",
       "      <td>...</td>\n",
       "      <td>...</td>\n",
       "      <td>...</td>\n",
       "      <td>...</td>\n",
       "      <td>...</td>\n",
       "      <td>...</td>\n",
       "      <td>...</td>\n",
       "      <td>...</td>\n",
       "      <td>...</td>\n",
       "      <td>...</td>\n",
       "      <td>...</td>\n",
       "      <td>...</td>\n",
       "      <td>...</td>\n",
       "      <td>...</td>\n",
       "      <td>...</td>\n",
       "    </tr>\n",
       "    <tr>\n",
       "      <th>3945</th>\n",
       "      <td>18280.0</td>\n",
       "      <td>0</td>\n",
       "      <td>0</td>\n",
       "      <td>0</td>\n",
       "      <td>1</td>\n",
       "      <td>0</td>\n",
       "      <td>0</td>\n",
       "      <td>0</td>\n",
       "      <td>0</td>\n",
       "      <td>0</td>\n",
       "      <td>0</td>\n",
       "      <td>0</td>\n",
       "      <td>0</td>\n",
       "      <td>0</td>\n",
       "      <td>201103</td>\n",
       "    </tr>\n",
       "    <tr>\n",
       "      <th>3946</th>\n",
       "      <td>18281.0</td>\n",
       "      <td>0</td>\n",
       "      <td>0</td>\n",
       "      <td>0</td>\n",
       "      <td>0</td>\n",
       "      <td>0</td>\n",
       "      <td>0</td>\n",
       "      <td>1</td>\n",
       "      <td>0</td>\n",
       "      <td>0</td>\n",
       "      <td>0</td>\n",
       "      <td>0</td>\n",
       "      <td>0</td>\n",
       "      <td>0</td>\n",
       "      <td>201106</td>\n",
       "    </tr>\n",
       "    <tr>\n",
       "      <th>3947</th>\n",
       "      <td>18282.0</td>\n",
       "      <td>0</td>\n",
       "      <td>0</td>\n",
       "      <td>0</td>\n",
       "      <td>0</td>\n",
       "      <td>0</td>\n",
       "      <td>0</td>\n",
       "      <td>0</td>\n",
       "      <td>0</td>\n",
       "      <td>1</td>\n",
       "      <td>0</td>\n",
       "      <td>0</td>\n",
       "      <td>0</td>\n",
       "      <td>1</td>\n",
       "      <td>201108</td>\n",
       "    </tr>\n",
       "    <tr>\n",
       "      <th>3948</th>\n",
       "      <td>18283.0</td>\n",
       "      <td>0</td>\n",
       "      <td>1</td>\n",
       "      <td>1</td>\n",
       "      <td>0</td>\n",
       "      <td>1</td>\n",
       "      <td>1</td>\n",
       "      <td>1</td>\n",
       "      <td>1</td>\n",
       "      <td>0</td>\n",
       "      <td>1</td>\n",
       "      <td>1</td>\n",
       "      <td>1</td>\n",
       "      <td>1</td>\n",
       "      <td>201101</td>\n",
       "    </tr>\n",
       "    <tr>\n",
       "      <th>3949</th>\n",
       "      <td>18287.0</td>\n",
       "      <td>0</td>\n",
       "      <td>0</td>\n",
       "      <td>0</td>\n",
       "      <td>0</td>\n",
       "      <td>0</td>\n",
       "      <td>1</td>\n",
       "      <td>0</td>\n",
       "      <td>0</td>\n",
       "      <td>0</td>\n",
       "      <td>0</td>\n",
       "      <td>1</td>\n",
       "      <td>0</td>\n",
       "      <td>0</td>\n",
       "      <td>201105</td>\n",
       "    </tr>\n",
       "  </tbody>\n",
       "</table>\n",
       "<p>3950 rows × 15 columns</p>\n",
       "</div>"
      ],
      "text/plain": [
       "      m_CustomerID  m_201012  m_201101  m_201102  m_201103  m_201104  \\\n",
       "0          12346.0         0         1         0         0         0   \n",
       "1          12747.0         1         1         0         1         0   \n",
       "2          12748.0         1         1         1         1         1   \n",
       "3          12749.0         0         0         0         0         0   \n",
       "4          12820.0         0         1         0         0         0   \n",
       "...            ...       ...       ...       ...       ...       ...   \n",
       "3945       18280.0         0         0         0         1         0   \n",
       "3946       18281.0         0         0         0         0         0   \n",
       "3947       18282.0         0         0         0         0         0   \n",
       "3948       18283.0         0         1         1         0         1   \n",
       "3949       18287.0         0         0         0         0         0   \n",
       "\n",
       "      m_201105  m_201106  m_201107  m_201108  m_201109  m_201110  m_201111  \\\n",
       "0            0         0         0         0         0         0         0   \n",
       "1            1         1         0         1         0         1         1   \n",
       "2            1         1         1         1         1         1         1   \n",
       "3            1         0         0         1         0         0         1   \n",
       "4            0         0         0         0         1         1         0   \n",
       "...        ...       ...       ...       ...       ...       ...       ...   \n",
       "3945         0         0         0         0         0         0         0   \n",
       "3946         0         1         0         0         0         0         0   \n",
       "3947         0         0         0         1         0         0         0   \n",
       "3948         1         1         1         0         1         1         1   \n",
       "3949         1         0         0         0         0         1         0   \n",
       "\n",
       "      m_201112  MinPurchaseYearMonth  \n",
       "0            0                201101  \n",
       "1            1                201012  \n",
       "2            1                201012  \n",
       "3            1                201105  \n",
       "4            1                201101  \n",
       "...        ...                   ...  \n",
       "3945         0                201103  \n",
       "3946         0                201106  \n",
       "3947         1                201108  \n",
       "3948         1                201101  \n",
       "3949         0                201105  \n",
       "\n",
       "[3950 rows x 15 columns]"
      ]
     },
     "execution_count": 134,
     "metadata": {},
     "output_type": "execute_result"
    }
   ],
   "source": [
    "new_col_names = ['m_' +str(column) for column in df_retension.columns[:-1]]\n",
    "new_col_names.append('MinPurchaseYearMonth')\n",
    "df_retension.columns = new_col_names\n",
    "df_retension"
   ]
  },
  {
   "cell_type": "code",
   "execution_count": 135,
   "metadata": {},
   "outputs": [],
   "source": [
    "selected_months = months[4]\n",
    "previous_months= months[:4]# exp thang truoc\n",
    "next_months= months[5:] # exp lay thang phia sau"
   ]
  },
  {
   "cell_type": "code",
   "execution_count": 136,
   "metadata": {},
   "outputs": [
    {
     "data": {
      "text/plain": [
       "362"
      ]
     },
     "execution_count": 136,
     "metadata": {},
     "output_type": "execute_result"
    }
   ],
   "source": [
    "total_user_count = df_retension[df_retension['MinPurchaseYearMonth']== 201101]['MinPurchaseYearMonth'].count() # tong so kh mua hang thang 1-2011\n",
    "total_user_count"
   ]
  },
  {
   "cell_type": "code",
   "execution_count": 137,
   "metadata": {},
   "outputs": [
    {
     "data": {
      "text/html": [
       "<div>\n",
       "<style scoped>\n",
       "    .dataframe tbody tr th:only-of-type {\n",
       "        vertical-align: middle;\n",
       "    }\n",
       "\n",
       "    .dataframe tbody tr th {\n",
       "        vertical-align: top;\n",
       "    }\n",
       "\n",
       "    .dataframe thead th {\n",
       "        text-align: right;\n",
       "    }\n",
       "</style>\n",
       "<table border=\"1\" class=\"dataframe\">\n",
       "  <thead>\n",
       "    <tr style=\"text-align: right;\">\n",
       "      <th></th>\n",
       "      <th>TotalUserCount</th>\n",
       "      <th>201101</th>\n",
       "      <th>201102</th>\n",
       "      <th>201103</th>\n",
       "      <th>201104</th>\n",
       "      <th>201105</th>\n",
       "      <th>201106</th>\n",
       "      <th>201107</th>\n",
       "      <th>201108</th>\n",
       "      <th>201109</th>\n",
       "      <th>201110</th>\n",
       "      <th>201111</th>\n",
       "      <th>201112</th>\n",
       "    </tr>\n",
       "  </thead>\n",
       "  <tbody>\n",
       "    <tr>\n",
       "      <th>0</th>\n",
       "      <td>362</td>\n",
       "      <td>1.0</td>\n",
       "      <td>0.23</td>\n",
       "      <td>0.28</td>\n",
       "      <td>0.25</td>\n",
       "      <td>0.34</td>\n",
       "      <td>0.29</td>\n",
       "      <td>0.26</td>\n",
       "      <td>0.26</td>\n",
       "      <td>0.31</td>\n",
       "      <td>0.35</td>\n",
       "      <td>0.36</td>\n",
       "      <td>0.15</td>\n",
       "    </tr>\n",
       "    <tr>\n",
       "      <th>1</th>\n",
       "      <td>339</td>\n",
       "      <td>NaN</td>\n",
       "      <td>1.00</td>\n",
       "      <td>0.25</td>\n",
       "      <td>0.19</td>\n",
       "      <td>0.28</td>\n",
       "      <td>0.28</td>\n",
       "      <td>0.25</td>\n",
       "      <td>0.26</td>\n",
       "      <td>0.28</td>\n",
       "      <td>0.28</td>\n",
       "      <td>0.31</td>\n",
       "      <td>0.10</td>\n",
       "    </tr>\n",
       "    <tr>\n",
       "      <th>2</th>\n",
       "      <td>408</td>\n",
       "      <td>NaN</td>\n",
       "      <td>NaN</td>\n",
       "      <td>1.00</td>\n",
       "      <td>0.19</td>\n",
       "      <td>0.26</td>\n",
       "      <td>0.22</td>\n",
       "      <td>0.23</td>\n",
       "      <td>0.17</td>\n",
       "      <td>0.26</td>\n",
       "      <td>0.24</td>\n",
       "      <td>0.29</td>\n",
       "      <td>0.09</td>\n",
       "    </tr>\n",
       "    <tr>\n",
       "      <th>3</th>\n",
       "      <td>276</td>\n",
       "      <td>NaN</td>\n",
       "      <td>NaN</td>\n",
       "      <td>NaN</td>\n",
       "      <td>1.00</td>\n",
       "      <td>0.22</td>\n",
       "      <td>0.22</td>\n",
       "      <td>0.22</td>\n",
       "      <td>0.21</td>\n",
       "      <td>0.23</td>\n",
       "      <td>0.23</td>\n",
       "      <td>0.26</td>\n",
       "      <td>0.08</td>\n",
       "    </tr>\n",
       "    <tr>\n",
       "      <th>4</th>\n",
       "      <td>252</td>\n",
       "      <td>NaN</td>\n",
       "      <td>NaN</td>\n",
       "      <td>NaN</td>\n",
       "      <td>NaN</td>\n",
       "      <td>1.00</td>\n",
       "      <td>0.23</td>\n",
       "      <td>0.17</td>\n",
       "      <td>0.17</td>\n",
       "      <td>0.21</td>\n",
       "      <td>0.24</td>\n",
       "      <td>0.27</td>\n",
       "      <td>0.10</td>\n",
       "    </tr>\n",
       "    <tr>\n",
       "      <th>5</th>\n",
       "      <td>207</td>\n",
       "      <td>NaN</td>\n",
       "      <td>NaN</td>\n",
       "      <td>NaN</td>\n",
       "      <td>NaN</td>\n",
       "      <td>NaN</td>\n",
       "      <td>1.00</td>\n",
       "      <td>0.21</td>\n",
       "      <td>0.16</td>\n",
       "      <td>0.25</td>\n",
       "      <td>0.26</td>\n",
       "      <td>0.32</td>\n",
       "      <td>0.10</td>\n",
       "    </tr>\n",
       "    <tr>\n",
       "      <th>6</th>\n",
       "      <td>172</td>\n",
       "      <td>NaN</td>\n",
       "      <td>NaN</td>\n",
       "      <td>NaN</td>\n",
       "      <td>NaN</td>\n",
       "      <td>NaN</td>\n",
       "      <td>NaN</td>\n",
       "      <td>1.00</td>\n",
       "      <td>0.20</td>\n",
       "      <td>0.19</td>\n",
       "      <td>0.23</td>\n",
       "      <td>0.28</td>\n",
       "      <td>0.11</td>\n",
       "    </tr>\n",
       "    <tr>\n",
       "      <th>7</th>\n",
       "      <td>140</td>\n",
       "      <td>NaN</td>\n",
       "      <td>NaN</td>\n",
       "      <td>NaN</td>\n",
       "      <td>NaN</td>\n",
       "      <td>NaN</td>\n",
       "      <td>NaN</td>\n",
       "      <td>NaN</td>\n",
       "      <td>1.00</td>\n",
       "      <td>0.26</td>\n",
       "      <td>0.23</td>\n",
       "      <td>0.26</td>\n",
       "      <td>0.14</td>\n",
       "    </tr>\n",
       "    <tr>\n",
       "      <th>8</th>\n",
       "      <td>275</td>\n",
       "      <td>NaN</td>\n",
       "      <td>NaN</td>\n",
       "      <td>NaN</td>\n",
       "      <td>NaN</td>\n",
       "      <td>NaN</td>\n",
       "      <td>NaN</td>\n",
       "      <td>NaN</td>\n",
       "      <td>NaN</td>\n",
       "      <td>1.00</td>\n",
       "      <td>0.29</td>\n",
       "      <td>0.33</td>\n",
       "      <td>0.12</td>\n",
       "    </tr>\n",
       "    <tr>\n",
       "      <th>9</th>\n",
       "      <td>318</td>\n",
       "      <td>NaN</td>\n",
       "      <td>NaN</td>\n",
       "      <td>NaN</td>\n",
       "      <td>NaN</td>\n",
       "      <td>NaN</td>\n",
       "      <td>NaN</td>\n",
       "      <td>NaN</td>\n",
       "      <td>NaN</td>\n",
       "      <td>NaN</td>\n",
       "      <td>1.00</td>\n",
       "      <td>0.27</td>\n",
       "      <td>0.13</td>\n",
       "    </tr>\n",
       "    <tr>\n",
       "      <th>10</th>\n",
       "      <td>296</td>\n",
       "      <td>NaN</td>\n",
       "      <td>NaN</td>\n",
       "      <td>NaN</td>\n",
       "      <td>NaN</td>\n",
       "      <td>NaN</td>\n",
       "      <td>NaN</td>\n",
       "      <td>NaN</td>\n",
       "      <td>NaN</td>\n",
       "      <td>NaN</td>\n",
       "      <td>NaN</td>\n",
       "      <td>1.00</td>\n",
       "      <td>0.14</td>\n",
       "    </tr>\n",
       "    <tr>\n",
       "      <th>11</th>\n",
       "      <td>34</td>\n",
       "      <td>NaN</td>\n",
       "      <td>NaN</td>\n",
       "      <td>NaN</td>\n",
       "      <td>NaN</td>\n",
       "      <td>NaN</td>\n",
       "      <td>NaN</td>\n",
       "      <td>NaN</td>\n",
       "      <td>NaN</td>\n",
       "      <td>NaN</td>\n",
       "      <td>NaN</td>\n",
       "      <td>NaN</td>\n",
       "      <td>1.00</td>\n",
       "    </tr>\n",
       "  </tbody>\n",
       "</table>\n",
       "</div>"
      ],
      "text/plain": [
       "    TotalUserCount  201101  201102  201103  201104  201105  201106  201107  \\\n",
       "0              362     1.0    0.23    0.28    0.25    0.34    0.29    0.26   \n",
       "1              339     NaN    1.00    0.25    0.19    0.28    0.28    0.25   \n",
       "2              408     NaN     NaN    1.00    0.19    0.26    0.22    0.23   \n",
       "3              276     NaN     NaN     NaN    1.00    0.22    0.22    0.22   \n",
       "4              252     NaN     NaN     NaN     NaN    1.00    0.23    0.17   \n",
       "5              207     NaN     NaN     NaN     NaN     NaN    1.00    0.21   \n",
       "6              172     NaN     NaN     NaN     NaN     NaN     NaN    1.00   \n",
       "7              140     NaN     NaN     NaN     NaN     NaN     NaN     NaN   \n",
       "8              275     NaN     NaN     NaN     NaN     NaN     NaN     NaN   \n",
       "9              318     NaN     NaN     NaN     NaN     NaN     NaN     NaN   \n",
       "10             296     NaN     NaN     NaN     NaN     NaN     NaN     NaN   \n",
       "11              34     NaN     NaN     NaN     NaN     NaN     NaN     NaN   \n",
       "\n",
       "    201108  201109  201110  201111  201112  \n",
       "0     0.26    0.31    0.35    0.36    0.15  \n",
       "1     0.26    0.28    0.28    0.31    0.10  \n",
       "2     0.17    0.26    0.24    0.29    0.09  \n",
       "3     0.21    0.23    0.23    0.26    0.08  \n",
       "4     0.17    0.21    0.24    0.27    0.10  \n",
       "5     0.16    0.25    0.26    0.32    0.10  \n",
       "6     0.20    0.19    0.23    0.28    0.11  \n",
       "7     1.00    0.26    0.23    0.26    0.14  \n",
       "8      NaN    1.00    0.29    0.33    0.12  \n",
       "9      NaN     NaN    1.00    0.27    0.13  \n",
       "10     NaN     NaN     NaN    1.00    0.14  \n",
       "11     NaN     NaN     NaN     NaN    1.00  "
      ]
     },
     "execution_count": 137,
     "metadata": {},
     "output_type": "execute_result"
    }
   ],
   "source": [
    "retension_array =[]\n",
    "for i in range(len(months)):\n",
    "    retension_data ={}\n",
    "    selected_month = months[i]\n",
    "    previous_months = months[:i]\n",
    "    next_months = months[i+1:]\n",
    "    for previous_month in previous_months:\n",
    "        retension_data[previous_month]=np.nan\n",
    "    \n",
    "    total_user_count = df_retension[df_retension.MinPurchaseYearMonth == selected_month].MinPurchaseYearMonth.count()\n",
    "    retension_data['TotalUserCount'] = total_user_count\n",
    "    retension_data[selected_month] = 1\n",
    "    query = \"MinPurchaseYearMonth=={}\".format(selected_month)\n",
    "\n",
    "    for next_month in next_months:\n",
    "        new_query = query + \"and {} > 0\".format(str('m_'+ str(next_month))) # lọc giá trị tháng tiếp theo trong bảng retension phía trên là phải = 1 thì mới tính khách hàng đó có quay lại mua hàng vào tháng tiếp theo\n",
    "        retension_data[next_month] = np.round(df_retension.query(new_query)['m_' + str(next_month)].sum()/total_user_count,2) # tính tổng các khách hàng quay lại tháng tiếp theo có giá trị là 1 rồi chia cho tổng user mua hàng trong tháng đó\n",
    "    retension_array.append(retension_data)\n",
    "df_retension = pd.DataFrame(retension_array)\n",
    "df_retension"
   ]
  },
  {
   "cell_type": "markdown",
   "metadata": {},
   "source": [
    "RFM: \n",
    "- R: Retency\n",
    "- F: Frequency\n",
    "- M: Moneytary\n",
    "- => clustering = Kmean => visualize"
   ]
  },
  {
   "cell_type": "code",
   "execution_count": 138,
   "metadata": {},
   "outputs": [],
   "source": [
    "from datetime import datetime, date, timedelta \n",
    "from __future__ import division\n",
    "from sklearn.cluster import KMeans "
   ]
  },
  {
   "cell_type": "code",
   "execution_count": 139,
   "metadata": {},
   "outputs": [
    {
     "data": {
      "text/html": [
       "<div>\n",
       "<style scoped>\n",
       "    .dataframe tbody tr th:only-of-type {\n",
       "        vertical-align: middle;\n",
       "    }\n",
       "\n",
       "    .dataframe tbody tr th {\n",
       "        vertical-align: top;\n",
       "    }\n",
       "\n",
       "    .dataframe thead th {\n",
       "        text-align: right;\n",
       "    }\n",
       "</style>\n",
       "<table border=\"1\" class=\"dataframe\">\n",
       "  <thead>\n",
       "    <tr style=\"text-align: right;\">\n",
       "      <th></th>\n",
       "      <th>InvoiceNo</th>\n",
       "      <th>StockCode</th>\n",
       "      <th>Description</th>\n",
       "      <th>Quantity</th>\n",
       "      <th>InvoiceDate</th>\n",
       "      <th>UnitPrice</th>\n",
       "      <th>CustomerID</th>\n",
       "      <th>Country</th>\n",
       "      <th>Invoice_year</th>\n",
       "      <th>Invoice_month</th>\n",
       "      <th>Invoice_date</th>\n",
       "      <th>Invoice_hour</th>\n",
       "      <th>Invoice_YearMonth</th>\n",
       "      <th>Revenue</th>\n",
       "    </tr>\n",
       "  </thead>\n",
       "  <tbody>\n",
       "    <tr>\n",
       "      <th>0</th>\n",
       "      <td>536365</td>\n",
       "      <td>85123A</td>\n",
       "      <td>WHITE HANGING HEART T-LIGHT HOLDER</td>\n",
       "      <td>6</td>\n",
       "      <td>2010-12-01 08:26:00</td>\n",
       "      <td>2.55</td>\n",
       "      <td>17850.0</td>\n",
       "      <td>United Kingdom</td>\n",
       "      <td>2010</td>\n",
       "      <td>12</td>\n",
       "      <td>1</td>\n",
       "      <td>8</td>\n",
       "      <td>201012</td>\n",
       "      <td>15.30</td>\n",
       "    </tr>\n",
       "    <tr>\n",
       "      <th>1</th>\n",
       "      <td>536365</td>\n",
       "      <td>71053</td>\n",
       "      <td>WHITE METAL LANTERN</td>\n",
       "      <td>6</td>\n",
       "      <td>2010-12-01 08:26:00</td>\n",
       "      <td>3.39</td>\n",
       "      <td>17850.0</td>\n",
       "      <td>United Kingdom</td>\n",
       "      <td>2010</td>\n",
       "      <td>12</td>\n",
       "      <td>1</td>\n",
       "      <td>8</td>\n",
       "      <td>201012</td>\n",
       "      <td>20.34</td>\n",
       "    </tr>\n",
       "    <tr>\n",
       "      <th>2</th>\n",
       "      <td>536365</td>\n",
       "      <td>84406B</td>\n",
       "      <td>CREAM CUPID HEARTS COAT HANGER</td>\n",
       "      <td>8</td>\n",
       "      <td>2010-12-01 08:26:00</td>\n",
       "      <td>2.75</td>\n",
       "      <td>17850.0</td>\n",
       "      <td>United Kingdom</td>\n",
       "      <td>2010</td>\n",
       "      <td>12</td>\n",
       "      <td>1</td>\n",
       "      <td>8</td>\n",
       "      <td>201012</td>\n",
       "      <td>22.00</td>\n",
       "    </tr>\n",
       "    <tr>\n",
       "      <th>3</th>\n",
       "      <td>536365</td>\n",
       "      <td>84029G</td>\n",
       "      <td>KNITTED UNION FLAG HOT WATER BOTTLE</td>\n",
       "      <td>6</td>\n",
       "      <td>2010-12-01 08:26:00</td>\n",
       "      <td>3.39</td>\n",
       "      <td>17850.0</td>\n",
       "      <td>United Kingdom</td>\n",
       "      <td>2010</td>\n",
       "      <td>12</td>\n",
       "      <td>1</td>\n",
       "      <td>8</td>\n",
       "      <td>201012</td>\n",
       "      <td>20.34</td>\n",
       "    </tr>\n",
       "    <tr>\n",
       "      <th>4</th>\n",
       "      <td>536365</td>\n",
       "      <td>84029E</td>\n",
       "      <td>RED WOOLLY HOTTIE WHITE HEART.</td>\n",
       "      <td>6</td>\n",
       "      <td>2010-12-01 08:26:00</td>\n",
       "      <td>3.39</td>\n",
       "      <td>17850.0</td>\n",
       "      <td>United Kingdom</td>\n",
       "      <td>2010</td>\n",
       "      <td>12</td>\n",
       "      <td>1</td>\n",
       "      <td>8</td>\n",
       "      <td>201012</td>\n",
       "      <td>20.34</td>\n",
       "    </tr>\n",
       "  </tbody>\n",
       "</table>\n",
       "</div>"
      ],
      "text/plain": [
       "  InvoiceNo StockCode                          Description  Quantity  \\\n",
       "0    536365    85123A   WHITE HANGING HEART T-LIGHT HOLDER         6   \n",
       "1    536365     71053                  WHITE METAL LANTERN         6   \n",
       "2    536365    84406B       CREAM CUPID HEARTS COAT HANGER         8   \n",
       "3    536365    84029G  KNITTED UNION FLAG HOT WATER BOTTLE         6   \n",
       "4    536365    84029E       RED WOOLLY HOTTIE WHITE HEART.         6   \n",
       "\n",
       "          InvoiceDate  UnitPrice  CustomerID         Country  Invoice_year  \\\n",
       "0 2010-12-01 08:26:00       2.55     17850.0  United Kingdom          2010   \n",
       "1 2010-12-01 08:26:00       3.39     17850.0  United Kingdom          2010   \n",
       "2 2010-12-01 08:26:00       2.75     17850.0  United Kingdom          2010   \n",
       "3 2010-12-01 08:26:00       3.39     17850.0  United Kingdom          2010   \n",
       "4 2010-12-01 08:26:00       3.39     17850.0  United Kingdom          2010   \n",
       "\n",
       "   Invoice_month  Invoice_date  Invoice_hour  Invoice_YearMonth  Revenue  \n",
       "0             12             1             8             201012    15.30  \n",
       "1             12             1             8             201012    20.34  \n",
       "2             12             1             8             201012    22.00  \n",
       "3             12             1             8             201012    20.34  \n",
       "4             12             1             8             201012    20.34  "
      ]
     },
     "execution_count": 139,
     "metadata": {},
     "output_type": "execute_result"
    }
   ],
   "source": [
    "df_uk.head()"
   ]
  },
  {
   "cell_type": "code",
   "execution_count": 140,
   "metadata": {},
   "outputs": [
    {
     "data": {
      "text/html": [
       "<div>\n",
       "<style scoped>\n",
       "    .dataframe tbody tr th:only-of-type {\n",
       "        vertical-align: middle;\n",
       "    }\n",
       "\n",
       "    .dataframe tbody tr th {\n",
       "        vertical-align: top;\n",
       "    }\n",
       "\n",
       "    .dataframe thead th {\n",
       "        text-align: right;\n",
       "    }\n",
       "</style>\n",
       "<table border=\"1\" class=\"dataframe\">\n",
       "  <thead>\n",
       "    <tr style=\"text-align: right;\">\n",
       "      <th></th>\n",
       "      <th>index</th>\n",
       "      <th>InvoiceNo</th>\n",
       "      <th>StockCode</th>\n",
       "      <th>Description</th>\n",
       "      <th>Quantity</th>\n",
       "      <th>InvoiceDate</th>\n",
       "      <th>UnitPrice</th>\n",
       "      <th>CustomerID</th>\n",
       "      <th>Country</th>\n",
       "      <th>Invoice_year</th>\n",
       "      <th>Invoice_month</th>\n",
       "      <th>Invoice_date</th>\n",
       "      <th>Invoice_hour</th>\n",
       "      <th>Invoice_YearMonth</th>\n",
       "      <th>Revenue</th>\n",
       "      <th>Invoiceonlydate</th>\n",
       "    </tr>\n",
       "  </thead>\n",
       "  <tbody>\n",
       "    <tr>\n",
       "      <th>0</th>\n",
       "      <td>97393</td>\n",
       "      <td>545220</td>\n",
       "      <td>21955</td>\n",
       "      <td>DOORMAT UNION JACK GUNS AND ROSES</td>\n",
       "      <td>2</td>\n",
       "      <td>2011-03-01 08:30:00</td>\n",
       "      <td>7.95</td>\n",
       "      <td>14620.0</td>\n",
       "      <td>United Kingdom</td>\n",
       "      <td>2011</td>\n",
       "      <td>3</td>\n",
       "      <td>1</td>\n",
       "      <td>8</td>\n",
       "      <td>201103</td>\n",
       "      <td>15.90</td>\n",
       "      <td>2011-03-01</td>\n",
       "    </tr>\n",
       "    <tr>\n",
       "      <th>1</th>\n",
       "      <td>97394</td>\n",
       "      <td>545220</td>\n",
       "      <td>48194</td>\n",
       "      <td>DOORMAT HEARTS</td>\n",
       "      <td>2</td>\n",
       "      <td>2011-03-01 08:30:00</td>\n",
       "      <td>7.95</td>\n",
       "      <td>14620.0</td>\n",
       "      <td>United Kingdom</td>\n",
       "      <td>2011</td>\n",
       "      <td>3</td>\n",
       "      <td>1</td>\n",
       "      <td>8</td>\n",
       "      <td>201103</td>\n",
       "      <td>15.90</td>\n",
       "      <td>2011-03-01</td>\n",
       "    </tr>\n",
       "    <tr>\n",
       "      <th>2</th>\n",
       "      <td>97395</td>\n",
       "      <td>545220</td>\n",
       "      <td>22556</td>\n",
       "      <td>PLASTERS IN TIN CIRCUS PARADE</td>\n",
       "      <td>12</td>\n",
       "      <td>2011-03-01 08:30:00</td>\n",
       "      <td>1.65</td>\n",
       "      <td>14620.0</td>\n",
       "      <td>United Kingdom</td>\n",
       "      <td>2011</td>\n",
       "      <td>3</td>\n",
       "      <td>1</td>\n",
       "      <td>8</td>\n",
       "      <td>201103</td>\n",
       "      <td>19.80</td>\n",
       "      <td>2011-03-01</td>\n",
       "    </tr>\n",
       "    <tr>\n",
       "      <th>3</th>\n",
       "      <td>97396</td>\n",
       "      <td>545220</td>\n",
       "      <td>22139</td>\n",
       "      <td>RETROSPOT TEA SET CERAMIC 11 PC</td>\n",
       "      <td>3</td>\n",
       "      <td>2011-03-01 08:30:00</td>\n",
       "      <td>4.95</td>\n",
       "      <td>14620.0</td>\n",
       "      <td>United Kingdom</td>\n",
       "      <td>2011</td>\n",
       "      <td>3</td>\n",
       "      <td>1</td>\n",
       "      <td>8</td>\n",
       "      <td>201103</td>\n",
       "      <td>14.85</td>\n",
       "      <td>2011-03-01</td>\n",
       "    </tr>\n",
       "    <tr>\n",
       "      <th>4</th>\n",
       "      <td>97397</td>\n",
       "      <td>545220</td>\n",
       "      <td>84029G</td>\n",
       "      <td>KNITTED UNION FLAG HOT WATER BOTTLE</td>\n",
       "      <td>4</td>\n",
       "      <td>2011-03-01 08:30:00</td>\n",
       "      <td>3.75</td>\n",
       "      <td>14620.0</td>\n",
       "      <td>United Kingdom</td>\n",
       "      <td>2011</td>\n",
       "      <td>3</td>\n",
       "      <td>1</td>\n",
       "      <td>8</td>\n",
       "      <td>201103</td>\n",
       "      <td>15.00</td>\n",
       "      <td>2011-03-01</td>\n",
       "    </tr>\n",
       "    <tr>\n",
       "      <th>...</th>\n",
       "      <td>...</td>\n",
       "      <td>...</td>\n",
       "      <td>...</td>\n",
       "      <td>...</td>\n",
       "      <td>...</td>\n",
       "      <td>...</td>\n",
       "      <td>...</td>\n",
       "      <td>...</td>\n",
       "      <td>...</td>\n",
       "      <td>...</td>\n",
       "      <td>...</td>\n",
       "      <td>...</td>\n",
       "      <td>...</td>\n",
       "      <td>...</td>\n",
       "      <td>...</td>\n",
       "      <td>...</td>\n",
       "    </tr>\n",
       "    <tr>\n",
       "      <th>95188</th>\n",
       "      <td>192581</td>\n",
       "      <td>555150</td>\n",
       "      <td>22895</td>\n",
       "      <td>SET OF 2 TEA TOWELS APPLE AND PEARS</td>\n",
       "      <td>3</td>\n",
       "      <td>2011-05-31 15:53:00</td>\n",
       "      <td>3.25</td>\n",
       "      <td>NaN</td>\n",
       "      <td>United Kingdom</td>\n",
       "      <td>2011</td>\n",
       "      <td>5</td>\n",
       "      <td>31</td>\n",
       "      <td>15</td>\n",
       "      <td>201105</td>\n",
       "      <td>9.75</td>\n",
       "      <td>2011-05-31</td>\n",
       "    </tr>\n",
       "    <tr>\n",
       "      <th>95189</th>\n",
       "      <td>192582</td>\n",
       "      <td>555150</td>\n",
       "      <td>22983</td>\n",
       "      <td>CARD BILLBOARD FONT</td>\n",
       "      <td>3</td>\n",
       "      <td>2011-05-31 15:53:00</td>\n",
       "      <td>0.42</td>\n",
       "      <td>NaN</td>\n",
       "      <td>United Kingdom</td>\n",
       "      <td>2011</td>\n",
       "      <td>5</td>\n",
       "      <td>31</td>\n",
       "      <td>15</td>\n",
       "      <td>201105</td>\n",
       "      <td>1.26</td>\n",
       "      <td>2011-05-31</td>\n",
       "    </tr>\n",
       "    <tr>\n",
       "      <th>95190</th>\n",
       "      <td>192583</td>\n",
       "      <td>555150</td>\n",
       "      <td>23169</td>\n",
       "      <td>CLASSIC GLASS COOKIE JAR</td>\n",
       "      <td>3</td>\n",
       "      <td>2011-05-31 15:53:00</td>\n",
       "      <td>4.15</td>\n",
       "      <td>NaN</td>\n",
       "      <td>United Kingdom</td>\n",
       "      <td>2011</td>\n",
       "      <td>5</td>\n",
       "      <td>31</td>\n",
       "      <td>15</td>\n",
       "      <td>201105</td>\n",
       "      <td>12.45</td>\n",
       "      <td>2011-05-31</td>\n",
       "    </tr>\n",
       "    <tr>\n",
       "      <th>95191</th>\n",
       "      <td>192584</td>\n",
       "      <td>555150</td>\n",
       "      <td>23298</td>\n",
       "      <td>SPOTTY BUNTING</td>\n",
       "      <td>5</td>\n",
       "      <td>2011-05-31 15:53:00</td>\n",
       "      <td>4.95</td>\n",
       "      <td>NaN</td>\n",
       "      <td>United Kingdom</td>\n",
       "      <td>2011</td>\n",
       "      <td>5</td>\n",
       "      <td>31</td>\n",
       "      <td>15</td>\n",
       "      <td>201105</td>\n",
       "      <td>24.75</td>\n",
       "      <td>2011-05-31</td>\n",
       "    </tr>\n",
       "    <tr>\n",
       "      <th>95192</th>\n",
       "      <td>192585</td>\n",
       "      <td>555150</td>\n",
       "      <td>23118</td>\n",
       "      <td>PARISIENNE JEWELLERY DRAWER</td>\n",
       "      <td>2</td>\n",
       "      <td>2011-05-31 15:53:00</td>\n",
       "      <td>7.50</td>\n",
       "      <td>NaN</td>\n",
       "      <td>United Kingdom</td>\n",
       "      <td>2011</td>\n",
       "      <td>5</td>\n",
       "      <td>31</td>\n",
       "      <td>15</td>\n",
       "      <td>201105</td>\n",
       "      <td>15.00</td>\n",
       "      <td>2011-05-31</td>\n",
       "    </tr>\n",
       "  </tbody>\n",
       "</table>\n",
       "<p>95193 rows × 16 columns</p>\n",
       "</div>"
      ],
      "text/plain": [
       "        index InvoiceNo StockCode                          Description  \\\n",
       "0       97393    545220     21955    DOORMAT UNION JACK GUNS AND ROSES   \n",
       "1       97394    545220     48194                       DOORMAT HEARTS   \n",
       "2       97395    545220     22556       PLASTERS IN TIN CIRCUS PARADE    \n",
       "3       97396    545220     22139     RETROSPOT TEA SET CERAMIC 11 PC    \n",
       "4       97397    545220    84029G  KNITTED UNION FLAG HOT WATER BOTTLE   \n",
       "...       ...       ...       ...                                  ...   \n",
       "95188  192581    555150     22895  SET OF 2 TEA TOWELS APPLE AND PEARS   \n",
       "95189  192582    555150     22983                  CARD BILLBOARD FONT   \n",
       "95190  192583    555150     23169             CLASSIC GLASS COOKIE JAR   \n",
       "95191  192584    555150     23298                       SPOTTY BUNTING   \n",
       "95192  192585    555150     23118         PARISIENNE JEWELLERY DRAWER    \n",
       "\n",
       "       Quantity         InvoiceDate  UnitPrice  CustomerID         Country  \\\n",
       "0             2 2011-03-01 08:30:00       7.95     14620.0  United Kingdom   \n",
       "1             2 2011-03-01 08:30:00       7.95     14620.0  United Kingdom   \n",
       "2            12 2011-03-01 08:30:00       1.65     14620.0  United Kingdom   \n",
       "3             3 2011-03-01 08:30:00       4.95     14620.0  United Kingdom   \n",
       "4             4 2011-03-01 08:30:00       3.75     14620.0  United Kingdom   \n",
       "...         ...                 ...        ...         ...             ...   \n",
       "95188         3 2011-05-31 15:53:00       3.25         NaN  United Kingdom   \n",
       "95189         3 2011-05-31 15:53:00       0.42         NaN  United Kingdom   \n",
       "95190         3 2011-05-31 15:53:00       4.15         NaN  United Kingdom   \n",
       "95191         5 2011-05-31 15:53:00       4.95         NaN  United Kingdom   \n",
       "95192         2 2011-05-31 15:53:00       7.50         NaN  United Kingdom   \n",
       "\n",
       "       Invoice_year  Invoice_month  Invoice_date  Invoice_hour  \\\n",
       "0              2011              3             1             8   \n",
       "1              2011              3             1             8   \n",
       "2              2011              3             1             8   \n",
       "3              2011              3             1             8   \n",
       "4              2011              3             1             8   \n",
       "...             ...            ...           ...           ...   \n",
       "95188          2011              5            31            15   \n",
       "95189          2011              5            31            15   \n",
       "95190          2011              5            31            15   \n",
       "95191          2011              5            31            15   \n",
       "95192          2011              5            31            15   \n",
       "\n",
       "       Invoice_YearMonth  Revenue Invoiceonlydate  \n",
       "0                 201103    15.90      2011-03-01  \n",
       "1                 201103    15.90      2011-03-01  \n",
       "2                 201103    19.80      2011-03-01  \n",
       "3                 201103    14.85      2011-03-01  \n",
       "4                 201103    15.00      2011-03-01  \n",
       "...                  ...      ...             ...  \n",
       "95188             201105     9.75      2011-05-31  \n",
       "95189             201105     1.26      2011-05-31  \n",
       "95190             201105    12.45      2011-05-31  \n",
       "95191             201105    24.75      2011-05-31  \n",
       "95192             201105    15.00      2011-05-31  \n",
       "\n",
       "[95193 rows x 16 columns]"
      ]
     },
     "execution_count": 140,
     "metadata": {},
     "output_type": "execute_result"
    }
   ],
   "source": [
    "# Retency quy 2 -2011\n",
    "df_uk['Invoiceonlydate']= pd.to_datetime(df_uk['InvoiceDate']).dt.date\n",
    "df_3m= df_uk[(df_uk['Invoiceonlydate']< date(2011,6,1)) &(df_uk['Invoiceonlydate'] >= date(2011,3,1))].reset_index()\n",
    "df_3m"
   ]
  },
  {
   "cell_type": "code",
   "execution_count": 141,
   "metadata": {},
   "outputs": [
    {
     "data": {
      "text/html": [
       "<div>\n",
       "<style scoped>\n",
       "    .dataframe tbody tr th:only-of-type {\n",
       "        vertical-align: middle;\n",
       "    }\n",
       "\n",
       "    .dataframe tbody tr th {\n",
       "        vertical-align: top;\n",
       "    }\n",
       "\n",
       "    .dataframe thead th {\n",
       "        text-align: right;\n",
       "    }\n",
       "</style>\n",
       "<table border=\"1\" class=\"dataframe\">\n",
       "  <thead>\n",
       "    <tr style=\"text-align: right;\">\n",
       "      <th></th>\n",
       "      <th>CustomerID</th>\n",
       "    </tr>\n",
       "  </thead>\n",
       "  <tbody>\n",
       "    <tr>\n",
       "      <th>0</th>\n",
       "      <td>14620.0</td>\n",
       "    </tr>\n",
       "    <tr>\n",
       "      <th>1</th>\n",
       "      <td>14740.0</td>\n",
       "    </tr>\n",
       "    <tr>\n",
       "      <th>2</th>\n",
       "      <td>13880.0</td>\n",
       "    </tr>\n",
       "    <tr>\n",
       "      <th>3</th>\n",
       "      <td>16462.0</td>\n",
       "    </tr>\n",
       "    <tr>\n",
       "      <th>4</th>\n",
       "      <td>17068.0</td>\n",
       "    </tr>\n",
       "    <tr>\n",
       "      <th>...</th>\n",
       "      <td>...</td>\n",
       "    </tr>\n",
       "    <tr>\n",
       "      <th>1836</th>\n",
       "      <td>14819.0</td>\n",
       "    </tr>\n",
       "    <tr>\n",
       "      <th>1837</th>\n",
       "      <td>18190.0</td>\n",
       "    </tr>\n",
       "    <tr>\n",
       "      <th>1838</th>\n",
       "      <td>15163.0</td>\n",
       "    </tr>\n",
       "    <tr>\n",
       "      <th>1839</th>\n",
       "      <td>18204.0</td>\n",
       "    </tr>\n",
       "    <tr>\n",
       "      <th>1840</th>\n",
       "      <td>16810.0</td>\n",
       "    </tr>\n",
       "  </tbody>\n",
       "</table>\n",
       "<p>1841 rows × 1 columns</p>\n",
       "</div>"
      ],
      "text/plain": [
       "      CustomerID\n",
       "0        14620.0\n",
       "1        14740.0\n",
       "2        13880.0\n",
       "3        16462.0\n",
       "4        17068.0\n",
       "...          ...\n",
       "1836     14819.0\n",
       "1837     18190.0\n",
       "1838     15163.0\n",
       "1839     18204.0\n",
       "1840     16810.0\n",
       "\n",
       "[1841 rows x 1 columns]"
      ]
     },
     "execution_count": 141,
     "metadata": {},
     "output_type": "execute_result"
    }
   ],
   "source": [
    "df_user=pd.DataFrame(df_3m['CustomerID'].unique())\n",
    "df_user.columns=['CustomerID']\n",
    "df_user"
   ]
  },
  {
   "cell_type": "code",
   "execution_count": 142,
   "metadata": {},
   "outputs": [
    {
     "data": {
      "text/html": [
       "<div>\n",
       "<style scoped>\n",
       "    .dataframe tbody tr th:only-of-type {\n",
       "        vertical-align: middle;\n",
       "    }\n",
       "\n",
       "    .dataframe tbody tr th {\n",
       "        vertical-align: top;\n",
       "    }\n",
       "\n",
       "    .dataframe thead th {\n",
       "        text-align: right;\n",
       "    }\n",
       "</style>\n",
       "<table border=\"1\" class=\"dataframe\">\n",
       "  <thead>\n",
       "    <tr style=\"text-align: right;\">\n",
       "      <th></th>\n",
       "      <th>CustomerID</th>\n",
       "      <th>MaxPurchaseDate</th>\n",
       "    </tr>\n",
       "  </thead>\n",
       "  <tbody>\n",
       "    <tr>\n",
       "      <th>0</th>\n",
       "      <td>12747.0</td>\n",
       "      <td>2011-05-25</td>\n",
       "    </tr>\n",
       "    <tr>\n",
       "      <th>1</th>\n",
       "      <td>12748.0</td>\n",
       "      <td>2011-05-31</td>\n",
       "    </tr>\n",
       "    <tr>\n",
       "      <th>2</th>\n",
       "      <td>12749.0</td>\n",
       "      <td>2011-05-23</td>\n",
       "    </tr>\n",
       "    <tr>\n",
       "      <th>3</th>\n",
       "      <td>12821.0</td>\n",
       "      <td>2011-05-09</td>\n",
       "    </tr>\n",
       "    <tr>\n",
       "      <th>4</th>\n",
       "      <td>12823.0</td>\n",
       "      <td>2011-03-30</td>\n",
       "    </tr>\n",
       "    <tr>\n",
       "      <th>...</th>\n",
       "      <td>...</td>\n",
       "      <td>...</td>\n",
       "    </tr>\n",
       "    <tr>\n",
       "      <th>1835</th>\n",
       "      <td>18272.0</td>\n",
       "      <td>2011-05-11</td>\n",
       "    </tr>\n",
       "    <tr>\n",
       "      <th>1836</th>\n",
       "      <td>18273.0</td>\n",
       "      <td>2011-03-27</td>\n",
       "    </tr>\n",
       "    <tr>\n",
       "      <th>1837</th>\n",
       "      <td>18280.0</td>\n",
       "      <td>2011-03-07</td>\n",
       "    </tr>\n",
       "    <tr>\n",
       "      <th>1838</th>\n",
       "      <td>18283.0</td>\n",
       "      <td>2011-05-23</td>\n",
       "    </tr>\n",
       "    <tr>\n",
       "      <th>1839</th>\n",
       "      <td>18287.0</td>\n",
       "      <td>2011-05-22</td>\n",
       "    </tr>\n",
       "  </tbody>\n",
       "</table>\n",
       "<p>1840 rows × 2 columns</p>\n",
       "</div>"
      ],
      "text/plain": [
       "      CustomerID MaxPurchaseDate\n",
       "0        12747.0      2011-05-25\n",
       "1        12748.0      2011-05-31\n",
       "2        12749.0      2011-05-23\n",
       "3        12821.0      2011-05-09\n",
       "4        12823.0      2011-03-30\n",
       "...          ...             ...\n",
       "1835     18272.0      2011-05-11\n",
       "1836     18273.0      2011-03-27\n",
       "1837     18280.0      2011-03-07\n",
       "1838     18283.0      2011-05-23\n",
       "1839     18287.0      2011-05-22\n",
       "\n",
       "[1840 rows x 2 columns]"
      ]
     },
     "execution_count": 142,
     "metadata": {},
     "output_type": "execute_result"
    }
   ],
   "source": [
    "df_max_Purchase = df_3m.groupby('CustomerID')['Invoiceonlydate'].max().reset_index(name='MaxPurchaseDate')\n",
    "df_max_Purchase"
   ]
  },
  {
   "cell_type": "code",
   "execution_count": 143,
   "metadata": {},
   "outputs": [
    {
     "data": {
      "text/html": [
       "<div>\n",
       "<style scoped>\n",
       "    .dataframe tbody tr th:only-of-type {\n",
       "        vertical-align: middle;\n",
       "    }\n",
       "\n",
       "    .dataframe tbody tr th {\n",
       "        vertical-align: top;\n",
       "    }\n",
       "\n",
       "    .dataframe thead th {\n",
       "        text-align: right;\n",
       "    }\n",
       "</style>\n",
       "<table border=\"1\" class=\"dataframe\">\n",
       "  <thead>\n",
       "    <tr style=\"text-align: right;\">\n",
       "      <th></th>\n",
       "      <th>CustomerID</th>\n",
       "      <th>MaxPurchaseDate</th>\n",
       "      <th>Recency</th>\n",
       "    </tr>\n",
       "  </thead>\n",
       "  <tbody>\n",
       "    <tr>\n",
       "      <th>0</th>\n",
       "      <td>12747.0</td>\n",
       "      <td>2011-05-25</td>\n",
       "      <td>6</td>\n",
       "    </tr>\n",
       "    <tr>\n",
       "      <th>1</th>\n",
       "      <td>12748.0</td>\n",
       "      <td>2011-05-31</td>\n",
       "      <td>0</td>\n",
       "    </tr>\n",
       "    <tr>\n",
       "      <th>2</th>\n",
       "      <td>12749.0</td>\n",
       "      <td>2011-05-23</td>\n",
       "      <td>8</td>\n",
       "    </tr>\n",
       "    <tr>\n",
       "      <th>3</th>\n",
       "      <td>12821.0</td>\n",
       "      <td>2011-05-09</td>\n",
       "      <td>22</td>\n",
       "    </tr>\n",
       "    <tr>\n",
       "      <th>4</th>\n",
       "      <td>12823.0</td>\n",
       "      <td>2011-03-30</td>\n",
       "      <td>62</td>\n",
       "    </tr>\n",
       "    <tr>\n",
       "      <th>...</th>\n",
       "      <td>...</td>\n",
       "      <td>...</td>\n",
       "      <td>...</td>\n",
       "    </tr>\n",
       "    <tr>\n",
       "      <th>1835</th>\n",
       "      <td>18272.0</td>\n",
       "      <td>2011-05-11</td>\n",
       "      <td>20</td>\n",
       "    </tr>\n",
       "    <tr>\n",
       "      <th>1836</th>\n",
       "      <td>18273.0</td>\n",
       "      <td>2011-03-27</td>\n",
       "      <td>65</td>\n",
       "    </tr>\n",
       "    <tr>\n",
       "      <th>1837</th>\n",
       "      <td>18280.0</td>\n",
       "      <td>2011-03-07</td>\n",
       "      <td>85</td>\n",
       "    </tr>\n",
       "    <tr>\n",
       "      <th>1838</th>\n",
       "      <td>18283.0</td>\n",
       "      <td>2011-05-23</td>\n",
       "      <td>8</td>\n",
       "    </tr>\n",
       "    <tr>\n",
       "      <th>1839</th>\n",
       "      <td>18287.0</td>\n",
       "      <td>2011-05-22</td>\n",
       "      <td>9</td>\n",
       "    </tr>\n",
       "  </tbody>\n",
       "</table>\n",
       "<p>1840 rows × 3 columns</p>\n",
       "</div>"
      ],
      "text/plain": [
       "      CustomerID MaxPurchaseDate  Recency\n",
       "0        12747.0      2011-05-25        6\n",
       "1        12748.0      2011-05-31        0\n",
       "2        12749.0      2011-05-23        8\n",
       "3        12821.0      2011-05-09       22\n",
       "4        12823.0      2011-03-30       62\n",
       "...          ...             ...      ...\n",
       "1835     18272.0      2011-05-11       20\n",
       "1836     18273.0      2011-03-27       65\n",
       "1837     18280.0      2011-03-07       85\n",
       "1838     18283.0      2011-05-23        8\n",
       "1839     18287.0      2011-05-22        9\n",
       "\n",
       "[1840 rows x 3 columns]"
      ]
     },
     "execution_count": 143,
     "metadata": {},
     "output_type": "execute_result"
    }
   ],
   "source": [
    "df_max_Purchase['Recency'] = (df_max_Purchase['MaxPurchaseDate'].max() - df_max_Purchase['MaxPurchaseDate']).dt.days\n",
    "df_max_Purchase"
   ]
  },
  {
   "cell_type": "code",
   "execution_count": 144,
   "metadata": {},
   "outputs": [
    {
     "data": {
      "text/html": [
       "<div>\n",
       "<style scoped>\n",
       "    .dataframe tbody tr th:only-of-type {\n",
       "        vertical-align: middle;\n",
       "    }\n",
       "\n",
       "    .dataframe tbody tr th {\n",
       "        vertical-align: top;\n",
       "    }\n",
       "\n",
       "    .dataframe thead th {\n",
       "        text-align: right;\n",
       "    }\n",
       "</style>\n",
       "<table border=\"1\" class=\"dataframe\">\n",
       "  <thead>\n",
       "    <tr style=\"text-align: right;\">\n",
       "      <th></th>\n",
       "      <th>CustomerID</th>\n",
       "      <th>MaxPurchaseDate</th>\n",
       "      <th>Recency</th>\n",
       "    </tr>\n",
       "  </thead>\n",
       "  <tbody>\n",
       "    <tr>\n",
       "      <th>0</th>\n",
       "      <td>14620.0</td>\n",
       "      <td>2011-05-19</td>\n",
       "      <td>12</td>\n",
       "    </tr>\n",
       "    <tr>\n",
       "      <th>1</th>\n",
       "      <td>14740.0</td>\n",
       "      <td>2011-05-26</td>\n",
       "      <td>5</td>\n",
       "    </tr>\n",
       "    <tr>\n",
       "      <th>2</th>\n",
       "      <td>13880.0</td>\n",
       "      <td>2011-05-06</td>\n",
       "      <td>25</td>\n",
       "    </tr>\n",
       "    <tr>\n",
       "      <th>3</th>\n",
       "      <td>16462.0</td>\n",
       "      <td>2011-03-01</td>\n",
       "      <td>91</td>\n",
       "    </tr>\n",
       "    <tr>\n",
       "      <th>4</th>\n",
       "      <td>17068.0</td>\n",
       "      <td>2011-05-19</td>\n",
       "      <td>12</td>\n",
       "    </tr>\n",
       "    <tr>\n",
       "      <th>...</th>\n",
       "      <td>...</td>\n",
       "      <td>...</td>\n",
       "      <td>...</td>\n",
       "    </tr>\n",
       "    <tr>\n",
       "      <th>1835</th>\n",
       "      <td>14819.0</td>\n",
       "      <td>2011-05-31</td>\n",
       "      <td>0</td>\n",
       "    </tr>\n",
       "    <tr>\n",
       "      <th>1836</th>\n",
       "      <td>18190.0</td>\n",
       "      <td>2011-05-31</td>\n",
       "      <td>0</td>\n",
       "    </tr>\n",
       "    <tr>\n",
       "      <th>1837</th>\n",
       "      <td>15163.0</td>\n",
       "      <td>2011-05-31</td>\n",
       "      <td>0</td>\n",
       "    </tr>\n",
       "    <tr>\n",
       "      <th>1838</th>\n",
       "      <td>18204.0</td>\n",
       "      <td>2011-05-31</td>\n",
       "      <td>0</td>\n",
       "    </tr>\n",
       "    <tr>\n",
       "      <th>1839</th>\n",
       "      <td>16810.0</td>\n",
       "      <td>2011-05-31</td>\n",
       "      <td>0</td>\n",
       "    </tr>\n",
       "  </tbody>\n",
       "</table>\n",
       "<p>1840 rows × 3 columns</p>\n",
       "</div>"
      ],
      "text/plain": [
       "      CustomerID MaxPurchaseDate  Recency\n",
       "0        14620.0      2011-05-19       12\n",
       "1        14740.0      2011-05-26        5\n",
       "2        13880.0      2011-05-06       25\n",
       "3        16462.0      2011-03-01       91\n",
       "4        17068.0      2011-05-19       12\n",
       "...          ...             ...      ...\n",
       "1835     14819.0      2011-05-31        0\n",
       "1836     18190.0      2011-05-31        0\n",
       "1837     15163.0      2011-05-31        0\n",
       "1838     18204.0      2011-05-31        0\n",
       "1839     16810.0      2011-05-31        0\n",
       "\n",
       "[1840 rows x 3 columns]"
      ]
     },
     "execution_count": 144,
     "metadata": {},
     "output_type": "execute_result"
    }
   ],
   "source": [
    "df_user = df_user.merge(df_max_Purchase,on='CustomerID')\n",
    "df_user"
   ]
  },
  {
   "cell_type": "code",
   "execution_count": 145,
   "metadata": {},
   "outputs": [
    {
     "data": {
      "text/plain": [
       "count    1840.000000\n",
       "mean       35.338043\n",
       "std        26.220317\n",
       "min         0.000000\n",
       "25%        12.000000\n",
       "50%        26.000000\n",
       "75%        56.000000\n",
       "max        91.000000\n",
       "Name: Recency, dtype: float64"
      ]
     },
     "execution_count": 145,
     "metadata": {},
     "output_type": "execute_result"
    }
   ],
   "source": [
    "df_user['Recency'].describe()"
   ]
  },
  {
   "cell_type": "code",
   "execution_count": 146,
   "metadata": {},
   "outputs": [
    {
     "data": {
      "application/vnd.plotly.v1+json": {
       "config": {
        "plotlyServerURL": "https://plot.ly"
       },
       "data": [
        {
         "alignmentgroup": "True",
         "bingroup": "x",
         "hovertemplate": "Recency=%{x}<br>count=%{y}<extra></extra>",
         "legendgroup": "",
         "marker": {
          "color": "#636efa",
          "pattern": {
           "shape": ""
          }
         },
         "name": "",
         "offsetgroup": "",
         "orientation": "v",
         "showlegend": false,
         "type": "histogram",
         "x": [
          12,
          5,
          25,
          91,
          12,
          4,
          91,
          56,
          6,
          21,
          6,
          12,
          91,
          0,
          91,
          7,
          50,
          4,
          28,
          6,
          60,
          23,
          91,
          91,
          89,
          89,
          91,
          91,
          85,
          91,
          4,
          19,
          15,
          4,
          6,
          6,
          65,
          4,
          4,
          90,
          13,
          4,
          91,
          41,
          42,
          6,
          47,
          0,
          90,
          90,
          5,
          13,
          90,
          13,
          90,
          14,
          2,
          90,
          85,
          90,
          55,
          90,
          19,
          18,
          68,
          6,
          5,
          90,
          4,
          90,
          90,
          5,
          8,
          90,
          90,
          90,
          90,
          90,
          71,
          43,
          75,
          40,
          53,
          5,
          90,
          28,
          8,
          90,
          90,
          90,
          19,
          4,
          90,
          90,
          5,
          20,
          4,
          22,
          9,
          11,
          41,
          26,
          47,
          14,
          26,
          89,
          27,
          89,
          89,
          7,
          7,
          8,
          4,
          7,
          53,
          41,
          8,
          5,
          11,
          7,
          22,
          89,
          89,
          14,
          89,
          89,
          89,
          7,
          44,
          26,
          89,
          70,
          5,
          12,
          41,
          5,
          82,
          7,
          0,
          21,
          11,
          5,
          48,
          14,
          89,
          89,
          21,
          64,
          89,
          89,
          88,
          0,
          25,
          88,
          15,
          11,
          14,
          88,
          4,
          20,
          9,
          88,
          88,
          5,
          33,
          0,
          0,
          88,
          88,
          88,
          88,
          88,
          88,
          88,
          88,
          15,
          55,
          88,
          4,
          44,
          41,
          86,
          7,
          40,
          22,
          7,
          86,
          55,
          0,
          30,
          86,
          86,
          86,
          8,
          6,
          23,
          58,
          21,
          51,
          56,
          16,
          86,
          61,
          85,
          21,
          85,
          25,
          85,
          85,
          85,
          6,
          0,
          14,
          23,
          85,
          8,
          11,
          14,
          11,
          18,
          85,
          81,
          85,
          5,
          25,
          6,
          85,
          11,
          20,
          22,
          85,
          85,
          5,
          18,
          6,
          5,
          12,
          35,
          85,
          85,
          48,
          12,
          85,
          85,
          8,
          5,
          53,
          85,
          57,
          19,
          30,
          19,
          4,
          55,
          12,
          22,
          85,
          85,
          85,
          84,
          4,
          84,
          84,
          84,
          23,
          7,
          35,
          7,
          84,
          27,
          84,
          57,
          84,
          7,
          19,
          15,
          23,
          0,
          40,
          84,
          14,
          26,
          20,
          84,
          4,
          20,
          84,
          84,
          84,
          12,
          84,
          6,
          23,
          22,
          83,
          83,
          7,
          8,
          6,
          83,
          12,
          83,
          83,
          0,
          7,
          11,
          28,
          83,
          83,
          83,
          78,
          83,
          83,
          42,
          14,
          18,
          83,
          14,
          16,
          11,
          83,
          7,
          9,
          6,
          34,
          81,
          41,
          7,
          83,
          18,
          82,
          18,
          33,
          82,
          82,
          82,
          82,
          26,
          63,
          4,
          26,
          13,
          82,
          22,
          4,
          11,
          6,
          15,
          26,
          9,
          7,
          22,
          19,
          35,
          14,
          4,
          82,
          19,
          19,
          78,
          82,
          82,
          22,
          78,
          71,
          82,
          12,
          7,
          61,
          82,
          33,
          5,
          82,
          0,
          81,
          81,
          81,
          81,
          53,
          26,
          81,
          8,
          7,
          6,
          81,
          7,
          81,
          35,
          23,
          9,
          20,
          81,
          81,
          0,
          7,
          25,
          21,
          20,
          81,
          61,
          42,
          81,
          53,
          62,
          81,
          81,
          79,
          0,
          28,
          79,
          6,
          48,
          2,
          42,
          51,
          76,
          79,
          9,
          79,
          62,
          50,
          78,
          23,
          7,
          6,
          18,
          5,
          75,
          4,
          30,
          67,
          57,
          78,
          25,
          12,
          12,
          13,
          75,
          7,
          13,
          78,
          78,
          50,
          42,
          25,
          77,
          14,
          11,
          8,
          15,
          77,
          34,
          77,
          77,
          77,
          76,
          0,
          77,
          19,
          19,
          4,
          19,
          60,
          77,
          77,
          77,
          53,
          77,
          4,
          4,
          7,
          77,
          20,
          77,
          20,
          71,
          26,
          76,
          76,
          76,
          76,
          11,
          19,
          76,
          40,
          0,
          7,
          76,
          14,
          76,
          76,
          76,
          9,
          76,
          76,
          41,
          21,
          69,
          11,
          14,
          14,
          76,
          12,
          33,
          62,
          11,
          71,
          7,
          75,
          9,
          57,
          13,
          75,
          75,
          75,
          13,
          75,
          8,
          18,
          6,
          75,
          12,
          21,
          5,
          75,
          75,
          75,
          75,
          20,
          2,
          11,
          75,
          75,
          9,
          75,
          75,
          22,
          27,
          12,
          26,
          0,
          75,
          74,
          74,
          12,
          28,
          74,
          74,
          14,
          12,
          74,
          46,
          74,
          74,
          65,
          12,
          74,
          74,
          71,
          74,
          48,
          4,
          74,
          13,
          74,
          74,
          74,
          0,
          54,
          11,
          0,
          44,
          74,
          74,
          74,
          35,
          74,
          71,
          22,
          28,
          6,
          5,
          5,
          72,
          9,
          49,
          33,
          7,
          72,
          72,
          72,
          4,
          2,
          72,
          7,
          65,
          72,
          44,
          9,
          72,
          22,
          20,
          13,
          41,
          8,
          6,
          21,
          46,
          72,
          72,
          72,
          72,
          9,
          68,
          72,
          61,
          71,
          71,
          71,
          23,
          71,
          71,
          4,
          5,
          25,
          25,
          71,
          71,
          47,
          26,
          14,
          43,
          71,
          71,
          21,
          71,
          71,
          11,
          22,
          71,
          71,
          2,
          71,
          23,
          71,
          70,
          0,
          70,
          70,
          15,
          68,
          7,
          4,
          2,
          70,
          70,
          70,
          70,
          70,
          16,
          9,
          70,
          70,
          70,
          70,
          4,
          70,
          70,
          23,
          69,
          5,
          25,
          69,
          69,
          11,
          69,
          40,
          50,
          69,
          69,
          27,
          69,
          69,
          69,
          69,
          69,
          26,
          69,
          14,
          69,
          69,
          69,
          69,
          35,
          14,
          69,
          25,
          43,
          69,
          7,
          19,
          69,
          69,
          64,
          11,
          69,
          69,
          69,
          68,
          68,
          8,
          68,
          11,
          68,
          68,
          56,
          26,
          68,
          68,
          16,
          4,
          68,
          48,
          25,
          5,
          33,
          68,
          68,
          6,
          62,
          34,
          5,
          68,
          68,
          68,
          68,
          27,
          68,
          26,
          68,
          2,
          44,
          25,
          20,
          67,
          67,
          14,
          67,
          21,
          67,
          41,
          23,
          13,
          67,
          28,
          15,
          67,
          67,
          41,
          25,
          25,
          11,
          67,
          67,
          65,
          9,
          65,
          65,
          65,
          60,
          0,
          65,
          65,
          65,
          13,
          9,
          9,
          65,
          2,
          65,
          65,
          65,
          8,
          65,
          13,
          0,
          62,
          64,
          54,
          64,
          14,
          64,
          11,
          13,
          64,
          18,
          64,
          16,
          64,
          64,
          64,
          4,
          64,
          21,
          14,
          64,
          25,
          64,
          64,
          0,
          64,
          64,
          64,
          64,
          19,
          12,
          27,
          12,
          64,
          12,
          12,
          60,
          63,
          6,
          15,
          33,
          7,
          62,
          63,
          63,
          63,
          18,
          18,
          27,
          63,
          63,
          6,
          63,
          22,
          63,
          15,
          12,
          41,
          63,
          63,
          8,
          20,
          46,
          21,
          62,
          22,
          62,
          14,
          62,
          62,
          62,
          26,
          18,
          62,
          4,
          14,
          62,
          6,
          62,
          62,
          26,
          40,
          62,
          60,
          62,
          61,
          62,
          54,
          27,
          62,
          56,
          62,
          46,
          62,
          62,
          18,
          5,
          62,
          4,
          5,
          14,
          62,
          18,
          61,
          34,
          61,
          18,
          55,
          11,
          7,
          61,
          61,
          61,
          12,
          61,
          61,
          0,
          5,
          14,
          34,
          61,
          13,
          42,
          61,
          33,
          61,
          61,
          26,
          8,
          19,
          61,
          61,
          43,
          16,
          61,
          61,
          61,
          61,
          60,
          60,
          9,
          56,
          60,
          5,
          18,
          15,
          60,
          40,
          15,
          60,
          60,
          60,
          7,
          60,
          60,
          60,
          35,
          60,
          11,
          60,
          13,
          12,
          14,
          60,
          60,
          23,
          60,
          41,
          11,
          60,
          60,
          60,
          60,
          26,
          9,
          58,
          22,
          58,
          53,
          58,
          21,
          58,
          42,
          19,
          16,
          58,
          57,
          18,
          57,
          0,
          57,
          57,
          48,
          12,
          33,
          8,
          18,
          57,
          57,
          57,
          57,
          57,
          21,
          55,
          57,
          5,
          16,
          57,
          57,
          12,
          56,
          14,
          56,
          20,
          9,
          0,
          56,
          6,
          56,
          13,
          56,
          56,
          42,
          25,
          47,
          56,
          11,
          35,
          56,
          56,
          56,
          6,
          55,
          0,
          53,
          55,
          55,
          20,
          47,
          55,
          55,
          55,
          8,
          55,
          55,
          25,
          4,
          55,
          7,
          55,
          50,
          20,
          54,
          27,
          25,
          40,
          26,
          54,
          54,
          54,
          15,
          19,
          16,
          54,
          54,
          54,
          54,
          54,
          54,
          54,
          6,
          54,
          54,
          54,
          54,
          54,
          53,
          54,
          54,
          54,
          23,
          54,
          47,
          14,
          50,
          53,
          53,
          53,
          53,
          4,
          0,
          53,
          25,
          42,
          53,
          48,
          53,
          4,
          53,
          53,
          53,
          53,
          53,
          11,
          51,
          50,
          53,
          53,
          53,
          25,
          15,
          51,
          9,
          5,
          2,
          51,
          23,
          11,
          51,
          51,
          51,
          51,
          51,
          51,
          4,
          51,
          51,
          41,
          51,
          5,
          41,
          34,
          50,
          0,
          50,
          34,
          50,
          50,
          50,
          48,
          50,
          11,
          50,
          33,
          42,
          47,
          22,
          2,
          25,
          0,
          50,
          50,
          50,
          50,
          42,
          50,
          50,
          50,
          50,
          11,
          47,
          49,
          5,
          19,
          49,
          49,
          7,
          49,
          49,
          49,
          33,
          49,
          49,
          49,
          49,
          49,
          49,
          7,
          47,
          7,
          43,
          8,
          49,
          7,
          49,
          49,
          49,
          49,
          49,
          49,
          49,
          41,
          48,
          48,
          48,
          48,
          47,
          21,
          2,
          48,
          48,
          48,
          2,
          14,
          42,
          48,
          47,
          48,
          48,
          48,
          5,
          42,
          12,
          40,
          47,
          48,
          48,
          26,
          34,
          27,
          48,
          15,
          15,
          7,
          47,
          40,
          14,
          18,
          47,
          11,
          23,
          43,
          43,
          47,
          12,
          22,
          6,
          19,
          9,
          47,
          47,
          47,
          34,
          23,
          47,
          47,
          47,
          7,
          47,
          47,
          7,
          47,
          47,
          47,
          41,
          28,
          19,
          46,
          46,
          46,
          42,
          41,
          46,
          46,
          13,
          46,
          46,
          2,
          26,
          6,
          46,
          46,
          21,
          12,
          44,
          8,
          44,
          27,
          44,
          44,
          44,
          4,
          44,
          44,
          11,
          41,
          44,
          44,
          44,
          44,
          9,
          44,
          44,
          44,
          44,
          14,
          43,
          43,
          26,
          43,
          43,
          43,
          43,
          43,
          43,
          43,
          11,
          43,
          43,
          43,
          43,
          13,
          43,
          43,
          22,
          43,
          43,
          27,
          28,
          43,
          43,
          26,
          22,
          42,
          28,
          40,
          42,
          42,
          6,
          6,
          42,
          42,
          42,
          11,
          42,
          13,
          15,
          42,
          42,
          42,
          42,
          42,
          6,
          40,
          42,
          42,
          42,
          41,
          11,
          41,
          0,
          25,
          41,
          34,
          41,
          26,
          34,
          5,
          41,
          41,
          41,
          41,
          34,
          41,
          41,
          12,
          41,
          41,
          41,
          14,
          40,
          40,
          40,
          40,
          40,
          40,
          40,
          40,
          0,
          40,
          40,
          40,
          33,
          40,
          8,
          11,
          40,
          40,
          40,
          8,
          40,
          40,
          40,
          40,
          40,
          40,
          8,
          35,
          35,
          35,
          35,
          28,
          35,
          27,
          35,
          33,
          35,
          5,
          35,
          35,
          11,
          35,
          28,
          27,
          21,
          34,
          34,
          34,
          22,
          34,
          34,
          34,
          4,
          34,
          34,
          27,
          33,
          34,
          33,
          11,
          33,
          33,
          33,
          33,
          33,
          33,
          33,
          33,
          27,
          33,
          33,
          33,
          33,
          33,
          18,
          26,
          30,
          30,
          30,
          30,
          12,
          30,
          30,
          11,
          28,
          28,
          20,
          28,
          4,
          25,
          21,
          11,
          28,
          28,
          19,
          28,
          28,
          28,
          28,
          28,
          28,
          27,
          27,
          18,
          20,
          21,
          27,
          27,
          27,
          27,
          27,
          6,
          7,
          7,
          27,
          27,
          21,
          27,
          27,
          27,
          27,
          27,
          26,
          26,
          8,
          26,
          12,
          26,
          26,
          26,
          26,
          26,
          26,
          26,
          21,
          26,
          26,
          14,
          26,
          26,
          26,
          26,
          26,
          26,
          14,
          26,
          26,
          26,
          26,
          12,
          14,
          25,
          25,
          25,
          25,
          25,
          25,
          25,
          25,
          25,
          25,
          25,
          25,
          25,
          25,
          25,
          19,
          11,
          25,
          25,
          25,
          25,
          23,
          23,
          8,
          23,
          23,
          23,
          23,
          19,
          23,
          23,
          23,
          23,
          23,
          23,
          23,
          23,
          23,
          23,
          23,
          23,
          23,
          23,
          23,
          23,
          23,
          23,
          23,
          22,
          22,
          9,
          22,
          14,
          22,
          22,
          22,
          22,
          8,
          22,
          22,
          22,
          22,
          22,
          22,
          22,
          21,
          21,
          19,
          21,
          4,
          21,
          21,
          21,
          6,
          21,
          20,
          21,
          21,
          21,
          21,
          8,
          21,
          20,
          20,
          20,
          20,
          20,
          20,
          6,
          20,
          19,
          20,
          13,
          20,
          20,
          20,
          19,
          20,
          20,
          20,
          20,
          20,
          20,
          19,
          19,
          19,
          19,
          19,
          19,
          19,
          19,
          14,
          13,
          19,
          19,
          19,
          8,
          19,
          19,
          19,
          19,
          19,
          19,
          19,
          19,
          19,
          19,
          19,
          14,
          19,
          12,
          19,
          18,
          18,
          18,
          18,
          14,
          18,
          18,
          16,
          16,
          16,
          16,
          16,
          16,
          16,
          16,
          12,
          16,
          16,
          4,
          16,
          15,
          15,
          15,
          14,
          15,
          8,
          15,
          15,
          15,
          15,
          15,
          15,
          15,
          14,
          14,
          14,
          14,
          14,
          14,
          14,
          12,
          14,
          8,
          8,
          14,
          14,
          13,
          13,
          13,
          13,
          13,
          13,
          7,
          13,
          5,
          6,
          11,
          13,
          13,
          13,
          13,
          13,
          13,
          13,
          13,
          12,
          12,
          12,
          12,
          8,
          12,
          12,
          12,
          12,
          12,
          12,
          12,
          12,
          12,
          12,
          7,
          12,
          12,
          8,
          4,
          12,
          12,
          12,
          5,
          12,
          12,
          4,
          4,
          11,
          11,
          11,
          11,
          11,
          11,
          6,
          11,
          11,
          11,
          11,
          11,
          11,
          11,
          9,
          9,
          9,
          9,
          9,
          9,
          9,
          9,
          9,
          9,
          9,
          9,
          9,
          9,
          4,
          9,
          9,
          9,
          9,
          8,
          8,
          8,
          8,
          8,
          8,
          8,
          8,
          8,
          7,
          8,
          8,
          7,
          8,
          7,
          7,
          7,
          7,
          7,
          7,
          7,
          7,
          7,
          7,
          7,
          7,
          7,
          6,
          6,
          6,
          6,
          6,
          6,
          6,
          6,
          6,
          6,
          6,
          5,
          5,
          5,
          5,
          5,
          5,
          5,
          0,
          4,
          4,
          4,
          4,
          4,
          4,
          4,
          4,
          4,
          4,
          4,
          4,
          4,
          2,
          2,
          2,
          2,
          2,
          2,
          0,
          0,
          0,
          0,
          0,
          0,
          0,
          0,
          0,
          0,
          0
         ],
         "xaxis": "x",
         "yaxis": "y"
        }
       ],
       "layout": {
        "barmode": "relative",
        "legend": {
         "tracegroupgap": 0
        },
        "template": {
         "data": {
          "bar": [
           {
            "error_x": {
             "color": "#2a3f5f"
            },
            "error_y": {
             "color": "#2a3f5f"
            },
            "marker": {
             "line": {
              "color": "#E5ECF6",
              "width": 0.5
             },
             "pattern": {
              "fillmode": "overlay",
              "size": 10,
              "solidity": 0.2
             }
            },
            "type": "bar"
           }
          ],
          "barpolar": [
           {
            "marker": {
             "line": {
              "color": "#E5ECF6",
              "width": 0.5
             },
             "pattern": {
              "fillmode": "overlay",
              "size": 10,
              "solidity": 0.2
             }
            },
            "type": "barpolar"
           }
          ],
          "carpet": [
           {
            "aaxis": {
             "endlinecolor": "#2a3f5f",
             "gridcolor": "white",
             "linecolor": "white",
             "minorgridcolor": "white",
             "startlinecolor": "#2a3f5f"
            },
            "baxis": {
             "endlinecolor": "#2a3f5f",
             "gridcolor": "white",
             "linecolor": "white",
             "minorgridcolor": "white",
             "startlinecolor": "#2a3f5f"
            },
            "type": "carpet"
           }
          ],
          "choropleth": [
           {
            "colorbar": {
             "outlinewidth": 0,
             "ticks": ""
            },
            "type": "choropleth"
           }
          ],
          "contour": [
           {
            "colorbar": {
             "outlinewidth": 0,
             "ticks": ""
            },
            "colorscale": [
             [
              0,
              "#0d0887"
             ],
             [
              0.1111111111111111,
              "#46039f"
             ],
             [
              0.2222222222222222,
              "#7201a8"
             ],
             [
              0.3333333333333333,
              "#9c179e"
             ],
             [
              0.4444444444444444,
              "#bd3786"
             ],
             [
              0.5555555555555556,
              "#d8576b"
             ],
             [
              0.6666666666666666,
              "#ed7953"
             ],
             [
              0.7777777777777778,
              "#fb9f3a"
             ],
             [
              0.8888888888888888,
              "#fdca26"
             ],
             [
              1,
              "#f0f921"
             ]
            ],
            "type": "contour"
           }
          ],
          "contourcarpet": [
           {
            "colorbar": {
             "outlinewidth": 0,
             "ticks": ""
            },
            "type": "contourcarpet"
           }
          ],
          "heatmap": [
           {
            "colorbar": {
             "outlinewidth": 0,
             "ticks": ""
            },
            "colorscale": [
             [
              0,
              "#0d0887"
             ],
             [
              0.1111111111111111,
              "#46039f"
             ],
             [
              0.2222222222222222,
              "#7201a8"
             ],
             [
              0.3333333333333333,
              "#9c179e"
             ],
             [
              0.4444444444444444,
              "#bd3786"
             ],
             [
              0.5555555555555556,
              "#d8576b"
             ],
             [
              0.6666666666666666,
              "#ed7953"
             ],
             [
              0.7777777777777778,
              "#fb9f3a"
             ],
             [
              0.8888888888888888,
              "#fdca26"
             ],
             [
              1,
              "#f0f921"
             ]
            ],
            "type": "heatmap"
           }
          ],
          "heatmapgl": [
           {
            "colorbar": {
             "outlinewidth": 0,
             "ticks": ""
            },
            "colorscale": [
             [
              0,
              "#0d0887"
             ],
             [
              0.1111111111111111,
              "#46039f"
             ],
             [
              0.2222222222222222,
              "#7201a8"
             ],
             [
              0.3333333333333333,
              "#9c179e"
             ],
             [
              0.4444444444444444,
              "#bd3786"
             ],
             [
              0.5555555555555556,
              "#d8576b"
             ],
             [
              0.6666666666666666,
              "#ed7953"
             ],
             [
              0.7777777777777778,
              "#fb9f3a"
             ],
             [
              0.8888888888888888,
              "#fdca26"
             ],
             [
              1,
              "#f0f921"
             ]
            ],
            "type": "heatmapgl"
           }
          ],
          "histogram": [
           {
            "marker": {
             "pattern": {
              "fillmode": "overlay",
              "size": 10,
              "solidity": 0.2
             }
            },
            "type": "histogram"
           }
          ],
          "histogram2d": [
           {
            "colorbar": {
             "outlinewidth": 0,
             "ticks": ""
            },
            "colorscale": [
             [
              0,
              "#0d0887"
             ],
             [
              0.1111111111111111,
              "#46039f"
             ],
             [
              0.2222222222222222,
              "#7201a8"
             ],
             [
              0.3333333333333333,
              "#9c179e"
             ],
             [
              0.4444444444444444,
              "#bd3786"
             ],
             [
              0.5555555555555556,
              "#d8576b"
             ],
             [
              0.6666666666666666,
              "#ed7953"
             ],
             [
              0.7777777777777778,
              "#fb9f3a"
             ],
             [
              0.8888888888888888,
              "#fdca26"
             ],
             [
              1,
              "#f0f921"
             ]
            ],
            "type": "histogram2d"
           }
          ],
          "histogram2dcontour": [
           {
            "colorbar": {
             "outlinewidth": 0,
             "ticks": ""
            },
            "colorscale": [
             [
              0,
              "#0d0887"
             ],
             [
              0.1111111111111111,
              "#46039f"
             ],
             [
              0.2222222222222222,
              "#7201a8"
             ],
             [
              0.3333333333333333,
              "#9c179e"
             ],
             [
              0.4444444444444444,
              "#bd3786"
             ],
             [
              0.5555555555555556,
              "#d8576b"
             ],
             [
              0.6666666666666666,
              "#ed7953"
             ],
             [
              0.7777777777777778,
              "#fb9f3a"
             ],
             [
              0.8888888888888888,
              "#fdca26"
             ],
             [
              1,
              "#f0f921"
             ]
            ],
            "type": "histogram2dcontour"
           }
          ],
          "mesh3d": [
           {
            "colorbar": {
             "outlinewidth": 0,
             "ticks": ""
            },
            "type": "mesh3d"
           }
          ],
          "parcoords": [
           {
            "line": {
             "colorbar": {
              "outlinewidth": 0,
              "ticks": ""
             }
            },
            "type": "parcoords"
           }
          ],
          "pie": [
           {
            "automargin": true,
            "type": "pie"
           }
          ],
          "scatter": [
           {
            "marker": {
             "colorbar": {
              "outlinewidth": 0,
              "ticks": ""
             }
            },
            "type": "scatter"
           }
          ],
          "scatter3d": [
           {
            "line": {
             "colorbar": {
              "outlinewidth": 0,
              "ticks": ""
             }
            },
            "marker": {
             "colorbar": {
              "outlinewidth": 0,
              "ticks": ""
             }
            },
            "type": "scatter3d"
           }
          ],
          "scattercarpet": [
           {
            "marker": {
             "colorbar": {
              "outlinewidth": 0,
              "ticks": ""
             }
            },
            "type": "scattercarpet"
           }
          ],
          "scattergeo": [
           {
            "marker": {
             "colorbar": {
              "outlinewidth": 0,
              "ticks": ""
             }
            },
            "type": "scattergeo"
           }
          ],
          "scattergl": [
           {
            "marker": {
             "colorbar": {
              "outlinewidth": 0,
              "ticks": ""
             }
            },
            "type": "scattergl"
           }
          ],
          "scattermapbox": [
           {
            "marker": {
             "colorbar": {
              "outlinewidth": 0,
              "ticks": ""
             }
            },
            "type": "scattermapbox"
           }
          ],
          "scatterpolar": [
           {
            "marker": {
             "colorbar": {
              "outlinewidth": 0,
              "ticks": ""
             }
            },
            "type": "scatterpolar"
           }
          ],
          "scatterpolargl": [
           {
            "marker": {
             "colorbar": {
              "outlinewidth": 0,
              "ticks": ""
             }
            },
            "type": "scatterpolargl"
           }
          ],
          "scatterternary": [
           {
            "marker": {
             "colorbar": {
              "outlinewidth": 0,
              "ticks": ""
             }
            },
            "type": "scatterternary"
           }
          ],
          "surface": [
           {
            "colorbar": {
             "outlinewidth": 0,
             "ticks": ""
            },
            "colorscale": [
             [
              0,
              "#0d0887"
             ],
             [
              0.1111111111111111,
              "#46039f"
             ],
             [
              0.2222222222222222,
              "#7201a8"
             ],
             [
              0.3333333333333333,
              "#9c179e"
             ],
             [
              0.4444444444444444,
              "#bd3786"
             ],
             [
              0.5555555555555556,
              "#d8576b"
             ],
             [
              0.6666666666666666,
              "#ed7953"
             ],
             [
              0.7777777777777778,
              "#fb9f3a"
             ],
             [
              0.8888888888888888,
              "#fdca26"
             ],
             [
              1,
              "#f0f921"
             ]
            ],
            "type": "surface"
           }
          ],
          "table": [
           {
            "cells": {
             "fill": {
              "color": "#EBF0F8"
             },
             "line": {
              "color": "white"
             }
            },
            "header": {
             "fill": {
              "color": "#C8D4E3"
             },
             "line": {
              "color": "white"
             }
            },
            "type": "table"
           }
          ]
         },
         "layout": {
          "annotationdefaults": {
           "arrowcolor": "#2a3f5f",
           "arrowhead": 0,
           "arrowwidth": 1
          },
          "autotypenumbers": "strict",
          "coloraxis": {
           "colorbar": {
            "outlinewidth": 0,
            "ticks": ""
           }
          },
          "colorscale": {
           "diverging": [
            [
             0,
             "#8e0152"
            ],
            [
             0.1,
             "#c51b7d"
            ],
            [
             0.2,
             "#de77ae"
            ],
            [
             0.3,
             "#f1b6da"
            ],
            [
             0.4,
             "#fde0ef"
            ],
            [
             0.5,
             "#f7f7f7"
            ],
            [
             0.6,
             "#e6f5d0"
            ],
            [
             0.7,
             "#b8e186"
            ],
            [
             0.8,
             "#7fbc41"
            ],
            [
             0.9,
             "#4d9221"
            ],
            [
             1,
             "#276419"
            ]
           ],
           "sequential": [
            [
             0,
             "#0d0887"
            ],
            [
             0.1111111111111111,
             "#46039f"
            ],
            [
             0.2222222222222222,
             "#7201a8"
            ],
            [
             0.3333333333333333,
             "#9c179e"
            ],
            [
             0.4444444444444444,
             "#bd3786"
            ],
            [
             0.5555555555555556,
             "#d8576b"
            ],
            [
             0.6666666666666666,
             "#ed7953"
            ],
            [
             0.7777777777777778,
             "#fb9f3a"
            ],
            [
             0.8888888888888888,
             "#fdca26"
            ],
            [
             1,
             "#f0f921"
            ]
           ],
           "sequentialminus": [
            [
             0,
             "#0d0887"
            ],
            [
             0.1111111111111111,
             "#46039f"
            ],
            [
             0.2222222222222222,
             "#7201a8"
            ],
            [
             0.3333333333333333,
             "#9c179e"
            ],
            [
             0.4444444444444444,
             "#bd3786"
            ],
            [
             0.5555555555555556,
             "#d8576b"
            ],
            [
             0.6666666666666666,
             "#ed7953"
            ],
            [
             0.7777777777777778,
             "#fb9f3a"
            ],
            [
             0.8888888888888888,
             "#fdca26"
            ],
            [
             1,
             "#f0f921"
            ]
           ]
          },
          "colorway": [
           "#636efa",
           "#EF553B",
           "#00cc96",
           "#ab63fa",
           "#FFA15A",
           "#19d3f3",
           "#FF6692",
           "#B6E880",
           "#FF97FF",
           "#FECB52"
          ],
          "font": {
           "color": "#2a3f5f"
          },
          "geo": {
           "bgcolor": "white",
           "lakecolor": "white",
           "landcolor": "#E5ECF6",
           "showlakes": true,
           "showland": true,
           "subunitcolor": "white"
          },
          "hoverlabel": {
           "align": "left"
          },
          "hovermode": "closest",
          "mapbox": {
           "style": "light"
          },
          "paper_bgcolor": "white",
          "plot_bgcolor": "#E5ECF6",
          "polar": {
           "angularaxis": {
            "gridcolor": "white",
            "linecolor": "white",
            "ticks": ""
           },
           "bgcolor": "#E5ECF6",
           "radialaxis": {
            "gridcolor": "white",
            "linecolor": "white",
            "ticks": ""
           }
          },
          "scene": {
           "xaxis": {
            "backgroundcolor": "#E5ECF6",
            "gridcolor": "white",
            "gridwidth": 2,
            "linecolor": "white",
            "showbackground": true,
            "ticks": "",
            "zerolinecolor": "white"
           },
           "yaxis": {
            "backgroundcolor": "#E5ECF6",
            "gridcolor": "white",
            "gridwidth": 2,
            "linecolor": "white",
            "showbackground": true,
            "ticks": "",
            "zerolinecolor": "white"
           },
           "zaxis": {
            "backgroundcolor": "#E5ECF6",
            "gridcolor": "white",
            "gridwidth": 2,
            "linecolor": "white",
            "showbackground": true,
            "ticks": "",
            "zerolinecolor": "white"
           }
          },
          "shapedefaults": {
           "line": {
            "color": "#2a3f5f"
           }
          },
          "ternary": {
           "aaxis": {
            "gridcolor": "white",
            "linecolor": "white",
            "ticks": ""
           },
           "baxis": {
            "gridcolor": "white",
            "linecolor": "white",
            "ticks": ""
           },
           "bgcolor": "#E5ECF6",
           "caxis": {
            "gridcolor": "white",
            "linecolor": "white",
            "ticks": ""
           }
          },
          "title": {
           "x": 0.05
          },
          "xaxis": {
           "automargin": true,
           "gridcolor": "white",
           "linecolor": "white",
           "ticks": "",
           "title": {
            "standoff": 15
           },
           "zerolinecolor": "white",
           "zerolinewidth": 2
          },
          "yaxis": {
           "automargin": true,
           "gridcolor": "white",
           "linecolor": "white",
           "ticks": "",
           "title": {
            "standoff": 15
           },
           "zerolinecolor": "white",
           "zerolinewidth": 2
          }
         }
        },
        "title": {
         "text": "Recency Histogram"
        },
        "xaxis": {
         "anchor": "y",
         "domain": [
          0,
          1
         ],
         "title": {
          "text": "Recency"
         }
        },
        "yaxis": {
         "anchor": "x",
         "domain": [
          0,
          1
         ],
         "title": {
          "text": "count"
         }
        }
       }
      }
     },
     "metadata": {},
     "output_type": "display_data"
    }
   ],
   "source": [
    "fig = px.histogram(df_user, x=\"Recency\",title='Recency Histogram')\n",
    "fig.show()"
   ]
  },
  {
   "cell_type": "code",
   "execution_count": 147,
   "metadata": {},
   "outputs": [
    {
     "name": "stderr",
     "output_type": "stream",
     "text": [
      "C:\\Users\\DUONG-PC\\AppData\\Roaming\\Python\\Python39\\site-packages\\sklearn\\cluster\\_kmeans.py:870: FutureWarning:\n",
      "\n",
      "The default value of `n_init` will change from 10 to 'auto' in 1.4. Set the value of `n_init` explicitly to suppress the warning\n",
      "\n",
      "C:\\Users\\DUONG-PC\\AppData\\Local\\Temp\\ipykernel_9152\\2432703518.py:6: SettingWithCopyWarning:\n",
      "\n",
      "\n",
      "A value is trying to be set on a copy of a slice from a DataFrame.\n",
      "Try using .loc[row_indexer,col_indexer] = value instead\n",
      "\n",
      "See the caveats in the documentation: https://pandas.pydata.org/pandas-docs/stable/user_guide/indexing.html#returning-a-view-versus-a-copy\n",
      "\n",
      "C:\\Users\\DUONG-PC\\AppData\\Roaming\\Python\\Python39\\site-packages\\sklearn\\cluster\\_kmeans.py:870: FutureWarning:\n",
      "\n",
      "The default value of `n_init` will change from 10 to 'auto' in 1.4. Set the value of `n_init` explicitly to suppress the warning\n",
      "\n",
      "C:\\Users\\DUONG-PC\\AppData\\Local\\Temp\\ipykernel_9152\\2432703518.py:6: SettingWithCopyWarning:\n",
      "\n",
      "\n",
      "A value is trying to be set on a copy of a slice from a DataFrame.\n",
      "Try using .loc[row_indexer,col_indexer] = value instead\n",
      "\n",
      "See the caveats in the documentation: https://pandas.pydata.org/pandas-docs/stable/user_guide/indexing.html#returning-a-view-versus-a-copy\n",
      "\n",
      "C:\\Users\\DUONG-PC\\AppData\\Roaming\\Python\\Python39\\site-packages\\sklearn\\cluster\\_kmeans.py:870: FutureWarning:\n",
      "\n",
      "The default value of `n_init` will change from 10 to 'auto' in 1.4. Set the value of `n_init` explicitly to suppress the warning\n",
      "\n",
      "C:\\Users\\DUONG-PC\\AppData\\Local\\Temp\\ipykernel_9152\\2432703518.py:6: SettingWithCopyWarning:\n",
      "\n",
      "\n",
      "A value is trying to be set on a copy of a slice from a DataFrame.\n",
      "Try using .loc[row_indexer,col_indexer] = value instead\n",
      "\n",
      "See the caveats in the documentation: https://pandas.pydata.org/pandas-docs/stable/user_guide/indexing.html#returning-a-view-versus-a-copy\n",
      "\n",
      "C:\\Users\\DUONG-PC\\AppData\\Roaming\\Python\\Python39\\site-packages\\sklearn\\cluster\\_kmeans.py:870: FutureWarning:\n",
      "\n",
      "The default value of `n_init` will change from 10 to 'auto' in 1.4. Set the value of `n_init` explicitly to suppress the warning\n",
      "\n",
      "C:\\Users\\DUONG-PC\\AppData\\Local\\Temp\\ipykernel_9152\\2432703518.py:6: SettingWithCopyWarning:\n",
      "\n",
      "\n",
      "A value is trying to be set on a copy of a slice from a DataFrame.\n",
      "Try using .loc[row_indexer,col_indexer] = value instead\n",
      "\n",
      "See the caveats in the documentation: https://pandas.pydata.org/pandas-docs/stable/user_guide/indexing.html#returning-a-view-versus-a-copy\n",
      "\n",
      "C:\\Users\\DUONG-PC\\AppData\\Roaming\\Python\\Python39\\site-packages\\sklearn\\cluster\\_kmeans.py:870: FutureWarning:\n",
      "\n",
      "The default value of `n_init` will change from 10 to 'auto' in 1.4. Set the value of `n_init` explicitly to suppress the warning\n",
      "\n",
      "C:\\Users\\DUONG-PC\\AppData\\Local\\Temp\\ipykernel_9152\\2432703518.py:6: SettingWithCopyWarning:\n",
      "\n",
      "\n",
      "A value is trying to be set on a copy of a slice from a DataFrame.\n",
      "Try using .loc[row_indexer,col_indexer] = value instead\n",
      "\n",
      "See the caveats in the documentation: https://pandas.pydata.org/pandas-docs/stable/user_guide/indexing.html#returning-a-view-versus-a-copy\n",
      "\n",
      "C:\\Users\\DUONG-PC\\AppData\\Roaming\\Python\\Python39\\site-packages\\sklearn\\cluster\\_kmeans.py:870: FutureWarning:\n",
      "\n",
      "The default value of `n_init` will change from 10 to 'auto' in 1.4. Set the value of `n_init` explicitly to suppress the warning\n",
      "\n",
      "C:\\Users\\DUONG-PC\\AppData\\Local\\Temp\\ipykernel_9152\\2432703518.py:6: SettingWithCopyWarning:\n",
      "\n",
      "\n",
      "A value is trying to be set on a copy of a slice from a DataFrame.\n",
      "Try using .loc[row_indexer,col_indexer] = value instead\n",
      "\n",
      "See the caveats in the documentation: https://pandas.pydata.org/pandas-docs/stable/user_guide/indexing.html#returning-a-view-versus-a-copy\n",
      "\n",
      "C:\\Users\\DUONG-PC\\AppData\\Roaming\\Python\\Python39\\site-packages\\sklearn\\cluster\\_kmeans.py:870: FutureWarning:\n",
      "\n",
      "The default value of `n_init` will change from 10 to 'auto' in 1.4. Set the value of `n_init` explicitly to suppress the warning\n",
      "\n",
      "C:\\Users\\DUONG-PC\\AppData\\Local\\Temp\\ipykernel_9152\\2432703518.py:6: SettingWithCopyWarning:\n",
      "\n",
      "\n",
      "A value is trying to be set on a copy of a slice from a DataFrame.\n",
      "Try using .loc[row_indexer,col_indexer] = value instead\n",
      "\n",
      "See the caveats in the documentation: https://pandas.pydata.org/pandas-docs/stable/user_guide/indexing.html#returning-a-view-versus-a-copy\n",
      "\n",
      "C:\\Users\\DUONG-PC\\AppData\\Roaming\\Python\\Python39\\site-packages\\sklearn\\cluster\\_kmeans.py:870: FutureWarning:\n",
      "\n",
      "The default value of `n_init` will change from 10 to 'auto' in 1.4. Set the value of `n_init` explicitly to suppress the warning\n",
      "\n",
      "C:\\Users\\DUONG-PC\\AppData\\Local\\Temp\\ipykernel_9152\\2432703518.py:6: SettingWithCopyWarning:\n",
      "\n",
      "\n",
      "A value is trying to be set on a copy of a slice from a DataFrame.\n",
      "Try using .loc[row_indexer,col_indexer] = value instead\n",
      "\n",
      "See the caveats in the documentation: https://pandas.pydata.org/pandas-docs/stable/user_guide/indexing.html#returning-a-view-versus-a-copy\n",
      "\n",
      "C:\\Users\\DUONG-PC\\AppData\\Roaming\\Python\\Python39\\site-packages\\sklearn\\cluster\\_kmeans.py:870: FutureWarning:\n",
      "\n",
      "The default value of `n_init` will change from 10 to 'auto' in 1.4. Set the value of `n_init` explicitly to suppress the warning\n",
      "\n",
      "C:\\Users\\DUONG-PC\\AppData\\Local\\Temp\\ipykernel_9152\\2432703518.py:6: SettingWithCopyWarning:\n",
      "\n",
      "\n",
      "A value is trying to be set on a copy of a slice from a DataFrame.\n",
      "Try using .loc[row_indexer,col_indexer] = value instead\n",
      "\n",
      "See the caveats in the documentation: https://pandas.pydata.org/pandas-docs/stable/user_guide/indexing.html#returning-a-view-versus-a-copy\n",
      "\n"
     ]
    },
    {
     "data": {
      "image/png": "[encoded data removed]",
      "text/plain": [
       "<Figure size 432x288 with 1 Axes>"
      ]
     },
     "metadata": {
      "needs_background": "light"
     },
     "output_type": "display_data"
    }
   ],
   "source": [
    "from sklearn.cluster import KMeans \n",
    "sse={}\n",
    "df_recency = df_user[['Recency']]\n",
    "for k in range(1,10):\n",
    "    kmeans=KMeans(n_clusters=k,max_iter=1000).fit(df_recency)\n",
    "    df_recency[\"clusters\"] = kmeans.labels_\n",
    "    sse[k]=kmeans.inertia_ # binh phuong khoang cach toi trung tam cua cac cum\n",
    "plt.figure()\n",
    "plt.plot(list(sse.keys()),list(sse.values()))\n",
    "plt.xlabel('Number of cluster')\n",
    "plt.show()\n",
    "    \n"
   ]
  },
  {
   "cell_type": "code",
   "execution_count": 148,
   "metadata": {},
   "outputs": [
    {
     "name": "stderr",
     "output_type": "stream",
     "text": [
      "C:\\Users\\DUONG-PC\\AppData\\Roaming\\Python\\Python39\\site-packages\\sklearn\\cluster\\_kmeans.py:870: FutureWarning:\n",
      "\n",
      "The default value of `n_init` will change from 10 to 'auto' in 1.4. Set the value of `n_init` explicitly to suppress the warning\n",
      "\n"
     ]
    }
   ],
   "source": [
    "kmeans = KMeans(n_clusters= 4)\n",
    "kmeans.fit(df_user[['Recency']])\n",
    "df_user['RecencyCluster'] = kmeans.predict(df_user[['Recency']])"
   ]
  },
  {
   "cell_type": "code",
   "execution_count": 149,
   "metadata": {},
   "outputs": [
    {
     "data": {
      "text/html": [
       "<div>\n",
       "<style scoped>\n",
       "    .dataframe tbody tr th:only-of-type {\n",
       "        vertical-align: middle;\n",
       "    }\n",
       "\n",
       "    .dataframe tbody tr th {\n",
       "        vertical-align: top;\n",
       "    }\n",
       "\n",
       "    .dataframe thead th {\n",
       "        text-align: right;\n",
       "    }\n",
       "</style>\n",
       "<table border=\"1\" class=\"dataframe\">\n",
       "  <thead>\n",
       "    <tr style=\"text-align: right;\">\n",
       "      <th></th>\n",
       "      <th>CustomerID</th>\n",
       "      <th>MaxPurchaseDate</th>\n",
       "      <th>Recency</th>\n",
       "      <th>RecencyCluster</th>\n",
       "    </tr>\n",
       "  </thead>\n",
       "  <tbody>\n",
       "    <tr>\n",
       "      <th>0</th>\n",
       "      <td>14620.0</td>\n",
       "      <td>2011-05-19</td>\n",
       "      <td>12</td>\n",
       "      <td>2</td>\n",
       "    </tr>\n",
       "    <tr>\n",
       "      <th>1</th>\n",
       "      <td>14740.0</td>\n",
       "      <td>2011-05-26</td>\n",
       "      <td>5</td>\n",
       "      <td>2</td>\n",
       "    </tr>\n",
       "    <tr>\n",
       "      <th>2</th>\n",
       "      <td>13880.0</td>\n",
       "      <td>2011-05-06</td>\n",
       "      <td>25</td>\n",
       "      <td>1</td>\n",
       "    </tr>\n",
       "    <tr>\n",
       "      <th>3</th>\n",
       "      <td>16462.0</td>\n",
       "      <td>2011-03-01</td>\n",
       "      <td>91</td>\n",
       "      <td>0</td>\n",
       "    </tr>\n",
       "    <tr>\n",
       "      <th>4</th>\n",
       "      <td>17068.0</td>\n",
       "      <td>2011-05-19</td>\n",
       "      <td>12</td>\n",
       "      <td>2</td>\n",
       "    </tr>\n",
       "    <tr>\n",
       "      <th>...</th>\n",
       "      <td>...</td>\n",
       "      <td>...</td>\n",
       "      <td>...</td>\n",
       "      <td>...</td>\n",
       "    </tr>\n",
       "    <tr>\n",
       "      <th>1835</th>\n",
       "      <td>14819.0</td>\n",
       "      <td>2011-05-31</td>\n",
       "      <td>0</td>\n",
       "      <td>2</td>\n",
       "    </tr>\n",
       "    <tr>\n",
       "      <th>1836</th>\n",
       "      <td>18190.0</td>\n",
       "      <td>2011-05-31</td>\n",
       "      <td>0</td>\n",
       "      <td>2</td>\n",
       "    </tr>\n",
       "    <tr>\n",
       "      <th>1837</th>\n",
       "      <td>15163.0</td>\n",
       "      <td>2011-05-31</td>\n",
       "      <td>0</td>\n",
       "      <td>2</td>\n",
       "    </tr>\n",
       "    <tr>\n",
       "      <th>1838</th>\n",
       "      <td>18204.0</td>\n",
       "      <td>2011-05-31</td>\n",
       "      <td>0</td>\n",
       "      <td>2</td>\n",
       "    </tr>\n",
       "    <tr>\n",
       "      <th>1839</th>\n",
       "      <td>16810.0</td>\n",
       "      <td>2011-05-31</td>\n",
       "      <td>0</td>\n",
       "      <td>2</td>\n",
       "    </tr>\n",
       "  </tbody>\n",
       "</table>\n",
       "<p>1840 rows × 4 columns</p>\n",
       "</div>"
      ],
      "text/plain": [
       "      CustomerID MaxPurchaseDate  Recency  RecencyCluster\n",
       "0        14620.0      2011-05-19       12               2\n",
       "1        14740.0      2011-05-26        5               2\n",
       "2        13880.0      2011-05-06       25               1\n",
       "3        16462.0      2011-03-01       91               0\n",
       "4        17068.0      2011-05-19       12               2\n",
       "...          ...             ...      ...             ...\n",
       "1835     14819.0      2011-05-31        0               2\n",
       "1836     18190.0      2011-05-31        0               2\n",
       "1837     15163.0      2011-05-31        0               2\n",
       "1838     18204.0      2011-05-31        0               2\n",
       "1839     16810.0      2011-05-31        0               2\n",
       "\n",
       "[1840 rows x 4 columns]"
      ]
     },
     "execution_count": 149,
     "metadata": {},
     "output_type": "execute_result"
    }
   ],
   "source": [
    "df_user"
   ]
  },
  {
   "cell_type": "code",
   "execution_count": 150,
   "metadata": {},
   "outputs": [
    {
     "data": {
      "text/html": [
       "<div>\n",
       "<style scoped>\n",
       "    .dataframe tbody tr th:only-of-type {\n",
       "        vertical-align: middle;\n",
       "    }\n",
       "\n",
       "    .dataframe tbody tr th {\n",
       "        vertical-align: top;\n",
       "    }\n",
       "\n",
       "    .dataframe thead th {\n",
       "        text-align: right;\n",
       "    }\n",
       "</style>\n",
       "<table border=\"1\" class=\"dataframe\">\n",
       "  <thead>\n",
       "    <tr style=\"text-align: right;\">\n",
       "      <th></th>\n",
       "      <th>count</th>\n",
       "      <th>mean</th>\n",
       "      <th>std</th>\n",
       "      <th>min</th>\n",
       "      <th>25%</th>\n",
       "      <th>50%</th>\n",
       "      <th>75%</th>\n",
       "      <th>max</th>\n",
       "    </tr>\n",
       "    <tr>\n",
       "      <th>RecencyCluster</th>\n",
       "      <th></th>\n",
       "      <th></th>\n",
       "      <th></th>\n",
       "      <th></th>\n",
       "      <th></th>\n",
       "      <th></th>\n",
       "      <th></th>\n",
       "      <th></th>\n",
       "    </tr>\n",
       "  </thead>\n",
       "  <tbody>\n",
       "    <tr>\n",
       "      <th>0</th>\n",
       "      <td>350.0</td>\n",
       "      <td>77.017143</td>\n",
       "      <td>8.385398</td>\n",
       "      <td>64.0</td>\n",
       "      <td>70.0</td>\n",
       "      <td>76.0</td>\n",
       "      <td>84.75</td>\n",
       "      <td>91.0</td>\n",
       "    </tr>\n",
       "    <tr>\n",
       "      <th>1</th>\n",
       "      <td>444.0</td>\n",
       "      <td>24.581081</td>\n",
       "      <td>4.960358</td>\n",
       "      <td>18.0</td>\n",
       "      <td>20.0</td>\n",
       "      <td>23.0</td>\n",
       "      <td>27.00</td>\n",
       "      <td>35.0</td>\n",
       "    </tr>\n",
       "    <tr>\n",
       "      <th>2</th>\n",
       "      <td>608.0</td>\n",
       "      <td>8.501645</td>\n",
       "      <td>4.397843</td>\n",
       "      <td>0.0</td>\n",
       "      <td>5.0</td>\n",
       "      <td>8.0</td>\n",
       "      <td>12.00</td>\n",
       "      <td>16.0</td>\n",
       "    </tr>\n",
       "    <tr>\n",
       "      <th>3</th>\n",
       "      <td>438.0</td>\n",
       "      <td>50.189498</td>\n",
       "      <td>7.298674</td>\n",
       "      <td>40.0</td>\n",
       "      <td>43.0</td>\n",
       "      <td>49.0</td>\n",
       "      <td>56.00</td>\n",
       "      <td>63.0</td>\n",
       "    </tr>\n",
       "  </tbody>\n",
       "</table>\n",
       "</div>"
      ],
      "text/plain": [
       "                count       mean       std   min   25%   50%    75%   max\n",
       "RecencyCluster                                                           \n",
       "0               350.0  77.017143  8.385398  64.0  70.0  76.0  84.75  91.0\n",
       "1               444.0  24.581081  4.960358  18.0  20.0  23.0  27.00  35.0\n",
       "2               608.0   8.501645  4.397843   0.0   5.0   8.0  12.00  16.0\n",
       "3               438.0  50.189498  7.298674  40.0  43.0  49.0  56.00  63.0"
      ]
     },
     "execution_count": 150,
     "metadata": {},
     "output_type": "execute_result"
    }
   ],
   "source": [
    "df_user.groupby('RecencyCluster')['Recency'].describe()"
   ]
  },
  {
   "cell_type": "code",
   "execution_count": 151,
   "metadata": {},
   "outputs": [
    {
     "data": {
      "text/html": [
       "<div>\n",
       "<style scoped>\n",
       "    .dataframe tbody tr th:only-of-type {\n",
       "        vertical-align: middle;\n",
       "    }\n",
       "\n",
       "    .dataframe tbody tr th {\n",
       "        vertical-align: top;\n",
       "    }\n",
       "\n",
       "    .dataframe thead th {\n",
       "        text-align: right;\n",
       "    }\n",
       "</style>\n",
       "<table border=\"1\" class=\"dataframe\">\n",
       "  <thead>\n",
       "    <tr style=\"text-align: right;\">\n",
       "      <th></th>\n",
       "      <th>RecencyCluster</th>\n",
       "      <th>Recency</th>\n",
       "    </tr>\n",
       "  </thead>\n",
       "  <tbody>\n",
       "    <tr>\n",
       "      <th>0</th>\n",
       "      <td>0</td>\n",
       "      <td>77.017143</td>\n",
       "    </tr>\n",
       "    <tr>\n",
       "      <th>1</th>\n",
       "      <td>1</td>\n",
       "      <td>24.581081</td>\n",
       "    </tr>\n",
       "    <tr>\n",
       "      <th>2</th>\n",
       "      <td>2</td>\n",
       "      <td>8.501645</td>\n",
       "    </tr>\n",
       "    <tr>\n",
       "      <th>3</th>\n",
       "      <td>3</td>\n",
       "      <td>50.189498</td>\n",
       "    </tr>\n",
       "  </tbody>\n",
       "</table>\n",
       "</div>"
      ],
      "text/plain": [
       "   RecencyCluster    Recency\n",
       "0               0  77.017143\n",
       "1               1  24.581081\n",
       "2               2   8.501645\n",
       "3               3  50.189498"
      ]
     },
     "execution_count": 151,
     "metadata": {},
     "output_type": "execute_result"
    }
   ],
   "source": [
    "df_CTE1 = df_user.groupby('RecencyCluster')['Recency'].mean().reset_index()\n",
    "df_CTE1"
   ]
  },
  {
   "cell_type": "code",
   "execution_count": 152,
   "metadata": {},
   "outputs": [
    {
     "data": {
      "text/html": [
       "<div>\n",
       "<style scoped>\n",
       "    .dataframe tbody tr th:only-of-type {\n",
       "        vertical-align: middle;\n",
       "    }\n",
       "\n",
       "    .dataframe tbody tr th {\n",
       "        vertical-align: top;\n",
       "    }\n",
       "\n",
       "    .dataframe thead th {\n",
       "        text-align: right;\n",
       "    }\n",
       "</style>\n",
       "<table border=\"1\" class=\"dataframe\">\n",
       "  <thead>\n",
       "    <tr style=\"text-align: right;\">\n",
       "      <th></th>\n",
       "      <th>RecencyCluster</th>\n",
       "      <th>Recency</th>\n",
       "    </tr>\n",
       "  </thead>\n",
       "  <tbody>\n",
       "    <tr>\n",
       "      <th>0</th>\n",
       "      <td>0</td>\n",
       "      <td>77.017143</td>\n",
       "    </tr>\n",
       "    <tr>\n",
       "      <th>1</th>\n",
       "      <td>3</td>\n",
       "      <td>50.189498</td>\n",
       "    </tr>\n",
       "    <tr>\n",
       "      <th>2</th>\n",
       "      <td>1</td>\n",
       "      <td>24.581081</td>\n",
       "    </tr>\n",
       "    <tr>\n",
       "      <th>3</th>\n",
       "      <td>2</td>\n",
       "      <td>8.501645</td>\n",
       "    </tr>\n",
       "  </tbody>\n",
       "</table>\n",
       "</div>"
      ],
      "text/plain": [
       "   RecencyCluster    Recency\n",
       "0               0  77.017143\n",
       "1               3  50.189498\n",
       "2               1  24.581081\n",
       "3               2   8.501645"
      ]
     },
     "execution_count": 152,
     "metadata": {},
     "output_type": "execute_result"
    }
   ],
   "source": [
    "df_CTE1 = df_CTE1.sort_values(by='Recency',ascending= False).reset_index(drop=True)\n",
    "df_CTE1"
   ]
  },
  {
   "cell_type": "code",
   "execution_count": 153,
   "metadata": {},
   "outputs": [
    {
     "data": {
      "text/html": [
       "<div>\n",
       "<style scoped>\n",
       "    .dataframe tbody tr th:only-of-type {\n",
       "        vertical-align: middle;\n",
       "    }\n",
       "\n",
       "    .dataframe tbody tr th {\n",
       "        vertical-align: top;\n",
       "    }\n",
       "\n",
       "    .dataframe thead th {\n",
       "        text-align: right;\n",
       "    }\n",
       "</style>\n",
       "<table border=\"1\" class=\"dataframe\">\n",
       "  <thead>\n",
       "    <tr style=\"text-align: right;\">\n",
       "      <th></th>\n",
       "      <th>CustomerID</th>\n",
       "      <th>MaxPurchaseDate</th>\n",
       "      <th>Recency</th>\n",
       "      <th>RecencyCluster</th>\n",
       "      <th>index</th>\n",
       "    </tr>\n",
       "  </thead>\n",
       "  <tbody>\n",
       "    <tr>\n",
       "      <th>0</th>\n",
       "      <td>14620.0</td>\n",
       "      <td>2011-05-19</td>\n",
       "      <td>12</td>\n",
       "      <td>2</td>\n",
       "      <td>3</td>\n",
       "    </tr>\n",
       "    <tr>\n",
       "      <th>1</th>\n",
       "      <td>14740.0</td>\n",
       "      <td>2011-05-26</td>\n",
       "      <td>5</td>\n",
       "      <td>2</td>\n",
       "      <td>3</td>\n",
       "    </tr>\n",
       "    <tr>\n",
       "      <th>2</th>\n",
       "      <td>17068.0</td>\n",
       "      <td>2011-05-19</td>\n",
       "      <td>12</td>\n",
       "      <td>2</td>\n",
       "      <td>3</td>\n",
       "    </tr>\n",
       "    <tr>\n",
       "      <th>3</th>\n",
       "      <td>12971.0</td>\n",
       "      <td>2011-05-27</td>\n",
       "      <td>4</td>\n",
       "      <td>2</td>\n",
       "      <td>3</td>\n",
       "    </tr>\n",
       "    <tr>\n",
       "      <th>4</th>\n",
       "      <td>15194.0</td>\n",
       "      <td>2011-05-25</td>\n",
       "      <td>6</td>\n",
       "      <td>2</td>\n",
       "      <td>3</td>\n",
       "    </tr>\n",
       "    <tr>\n",
       "      <th>...</th>\n",
       "      <td>...</td>\n",
       "      <td>...</td>\n",
       "      <td>...</td>\n",
       "      <td>...</td>\n",
       "      <td>...</td>\n",
       "    </tr>\n",
       "    <tr>\n",
       "      <th>1835</th>\n",
       "      <td>13482.0</td>\n",
       "      <td>2011-04-21</td>\n",
       "      <td>40</td>\n",
       "      <td>3</td>\n",
       "      <td>1</td>\n",
       "    </tr>\n",
       "    <tr>\n",
       "      <th>1836</th>\n",
       "      <td>13862.0</td>\n",
       "      <td>2011-04-21</td>\n",
       "      <td>40</td>\n",
       "      <td>3</td>\n",
       "      <td>1</td>\n",
       "    </tr>\n",
       "    <tr>\n",
       "      <th>1837</th>\n",
       "      <td>14512.0</td>\n",
       "      <td>2011-04-21</td>\n",
       "      <td>40</td>\n",
       "      <td>3</td>\n",
       "      <td>1</td>\n",
       "    </tr>\n",
       "    <tr>\n",
       "      <th>1838</th>\n",
       "      <td>15810.0</td>\n",
       "      <td>2011-04-21</td>\n",
       "      <td>40</td>\n",
       "      <td>3</td>\n",
       "      <td>1</td>\n",
       "    </tr>\n",
       "    <tr>\n",
       "      <th>1839</th>\n",
       "      <td>14562.0</td>\n",
       "      <td>2011-04-21</td>\n",
       "      <td>40</td>\n",
       "      <td>3</td>\n",
       "      <td>1</td>\n",
       "    </tr>\n",
       "  </tbody>\n",
       "</table>\n",
       "<p>1840 rows × 5 columns</p>\n",
       "</div>"
      ],
      "text/plain": [
       "      CustomerID MaxPurchaseDate  Recency  RecencyCluster  index\n",
       "0        14620.0      2011-05-19       12               2      3\n",
       "1        14740.0      2011-05-26        5               2      3\n",
       "2        17068.0      2011-05-19       12               2      3\n",
       "3        12971.0      2011-05-27        4               2      3\n",
       "4        15194.0      2011-05-25        6               2      3\n",
       "...          ...             ...      ...             ...    ...\n",
       "1835     13482.0      2011-04-21       40               3      1\n",
       "1836     13862.0      2011-04-21       40               3      1\n",
       "1837     14512.0      2011-04-21       40               3      1\n",
       "1838     15810.0      2011-04-21       40               3      1\n",
       "1839     14562.0      2011-04-21       40               3      1\n",
       "\n",
       "[1840 rows x 5 columns]"
      ]
     },
     "execution_count": 153,
     "metadata": {},
     "output_type": "execute_result"
    }
   ],
   "source": [
    "df_CTE1['index'] = df_CTE1.index\n",
    "df_user = df_user.merge(df_CTE1[['RecencyCluster','index']],on = 'RecencyCluster')\n",
    "df_user"
   ]
  },
  {
   "cell_type": "code",
   "execution_count": 154,
   "metadata": {},
   "outputs": [
    {
     "data": {
      "text/html": [
       "<div>\n",
       "<style scoped>\n",
       "    .dataframe tbody tr th:only-of-type {\n",
       "        vertical-align: middle;\n",
       "    }\n",
       "\n",
       "    .dataframe tbody tr th {\n",
       "        vertical-align: top;\n",
       "    }\n",
       "\n",
       "    .dataframe thead th {\n",
       "        text-align: right;\n",
       "    }\n",
       "</style>\n",
       "<table border=\"1\" class=\"dataframe\">\n",
       "  <thead>\n",
       "    <tr style=\"text-align: right;\">\n",
       "      <th></th>\n",
       "      <th>CustomerID</th>\n",
       "      <th>MaxPurchaseDate</th>\n",
       "      <th>Recency</th>\n",
       "      <th>RencencyCLuster</th>\n",
       "    </tr>\n",
       "  </thead>\n",
       "  <tbody>\n",
       "    <tr>\n",
       "      <th>0</th>\n",
       "      <td>14620.0</td>\n",
       "      <td>2011-05-19</td>\n",
       "      <td>12</td>\n",
       "      <td>3</td>\n",
       "    </tr>\n",
       "    <tr>\n",
       "      <th>1</th>\n",
       "      <td>14740.0</td>\n",
       "      <td>2011-05-26</td>\n",
       "      <td>5</td>\n",
       "      <td>3</td>\n",
       "    </tr>\n",
       "    <tr>\n",
       "      <th>2</th>\n",
       "      <td>17068.0</td>\n",
       "      <td>2011-05-19</td>\n",
       "      <td>12</td>\n",
       "      <td>3</td>\n",
       "    </tr>\n",
       "    <tr>\n",
       "      <th>3</th>\n",
       "      <td>12971.0</td>\n",
       "      <td>2011-05-27</td>\n",
       "      <td>4</td>\n",
       "      <td>3</td>\n",
       "    </tr>\n",
       "    <tr>\n",
       "      <th>4</th>\n",
       "      <td>15194.0</td>\n",
       "      <td>2011-05-25</td>\n",
       "      <td>6</td>\n",
       "      <td>3</td>\n",
       "    </tr>\n",
       "    <tr>\n",
       "      <th>...</th>\n",
       "      <td>...</td>\n",
       "      <td>...</td>\n",
       "      <td>...</td>\n",
       "      <td>...</td>\n",
       "    </tr>\n",
       "    <tr>\n",
       "      <th>1835</th>\n",
       "      <td>13482.0</td>\n",
       "      <td>2011-04-21</td>\n",
       "      <td>40</td>\n",
       "      <td>1</td>\n",
       "    </tr>\n",
       "    <tr>\n",
       "      <th>1836</th>\n",
       "      <td>13862.0</td>\n",
       "      <td>2011-04-21</td>\n",
       "      <td>40</td>\n",
       "      <td>1</td>\n",
       "    </tr>\n",
       "    <tr>\n",
       "      <th>1837</th>\n",
       "      <td>14512.0</td>\n",
       "      <td>2011-04-21</td>\n",
       "      <td>40</td>\n",
       "      <td>1</td>\n",
       "    </tr>\n",
       "    <tr>\n",
       "      <th>1838</th>\n",
       "      <td>15810.0</td>\n",
       "      <td>2011-04-21</td>\n",
       "      <td>40</td>\n",
       "      <td>1</td>\n",
       "    </tr>\n",
       "    <tr>\n",
       "      <th>1839</th>\n",
       "      <td>14562.0</td>\n",
       "      <td>2011-04-21</td>\n",
       "      <td>40</td>\n",
       "      <td>1</td>\n",
       "    </tr>\n",
       "  </tbody>\n",
       "</table>\n",
       "<p>1840 rows × 4 columns</p>\n",
       "</div>"
      ],
      "text/plain": [
       "      CustomerID MaxPurchaseDate  Recency  RencencyCLuster\n",
       "0        14620.0      2011-05-19       12                3\n",
       "1        14740.0      2011-05-26        5                3\n",
       "2        17068.0      2011-05-19       12                3\n",
       "3        12971.0      2011-05-27        4                3\n",
       "4        15194.0      2011-05-25        6                3\n",
       "...          ...             ...      ...              ...\n",
       "1835     13482.0      2011-04-21       40                1\n",
       "1836     13862.0      2011-04-21       40                1\n",
       "1837     14512.0      2011-04-21       40                1\n",
       "1838     15810.0      2011-04-21       40                1\n",
       "1839     14562.0      2011-04-21       40                1\n",
       "\n",
       "[1840 rows x 4 columns]"
      ]
     },
     "execution_count": 154,
     "metadata": {},
     "output_type": "execute_result"
    }
   ],
   "source": [
    "df_user = df_user.drop(['RecencyCluster'],axis=1)\n",
    "df_user = df_user.rename(columns={'index':'RencencyCLuster'})\n",
    "df_user"
   ]
  },
  {
   "cell_type": "code",
   "execution_count": 155,
   "metadata": {},
   "outputs": [
    {
     "data": {
      "text/html": [
       "<div>\n",
       "<style scoped>\n",
       "    .dataframe tbody tr th:only-of-type {\n",
       "        vertical-align: middle;\n",
       "    }\n",
       "\n",
       "    .dataframe tbody tr th {\n",
       "        vertical-align: top;\n",
       "    }\n",
       "\n",
       "    .dataframe thead th {\n",
       "        text-align: right;\n",
       "    }\n",
       "</style>\n",
       "<table border=\"1\" class=\"dataframe\">\n",
       "  <thead>\n",
       "    <tr style=\"text-align: right;\">\n",
       "      <th></th>\n",
       "      <th>count</th>\n",
       "      <th>mean</th>\n",
       "      <th>std</th>\n",
       "      <th>min</th>\n",
       "      <th>25%</th>\n",
       "      <th>50%</th>\n",
       "      <th>75%</th>\n",
       "      <th>max</th>\n",
       "    </tr>\n",
       "    <tr>\n",
       "      <th>RencencyCLuster</th>\n",
       "      <th></th>\n",
       "      <th></th>\n",
       "      <th></th>\n",
       "      <th></th>\n",
       "      <th></th>\n",
       "      <th></th>\n",
       "      <th></th>\n",
       "      <th></th>\n",
       "    </tr>\n",
       "  </thead>\n",
       "  <tbody>\n",
       "    <tr>\n",
       "      <th>0</th>\n",
       "      <td>350.0</td>\n",
       "      <td>77.017143</td>\n",
       "      <td>8.385398</td>\n",
       "      <td>64.0</td>\n",
       "      <td>70.0</td>\n",
       "      <td>76.0</td>\n",
       "      <td>84.75</td>\n",
       "      <td>91.0</td>\n",
       "    </tr>\n",
       "    <tr>\n",
       "      <th>1</th>\n",
       "      <td>438.0</td>\n",
       "      <td>50.189498</td>\n",
       "      <td>7.298674</td>\n",
       "      <td>40.0</td>\n",
       "      <td>43.0</td>\n",
       "      <td>49.0</td>\n",
       "      <td>56.00</td>\n",
       "      <td>63.0</td>\n",
       "    </tr>\n",
       "    <tr>\n",
       "      <th>2</th>\n",
       "      <td>444.0</td>\n",
       "      <td>24.581081</td>\n",
       "      <td>4.960358</td>\n",
       "      <td>18.0</td>\n",
       "      <td>20.0</td>\n",
       "      <td>23.0</td>\n",
       "      <td>27.00</td>\n",
       "      <td>35.0</td>\n",
       "    </tr>\n",
       "    <tr>\n",
       "      <th>3</th>\n",
       "      <td>608.0</td>\n",
       "      <td>8.501645</td>\n",
       "      <td>4.397843</td>\n",
       "      <td>0.0</td>\n",
       "      <td>5.0</td>\n",
       "      <td>8.0</td>\n",
       "      <td>12.00</td>\n",
       "      <td>16.0</td>\n",
       "    </tr>\n",
       "  </tbody>\n",
       "</table>\n",
       "</div>"
      ],
      "text/plain": [
       "                 count       mean       std   min   25%   50%    75%   max\n",
       "RencencyCLuster                                                           \n",
       "0                350.0  77.017143  8.385398  64.0  70.0  76.0  84.75  91.0\n",
       "1                438.0  50.189498  7.298674  40.0  43.0  49.0  56.00  63.0\n",
       "2                444.0  24.581081  4.960358  18.0  20.0  23.0  27.00  35.0\n",
       "3                608.0   8.501645  4.397843   0.0   5.0   8.0  12.00  16.0"
      ]
     },
     "execution_count": 155,
     "metadata": {},
     "output_type": "execute_result"
    }
   ],
   "source": [
    "df_user.groupby('RencencyCLuster')['Recency'].describe()\n",
    "#cang lau khong mua hang thi diem recency cluster cang cao"
   ]
  },
  {
   "cell_type": "markdown",
   "metadata": {},
   "source": [
    "Frequency"
   ]
  },
  {
   "cell_type": "code",
   "execution_count": 156,
   "metadata": {},
   "outputs": [
    {
     "data": {
      "text/html": [
       "<div>\n",
       "<style scoped>\n",
       "    .dataframe tbody tr th:only-of-type {\n",
       "        vertical-align: middle;\n",
       "    }\n",
       "\n",
       "    .dataframe tbody tr th {\n",
       "        vertical-align: top;\n",
       "    }\n",
       "\n",
       "    .dataframe thead th {\n",
       "        text-align: right;\n",
       "    }\n",
       "</style>\n",
       "<table border=\"1\" class=\"dataframe\">\n",
       "  <thead>\n",
       "    <tr style=\"text-align: right;\">\n",
       "      <th></th>\n",
       "      <th>CustomerID</th>\n",
       "      <th>Frequency</th>\n",
       "    </tr>\n",
       "  </thead>\n",
       "  <tbody>\n",
       "    <tr>\n",
       "      <th>0</th>\n",
       "      <td>12747.0</td>\n",
       "      <td>35</td>\n",
       "    </tr>\n",
       "    <tr>\n",
       "      <th>1</th>\n",
       "      <td>12748.0</td>\n",
       "      <td>582</td>\n",
       "    </tr>\n",
       "    <tr>\n",
       "      <th>2</th>\n",
       "      <td>12749.0</td>\n",
       "      <td>54</td>\n",
       "    </tr>\n",
       "    <tr>\n",
       "      <th>3</th>\n",
       "      <td>12821.0</td>\n",
       "      <td>6</td>\n",
       "    </tr>\n",
       "    <tr>\n",
       "      <th>4</th>\n",
       "      <td>12823.0</td>\n",
       "      <td>1</td>\n",
       "    </tr>\n",
       "    <tr>\n",
       "      <th>...</th>\n",
       "      <td>...</td>\n",
       "      <td>...</td>\n",
       "    </tr>\n",
       "    <tr>\n",
       "      <th>1835</th>\n",
       "      <td>18272.0</td>\n",
       "      <td>59</td>\n",
       "    </tr>\n",
       "    <tr>\n",
       "      <th>1836</th>\n",
       "      <td>18273.0</td>\n",
       "      <td>1</td>\n",
       "    </tr>\n",
       "    <tr>\n",
       "      <th>1837</th>\n",
       "      <td>18280.0</td>\n",
       "      <td>10</td>\n",
       "    </tr>\n",
       "    <tr>\n",
       "      <th>1838</th>\n",
       "      <td>18283.0</td>\n",
       "      <td>100</td>\n",
       "    </tr>\n",
       "    <tr>\n",
       "      <th>1839</th>\n",
       "      <td>18287.0</td>\n",
       "      <td>29</td>\n",
       "    </tr>\n",
       "  </tbody>\n",
       "</table>\n",
       "<p>1840 rows × 2 columns</p>\n",
       "</div>"
      ],
      "text/plain": [
       "      CustomerID  Frequency\n",
       "0        12747.0         35\n",
       "1        12748.0        582\n",
       "2        12749.0         54\n",
       "3        12821.0          6\n",
       "4        12823.0          1\n",
       "...          ...        ...\n",
       "1835     18272.0         59\n",
       "1836     18273.0          1\n",
       "1837     18280.0         10\n",
       "1838     18283.0        100\n",
       "1839     18287.0         29\n",
       "\n",
       "[1840 rows x 2 columns]"
      ]
     },
     "execution_count": 156,
     "metadata": {},
     "output_type": "execute_result"
    }
   ],
   "source": [
    "df_frequency = df_3m.groupby('CustomerID')['Invoiceonlydate'].count().reset_index(name='Frequency')\n",
    "df_frequency"
   ]
  },
  {
   "cell_type": "code",
   "execution_count": 157,
   "metadata": {},
   "outputs": [
    {
     "data": {
      "text/html": [
       "<div>\n",
       "<style scoped>\n",
       "    .dataframe tbody tr th:only-of-type {\n",
       "        vertical-align: middle;\n",
       "    }\n",
       "\n",
       "    .dataframe tbody tr th {\n",
       "        vertical-align: top;\n",
       "    }\n",
       "\n",
       "    .dataframe thead th {\n",
       "        text-align: right;\n",
       "    }\n",
       "</style>\n",
       "<table border=\"1\" class=\"dataframe\">\n",
       "  <thead>\n",
       "    <tr style=\"text-align: right;\">\n",
       "      <th></th>\n",
       "      <th>CustomerID</th>\n",
       "      <th>MaxPurchaseDate</th>\n",
       "      <th>Recency</th>\n",
       "      <th>RencencyCLuster</th>\n",
       "      <th>Frequency</th>\n",
       "    </tr>\n",
       "  </thead>\n",
       "  <tbody>\n",
       "    <tr>\n",
       "      <th>0</th>\n",
       "      <td>14620.0</td>\n",
       "      <td>2011-05-19</td>\n",
       "      <td>12</td>\n",
       "      <td>3</td>\n",
       "      <td>30</td>\n",
       "    </tr>\n",
       "    <tr>\n",
       "      <th>1</th>\n",
       "      <td>14740.0</td>\n",
       "      <td>2011-05-26</td>\n",
       "      <td>5</td>\n",
       "      <td>3</td>\n",
       "      <td>89</td>\n",
       "    </tr>\n",
       "    <tr>\n",
       "      <th>2</th>\n",
       "      <td>17068.0</td>\n",
       "      <td>2011-05-19</td>\n",
       "      <td>12</td>\n",
       "      <td>3</td>\n",
       "      <td>76</td>\n",
       "    </tr>\n",
       "    <tr>\n",
       "      <th>3</th>\n",
       "      <td>12971.0</td>\n",
       "      <td>2011-05-27</td>\n",
       "      <td>4</td>\n",
       "      <td>3</td>\n",
       "      <td>73</td>\n",
       "    </tr>\n",
       "    <tr>\n",
       "      <th>4</th>\n",
       "      <td>15194.0</td>\n",
       "      <td>2011-05-25</td>\n",
       "      <td>6</td>\n",
       "      <td>3</td>\n",
       "      <td>64</td>\n",
       "    </tr>\n",
       "    <tr>\n",
       "      <th>...</th>\n",
       "      <td>...</td>\n",
       "      <td>...</td>\n",
       "      <td>...</td>\n",
       "      <td>...</td>\n",
       "      <td>...</td>\n",
       "    </tr>\n",
       "    <tr>\n",
       "      <th>1835</th>\n",
       "      <td>13482.0</td>\n",
       "      <td>2011-04-21</td>\n",
       "      <td>40</td>\n",
       "      <td>1</td>\n",
       "      <td>11</td>\n",
       "    </tr>\n",
       "    <tr>\n",
       "      <th>1836</th>\n",
       "      <td>13862.0</td>\n",
       "      <td>2011-04-21</td>\n",
       "      <td>40</td>\n",
       "      <td>1</td>\n",
       "      <td>11</td>\n",
       "    </tr>\n",
       "    <tr>\n",
       "      <th>1837</th>\n",
       "      <td>14512.0</td>\n",
       "      <td>2011-04-21</td>\n",
       "      <td>40</td>\n",
       "      <td>1</td>\n",
       "      <td>14</td>\n",
       "    </tr>\n",
       "    <tr>\n",
       "      <th>1838</th>\n",
       "      <td>15810.0</td>\n",
       "      <td>2011-04-21</td>\n",
       "      <td>40</td>\n",
       "      <td>1</td>\n",
       "      <td>32</td>\n",
       "    </tr>\n",
       "    <tr>\n",
       "      <th>1839</th>\n",
       "      <td>14562.0</td>\n",
       "      <td>2011-04-21</td>\n",
       "      <td>40</td>\n",
       "      <td>1</td>\n",
       "      <td>37</td>\n",
       "    </tr>\n",
       "  </tbody>\n",
       "</table>\n",
       "<p>1840 rows × 5 columns</p>\n",
       "</div>"
      ],
      "text/plain": [
       "      CustomerID MaxPurchaseDate  Recency  RencencyCLuster  Frequency\n",
       "0        14620.0      2011-05-19       12                3         30\n",
       "1        14740.0      2011-05-26        5                3         89\n",
       "2        17068.0      2011-05-19       12                3         76\n",
       "3        12971.0      2011-05-27        4                3         73\n",
       "4        15194.0      2011-05-25        6                3         64\n",
       "...          ...             ...      ...              ...        ...\n",
       "1835     13482.0      2011-04-21       40                1         11\n",
       "1836     13862.0      2011-04-21       40                1         11\n",
       "1837     14512.0      2011-04-21       40                1         14\n",
       "1838     15810.0      2011-04-21       40                1         32\n",
       "1839     14562.0      2011-04-21       40                1         37\n",
       "\n",
       "[1840 rows x 5 columns]"
      ]
     },
     "execution_count": 157,
     "metadata": {},
     "output_type": "execute_result"
    }
   ],
   "source": [
    "df_user = df_user.merge(df_frequency,on='CustomerID',how='inner')\n",
    "df_user"
   ]
  },
  {
   "cell_type": "code",
   "execution_count": 158,
   "metadata": {},
   "outputs": [
    {
     "data": {
      "application/vnd.plotly.v1+json": {
       "config": {
        "plotlyServerURL": "https://plot.ly"
       },
       "data": [
        {
         "alignmentgroup": "True",
         "bingroup": "x",
         "hovertemplate": "Frequency=%{x}<br>count=%{y}<extra></extra>",
         "legendgroup": "",
         "marker": {
          "color": "#636efa",
          "pattern": {
           "shape": ""
          }
         },
         "name": "",
         "offsetgroup": "",
         "orientation": "v",
         "showlegend": false,
         "type": "histogram",
         "x": [
          30,
          89,
          76,
          73,
          64,
          57,
          35,
          64,
          122,
          522,
          98,
          34,
          18,
          73,
          35,
          47,
          65,
          12,
          16,
          68,
          43,
          11,
          71,
          77,
          9,
          412,
          655,
          38,
          150,
          69,
          75,
          50,
          59,
          112,
          129,
          79,
          199,
          248,
          48,
          55,
          50,
          175,
          110,
          81,
          280,
          66,
          55,
          52,
          50,
          24,
          39,
          128,
          128,
          24,
          58,
          1364,
          127,
          345,
          65,
          159,
          46,
          58,
          91,
          39,
          128,
          40,
          99,
          29,
          129,
          88,
          59,
          153,
          212,
          213,
          730,
          169,
          436,
          18,
          46,
          19,
          48,
          72,
          106,
          32,
          24,
          45,
          452,
          117,
          12,
          261,
          30,
          63,
          32,
          122,
          28,
          95,
          77,
          11,
          37,
          192,
          582,
          32,
          31,
          11,
          59,
          62,
          58,
          14,
          15,
          47,
          118,
          79,
          149,
          31,
          31,
          66,
          102,
          65,
          117,
          30,
          33,
          54,
          93,
          64,
          103,
          27,
          7,
          25,
          95,
          31,
          47,
          18,
          331,
          135,
          20,
          95,
          165,
          57,
          68,
          117,
          3,
          56,
          91,
          134,
          211,
          82,
          108,
          51,
          9,
          84,
          24,
          34,
          109,
          39,
          34,
          8,
          77,
          45,
          24,
          45,
          86,
          65,
          48,
          60,
          114,
          53,
          199,
          158,
          12,
          104,
          46,
          226,
          34,
          81,
          9,
          58,
          38,
          13,
          261,
          59,
          28,
          106,
          33,
          4,
          28,
          69,
          62,
          11,
          61,
          38,
          178,
          73,
          65,
          50,
          16,
          26,
          66,
          10,
          8,
          27,
          76,
          47,
          20,
          558,
          13,
          43,
          39,
          32,
          108,
          110,
          39,
          15,
          16,
          42,
          66,
          25,
          81,
          162,
          66,
          173,
          48,
          25,
          62,
          10,
          28,
          103,
          32,
          17,
          64,
          17,
          100,
          124,
          153,
          108,
          116,
          38,
          57,
          38,
          20,
          43,
          15,
          23,
          55,
          34,
          211,
          17,
          46,
          61,
          115,
          83,
          40,
          114,
          147,
          18,
          115,
          53,
          13,
          29,
          44,
          71,
          43,
          91,
          66,
          37,
          78,
          61,
          26,
          75,
          120,
          22,
          17,
          12,
          37,
          58,
          129,
          132,
          2,
          58,
          67,
          49,
          25,
          101,
          34,
          62,
          110,
          11,
          29,
          43,
          63,
          24,
          3,
          119,
          114,
          8,
          131,
          65,
          64,
          62,
          88,
          24,
          18,
          58,
          147,
          184,
          60,
          36,
          9,
          70,
          36,
          45,
          56,
          70,
          57,
          56,
          35,
          12,
          86,
          87,
          28,
          73,
          54,
          44,
          58,
          87,
          32,
          114,
          42,
          54,
          30,
          19,
          29,
          15,
          30,
          48,
          50,
          14,
          223,
          15,
          55,
          13,
          68,
          20,
          28,
          35,
          40,
          49,
          48,
          81,
          21,
          57,
          27,
          26,
          25,
          32,
          85,
          16,
          80,
          37,
          38,
          34,
          186,
          20,
          8,
          127,
          20,
          16,
          39,
          20,
          15,
          75,
          21,
          23,
          90,
          38,
          124,
          53,
          5,
          28,
          100,
          30,
          33,
          76,
          57,
          19,
          31,
          11,
          31,
          31,
          19,
          37,
          4,
          56,
          14,
          8,
          13,
          21,
          12,
          11,
          36,
          14,
          32,
          5,
          26,
          14,
          54,
          6,
          30,
          15,
          35,
          13,
          16,
          13,
          10,
          16,
          13,
          24,
          20,
          19,
          16,
          40,
          16,
          11,
          36,
          23,
          13,
          26,
          4,
          34,
          30,
          16,
          4,
          46,
          30,
          20,
          1,
          13,
          25,
          27,
          20,
          10,
          8,
          6,
          28,
          23,
          36,
          33,
          32,
          13,
          27,
          29,
          53,
          30,
          26,
          21,
          2,
          6,
          12,
          64,
          47,
          33,
          46,
          44,
          25,
          15,
          40,
          2,
          33,
          22,
          10,
          43,
          7,
          15,
          14,
          9,
          21,
          22,
          11,
          25,
          9,
          6,
          10,
          7,
          2,
          29,
          98,
          23,
          3,
          30,
          11,
          12,
          20,
          54,
          19,
          13,
          35,
          19,
          7,
          24,
          12,
          11,
          15,
          39,
          1,
          6,
          8,
          27,
          1,
          26,
          7,
          58,
          29,
          7,
          4,
          29,
          14,
          5,
          55,
          19,
          9,
          9,
          47,
          41,
          9,
          15,
          30,
          1,
          53,
          32,
          30,
          25,
          13,
          6,
          54,
          23,
          143,
          40,
          27,
          1,
          5,
          19,
          73,
          16,
          1,
          11,
          11,
          30,
          72,
          15,
          28,
          5,
          45,
          23,
          2,
          13,
          24,
          8,
          26,
          5,
          1,
          10,
          34,
          64,
          7,
          4,
          23,
          1,
          37,
          36,
          7,
          20,
          52,
          8,
          8,
          14,
          4,
          21,
          21,
          24,
          5,
          6,
          15,
          8,
          1,
          22,
          33,
          10,
          30,
          28,
          1,
          6,
          19,
          52,
          46,
          24,
          9,
          43,
          12,
          4,
          2,
          20,
          19,
          26,
          9,
          3,
          6,
          10,
          93,
          15,
          38,
          63,
          47,
          26,
          14,
          75,
          4,
          24,
          17,
          101,
          89,
          9,
          8,
          45,
          38,
          28,
          72,
          40,
          239,
          30,
          35,
          50,
          22,
          82,
          61,
          38,
          25,
          17,
          78,
          127,
          98,
          61,
          104,
          11,
          15,
          65,
          45,
          45,
          37,
          27,
          65,
          56,
          130,
          173,
          198,
          182,
          57,
          73,
          6,
          220,
          66,
          89,
          2,
          65,
          41,
          44,
          27,
          88,
          93,
          113,
          51,
          33,
          54,
          38,
          26,
          34,
          43,
          14,
          48,
          14,
          172,
          57,
          117,
          37,
          82,
          89,
          25,
          23,
          85,
          53,
          45,
          205,
          17,
          23,
          47,
          34,
          8,
          15,
          49,
          41,
          85,
          40,
          433,
          92,
          62,
          27,
          53,
          11,
          22,
          33,
          76,
          48,
          32,
          33,
          40,
          11,
          60,
          150,
          118,
          15,
          56,
          14,
          137,
          8,
          2,
          12,
          20,
          34,
          149,
          47,
          43,
          36,
          41,
          19,
          13,
          34,
          41,
          13,
          29,
          44,
          61,
          84,
          18,
          33,
          41,
          31,
          26,
          65,
          7,
          124,
          81,
          40,
          51,
          40,
          17,
          42,
          30,
          73,
          64,
          47,
          5,
          9,
          184,
          34,
          78,
          54,
          56,
          124,
          48,
          135,
          285,
          20,
          32,
          47,
          87,
          40,
          31,
          41,
          112,
          23,
          59,
          38,
          46,
          55,
          14,
          12,
          32,
          3,
          46,
          33,
          39,
          27,
          7,
          12,
          44,
          80,
          14,
          29,
          56,
          34,
          8,
          43,
          23,
          77,
          14,
          45,
          37,
          138,
          22,
          27,
          16,
          90,
          24,
          54,
          16,
          38,
          58,
          35,
          10,
          16,
          25,
          31,
          19,
          2,
          11,
          24,
          23,
          4,
          128,
          56,
          70,
          6,
          27,
          17,
          38,
          9,
          12,
          8,
          4,
          19,
          4,
          20,
          26,
          77,
          62,
          10,
          30,
          64,
          67,
          26,
          5,
          18,
          19,
          16,
          10,
          14,
          10,
          5,
          10,
          16,
          14,
          7,
          16,
          28,
          20,
          7,
          63,
          12,
          32,
          17,
          21,
          1,
          59,
          38,
          14,
          8,
          15,
          40,
          18,
          19,
          21,
          1,
          38,
          15,
          4,
          13,
          22,
          19,
          4,
          50,
          8,
          28,
          35,
          17,
          51,
          20,
          23,
          21,
          6,
          9,
          6,
          4,
          18,
          11,
          35,
          13,
          62,
          3,
          16,
          1,
          7,
          15,
          6,
          17,
          13,
          3,
          16,
          1,
          38,
          16,
          9,
          2,
          17,
          20,
          3,
          1,
          22,
          8,
          25,
          5,
          5,
          24,
          12,
          21,
          1,
          15,
          3,
          16,
          4,
          17,
          39,
          5,
          4,
          25,
          29,
          36,
          9,
          16,
          17,
          11,
          6,
          13,
          14,
          13,
          7,
          23,
          74,
          10,
          66,
          41,
          8,
          14,
          47,
          145,
          14,
          79,
          25,
          19,
          41,
          43,
          40,
          22,
          15,
          21,
          13,
          9,
          6,
          4,
          13,
          11,
          46,
          35,
          13,
          17,
          8,
          16,
          6,
          6,
          5,
          1,
          19,
          22,
          18,
          39,
          7,
          16,
          55,
          3,
          5,
          17,
          5,
          33,
          45,
          16,
          13,
          20,
          17,
          12,
          57,
          16,
          9,
          20,
          31,
          54,
          35,
          9,
          18,
          2,
          23,
          9,
          6,
          49,
          19,
          9,
          59,
          19,
          22,
          37,
          28,
          5,
          5,
          15,
          40,
          10,
          23,
          8,
          9,
          1,
          42,
          15,
          3,
          25,
          9,
          19,
          60,
          40,
          42,
          31,
          12,
          1,
          28,
          58,
          28,
          13,
          1,
          1,
          6,
          9,
          38,
          16,
          32,
          8,
          4,
          29,
          11,
          34,
          59,
          42,
          48,
          10,
          10,
          18,
          4,
          46,
          26,
          35,
          20,
          62,
          1,
          23,
          12,
          24,
          8,
          4,
          1,
          15,
          6,
          10,
          1,
          41,
          66,
          3,
          2,
          1,
          29,
          9,
          15,
          20,
          8,
          14,
          2,
          1,
          14,
          11,
          31,
          8,
          18,
          5,
          14,
          8,
          20,
          15,
          29,
          8,
          16,
          6,
          6,
          37,
          3,
          17,
          132,
          3,
          37,
          13,
          1,
          5,
          44,
          8,
          73,
          20,
          14,
          8,
          8,
          10,
          68,
          2,
          63,
          40,
          11,
          16,
          22,
          1,
          1,
          1,
          3,
          17,
          10,
          15,
          13,
          166,
          2,
          14,
          59,
          16,
          6,
          51,
          9,
          3,
          50,
          53,
          7,
          11,
          33,
          1,
          8,
          9,
          12,
          20,
          7,
          32,
          24,
          58,
          21,
          5,
          25,
          71,
          8,
          3,
          5,
          11,
          5,
          15,
          13,
          2,
          23,
          21,
          30,
          7,
          21,
          6,
          10,
          5,
          19,
          7,
          25,
          20,
          4,
          4,
          1,
          3,
          10,
          34,
          16,
          5,
          3,
          5,
          23,
          22,
          19,
          51,
          22,
          5,
          6,
          2,
          67,
          37,
          19,
          2,
          15,
          22,
          23,
          25,
          2,
          2,
          45,
          21,
          1,
          33,
          1,
          1,
          53,
          28,
          29,
          21,
          16,
          22,
          3,
          29,
          1,
          36,
          16,
          5,
          53,
          8,
          3,
          41,
          12,
          1,
          4,
          5,
          43,
          2,
          2,
          1,
          37,
          5,
          2,
          5,
          21,
          16,
          115,
          7,
          22,
          1,
          8,
          14,
          62,
          61,
          14,
          7,
          54,
          48,
          70,
          27,
          44,
          21,
          5,
          6,
          12,
          14,
          20,
          25,
          5,
          20,
          17,
          10,
          3,
          48,
          8,
          12,
          34,
          5,
          14,
          43,
          19,
          12,
          21,
          31,
          11,
          24,
          10,
          16,
          15,
          11,
          17,
          1,
          11,
          9,
          2,
          42,
          5,
          8,
          68,
          30,
          6,
          155,
          21,
          18,
          9,
          45,
          4,
          27,
          85,
          34,
          58,
          37,
          5,
          12,
          1,
          22,
          13,
          68,
          42,
          5,
          43,
          9,
          7,
          64,
          3,
          18,
          49,
          16,
          24,
          10,
          3,
          2,
          112,
          18,
          23,
          6,
          16,
          16,
          12,
          42,
          20,
          15,
          5,
          8,
          79,
          76,
          40,
          29,
          11,
          23,
          3,
          18,
          14,
          8,
          19,
          60,
          19,
          21,
          17,
          20,
          15,
          7,
          7,
          12,
          1,
          11,
          62,
          95,
          90,
          39,
          23,
          19,
          34,
          20,
          28,
          6,
          8,
          5,
          118,
          9,
          14,
          28,
          22,
          39,
          23,
          2,
          3,
          14,
          25,
          36,
          26,
          7,
          59,
          43,
          96,
          107,
          76,
          19,
          22,
          24,
          50,
          16,
          34,
          11,
          90,
          36,
          22,
          30,
          53,
          28,
          104,
          110,
          157,
          96,
          92,
          18,
          26,
          25,
          144,
          27,
          52,
          103,
          68,
          29,
          25,
          35,
          41,
          14,
          38,
          14,
          16,
          78,
          122,
          57,
          20,
          52,
          144,
          60,
          44,
          35,
          15,
          19,
          9,
          48,
          79,
          25,
          7,
          9,
          47,
          38,
          94,
          51,
          16,
          16,
          3,
          49,
          47,
          24,
          87,
          25,
          32,
          22,
          54,
          93,
          20,
          5,
          8,
          31,
          18,
          22,
          29,
          13,
          50,
          17,
          20,
          53,
          54,
          22,
          13,
          8,
          9,
          26,
          1,
          14,
          1,
          3,
          30,
          18,
          76,
          48,
          51,
          20,
          1,
          19,
          17,
          12,
          68,
          17,
          3,
          19,
          8,
          33,
          3,
          20,
          54,
          26,
          8,
          55,
          19,
          15,
          10,
          7,
          4,
          13,
          19,
          33,
          3,
          3,
          34,
          12,
          8,
          24,
          9,
          4,
          2,
          3,
          12,
          18,
          13,
          19,
          9,
          38,
          127,
          37,
          15,
          12,
          45,
          1,
          24,
          1,
          24,
          7,
          20,
          2,
          6,
          89,
          2,
          2,
          6,
          27,
          62,
          17,
          12,
          146,
          16,
          67,
          37,
          8,
          1,
          44,
          32,
          19,
          40,
          17,
          1,
          19,
          40,
          22,
          13,
          8,
          13,
          16,
          2,
          95,
          13,
          38,
          30,
          15,
          12,
          2,
          5,
          30,
          22,
          13,
          12,
          4,
          1,
          10,
          20,
          13,
          39,
          3,
          12,
          12,
          1,
          12,
          22,
          54,
          7,
          3,
          83,
          57,
          10,
          6,
          123,
          10,
          14,
          15,
          69,
          21,
          5,
          21,
          8,
          17,
          56,
          19,
          22,
          18,
          41,
          27,
          24,
          12,
          14,
          6,
          10,
          31,
          5,
          11,
          7,
          10,
          40,
          18,
          65,
          18,
          5,
          24,
          7,
          2,
          61,
          12,
          37,
          47,
          12,
          64,
          27,
          14,
          21,
          60,
          77,
          37,
          141,
          13,
          35,
          8,
          1,
          31,
          12,
          1,
          18,
          34,
          17,
          5,
          10,
          12,
          9,
          15,
          35,
          44,
          70,
          12,
          21,
          8,
          20,
          21,
          2,
          60,
          16,
          31,
          45,
          1,
          40,
          15,
          7,
          16,
          19,
          1,
          45,
          13,
          42,
          8,
          14,
          21,
          16,
          8,
          12,
          23,
          1,
          23,
          21,
          49,
          16,
          29,
          6,
          11,
          71,
          10,
          54,
          8,
          13,
          26,
          82,
          27,
          31,
          16,
          5,
          5,
          22,
          23,
          36,
          54,
          14,
          23,
          23,
          5,
          52,
          20,
          15,
          74,
          9,
          15,
          10,
          8,
          1,
          7,
          13,
          23,
          4,
          29,
          40,
          37,
          34,
          21,
          15,
          1,
          27,
          17,
          19,
          29,
          38,
          21,
          18,
          20,
          29,
          20,
          64,
          26,
          12,
          19,
          21,
          1,
          28,
          5,
          36,
          43,
          42,
          66,
          3,
          10,
          33,
          31,
          32,
          18,
          36,
          2,
          15,
          109,
          13,
          23,
          16,
          27,
          20,
          8,
          62,
          23,
          7,
          26,
          8,
          9,
          23,
          35,
          30,
          7,
          130,
          9,
          9,
          9,
          3,
          14,
          24,
          2,
          23,
          27,
          3,
          18,
          22,
          1,
          13,
          15,
          14,
          10,
          35,
          24,
          19,
          18,
          21,
          6,
          19,
          35,
          6,
          53,
          13,
          39,
          10,
          11,
          11,
          14,
          32,
          37
         ],
         "xaxis": "x",
         "yaxis": "y"
        }
       ],
       "layout": {
        "barmode": "relative",
        "legend": {
         "tracegroupgap": 0
        },
        "template": {
         "data": {
          "bar": [
           {
            "error_x": {
             "color": "#2a3f5f"
            },
            "error_y": {
             "color": "#2a3f5f"
            },
            "marker": {
             "line": {
              "color": "#E5ECF6",
              "width": 0.5
             },
             "pattern": {
              "fillmode": "overlay",
              "size": 10,
              "solidity": 0.2
             }
            },
            "type": "bar"
           }
          ],
          "barpolar": [
           {
            "marker": {
             "line": {
              "color": "#E5ECF6",
              "width": 0.5
             },
             "pattern": {
              "fillmode": "overlay",
              "size": 10,
              "solidity": 0.2
             }
            },
            "type": "barpolar"
           }
          ],
          "carpet": [
           {
            "aaxis": {
             "endlinecolor": "#2a3f5f",
             "gridcolor": "white",
             "linecolor": "white",
             "minorgridcolor": "white",
             "startlinecolor": "#2a3f5f"
            },
            "baxis": {
             "endlinecolor": "#2a3f5f",
             "gridcolor": "white",
             "linecolor": "white",
             "minorgridcolor": "white",
             "startlinecolor": "#2a3f5f"
            },
            "type": "carpet"
           }
          ],
          "choropleth": [
           {
            "colorbar": {
             "outlinewidth": 0,
             "ticks": ""
            },
            "type": "choropleth"
           }
          ],
          "contour": [
           {
            "colorbar": {
             "outlinewidth": 0,
             "ticks": ""
            },
            "colorscale": [
             [
              0,
              "#0d0887"
             ],
             [
              0.1111111111111111,
              "#46039f"
             ],
             [
              0.2222222222222222,
              "#7201a8"
             ],
             [
              0.3333333333333333,
              "#9c179e"
             ],
             [
              0.4444444444444444,
              "#bd3786"
             ],
             [
              0.5555555555555556,
              "#d8576b"
             ],
             [
              0.6666666666666666,
              "#ed7953"
             ],
             [
              0.7777777777777778,
              "#fb9f3a"
             ],
             [
              0.8888888888888888,
              "#fdca26"
             ],
             [
              1,
              "#f0f921"
             ]
            ],
            "type": "contour"
           }
          ],
          "contourcarpet": [
           {
            "colorbar": {
             "outlinewidth": 0,
             "ticks": ""
            },
            "type": "contourcarpet"
           }
          ],
          "heatmap": [
           {
            "colorbar": {
             "outlinewidth": 0,
             "ticks": ""
            },
            "colorscale": [
             [
              0,
              "#0d0887"
             ],
             [
              0.1111111111111111,
              "#46039f"
             ],
             [
              0.2222222222222222,
              "#7201a8"
             ],
             [
              0.3333333333333333,
              "#9c179e"
             ],
             [
              0.4444444444444444,
              "#bd3786"
             ],
             [
              0.5555555555555556,
              "#d8576b"
             ],
             [
              0.6666666666666666,
              "#ed7953"
             ],
             [
              0.7777777777777778,
              "#fb9f3a"
             ],
             [
              0.8888888888888888,
              "#fdca26"
             ],
             [
              1,
              "#f0f921"
             ]
            ],
            "type": "heatmap"
           }
          ],
          "heatmapgl": [
           {
            "colorbar": {
             "outlinewidth": 0,
             "ticks": ""
            },
            "colorscale": [
             [
              0,
              "#0d0887"
             ],
             [
              0.1111111111111111,
              "#46039f"
             ],
             [
              0.2222222222222222,
              "#7201a8"
             ],
             [
              0.3333333333333333,
              "#9c179e"
             ],
             [
              0.4444444444444444,
              "#bd3786"
             ],
             [
              0.5555555555555556,
              "#d8576b"
             ],
             [
              0.6666666666666666,
              "#ed7953"
             ],
             [
              0.7777777777777778,
              "#fb9f3a"
             ],
             [
              0.8888888888888888,
              "#fdca26"
             ],
             [
              1,
              "#f0f921"
             ]
            ],
            "type": "heatmapgl"
           }
          ],
          "histogram": [
           {
            "marker": {
             "pattern": {
              "fillmode": "overlay",
              "size": 10,
              "solidity": 0.2
             }
            },
            "type": "histogram"
           }
          ],
          "histogram2d": [
           {
            "colorbar": {
             "outlinewidth": 0,
             "ticks": ""
            },
            "colorscale": [
             [
              0,
              "#0d0887"
             ],
             [
              0.1111111111111111,
              "#46039f"
             ],
             [
              0.2222222222222222,
              "#7201a8"
             ],
             [
              0.3333333333333333,
              "#9c179e"
             ],
             [
              0.4444444444444444,
              "#bd3786"
             ],
             [
              0.5555555555555556,
              "#d8576b"
             ],
             [
              0.6666666666666666,
              "#ed7953"
             ],
             [
              0.7777777777777778,
              "#fb9f3a"
             ],
             [
              0.8888888888888888,
              "#fdca26"
             ],
             [
              1,
              "#f0f921"
             ]
            ],
            "type": "histogram2d"
           }
          ],
          "histogram2dcontour": [
           {
            "colorbar": {
             "outlinewidth": 0,
             "ticks": ""
            },
            "colorscale": [
             [
              0,
              "#0d0887"
             ],
             [
              0.1111111111111111,
              "#46039f"
             ],
             [
              0.2222222222222222,
              "#7201a8"
             ],
             [
              0.3333333333333333,
              "#9c179e"
             ],
             [
              0.4444444444444444,
              "#bd3786"
             ],
             [
              0.5555555555555556,
              "#d8576b"
             ],
             [
              0.6666666666666666,
              "#ed7953"
             ],
             [
              0.7777777777777778,
              "#fb9f3a"
             ],
             [
              0.8888888888888888,
              "#fdca26"
             ],
             [
              1,
              "#f0f921"
             ]
            ],
            "type": "histogram2dcontour"
           }
          ],
          "mesh3d": [
           {
            "colorbar": {
             "outlinewidth": 0,
             "ticks": ""
            },
            "type": "mesh3d"
           }
          ],
          "parcoords": [
           {
            "line": {
             "colorbar": {
              "outlinewidth": 0,
              "ticks": ""
             }
            },
            "type": "parcoords"
           }
          ],
          "pie": [
           {
            "automargin": true,
            "type": "pie"
           }
          ],
          "scatter": [
           {
            "marker": {
             "colorbar": {
              "outlinewidth": 0,
              "ticks": ""
             }
            },
            "type": "scatter"
           }
          ],
          "scatter3d": [
           {
            "line": {
             "colorbar": {
              "outlinewidth": 0,
              "ticks": ""
             }
            },
            "marker": {
             "colorbar": {
              "outlinewidth": 0,
              "ticks": ""
             }
            },
            "type": "scatter3d"
           }
          ],
          "scattercarpet": [
           {
            "marker": {
             "colorbar": {
              "outlinewidth": 0,
              "ticks": ""
             }
            },
            "type": "scattercarpet"
           }
          ],
          "scattergeo": [
           {
            "marker": {
             "colorbar": {
              "outlinewidth": 0,
              "ticks": ""
             }
            },
            "type": "scattergeo"
           }
          ],
          "scattergl": [
           {
            "marker": {
             "colorbar": {
              "outlinewidth": 0,
              "ticks": ""
             }
            },
            "type": "scattergl"
           }
          ],
          "scattermapbox": [
           {
            "marker": {
             "colorbar": {
              "outlinewidth": 0,
              "ticks": ""
             }
            },
            "type": "scattermapbox"
           }
          ],
          "scatterpolar": [
           {
            "marker": {
             "colorbar": {
              "outlinewidth": 0,
              "ticks": ""
             }
            },
            "type": "scatterpolar"
           }
          ],
          "scatterpolargl": [
           {
            "marker": {
             "colorbar": {
              "outlinewidth": 0,
              "ticks": ""
             }
            },
            "type": "scatterpolargl"
           }
          ],
          "scatterternary": [
           {
            "marker": {
             "colorbar": {
              "outlinewidth": 0,
              "ticks": ""
             }
            },
            "type": "scatterternary"
           }
          ],
          "surface": [
           {
            "colorbar": {
             "outlinewidth": 0,
             "ticks": ""
            },
            "colorscale": [
             [
              0,
              "#0d0887"
             ],
             [
              0.1111111111111111,
              "#46039f"
             ],
             [
              0.2222222222222222,
              "#7201a8"
             ],
             [
              0.3333333333333333,
              "#9c179e"
             ],
             [
              0.4444444444444444,
              "#bd3786"
             ],
             [
              0.5555555555555556,
              "#d8576b"
             ],
             [
              0.6666666666666666,
              "#ed7953"
             ],
             [
              0.7777777777777778,
              "#fb9f3a"
             ],
             [
              0.8888888888888888,
              "#fdca26"
             ],
             [
              1,
              "#f0f921"
             ]
            ],
            "type": "surface"
           }
          ],
          "table": [
           {
            "cells": {
             "fill": {
              "color": "#EBF0F8"
             },
             "line": {
              "color": "white"
             }
            },
            "header": {
             "fill": {
              "color": "#C8D4E3"
             },
             "line": {
              "color": "white"
             }
            },
            "type": "table"
           }
          ]
         },
         "layout": {
          "annotationdefaults": {
           "arrowcolor": "#2a3f5f",
           "arrowhead": 0,
           "arrowwidth": 1
          },
          "autotypenumbers": "strict",
          "coloraxis": {
           "colorbar": {
            "outlinewidth": 0,
            "ticks": ""
           }
          },
          "colorscale": {
           "diverging": [
            [
             0,
             "#8e0152"
            ],
            [
             0.1,
             "#c51b7d"
            ],
            [
             0.2,
             "#de77ae"
            ],
            [
             0.3,
             "#f1b6da"
            ],
            [
             0.4,
             "#fde0ef"
            ],
            [
             0.5,
             "#f7f7f7"
            ],
            [
             0.6,
             "#e6f5d0"
            ],
            [
             0.7,
             "#b8e186"
            ],
            [
             0.8,
             "#7fbc41"
            ],
            [
             0.9,
             "#4d9221"
            ],
            [
             1,
             "#276419"
            ]
           ],
           "sequential": [
            [
             0,
             "#0d0887"
            ],
            [
             0.1111111111111111,
             "#46039f"
            ],
            [
             0.2222222222222222,
             "#7201a8"
            ],
            [
             0.3333333333333333,
             "#9c179e"
            ],
            [
             0.4444444444444444,
             "#bd3786"
            ],
            [
             0.5555555555555556,
             "#d8576b"
            ],
            [
             0.6666666666666666,
             "#ed7953"
            ],
            [
             0.7777777777777778,
             "#fb9f3a"
            ],
            [
             0.8888888888888888,
             "#fdca26"
            ],
            [
             1,
             "#f0f921"
            ]
           ],
           "sequentialminus": [
            [
             0,
             "#0d0887"
            ],
            [
             0.1111111111111111,
             "#46039f"
            ],
            [
             0.2222222222222222,
             "#7201a8"
            ],
            [
             0.3333333333333333,
             "#9c179e"
            ],
            [
             0.4444444444444444,
             "#bd3786"
            ],
            [
             0.5555555555555556,
             "#d8576b"
            ],
            [
             0.6666666666666666,
             "#ed7953"
            ],
            [
             0.7777777777777778,
             "#fb9f3a"
            ],
            [
             0.8888888888888888,
             "#fdca26"
            ],
            [
             1,
             "#f0f921"
            ]
           ]
          },
          "colorway": [
           "#636efa",
           "#EF553B",
           "#00cc96",
           "#ab63fa",
           "#FFA15A",
           "#19d3f3",
           "#FF6692",
           "#B6E880",
           "#FF97FF",
           "#FECB52"
          ],
          "font": {
           "color": "#2a3f5f"
          },
          "geo": {
           "bgcolor": "white",
           "lakecolor": "white",
           "landcolor": "#E5ECF6",
           "showlakes": true,
           "showland": true,
           "subunitcolor": "white"
          },
          "hoverlabel": {
           "align": "left"
          },
          "hovermode": "closest",
          "mapbox": {
           "style": "light"
          },
          "paper_bgcolor": "white",
          "plot_bgcolor": "#E5ECF6",
          "polar": {
           "angularaxis": {
            "gridcolor": "white",
            "linecolor": "white",
            "ticks": ""
           },
           "bgcolor": "#E5ECF6",
           "radialaxis": {
            "gridcolor": "white",
            "linecolor": "white",
            "ticks": ""
           }
          },
          "scene": {
           "xaxis": {
            "backgroundcolor": "#E5ECF6",
            "gridcolor": "white",
            "gridwidth": 2,
            "linecolor": "white",
            "showbackground": true,
            "ticks": "",
            "zerolinecolor": "white"
           },
           "yaxis": {
            "backgroundcolor": "#E5ECF6",
            "gridcolor": "white",
            "gridwidth": 2,
            "linecolor": "white",
            "showbackground": true,
            "ticks": "",
            "zerolinecolor": "white"
           },
           "zaxis": {
            "backgroundcolor": "#E5ECF6",
            "gridcolor": "white",
            "gridwidth": 2,
            "linecolor": "white",
            "showbackground": true,
            "ticks": "",
            "zerolinecolor": "white"
           }
          },
          "shapedefaults": {
           "line": {
            "color": "#2a3f5f"
           }
          },
          "ternary": {
           "aaxis": {
            "gridcolor": "white",
            "linecolor": "white",
            "ticks": ""
           },
           "baxis": {
            "gridcolor": "white",
            "linecolor": "white",
            "ticks": ""
           },
           "bgcolor": "#E5ECF6",
           "caxis": {
            "gridcolor": "white",
            "linecolor": "white",
            "ticks": ""
           }
          },
          "title": {
           "x": 0.05
          },
          "xaxis": {
           "automargin": true,
           "gridcolor": "white",
           "linecolor": "white",
           "ticks": "",
           "title": {
            "standoff": 15
           },
           "zerolinecolor": "white",
           "zerolinewidth": 2
          },
          "yaxis": {
           "automargin": true,
           "gridcolor": "white",
           "linecolor": "white",
           "ticks": "",
           "title": {
            "standoff": 15
           },
           "zerolinecolor": "white",
           "zerolinewidth": 2
          }
         }
        },
        "title": {
         "text": "Frequency Histogram"
        },
        "xaxis": {
         "anchor": "y",
         "domain": [
          0,
          1
         ],
         "title": {
          "text": "Frequency"
         }
        },
        "yaxis": {
         "anchor": "x",
         "domain": [
          0,
          1
         ],
         "title": {
          "text": "count"
         }
        }
       }
      }
     },
     "metadata": {},
     "output_type": "display_data"
    }
   ],
   "source": [
    "fig = px.histogram(df_user, x=\"Frequency\",title='Frequency Histogram')\n",
    "fig.show()"
   ]
  },
  {
   "cell_type": "code",
   "execution_count": 159,
   "metadata": {},
   "outputs": [
    {
     "name": "stderr",
     "output_type": "stream",
     "text": [
      "C:\\Users\\DUONG-PC\\AppData\\Roaming\\Python\\Python39\\site-packages\\sklearn\\cluster\\_kmeans.py:870: FutureWarning:\n",
      "\n",
      "The default value of `n_init` will change from 10 to 'auto' in 1.4. Set the value of `n_init` explicitly to suppress the warning\n",
      "\n",
      "C:\\Users\\DUONG-PC\\AppData\\Local\\Temp\\ipykernel_9152\\857827140.py:5: SettingWithCopyWarning:\n",
      "\n",
      "\n",
      "A value is trying to be set on a copy of a slice from a DataFrame.\n",
      "Try using .loc[row_indexer,col_indexer] = value instead\n",
      "\n",
      "See the caveats in the documentation: https://pandas.pydata.org/pandas-docs/stable/user_guide/indexing.html#returning-a-view-versus-a-copy\n",
      "\n",
      "C:\\Users\\DUONG-PC\\AppData\\Roaming\\Python\\Python39\\site-packages\\sklearn\\cluster\\_kmeans.py:870: FutureWarning:\n",
      "\n",
      "The default value of `n_init` will change from 10 to 'auto' in 1.4. Set the value of `n_init` explicitly to suppress the warning\n",
      "\n",
      "C:\\Users\\DUONG-PC\\AppData\\Local\\Temp\\ipykernel_9152\\857827140.py:5: SettingWithCopyWarning:\n",
      "\n",
      "\n",
      "A value is trying to be set on a copy of a slice from a DataFrame.\n",
      "Try using .loc[row_indexer,col_indexer] = value instead\n",
      "\n",
      "See the caveats in the documentation: https://pandas.pydata.org/pandas-docs/stable/user_guide/indexing.html#returning-a-view-versus-a-copy\n",
      "\n",
      "C:\\Users\\DUONG-PC\\AppData\\Roaming\\Python\\Python39\\site-packages\\sklearn\\cluster\\_kmeans.py:870: FutureWarning:\n",
      "\n",
      "The default value of `n_init` will change from 10 to 'auto' in 1.4. Set the value of `n_init` explicitly to suppress the warning\n",
      "\n",
      "C:\\Users\\DUONG-PC\\AppData\\Local\\Temp\\ipykernel_9152\\857827140.py:5: SettingWithCopyWarning:\n",
      "\n",
      "\n",
      "A value is trying to be set on a copy of a slice from a DataFrame.\n",
      "Try using .loc[row_indexer,col_indexer] = value instead\n",
      "\n",
      "See the caveats in the documentation: https://pandas.pydata.org/pandas-docs/stable/user_guide/indexing.html#returning-a-view-versus-a-copy\n",
      "\n",
      "C:\\Users\\DUONG-PC\\AppData\\Roaming\\Python\\Python39\\site-packages\\sklearn\\cluster\\_kmeans.py:870: FutureWarning:\n",
      "\n",
      "The default value of `n_init` will change from 10 to 'auto' in 1.4. Set the value of `n_init` explicitly to suppress the warning\n",
      "\n",
      "C:\\Users\\DUONG-PC\\AppData\\Local\\Temp\\ipykernel_9152\\857827140.py:5: SettingWithCopyWarning:\n",
      "\n",
      "\n",
      "A value is trying to be set on a copy of a slice from a DataFrame.\n",
      "Try using .loc[row_indexer,col_indexer] = value instead\n",
      "\n",
      "See the caveats in the documentation: https://pandas.pydata.org/pandas-docs/stable/user_guide/indexing.html#returning-a-view-versus-a-copy\n",
      "\n",
      "C:\\Users\\DUONG-PC\\AppData\\Roaming\\Python\\Python39\\site-packages\\sklearn\\cluster\\_kmeans.py:870: FutureWarning:\n",
      "\n",
      "The default value of `n_init` will change from 10 to 'auto' in 1.4. Set the value of `n_init` explicitly to suppress the warning\n",
      "\n",
      "C:\\Users\\DUONG-PC\\AppData\\Local\\Temp\\ipykernel_9152\\857827140.py:5: SettingWithCopyWarning:\n",
      "\n",
      "\n",
      "A value is trying to be set on a copy of a slice from a DataFrame.\n",
      "Try using .loc[row_indexer,col_indexer] = value instead\n",
      "\n",
      "See the caveats in the documentation: https://pandas.pydata.org/pandas-docs/stable/user_guide/indexing.html#returning-a-view-versus-a-copy\n",
      "\n",
      "C:\\Users\\DUONG-PC\\AppData\\Roaming\\Python\\Python39\\site-packages\\sklearn\\cluster\\_kmeans.py:870: FutureWarning:\n",
      "\n",
      "The default value of `n_init` will change from 10 to 'auto' in 1.4. Set the value of `n_init` explicitly to suppress the warning\n",
      "\n",
      "C:\\Users\\DUONG-PC\\AppData\\Local\\Temp\\ipykernel_9152\\857827140.py:5: SettingWithCopyWarning:\n",
      "\n",
      "\n",
      "A value is trying to be set on a copy of a slice from a DataFrame.\n",
      "Try using .loc[row_indexer,col_indexer] = value instead\n",
      "\n",
      "See the caveats in the documentation: https://pandas.pydata.org/pandas-docs/stable/user_guide/indexing.html#returning-a-view-versus-a-copy\n",
      "\n",
      "C:\\Users\\DUONG-PC\\AppData\\Roaming\\Python\\Python39\\site-packages\\sklearn\\cluster\\_kmeans.py:870: FutureWarning:\n",
      "\n",
      "The default value of `n_init` will change from 10 to 'auto' in 1.4. Set the value of `n_init` explicitly to suppress the warning\n",
      "\n",
      "C:\\Users\\DUONG-PC\\AppData\\Local\\Temp\\ipykernel_9152\\857827140.py:5: SettingWithCopyWarning:\n",
      "\n",
      "\n",
      "A value is trying to be set on a copy of a slice from a DataFrame.\n",
      "Try using .loc[row_indexer,col_indexer] = value instead\n",
      "\n",
      "See the caveats in the documentation: https://pandas.pydata.org/pandas-docs/stable/user_guide/indexing.html#returning-a-view-versus-a-copy\n",
      "\n",
      "C:\\Users\\DUONG-PC\\AppData\\Roaming\\Python\\Python39\\site-packages\\sklearn\\cluster\\_kmeans.py:870: FutureWarning:\n",
      "\n",
      "The default value of `n_init` will change from 10 to 'auto' in 1.4. Set the value of `n_init` explicitly to suppress the warning\n",
      "\n",
      "C:\\Users\\DUONG-PC\\AppData\\Local\\Temp\\ipykernel_9152\\857827140.py:5: SettingWithCopyWarning:\n",
      "\n",
      "\n",
      "A value is trying to be set on a copy of a slice from a DataFrame.\n",
      "Try using .loc[row_indexer,col_indexer] = value instead\n",
      "\n",
      "See the caveats in the documentation: https://pandas.pydata.org/pandas-docs/stable/user_guide/indexing.html#returning-a-view-versus-a-copy\n",
      "\n",
      "C:\\Users\\DUONG-PC\\AppData\\Roaming\\Python\\Python39\\site-packages\\sklearn\\cluster\\_kmeans.py:870: FutureWarning:\n",
      "\n",
      "The default value of `n_init` will change from 10 to 'auto' in 1.4. Set the value of `n_init` explicitly to suppress the warning\n",
      "\n",
      "C:\\Users\\DUONG-PC\\AppData\\Local\\Temp\\ipykernel_9152\\857827140.py:5: SettingWithCopyWarning:\n",
      "\n",
      "\n",
      "A value is trying to be set on a copy of a slice from a DataFrame.\n",
      "Try using .loc[row_indexer,col_indexer] = value instead\n",
      "\n",
      "See the caveats in the documentation: https://pandas.pydata.org/pandas-docs/stable/user_guide/indexing.html#returning-a-view-versus-a-copy\n",
      "\n"
     ]
    },
    {
     "data": {
      "image/png": "[encoded data removed]",
      "text/plain": [
       "<Figure size 432x288 with 1 Axes>"
      ]
     },
     "metadata": {
      "needs_background": "light"
     },
     "output_type": "display_data"
    }
   ],
   "source": [
    "sse={}\n",
    "df_frequency = df_user[['Frequency']]\n",
    "for k in range(1,10):\n",
    "    kmeans=KMeans(n_clusters=k,max_iter=1000).fit(df_frequency)\n",
    "    df_frequency[\"clusters\"] = kmeans.labels_\n",
    "    sse[k]=kmeans.inertia_ # binh phuong khoang cach toi trung tam cua cac cum\n",
    "plt.figure()\n",
    "plt.plot(list(sse.keys()),list(sse.values()))\n",
    "plt.xlabel('Number of cluster')\n",
    "plt.show()"
   ]
  },
  {
   "cell_type": "code",
   "execution_count": 161,
   "metadata": {},
   "outputs": [
    {
     "name": "stderr",
     "output_type": "stream",
     "text": [
      "C:\\Users\\DUONG-PC\\AppData\\Roaming\\Python\\Python39\\site-packages\\sklearn\\cluster\\_kmeans.py:870: FutureWarning:\n",
      "\n",
      "The default value of `n_init` will change from 10 to 'auto' in 1.4. Set the value of `n_init` explicitly to suppress the warning\n",
      "\n"
     ]
    },
    {
     "data": {
      "text/html": [
       "<div>\n",
       "<style scoped>\n",
       "    .dataframe tbody tr th:only-of-type {\n",
       "        vertical-align: middle;\n",
       "    }\n",
       "\n",
       "    .dataframe tbody tr th {\n",
       "        vertical-align: top;\n",
       "    }\n",
       "\n",
       "    .dataframe thead th {\n",
       "        text-align: right;\n",
       "    }\n",
       "</style>\n",
       "<table border=\"1\" class=\"dataframe\">\n",
       "  <thead>\n",
       "    <tr style=\"text-align: right;\">\n",
       "      <th></th>\n",
       "      <th>CustomerID</th>\n",
       "      <th>MaxPurchaseDate</th>\n",
       "      <th>Recency</th>\n",
       "      <th>RencencyCLuster</th>\n",
       "      <th>Frequency</th>\n",
       "      <th>FrequencyCluster</th>\n",
       "    </tr>\n",
       "  </thead>\n",
       "  <tbody>\n",
       "    <tr>\n",
       "      <th>0</th>\n",
       "      <td>14620.0</td>\n",
       "      <td>2011-05-19</td>\n",
       "      <td>12</td>\n",
       "      <td>3</td>\n",
       "      <td>30</td>\n",
       "      <td>0</td>\n",
       "    </tr>\n",
       "    <tr>\n",
       "      <th>1</th>\n",
       "      <td>14740.0</td>\n",
       "      <td>2011-05-26</td>\n",
       "      <td>5</td>\n",
       "      <td>3</td>\n",
       "      <td>89</td>\n",
       "      <td>1</td>\n",
       "    </tr>\n",
       "    <tr>\n",
       "      <th>2</th>\n",
       "      <td>17068.0</td>\n",
       "      <td>2011-05-19</td>\n",
       "      <td>12</td>\n",
       "      <td>3</td>\n",
       "      <td>76</td>\n",
       "      <td>1</td>\n",
       "    </tr>\n",
       "    <tr>\n",
       "      <th>3</th>\n",
       "      <td>12971.0</td>\n",
       "      <td>2011-05-27</td>\n",
       "      <td>4</td>\n",
       "      <td>3</td>\n",
       "      <td>73</td>\n",
       "      <td>1</td>\n",
       "    </tr>\n",
       "    <tr>\n",
       "      <th>4</th>\n",
       "      <td>15194.0</td>\n",
       "      <td>2011-05-25</td>\n",
       "      <td>6</td>\n",
       "      <td>3</td>\n",
       "      <td>64</td>\n",
       "      <td>1</td>\n",
       "    </tr>\n",
       "    <tr>\n",
       "      <th>...</th>\n",
       "      <td>...</td>\n",
       "      <td>...</td>\n",
       "      <td>...</td>\n",
       "      <td>...</td>\n",
       "      <td>...</td>\n",
       "      <td>...</td>\n",
       "    </tr>\n",
       "    <tr>\n",
       "      <th>1835</th>\n",
       "      <td>13482.0</td>\n",
       "      <td>2011-04-21</td>\n",
       "      <td>40</td>\n",
       "      <td>1</td>\n",
       "      <td>11</td>\n",
       "      <td>0</td>\n",
       "    </tr>\n",
       "    <tr>\n",
       "      <th>1836</th>\n",
       "      <td>13862.0</td>\n",
       "      <td>2011-04-21</td>\n",
       "      <td>40</td>\n",
       "      <td>1</td>\n",
       "      <td>11</td>\n",
       "      <td>0</td>\n",
       "    </tr>\n",
       "    <tr>\n",
       "      <th>1837</th>\n",
       "      <td>14512.0</td>\n",
       "      <td>2011-04-21</td>\n",
       "      <td>40</td>\n",
       "      <td>1</td>\n",
       "      <td>14</td>\n",
       "      <td>0</td>\n",
       "    </tr>\n",
       "    <tr>\n",
       "      <th>1838</th>\n",
       "      <td>15810.0</td>\n",
       "      <td>2011-04-21</td>\n",
       "      <td>40</td>\n",
       "      <td>1</td>\n",
       "      <td>32</td>\n",
       "      <td>0</td>\n",
       "    </tr>\n",
       "    <tr>\n",
       "      <th>1839</th>\n",
       "      <td>14562.0</td>\n",
       "      <td>2011-04-21</td>\n",
       "      <td>40</td>\n",
       "      <td>1</td>\n",
       "      <td>37</td>\n",
       "      <td>0</td>\n",
       "    </tr>\n",
       "  </tbody>\n",
       "</table>\n",
       "<p>1840 rows × 6 columns</p>\n",
       "</div>"
      ],
      "text/plain": [
       "      CustomerID MaxPurchaseDate  Recency  RencencyCLuster  Frequency  \\\n",
       "0        14620.0      2011-05-19       12                3         30   \n",
       "1        14740.0      2011-05-26        5                3         89   \n",
       "2        17068.0      2011-05-19       12                3         76   \n",
       "3        12971.0      2011-05-27        4                3         73   \n",
       "4        15194.0      2011-05-25        6                3         64   \n",
       "...          ...             ...      ...              ...        ...   \n",
       "1835     13482.0      2011-04-21       40                1         11   \n",
       "1836     13862.0      2011-04-21       40                1         11   \n",
       "1837     14512.0      2011-04-21       40                1         14   \n",
       "1838     15810.0      2011-04-21       40                1         32   \n",
       "1839     14562.0      2011-04-21       40                1         37   \n",
       "\n",
       "      FrequencyCluster  \n",
       "0                    0  \n",
       "1                    1  \n",
       "2                    1  \n",
       "3                    1  \n",
       "4                    1  \n",
       "...                ...  \n",
       "1835                 0  \n",
       "1836                 0  \n",
       "1837                 0  \n",
       "1838                 0  \n",
       "1839                 0  \n",
       "\n",
       "[1840 rows x 6 columns]"
      ]
     },
     "execution_count": 161,
     "metadata": {},
     "output_type": "execute_result"
    }
   ],
   "source": [
    "kmeans = KMeans(n_clusters= 4)\n",
    "kmeans.fit(df_user[['Frequency']])\n",
    "df_user['FrequencyCluster'] = kmeans.predict(df_user[['Frequency']])\n",
    "df_user"
   ]
  },
  {
   "cell_type": "code",
   "execution_count": 162,
   "metadata": {},
   "outputs": [
    {
     "data": {
      "text/html": [
       "<div>\n",
       "<style scoped>\n",
       "    .dataframe tbody tr th:only-of-type {\n",
       "        vertical-align: middle;\n",
       "    }\n",
       "\n",
       "    .dataframe tbody tr th {\n",
       "        vertical-align: top;\n",
       "    }\n",
       "\n",
       "    .dataframe thead th {\n",
       "        text-align: right;\n",
       "    }\n",
       "</style>\n",
       "<table border=\"1\" class=\"dataframe\">\n",
       "  <thead>\n",
       "    <tr style=\"text-align: right;\">\n",
       "      <th></th>\n",
       "      <th>count</th>\n",
       "      <th>mean</th>\n",
       "      <th>std</th>\n",
       "      <th>min</th>\n",
       "      <th>25%</th>\n",
       "      <th>50%</th>\n",
       "      <th>75%</th>\n",
       "      <th>max</th>\n",
       "    </tr>\n",
       "    <tr>\n",
       "      <th>FrequencyCluster</th>\n",
       "      <th></th>\n",
       "      <th></th>\n",
       "      <th></th>\n",
       "      <th></th>\n",
       "      <th></th>\n",
       "      <th></th>\n",
       "      <th></th>\n",
       "      <th></th>\n",
       "    </tr>\n",
       "  </thead>\n",
       "  <tbody>\n",
       "    <tr>\n",
       "      <th>0</th>\n",
       "      <td>1238.0</td>\n",
       "      <td>16.169628</td>\n",
       "      <td>9.976868</td>\n",
       "      <td>1.0</td>\n",
       "      <td>8.0</td>\n",
       "      <td>15.0</td>\n",
       "      <td>23.00</td>\n",
       "      <td>37.0</td>\n",
       "    </tr>\n",
       "    <tr>\n",
       "      <th>1</th>\n",
       "      <td>479.0</td>\n",
       "      <td>59.183716</td>\n",
       "      <td>17.002328</td>\n",
       "      <td>38.0</td>\n",
       "      <td>45.0</td>\n",
       "      <td>56.0</td>\n",
       "      <td>68.50</td>\n",
       "      <td>104.0</td>\n",
       "    </tr>\n",
       "    <tr>\n",
       "      <th>2</th>\n",
       "      <td>10.0</td>\n",
       "      <td>614.400000</td>\n",
       "      <td>283.186707</td>\n",
       "      <td>412.0</td>\n",
       "      <td>440.0</td>\n",
       "      <td>540.0</td>\n",
       "      <td>636.75</td>\n",
       "      <td>1364.0</td>\n",
       "    </tr>\n",
       "    <tr>\n",
       "      <th>3</th>\n",
       "      <td>113.0</td>\n",
       "      <td>151.964602</td>\n",
       "      <td>48.147268</td>\n",
       "      <td>106.0</td>\n",
       "      <td>118.0</td>\n",
       "      <td>132.0</td>\n",
       "      <td>172.00</td>\n",
       "      <td>345.0</td>\n",
       "    </tr>\n",
       "  </tbody>\n",
       "</table>\n",
       "</div>"
      ],
      "text/plain": [
       "                   count        mean         std    min    25%    50%     75%  \\\n",
       "FrequencyCluster                                                                \n",
       "0                 1238.0   16.169628    9.976868    1.0    8.0   15.0   23.00   \n",
       "1                  479.0   59.183716   17.002328   38.0   45.0   56.0   68.50   \n",
       "2                   10.0  614.400000  283.186707  412.0  440.0  540.0  636.75   \n",
       "3                  113.0  151.964602   48.147268  106.0  118.0  132.0  172.00   \n",
       "\n",
       "                     max  \n",
       "FrequencyCluster          \n",
       "0                   37.0  \n",
       "1                  104.0  \n",
       "2                 1364.0  \n",
       "3                  345.0  "
      ]
     },
     "execution_count": 162,
     "metadata": {},
     "output_type": "execute_result"
    }
   ],
   "source": [
    "df_user.groupby('FrequencyCluster')['Frequency'].describe()"
   ]
  },
  {
   "cell_type": "code",
   "execution_count": 165,
   "metadata": {},
   "outputs": [
    {
     "data": {
      "text/html": [
       "<div>\n",
       "<style scoped>\n",
       "    .dataframe tbody tr th:only-of-type {\n",
       "        vertical-align: middle;\n",
       "    }\n",
       "\n",
       "    .dataframe tbody tr th {\n",
       "        vertical-align: top;\n",
       "    }\n",
       "\n",
       "    .dataframe thead th {\n",
       "        text-align: right;\n",
       "    }\n",
       "</style>\n",
       "<table border=\"1\" class=\"dataframe\">\n",
       "  <thead>\n",
       "    <tr style=\"text-align: right;\">\n",
       "      <th></th>\n",
       "      <th>CustomerID</th>\n",
       "      <th>MaxPurchaseDate</th>\n",
       "      <th>Recency</th>\n",
       "      <th>RencencyCLuster</th>\n",
       "      <th>Frequency</th>\n",
       "      <th>FrequencyCluster</th>\n",
       "    </tr>\n",
       "  </thead>\n",
       "  <tbody>\n",
       "    <tr>\n",
       "      <th>0</th>\n",
       "      <td>14620.0</td>\n",
       "      <td>2011-05-19</td>\n",
       "      <td>12</td>\n",
       "      <td>3</td>\n",
       "      <td>30</td>\n",
       "      <td>0</td>\n",
       "    </tr>\n",
       "    <tr>\n",
       "      <th>1</th>\n",
       "      <td>18075.0</td>\n",
       "      <td>2011-05-19</td>\n",
       "      <td>12</td>\n",
       "      <td>3</td>\n",
       "      <td>35</td>\n",
       "      <td>0</td>\n",
       "    </tr>\n",
       "    <tr>\n",
       "      <th>2</th>\n",
       "      <td>15660.0</td>\n",
       "      <td>2011-05-27</td>\n",
       "      <td>4</td>\n",
       "      <td>3</td>\n",
       "      <td>34</td>\n",
       "      <td>0</td>\n",
       "    </tr>\n",
       "    <tr>\n",
       "      <th>3</th>\n",
       "      <td>14676.0</td>\n",
       "      <td>2011-05-16</td>\n",
       "      <td>15</td>\n",
       "      <td>3</td>\n",
       "      <td>18</td>\n",
       "      <td>0</td>\n",
       "    </tr>\n",
       "    <tr>\n",
       "      <th>4</th>\n",
       "      <td>12747.0</td>\n",
       "      <td>2011-05-25</td>\n",
       "      <td>6</td>\n",
       "      <td>3</td>\n",
       "      <td>35</td>\n",
       "      <td>0</td>\n",
       "    </tr>\n",
       "    <tr>\n",
       "      <th>...</th>\n",
       "      <td>...</td>\n",
       "      <td>...</td>\n",
       "      <td>...</td>\n",
       "      <td>...</td>\n",
       "      <td>...</td>\n",
       "      <td>...</td>\n",
       "    </tr>\n",
       "    <tr>\n",
       "      <th>1835</th>\n",
       "      <td>15039.0</td>\n",
       "      <td>2011-05-25</td>\n",
       "      <td>6</td>\n",
       "      <td>3</td>\n",
       "      <td>436</td>\n",
       "      <td>3</td>\n",
       "    </tr>\n",
       "    <tr>\n",
       "      <th>1836</th>\n",
       "      <td>13089.0</td>\n",
       "      <td>2011-05-26</td>\n",
       "      <td>5</td>\n",
       "      <td>3</td>\n",
       "      <td>452</td>\n",
       "      <td>3</td>\n",
       "    </tr>\n",
       "    <tr>\n",
       "      <th>1837</th>\n",
       "      <td>12748.0</td>\n",
       "      <td>2011-05-31</td>\n",
       "      <td>0</td>\n",
       "      <td>3</td>\n",
       "      <td>582</td>\n",
       "      <td>3</td>\n",
       "    </tr>\n",
       "    <tr>\n",
       "      <th>1838</th>\n",
       "      <td>14769.0</td>\n",
       "      <td>2011-05-22</td>\n",
       "      <td>9</td>\n",
       "      <td>3</td>\n",
       "      <td>558</td>\n",
       "      <td>3</td>\n",
       "    </tr>\n",
       "    <tr>\n",
       "      <th>1839</th>\n",
       "      <td>14298.0</td>\n",
       "      <td>2011-05-04</td>\n",
       "      <td>27</td>\n",
       "      <td>2</td>\n",
       "      <td>433</td>\n",
       "      <td>3</td>\n",
       "    </tr>\n",
       "  </tbody>\n",
       "</table>\n",
       "<p>1840 rows × 6 columns</p>\n",
       "</div>"
      ],
      "text/plain": [
       "      CustomerID MaxPurchaseDate  Recency  RencencyCLuster  Frequency  \\\n",
       "0        14620.0      2011-05-19       12                3         30   \n",
       "1        18075.0      2011-05-19       12                3         35   \n",
       "2        15660.0      2011-05-27        4                3         34   \n",
       "3        14676.0      2011-05-16       15                3         18   \n",
       "4        12747.0      2011-05-25        6                3         35   \n",
       "...          ...             ...      ...              ...        ...   \n",
       "1835     15039.0      2011-05-25        6                3        436   \n",
       "1836     13089.0      2011-05-26        5                3        452   \n",
       "1837     12748.0      2011-05-31        0                3        582   \n",
       "1838     14769.0      2011-05-22        9                3        558   \n",
       "1839     14298.0      2011-05-04       27                2        433   \n",
       "\n",
       "      FrequencyCluster  \n",
       "0                    0  \n",
       "1                    0  \n",
       "2                    0  \n",
       "3                    0  \n",
       "4                    0  \n",
       "...                ...  \n",
       "1835                 3  \n",
       "1836                 3  \n",
       "1837                 3  \n",
       "1838                 3  \n",
       "1839                 3  \n",
       "\n",
       "[1840 rows x 6 columns]"
      ]
     },
     "execution_count": 165,
     "metadata": {},
     "output_type": "execute_result"
    }
   ],
   "source": [
    "df_CTE2 = df_user.groupby('FrequencyCluster')['Frequency'].mean().reset_index()\n",
    "df_CTE2 = df_CTE2.sort_values(by='Frequency',ascending=True).reset_index(drop=True)\n",
    "df_CTE2['index'] = df_CTE2.index\n",
    "df_user = df_user.merge(df_CTE2[['FrequencyCluster','index']], on = 'FrequencyCluster',how='inner')\n",
    "df_user = df_user.drop(['FrequencyCluster'],axis= 1)\n",
    "df_user = df_user.rename(columns={'index':'FrequencyCluster'})\n",
    "df_user"
   ]
  },
  {
   "cell_type": "markdown",
   "metadata": {},
   "source": [
    "Moneytary Value"
   ]
  },
  {
   "cell_type": "code",
   "execution_count": 166,
   "metadata": {},
   "outputs": [
    {
     "data": {
      "text/html": [
       "<div>\n",
       "<style scoped>\n",
       "    .dataframe tbody tr th:only-of-type {\n",
       "        vertical-align: middle;\n",
       "    }\n",
       "\n",
       "    .dataframe tbody tr th {\n",
       "        vertical-align: top;\n",
       "    }\n",
       "\n",
       "    .dataframe thead th {\n",
       "        text-align: right;\n",
       "    }\n",
       "</style>\n",
       "<table border=\"1\" class=\"dataframe\">\n",
       "  <thead>\n",
       "    <tr style=\"text-align: right;\">\n",
       "      <th></th>\n",
       "      <th>index</th>\n",
       "      <th>InvoiceNo</th>\n",
       "      <th>StockCode</th>\n",
       "      <th>Description</th>\n",
       "      <th>Quantity</th>\n",
       "      <th>InvoiceDate</th>\n",
       "      <th>UnitPrice</th>\n",
       "      <th>CustomerID</th>\n",
       "      <th>Country</th>\n",
       "      <th>Invoice_year</th>\n",
       "      <th>Invoice_month</th>\n",
       "      <th>Invoice_date</th>\n",
       "      <th>Invoice_hour</th>\n",
       "      <th>Invoice_YearMonth</th>\n",
       "      <th>Revenue</th>\n",
       "      <th>Invoiceonlydate</th>\n",
       "    </tr>\n",
       "  </thead>\n",
       "  <tbody>\n",
       "    <tr>\n",
       "      <th>0</th>\n",
       "      <td>97393</td>\n",
       "      <td>545220</td>\n",
       "      <td>21955</td>\n",
       "      <td>DOORMAT UNION JACK GUNS AND ROSES</td>\n",
       "      <td>2</td>\n",
       "      <td>2011-03-01 08:30:00</td>\n",
       "      <td>7.95</td>\n",
       "      <td>14620.0</td>\n",
       "      <td>United Kingdom</td>\n",
       "      <td>2011</td>\n",
       "      <td>3</td>\n",
       "      <td>1</td>\n",
       "      <td>8</td>\n",
       "      <td>201103</td>\n",
       "      <td>15.90</td>\n",
       "      <td>2011-03-01</td>\n",
       "    </tr>\n",
       "    <tr>\n",
       "      <th>1</th>\n",
       "      <td>97394</td>\n",
       "      <td>545220</td>\n",
       "      <td>48194</td>\n",
       "      <td>DOORMAT HEARTS</td>\n",
       "      <td>2</td>\n",
       "      <td>2011-03-01 08:30:00</td>\n",
       "      <td>7.95</td>\n",
       "      <td>14620.0</td>\n",
       "      <td>United Kingdom</td>\n",
       "      <td>2011</td>\n",
       "      <td>3</td>\n",
       "      <td>1</td>\n",
       "      <td>8</td>\n",
       "      <td>201103</td>\n",
       "      <td>15.90</td>\n",
       "      <td>2011-03-01</td>\n",
       "    </tr>\n",
       "    <tr>\n",
       "      <th>2</th>\n",
       "      <td>97395</td>\n",
       "      <td>545220</td>\n",
       "      <td>22556</td>\n",
       "      <td>PLASTERS IN TIN CIRCUS PARADE</td>\n",
       "      <td>12</td>\n",
       "      <td>2011-03-01 08:30:00</td>\n",
       "      <td>1.65</td>\n",
       "      <td>14620.0</td>\n",
       "      <td>United Kingdom</td>\n",
       "      <td>2011</td>\n",
       "      <td>3</td>\n",
       "      <td>1</td>\n",
       "      <td>8</td>\n",
       "      <td>201103</td>\n",
       "      <td>19.80</td>\n",
       "      <td>2011-03-01</td>\n",
       "    </tr>\n",
       "    <tr>\n",
       "      <th>3</th>\n",
       "      <td>97396</td>\n",
       "      <td>545220</td>\n",
       "      <td>22139</td>\n",
       "      <td>RETROSPOT TEA SET CERAMIC 11 PC</td>\n",
       "      <td>3</td>\n",
       "      <td>2011-03-01 08:30:00</td>\n",
       "      <td>4.95</td>\n",
       "      <td>14620.0</td>\n",
       "      <td>United Kingdom</td>\n",
       "      <td>2011</td>\n",
       "      <td>3</td>\n",
       "      <td>1</td>\n",
       "      <td>8</td>\n",
       "      <td>201103</td>\n",
       "      <td>14.85</td>\n",
       "      <td>2011-03-01</td>\n",
       "    </tr>\n",
       "    <tr>\n",
       "      <th>4</th>\n",
       "      <td>97397</td>\n",
       "      <td>545220</td>\n",
       "      <td>84029G</td>\n",
       "      <td>KNITTED UNION FLAG HOT WATER BOTTLE</td>\n",
       "      <td>4</td>\n",
       "      <td>2011-03-01 08:30:00</td>\n",
       "      <td>3.75</td>\n",
       "      <td>14620.0</td>\n",
       "      <td>United Kingdom</td>\n",
       "      <td>2011</td>\n",
       "      <td>3</td>\n",
       "      <td>1</td>\n",
       "      <td>8</td>\n",
       "      <td>201103</td>\n",
       "      <td>15.00</td>\n",
       "      <td>2011-03-01</td>\n",
       "    </tr>\n",
       "  </tbody>\n",
       "</table>\n",
       "</div>"
      ],
      "text/plain": [
       "   index InvoiceNo StockCode                          Description  Quantity  \\\n",
       "0  97393    545220     21955    DOORMAT UNION JACK GUNS AND ROSES         2   \n",
       "1  97394    545220     48194                       DOORMAT HEARTS         2   \n",
       "2  97395    545220     22556       PLASTERS IN TIN CIRCUS PARADE         12   \n",
       "3  97396    545220     22139     RETROSPOT TEA SET CERAMIC 11 PC          3   \n",
       "4  97397    545220    84029G  KNITTED UNION FLAG HOT WATER BOTTLE         4   \n",
       "\n",
       "          InvoiceDate  UnitPrice  CustomerID         Country  Invoice_year  \\\n",
       "0 2011-03-01 08:30:00       7.95     14620.0  United Kingdom          2011   \n",
       "1 2011-03-01 08:30:00       7.95     14620.0  United Kingdom          2011   \n",
       "2 2011-03-01 08:30:00       1.65     14620.0  United Kingdom          2011   \n",
       "3 2011-03-01 08:30:00       4.95     14620.0  United Kingdom          2011   \n",
       "4 2011-03-01 08:30:00       3.75     14620.0  United Kingdom          2011   \n",
       "\n",
       "   Invoice_month  Invoice_date  Invoice_hour  Invoice_YearMonth  Revenue  \\\n",
       "0              3             1             8             201103    15.90   \n",
       "1              3             1             8             201103    15.90   \n",
       "2              3             1             8             201103    19.80   \n",
       "3              3             1             8             201103    14.85   \n",
       "4              3             1             8             201103    15.00   \n",
       "\n",
       "  Invoiceonlydate  \n",
       "0      2011-03-01  \n",
       "1      2011-03-01  \n",
       "2      2011-03-01  \n",
       "3      2011-03-01  \n",
       "4      2011-03-01  "
      ]
     },
     "execution_count": 166,
     "metadata": {},
     "output_type": "execute_result"
    }
   ],
   "source": [
    "df_3m.head()"
   ]
  },
  {
   "cell_type": "code",
   "execution_count": 168,
   "metadata": {},
   "outputs": [
    {
     "data": {
      "text/html": [
       "<div>\n",
       "<style scoped>\n",
       "    .dataframe tbody tr th:only-of-type {\n",
       "        vertical-align: middle;\n",
       "    }\n",
       "\n",
       "    .dataframe tbody tr th {\n",
       "        vertical-align: top;\n",
       "    }\n",
       "\n",
       "    .dataframe thead th {\n",
       "        text-align: right;\n",
       "    }\n",
       "</style>\n",
       "<table border=\"1\" class=\"dataframe\">\n",
       "  <thead>\n",
       "    <tr style=\"text-align: right;\">\n",
       "      <th></th>\n",
       "      <th>CustomerID</th>\n",
       "      <th>Revenue</th>\n",
       "    </tr>\n",
       "  </thead>\n",
       "  <tbody>\n",
       "    <tr>\n",
       "      <th>0</th>\n",
       "      <td>12747.0</td>\n",
       "      <td>1082.09</td>\n",
       "    </tr>\n",
       "    <tr>\n",
       "      <th>1</th>\n",
       "      <td>12748.0</td>\n",
       "      <td>4336.73</td>\n",
       "    </tr>\n",
       "    <tr>\n",
       "      <th>2</th>\n",
       "      <td>12749.0</td>\n",
       "      <td>782.10</td>\n",
       "    </tr>\n",
       "    <tr>\n",
       "      <th>3</th>\n",
       "      <td>12821.0</td>\n",
       "      <td>92.72</td>\n",
       "    </tr>\n",
       "    <tr>\n",
       "      <th>4</th>\n",
       "      <td>12823.0</td>\n",
       "      <td>459.00</td>\n",
       "    </tr>\n",
       "    <tr>\n",
       "      <th>...</th>\n",
       "      <td>...</td>\n",
       "      <td>...</td>\n",
       "    </tr>\n",
       "    <tr>\n",
       "      <th>1835</th>\n",
       "      <td>18272.0</td>\n",
       "      <td>966.74</td>\n",
       "    </tr>\n",
       "    <tr>\n",
       "      <th>1836</th>\n",
       "      <td>18273.0</td>\n",
       "      <td>51.00</td>\n",
       "    </tr>\n",
       "    <tr>\n",
       "      <th>1837</th>\n",
       "      <td>18280.0</td>\n",
       "      <td>180.60</td>\n",
       "    </tr>\n",
       "    <tr>\n",
       "      <th>1838</th>\n",
       "      <td>18283.0</td>\n",
       "      <td>217.15</td>\n",
       "    </tr>\n",
       "    <tr>\n",
       "      <th>1839</th>\n",
       "      <td>18287.0</td>\n",
       "      <td>765.28</td>\n",
       "    </tr>\n",
       "  </tbody>\n",
       "</table>\n",
       "<p>1840 rows × 2 columns</p>\n",
       "</div>"
      ],
      "text/plain": [
       "      CustomerID  Revenue\n",
       "0        12747.0  1082.09\n",
       "1        12748.0  4336.73\n",
       "2        12749.0   782.10\n",
       "3        12821.0    92.72\n",
       "4        12823.0   459.00\n",
       "...          ...      ...\n",
       "1835     18272.0   966.74\n",
       "1836     18273.0    51.00\n",
       "1837     18280.0   180.60\n",
       "1838     18283.0   217.15\n",
       "1839     18287.0   765.28\n",
       "\n",
       "[1840 rows x 2 columns]"
      ]
     },
     "execution_count": 168,
     "metadata": {},
     "output_type": "execute_result"
    }
   ],
   "source": [
    "df_Revenue3m = df_3m.groupby('CustomerID')['Revenue'].sum().reset_index()\n",
    "df_Revenue3m"
   ]
  },
  {
   "cell_type": "code",
   "execution_count": 169,
   "metadata": {},
   "outputs": [
    {
     "data": {
      "text/html": [
       "<div>\n",
       "<style scoped>\n",
       "    .dataframe tbody tr th:only-of-type {\n",
       "        vertical-align: middle;\n",
       "    }\n",
       "\n",
       "    .dataframe tbody tr th {\n",
       "        vertical-align: top;\n",
       "    }\n",
       "\n",
       "    .dataframe thead th {\n",
       "        text-align: right;\n",
       "    }\n",
       "</style>\n",
       "<table border=\"1\" class=\"dataframe\">\n",
       "  <thead>\n",
       "    <tr style=\"text-align: right;\">\n",
       "      <th></th>\n",
       "      <th>CustomerID</th>\n",
       "      <th>MaxPurchaseDate</th>\n",
       "      <th>Recency</th>\n",
       "      <th>RencencyCLuster</th>\n",
       "      <th>Frequency</th>\n",
       "      <th>FrequencyCluster</th>\n",
       "      <th>Revenue</th>\n",
       "    </tr>\n",
       "  </thead>\n",
       "  <tbody>\n",
       "    <tr>\n",
       "      <th>0</th>\n",
       "      <td>14620.0</td>\n",
       "      <td>2011-05-19</td>\n",
       "      <td>12</td>\n",
       "      <td>3</td>\n",
       "      <td>30</td>\n",
       "      <td>0</td>\n",
       "      <td>393.28</td>\n",
       "    </tr>\n",
       "    <tr>\n",
       "      <th>1</th>\n",
       "      <td>18075.0</td>\n",
       "      <td>2011-05-19</td>\n",
       "      <td>12</td>\n",
       "      <td>3</td>\n",
       "      <td>35</td>\n",
       "      <td>0</td>\n",
       "      <td>638.12</td>\n",
       "    </tr>\n",
       "    <tr>\n",
       "      <th>2</th>\n",
       "      <td>15660.0</td>\n",
       "      <td>2011-05-27</td>\n",
       "      <td>4</td>\n",
       "      <td>3</td>\n",
       "      <td>34</td>\n",
       "      <td>0</td>\n",
       "      <td>484.62</td>\n",
       "    </tr>\n",
       "    <tr>\n",
       "      <th>3</th>\n",
       "      <td>14676.0</td>\n",
       "      <td>2011-05-16</td>\n",
       "      <td>15</td>\n",
       "      <td>3</td>\n",
       "      <td>18</td>\n",
       "      <td>0</td>\n",
       "      <td>1144.77</td>\n",
       "    </tr>\n",
       "    <tr>\n",
       "      <th>4</th>\n",
       "      <td>12747.0</td>\n",
       "      <td>2011-05-25</td>\n",
       "      <td>6</td>\n",
       "      <td>3</td>\n",
       "      <td>35</td>\n",
       "      <td>0</td>\n",
       "      <td>1082.09</td>\n",
       "    </tr>\n",
       "    <tr>\n",
       "      <th>...</th>\n",
       "      <td>...</td>\n",
       "      <td>...</td>\n",
       "      <td>...</td>\n",
       "      <td>...</td>\n",
       "      <td>...</td>\n",
       "      <td>...</td>\n",
       "      <td>...</td>\n",
       "    </tr>\n",
       "    <tr>\n",
       "      <th>1835</th>\n",
       "      <td>15039.0</td>\n",
       "      <td>2011-05-25</td>\n",
       "      <td>6</td>\n",
       "      <td>3</td>\n",
       "      <td>436</td>\n",
       "      <td>3</td>\n",
       "      <td>6741.59</td>\n",
       "    </tr>\n",
       "    <tr>\n",
       "      <th>1836</th>\n",
       "      <td>13089.0</td>\n",
       "      <td>2011-05-26</td>\n",
       "      <td>5</td>\n",
       "      <td>3</td>\n",
       "      <td>452</td>\n",
       "      <td>3</td>\n",
       "      <td>11757.87</td>\n",
       "    </tr>\n",
       "    <tr>\n",
       "      <th>1837</th>\n",
       "      <td>12748.0</td>\n",
       "      <td>2011-05-31</td>\n",
       "      <td>0</td>\n",
       "      <td>3</td>\n",
       "      <td>582</td>\n",
       "      <td>3</td>\n",
       "      <td>4336.73</td>\n",
       "    </tr>\n",
       "    <tr>\n",
       "      <th>1838</th>\n",
       "      <td>14769.0</td>\n",
       "      <td>2011-05-22</td>\n",
       "      <td>9</td>\n",
       "      <td>3</td>\n",
       "      <td>558</td>\n",
       "      <td>3</td>\n",
       "      <td>4966.36</td>\n",
       "    </tr>\n",
       "    <tr>\n",
       "      <th>1839</th>\n",
       "      <td>14298.0</td>\n",
       "      <td>2011-05-04</td>\n",
       "      <td>27</td>\n",
       "      <td>2</td>\n",
       "      <td>433</td>\n",
       "      <td>3</td>\n",
       "      <td>14984.73</td>\n",
       "    </tr>\n",
       "  </tbody>\n",
       "</table>\n",
       "<p>1840 rows × 7 columns</p>\n",
       "</div>"
      ],
      "text/plain": [
       "      CustomerID MaxPurchaseDate  Recency  RencencyCLuster  Frequency  \\\n",
       "0        14620.0      2011-05-19       12                3         30   \n",
       "1        18075.0      2011-05-19       12                3         35   \n",
       "2        15660.0      2011-05-27        4                3         34   \n",
       "3        14676.0      2011-05-16       15                3         18   \n",
       "4        12747.0      2011-05-25        6                3         35   \n",
       "...          ...             ...      ...              ...        ...   \n",
       "1835     15039.0      2011-05-25        6                3        436   \n",
       "1836     13089.0      2011-05-26        5                3        452   \n",
       "1837     12748.0      2011-05-31        0                3        582   \n",
       "1838     14769.0      2011-05-22        9                3        558   \n",
       "1839     14298.0      2011-05-04       27                2        433   \n",
       "\n",
       "      FrequencyCluster   Revenue  \n",
       "0                    0    393.28  \n",
       "1                    0    638.12  \n",
       "2                    0    484.62  \n",
       "3                    0   1144.77  \n",
       "4                    0   1082.09  \n",
       "...                ...       ...  \n",
       "1835                 3   6741.59  \n",
       "1836                 3  11757.87  \n",
       "1837                 3   4336.73  \n",
       "1838                 3   4966.36  \n",
       "1839                 3  14984.73  \n",
       "\n",
       "[1840 rows x 7 columns]"
      ]
     },
     "execution_count": 169,
     "metadata": {},
     "output_type": "execute_result"
    }
   ],
   "source": [
    "df_user = df_user.merge(df_Revenue3m,on=\"CustomerID\",how= 'inner')\n",
    "df_user"
   ]
  },
  {
   "cell_type": "code",
   "execution_count": 170,
   "metadata": {},
   "outputs": [
    {
     "data": {
      "application/vnd.plotly.v1+json": {
       "config": {
        "plotlyServerURL": "https://plot.ly"
       },
       "data": [
        {
         "alignmentgroup": "True",
         "bingroup": "x",
         "hovertemplate": "Revenue=%{x}<br>count=%{y}<extra></extra>",
         "legendgroup": "",
         "marker": {
          "color": "#636efa",
          "pattern": {
           "shape": ""
          }
         },
         "name": "",
         "offsetgroup": "",
         "orientation": "v",
         "showlegend": false,
         "type": "histogram",
         "x": [
          393.28000000000003,
          638.12,
          484.62,
          1144.77,
          1082.09,
          562.28,
          670.17,
          6400.8,
          481.44000000000005,
          626.38,
          1865.12,
          10578.720000000001,
          5022.17,
          313.34999999999997,
          210.32000000000002,
          303.58,
          190.78,
          356.11,
          17700.64,
          426.51000000000005,
          293.6399999999999,
          972.98,
          1818.4299999999998,
          2890.34,
          1520.78,
          593.33,
          388.1,
          290.23,
          581.02,
          290.26,
          3268.25,
          418.34000000000003,
          108.65,
          1728.8400000000001,
          269.31,
          785.74,
          373.81,
          29.58,
          890.6400000000001,
          966.86,
          1025.64,
          740.73,
          2047.3,
          848.3100000000001,
          1431.86,
          697.42,
          485.96999999999997,
          1409.64,
          428.23,
          781.86,
          1330,
          599.9,
          6583.8,
          2159.16,
          1485.8,
          2315.3599999999997,
          260.4,
          3321.6400000000003,
          422.09000000000003,
          205.51,
          548.9,
          1934.6,
          1503.5,
          489.87,
          418.95,
          281.5,
          620.3000000000001,
          466.53999999999996,
          651.21,
          902.0400000000001,
          696.1800000000001,
          323.22,
          643.65,
          417.85,
          352.58000000000004,
          311.4,
          184.51,
          601.8,
          614.28,
          1257.46,
          335.35,
          390.87,
          1557.7600000000002,
          593.73,
          -458.29999999999995,
          875.84,
          608.77,
          373.18,
          789.48,
          277.64,
          680.5799999999999,
          962.7,
          160,
          318.79,
          213.64000000000001,
          558.9000000000001,
          715.91,
          380.66,
          373.29,
          455.88,
          873.24,
          2655.54,
          254.4,
          510.47,
          790.1,
          1142.5,
          320.92,
          271.98,
          1032.9,
          1154.3999999999999,
          466.98,
          1664.52,
          370.76,
          1020.53,
          602.97,
          749.79,
          665.72,
          639.92,
          677.83,
          850.13,
          471.15000000000003,
          255.12,
          411.47,
          291,
          338.74,
          237.62,
          462.1,
          219.43,
          163.20000000000002,
          659.13,
          847.73,
          622.26,
          439.15,
          226.10999999999999,
          272.3,
          404.35,
          429.57,
          557.3,
          449.04,
          402.6,
          3.552713678800501e-15,
          251.55,
          248.42,
          678.54,
          432.14,
          136.65,
          632.87,
          255.61,
          333.11,
          746.8000000000001,
          694.08,
          242.24,
          62,
          251.01999999999998,
          289.36,
          592.88,
          1117.2,
          633.71,
          288,
          248.75,
          127.45,
          112.8,
          120.27,
          125.8,
          212.4,
          305.45000000000005,
          1028.56,
          119.45,
          277.81,
          63.440000000000005,
          284.1,
          77.75,
          72.4,
          208.2,
          448.34,
          299.23,
          132,
          463.38,
          369.2,
          195,
          207.66,
          177,
          655.24,
          99.84,
          357.98,
          125.28,
          139.79999999999998,
          563.61,
          551.03,
          564.96,
          135.35,
          454.93,
          155.93,
          396.92,
          371.84,
          439.8,
          486.99,
          399.21000000000004,
          2.9,
          157.9,
          114.7,
          1384.25,
          699.64,
          224.62,
          115.92,
          464.32,
          213.05,
          236,
          178.35,
          479.65,
          305.36,
          127.75,
          294.73,
          390.91,
          211.55,
          414.77,
          171.45,
          139.15,
          155.9,
          181.1,
          87.7,
          448.83,
          136.78,
          189.60000000000002,
          848.78,
          267.55,
          295.16,
          314.42,
          397.40000000000003,
          323.95,
          882.6,
          349.55,
          125.43,
          525.92,
          110.74,
          211.73000000000002,
          373.72,
          59.8,
          1692,
          131.7,
          430.35,
          -7.5,
          814.95,
          94.39999999999999,
          770.5,
          172.29000000000002,
          578.5500000000001,
          765.28,
          227.57999999999998,
          86.5,
          316.95,
          145.9,
          257.7,
          152.34,
          306.13,
          492.26,
          20.8,
          792.21,
          243.22,
          180.94,
          147.86,
          143.1,
          399.15,
          188.16,
          326.4,
          138.2,
          318.55,
          262.96,
          -8.95,
          578.6500000000001,
          306.53000000000003,
          339.59999999999997,
          249.55,
          595.29,
          339.7,
          415.28000000000003,
          37.45,
          122.38,
          327.97,
          159.56,
          113.73,
          135.93,
          -17,
          157.25,
          525.36,
          145.04000000000002,
          83.28,
          611.85,
          179,
          172.24,
          480.96,
          278.63,
          188.89000000000001,
          144.8,
          137.77,
          304.3,
          271.85,
          103.21000000000001,
          426.43,
          370.98,
          241.08,
          388.18,
          354.45,
          134.04,
          3096,
          128.33,
          559.87,
          191.4,
          579.97,
          440.99,
          207.50000000000003,
          120.7,
          314.1,
          222.05,
          308.03999999999996,
          207.15,
          185.22000000000003,
          9.2,
          129.32,
          139.35,
          457.34,
          228.8,
          84.72,
          113,
          155,
          309.54,
          457.81,
          413.95,
          1731.42,
          361.4,
          317.58,
          442.83,
          253.5,
          495.77,
          278.86,
          677.23,
          911.48,
          251.44,
          490.7,
          479.94000000000005,
          236.3,
          888.09,
          134.16,
          243.71999999999997,
          1250,
          464.61,
          686.64,
          199.61,
          568.35,
          549.68,
          218.8,
          651.83,
          860.08,
          454.59000000000003,
          945.6,
          275.4,
          1641.8,
          596.85,
          248.83,
          610.59,
          477.09999999999997,
          289.92,
          640.8,
          607.65,
          1175.6,
          260.70000000000005,
          221,
          1059.3600000000001,
          686.5,
          960,
          365.7,
          418.65,
          1266.3,
          643.09,
          1394.08,
          285.48,
          1170.02,
          353.15999999999997,
          336.13,
          501.7,
          577.32,
          528.45,
          764.98,
          313.77,
          431.33,
          1352.2,
          1998,
          21.27,
          1741.78,
          1611,
          454.90000000000003,
          444.71,
          926.51,
          368.64000000000004,
          96.64,
          458.86,
          789,
          476.37,
          229.71,
          173.1,
          218.7,
          239.45000000000002,
          608.65,
          458.49,
          1463,
          451.65000000000003,
          173.4,
          414.37,
          1272.48,
          471.15,
          559.69,
          427.94,
          268.15,
          424.62,
          0,
          534.46,
          516.24,
          569.4,
          300.07,
          0,
          205.7,
          413.46,
          339.93,
          187.04999999999998,
          884.4,
          396.8,
          348.33000000000004,
          147.6,
          111.76,
          162,
          297.78000000000003,
          277.69,
          122.39999999999999,
          167.92,
          201.19,
          203.95,
          506.38,
          334.95,
          93.35,
          145.91,
          318.3,
          303.62,
          226.85,
          259.45,
          160.95,
          654.6,
          112.32,
          430.38,
          232.65,
          308.32000000000005,
          112.25,
          440,
          331.18,
          -143.7,
          253.57999999999998,
          435.95,
          383.45,
          153.86,
          53.1,
          810.56,
          134.8,
          316.12,
          288.6,
          287.02,
          1716.27,
          204.00000000000003,
          342.15000000000003,
          63.910000000000004,
          309.35,
          303.61,
          275.93,
          76.65,
          306.36,
          424.42,
          555.85,
          325.02,
          319.74,
          397.68,
          172.77,
          364.18,
          159.20000000000002,
          75.66,
          203.86999999999998,
          240.4,
          114.04,
          1032.46,
          278.4,
          227.65,
          313.4,
          179,
          108.95,
          296.88,
          134.7,
          186.86,
          252.06,
          116.95,
          110.38,
          15,
          425.4,
          208.36,
          185.39999999999998,
          281.66,
          239.52,
          265.2,
          68,
          188.60999999999999,
          138.85,
          400.3,
          67.95,
          143.45999999999998,
          365.83,
          186.9,
          353.06,
          76.32000000000001,
          300.4,
          404.40000000000003,
          261.36,
          59.9,
          570.04,
          93.75,
          1128.6,
          127.38,
          430.46000000000004,
          173.12,
          160.86,
          315.66,
          90.12,
          304.21,
          199.85000000000002,
          251.75,
          187.16,
          480.46000000000004,
          265.75,
          243.72,
          280.38,
          312.4,
          141.85999999999999,
          302.44,
          444.3,
          366.47,
          367.52,
          302.4,
          328.45,
          318.15999999999997,
          214.5,
          90.6,
          59.050000000000004,
          239.4,
          362.9,
          272.46,
          109.05,
          111.15,
          109.13000000000001,
          251.6,
          92.72,
          300.29999999999995,
          71.82,
          330,
          172.95,
          344.86,
          319.12,
          137.9,
          313.93,
          37.8,
          104,
          413.85,
          370.79999999999995,
          298.88,
          311.3,
          215.65,
          361.32,
          439.6,
          358.2,
          208.56,
          217.81,
          386.37,
          572.8100000000001,
          578.48,
          431.6,
          348.15000000000003,
          715.4999999999999,
          326.19,
          156.02,
          56.65,
          300.71,
          102.02,
          310.56,
          738.6,
          501.38,
          466.12,
          328.15000000000003,
          393.95,
          455.18,
          157.54000000000002,
          348.26,
          101.4,
          148.22,
          381.6,
          234.47,
          214.5,
          428.62,
          317.59999999999997,
          261.97,
          582.59,
          304.8,
          101.76,
          720,
          519.68,
          306,
          34,
          79.2,
          133.25,
          109.5,
          204.5,
          489,
          232.14999999999998,
          -28.5,
          133.11,
          189.95000000000002,
          204,
          194.55,
          162.3,
          312.38,
          134.97,
          488.41,
          848.05,
          388.3,
          85,
          337.1,
          110.38000000000001,
          150.83,
          306.7,
          374,
          207.50000000000003,
          98.37,
          148.54999999999998,
          262.54999999999995,
          -9.95,
          -10.25,
          -21.2,
          -1.25,
          436.68,
          137.1,
          306.94,
          222.65,
          -76.3,
          348.2,
          76.1,
          -2.95,
          225.9,
          594.75,
          706.9,
          124.10000000000001,
          122.7,
          211.35,
          161.5,
          137.49,
          378.21000000000004,
          222.99,
          218.06,
          332.4,
          240.68,
          38,
          96.8,
          119.31,
          50.8,
          345.68,
          45,
          310.77,
          164.4,
          -53.1,
          346.1,
          137.9,
          136.76999999999998,
          217.2,
          142.28,
          159.3,
          180.60000000000002,
          75.6,
          328.8,
          318.24,
          117.55,
          -8.5,
          -25.5,
          -4.35,
          -34.8,
          162.7,
          134.9,
          149.64,
          269.7,
          -11.899999999999999,
          197,
          300.36,
          325.1,
          391.52,
          123.35,
          108.5,
          328.37,
          246.51,
          17.700000000000003,
          118.5,
          240.10000000000002,
          588.6700000000001,
          148.63,
          298,
          208.41,
          380.5,
          342.58,
          188.64,
          122.53999999999999,
          251.52,
          358.5,
          337.5,
          232.6,
          74.56,
          298.5,
          223.95000000000002,
          660,
          333.08,
          302.27,
          789.9,
          101.34,
          258.7,
          89.7,
          268.58,
          93.18,
          166.5,
          182.7,
          314.96,
          310,
          191.39999999999998,
          57.45,
          10,
          121.17000000000002,
          157.65,
          1145.6,
          108.21000000000001,
          -1.9000000000000012,
          198.6,
          1919.04,
          183.25,
          157.56,
          252.54,
          142,
          126.7,
          289,
          590,
          547.51,
          118.05,
          -3.4,
          251.56,
          343.62,
          422.53999999999996,
          170.75,
          300,
          74.2,
          138.28,
          5.1,
          501.25,
          -29.95,
          -10.95,
          316.40000000000003,
          1829.04,
          369.9,
          300.19,
          422.43,
          306.64,
          439.03,
          99,
          704.5,
          370.48,
          142.5,
          511.8,
          152.76,
          398.97999999999996,
          71.4,
          62.85,
          333.74,
          111.96,
          -19.9,
          -555.9,
          914.9300000000001,
          676.2,
          251.51999999999998,
          142.4,
          401.31,
          223,
          177.15,
          409.98,
          166.8,
          183.6,
          326.5,
          732.63,
          152.55,
          530.4,
          141.41,
          234.24,
          118.75,
          174.6,
          197.72,
          344.90000000000003,
          416.3,
          211.5,
          330.5,
          163.25,
          138.68,
          87.8,
          172.9,
          320.62,
          267.18,
          113.5,
          222.9,
          289,
          203.4,
          300.52,
          922.1,
          198.8,
          409.1,
          158.95000000000002,
          298.11,
          169.73000000000002,
          188.73,
          265.63,
          15,
          200.29,
          110.65,
          -6.3,
          131.26,
          114.56,
          448.65,
          358.1,
          517.55,
          365.36,
          215.05,
          314.6,
          156.3,
          512.13,
          292.47,
          170.94,
          216.95000000000002,
          25.5,
          329.56,
          327.25,
          99.15,
          133.49,
          207.79999999999998,
          77.3,
          259.84,
          285.58,
          396.87,
          163.3,
          495,
          291.84000000000003,
          307.92,
          162.65,
          147,
          358.90000000000003,
          227.32,
          333,
          556.9399999999999,
          251.21,
          95.75999999999999,
          154.95,
          231.89999999999998,
          187.2,
          335.32,
          40.5,
          409.57,
          361.81,
          307.5,
          256.78,
          171.8,
          474.05,
          194.92000000000002,
          410.53,
          161.89,
          633.6,
          324.70000000000005,
          343.03000000000003,
          51,
          194.05,
          218.34,
          215.7,
          251.56,
          329.44,
          588,
          223.9,
          148.8,
          88.2,
          137.6,
          174.8,
          135.09,
          369.01,
          433.9,
          1267.5,
          106.5,
          206.13,
          1693.5,
          119.55,
          166.79,
          324.15,
          259.39000000000004,
          285.25,
          358.27,
          416.64,
          417.38,
          1118.39,
          632.24,
          881.0300000000001,
          389.8,
          2298.75,
          465.3,
          230.78,
          394.90000000000003,
          1286.55,
          758.35,
          463.79,
          530.11,
          471.57,
          351.34999999999997,
          440.7,
          594.6800000000001,
          749.67,
          573.34,
          595.4300000000001,
          2400,
          1315.4,
          67.75,
          1041.67,
          705.6400000000001,
          204.41,
          593.99,
          344.27,
          379.45,
          809.01,
          411.2,
          149.57999999999998,
          286.9,
          213.3,
          445.13,
          271.63,
          305.54,
          2110.62,
          356.84000000000003,
          277.07,
          108.2,
          371.83000000000004,
          237.65,
          113.30000000000001,
          346.6,
          432.1,
          81.6,
          315,
          459,
          56.4,
          662.3,
          481.2,
          536,
          238.79999999999998,
          480.26,
          383.34,
          1460.24,
          583.89,
          331.80000000000007,
          264.65,
          132.09,
          645.59,
          519.96,
          760.18,
          229.33,
          141.85,
          378.3,
          307.53,
          152.16,
          125.65,
          61.10000000000001,
          118.25,
          113.12,
          473.38,
          106.81,
          31.770000000000003,
          216.12,
          58.49,
          198.2,
          474.62,
          111.6,
          226.85,
          102,
          120.9,
          244.79,
          364.8,
          140.14,
          257.23,
          151.5,
          183.46,
          307.59999999999997,
          216.75,
          85,
          417.95,
          47.7,
          490.4,
          444.75,
          312.58,
          169.5,
          505.2,
          37.4,
          136.8,
          713.8,
          244.5,
          127.84,
          280.56,
          273.14,
          535.34,
          183.4,
          432.48,
          483.65,
          375.45,
          304.25,
          12.75,
          294.3,
          160.57,
          174.45999999999998,
          463.95,
          336.96,
          354.29,
          594,
          346.5,
          295.07,
          297.94,
          374.57,
          282.88,
          260.55,
          112.41,
          299.56,
          203.4,
          123.1,
          123.45,
          39.95,
          319.42,
          465.32,
          206.21,
          75.9,
          72.9,
          127.74000000000001,
          175.2,
          376.85,
          301.82,
          179.30999999999997,
          54.519999999999996,
          305.95000000000005,
          91.8,
          228.84,
          244.5,
          160.12,
          168.46,
          192.5,
          276.9,
          102.12,
          78.25999999999999,
          119.35,
          379.51,
          300.25,
          487.51,
          449.64,
          239,
          266.4,
          137.72000000000003,
          310.05,
          463.75,
          129.45,
          196.8,
          117.6,
          174.02,
          210.64999999999998,
          235.08,
          115.7,
          603.27,
          104.9,
          276.48,
          110.97,
          180.4,
          108.42,
          239.49,
          112.55000000000001,
          102.6,
          511.32,
          225.61,
          514.9300000000001,
          185.65,
          158.4,
          469.28000000000003,
          284.44000000000005,
          841.4999999999999,
          289.90999999999997,
          377.2,
          284.35,
          36.2,
          165.71,
          331.58000000000004,
          166.85,
          118.45,
          263.41,
          416.86,
          383.65,
          316.2,
          356.75,
          387.7,
          94.2,
          199.38,
          136.04,
          -4.95,
          246.04,
          88.94999999999999,
          280.46999999999997,
          330.62,
          -7.95,
          357.65,
          313.8,
          293.96,
          112.75,
          259.79,
          123.2,
          193.62,
          350.75,
          -15.05,
          429.6,
          334.2,
          240,
          489.75,
          186.88,
          126.05000000000001,
          185.04999999999998,
          98.8,
          229.24,
          1738.24,
          505.57,
          349.25,
          387.29,
          122.83000000000001,
          56.86,
          434.26,
          208.03,
          228.42,
          205.8,
          162.23000000000002,
          896.6700000000001,
          390.6,
          328.15999999999997,
          238.1,
          116.00999999999999,
          579,
          127.15,
          300.25,
          30.599999999999998,
          146,
          206.29000000000002,
          286.72,
          81.4,
          1612.83,
          462.31,
          168.4,
          328.15000000000003,
          232.48000000000002,
          358,
          899.58,
          314.84000000000003,
          314.45,
          143.69,
          295.82,
          302.85,
          140.55,
          175.27,
          303.49,
          459.18,
          118.85,
          338.95,
          406.48,
          -10.95,
          225.72,
          151.85,
          394.83000000000004,
          304.04999999999995,
          -1462.5,
          252.24,
          178.41,
          192.68,
          306.05,
          695.3299999999999,
          408,
          99.45,
          320.58,
          424.64,
          263.66,
          480.27,
          347.49,
          142.2,
          293.92,
          150.3,
          447.52,
          101.19,
          169.35999999999999,
          409.40000000000003,
          151.3,
          304.31,
          157.9,
          113.5,
          112.97999999999999,
          308.55,
          157.2,
          234.25,
          439.33,
          232.9,
          454.24,
          267.03,
          212.5,
          307.46,
          548.4300000000001,
          -8.5,
          141.49,
          1007.9,
          284.76,
          397.20000000000005,
          572.25,
          121.11,
          335,
          257.89,
          302.55,
          139.35,
          335.5,
          597.8199999999999,
          207,
          225.15,
          118.7,
          184.64,
          173.46,
          126.32,
          476.8,
          481.4,
          1448.21,
          1480.95,
          2962.65,
          1439.02,
          808.96,
          947.55,
          1296.31,
          3729.42,
          1254.18,
          3823.8,
          263.96,
          1104.41,
          1264.15,
          1379.15,
          1143.27,
          1027.44,
          3252.04,
          872.71,
          1829.69,
          1779.43,
          860.39,
          26113.81,
          1984.5900000000001,
          1579.92,
          1553.71,
          887.04,
          2267.1400000000003,
          4184.43,
          551.92,
          1056.27,
          1109.67,
          1029.05,
          838.15,
          1988.83,
          601.03,
          707.69,
          5434.8,
          2740.1,
          1082.4,
          2574.07,
          6638.67,
          1503.19,
          1134.74,
          1110.34,
          1973.12,
          1177.14,
          1114.39,
          1273.22,
          885.4,
          35085.479999999996,
          1069.5,
          1406.28,
          2389.45,
          993.04,
          2734.74,
          1654.42,
          992.91,
          1855.86,
          1939.68,
          1320.4,
          3655.2000000000003,
          920.94,
          1172.84,
          1306.19,
          634.41,
          7213.03,
          7566.2,
          1721.95,
          1023.17,
          1398.35,
          750.99,
          877.24,
          684.93,
          1320.46,
          1678.85,
          1038.32,
          536.0400000000001,
          1957.85,
          339.89,
          2061.8,
          1430.63,
          718.52,
          399.1,
          1216.63,
          837.09,
          3462.24,
          776.23,
          15263.96,
          500.69,
          1238.18,
          1144.64,
          1132.35,
          224.18,
          1458.35,
          1127.45,
          342.51,
          732.45,
          1253.73,
          1405.34,
          341.13,
          707.53,
          1800.89,
          1582.81,
          856.6700000000001,
          2131.72,
          728.9,
          1206.94,
          522.16,
          1441.1299999999999,
          355.34000000000003,
          823.13,
          970.49,
          1483.81,
          1525.09,
          705.89,
          686.4,
          1795.6200000000001,
          818.74,
          1665.61,
          6226.81,
          1161.06,
          974.6800000000001,
          1349.43,
          3490.33,
          392.6,
          1500.77,
          1324.48,
          1673.8,
          1210.27,
          673.65,
          958.39,
          1107.39,
          1573.44,
          840.18,
          1763.04,
          981.13,
          1159.27,
          946.46,
          590.49,
          495.39,
          1464.8500000000001,
          239.71,
          724.67,
          5837.74,
          1811.49,
          1595.2,
          918.82,
          687.83,
          1061.41,
          1055.62,
          267.16,
          1442.42,
          4045.77,
          2982.17,
          1088.42,
          531.76,
          1303.9099999999999,
          819.66,
          541.33,
          1888.74,
          1037.72,
          523.82,
          445.73,
          526.2,
          770,
          784.24,
          1556.17,
          600.28,
          3134.13,
          217.15,
          1093.65,
          435.3,
          689.99,
          782.1,
          194.79,
          710.42,
          1069.47,
          174.51,
          694.64,
          505.45,
          685.9300000000001,
          799.38,
          749.4300000000001,
          206.25,
          1223.24,
          968.5,
          600.07,
          1590.05,
          212.93,
          475.19,
          903.01,
          860.12,
          465.43,
          1444.14,
          1802.29,
          911.26,
          339.59,
          474.8,
          360,
          210.65,
          247.14000000000001,
          549.43,
          718.63,
          877.4,
          777.38,
          7969.99,
          4131.15,
          809.36,
          744.6600000000001,
          942.75,
          1073.43,
          1292.98,
          733.4399999999999,
          827.37,
          773.34,
          2544.12,
          2051.32,
          1029.02,
          1446.5,
          2322.17,
          548.34,
          791.65,
          387.95,
          1714.6100000000001,
          808.61,
          600.31,
          1581.8,
          309,
          1613.46,
          1226.6,
          4867.9,
          600.52,
          551.84,
          1310.3500000000001,
          1191.33,
          631.47,
          590.8000000000001,
          566.32,
          3007.2200000000003,
          943.22,
          2310.4,
          926.63,
          469.14,
          778.45,
          593.3,
          685.7900000000001,
          395.92,
          533.3,
          488.08,
          621.57,
          844.25,
          1688.02,
          886.26,
          372.07,
          627.06,
          390.16,
          320.77,
          961.36,
          1264.55,
          783.04,
          572,
          853.99,
          262.55,
          985.8100000000001,
          1551.8500000000001,
          535.5,
          637.26,
          677.0799999999999,
          637.12,
          502.73,
          291.75,
          831.1,
          888.35,
          1150.05,
          990.8399999999999,
          2745.43,
          511.29,
          620.11,
          367.53999999999996,
          396.26,
          249.12,
          843.95,
          724.03,
          966.74,
          610.59,
          786.57,
          1055.18,
          274.93,
          565.77,
          739.53,
          1205.07,
          1420.58,
          535.33,
          812.38,
          333.62,
          1644.92,
          629.11,
          712.91,
          876.46,
          285.37,
          577.96,
          358.38,
          1565.47,
          524.52,
          422.6,
          592.41,
          275.54,
          654.17,
          164.86,
          259.43,
          157.75,
          209.99,
          747.69,
          814.71,
          590.77,
          700.6,
          287.89,
          354.8,
          199.11,
          938.85,
          369.75,
          251.01999999999998,
          356.92,
          150.63,
          815.78,
          466.61,
          2044.3700000000001,
          250.22,
          977.77,
          722.41,
          584.22,
          101.17000000000007,
          334.54,
          589.01,
          416.32,
          560.35,
          373.2,
          251.18,
          297.16,
          460.94,
          414.7,
          272.05,
          1463.47,
          997.01,
          779.92,
          1193.88,
          126.02000000000001,
          508.45,
          1656.15,
          416.61,
          634.5,
          1120.93,
          3678.03,
          987.7,
          794.41,
          1675.91,
          704.33,
          296.88,
          177.59,
          221.19,
          254.73,
          309.46,
          627.2,
          146.64,
          340.75,
          377.64,
          114.85,
          793.65,
          266,
          280.57,
          691.53,
          247.25,
          103.72,
          687.15,
          200.16,
          284.23,
          237.07,
          366.02,
          270.15,
          265.02,
          776.23,
          1251.48,
          775.85,
          349.63,
          628.28,
          380.39,
          221.77,
          311.57,
          549.68,
          609.95,
          177.25,
          239.95999999999998,
          583.68,
          446.54,
          638.43,
          1136.8600000000001,
          921.27,
          502.13,
          910.9,
          1229.23,
          542.71,
          876.04,
          997.58,
          555.6,
          423.81,
          1124.88,
          845.32,
          787.65,
          293.67,
          1016.13,
          377.62,
          1562.59,
          742.3000000000001,
          1451.62,
          854.99,
          225.4,
          326.93,
          456.68,
          1115.06,
          710.67,
          966.86,
          582.58,
          1338.96,
          297.2,
          1700.4,
          283.71,
          242.55,
          384.45,
          465.37,
          297.17,
          836.79,
          1015.83,
          317.6,
          201.53,
          1317.8,
          297.4,
          903.01,
          543.21,
          375,
          223.46,
          853.97,
          625.5799999999999,
          305.63,
          553.13,
          303.04,
          191.06,
          276.88,
          254.96,
          768.83,
          110.8,
          451.29,
          281.01,
          212.12,
          262.69,
          613.03,
          1476.22,
          312.01,
          532,
          427.54,
          401.82,
          874.5500000000001,
          303.12,
          183.64,
          122.91,
          590.77,
          903.67,
          455.7,
          297.16,
          1345.62,
          1266.23,
          721.55,
          124.98,
          229.59,
          212.34,
          712.24,
          478.03000000000003,
          915.01,
          464.59000000000003,
          245.31,
          1253.51,
          2506.75,
          3019.2200000000003,
          10348.13,
          3026.56,
          1269.26,
          1091.29,
          746.95,
          1569.82,
          3403.01,
          3812.71,
          1178.95,
          1790.96,
          15570.47,
          1569.8,
          1931.47,
          1785.18,
          1758.43,
          1955.93,
          4118.81,
          5433.89,
          2215.01,
          6808.8,
          11105.2,
          1112.67,
          946.5,
          854.96,
          824.5,
          2695.07,
          1973.33,
          6224.17,
          726.98,
          976.8,
          958.87,
          1986.97,
          1311.42,
          1792.27,
          17307.53,
          1988.79,
          1791.35,
          1798.93,
          1626.29,
          2825.4700000000003,
          2272.76,
          1681.6,
          1621.55,
          1413.24,
          788.31,
          961.11,
          1654.63,
          1220.41,
          1020.92,
          572.15,
          599.07,
          2832.92,
          2052.75,
          827.28,
          2579.26,
          1154.53,
          1987.6200000000001,
          2226.5,
          1513.03,
          1054.83,
          857.51,
          1515.34,
          691.9,
          2834.13,
          644.21,
          987.1,
          722.53,
          2026.6299999999999,
          1453.46,
          3842.21,
          938.5600000000001,
          1819.83,
          2745.36,
          1204.37,
          1361.32,
          2353.61,
          753.51,
          1338.51,
          1191.19,
          951.59,
          624.28,
          476.15000000000003,
          655.76,
          1542.78,
          3122.9900000000002,
          582.08,
          1357.41,
          929,
          395.93,
          3246.091,
          1890.94,
          350.9,
          411.53,
          1281.37,
          722.48,
          918.83,
          423.19,
          458.87,
          2274.43,
          1065.88,
          1528.5,
          785.53,
          527.09,
          938.5,
          645.91,
          426.95,
          461.32,
          2050.08,
          391.9,
          489.05,
          16309.61,
          2033.78,
          2818.63,
          5985.21,
          3149.09,
          6741.59,
          11757.87,
          4336.73,
          4966.36,
          14984.73
         ],
         "xaxis": "x",
         "yaxis": "y"
        }
       ],
       "layout": {
        "barmode": "relative",
        "legend": {
         "tracegroupgap": 0
        },
        "template": {
         "data": {
          "bar": [
           {
            "error_x": {
             "color": "#2a3f5f"
            },
            "error_y": {
             "color": "#2a3f5f"
            },
            "marker": {
             "line": {
              "color": "#E5ECF6",
              "width": 0.5
             },
             "pattern": {
              "fillmode": "overlay",
              "size": 10,
              "solidity": 0.2
             }
            },
            "type": "bar"
           }
          ],
          "barpolar": [
           {
            "marker": {
             "line": {
              "color": "#E5ECF6",
              "width": 0.5
             },
             "pattern": {
              "fillmode": "overlay",
              "size": 10,
              "solidity": 0.2
             }
            },
            "type": "barpolar"
           }
          ],
          "carpet": [
           {
            "aaxis": {
             "endlinecolor": "#2a3f5f",
             "gridcolor": "white",
             "linecolor": "white",
             "minorgridcolor": "white",
             "startlinecolor": "#2a3f5f"
            },
            "baxis": {
             "endlinecolor": "#2a3f5f",
             "gridcolor": "white",
             "linecolor": "white",
             "minorgridcolor": "white",
             "startlinecolor": "#2a3f5f"
            },
            "type": "carpet"
           }
          ],
          "choropleth": [
           {
            "colorbar": {
             "outlinewidth": 0,
             "ticks": ""
            },
            "type": "choropleth"
           }
          ],
          "contour": [
           {
            "colorbar": {
             "outlinewidth": 0,
             "ticks": ""
            },
            "colorscale": [
             [
              0,
              "#0d0887"
             ],
             [
              0.1111111111111111,
              "#46039f"
             ],
             [
              0.2222222222222222,
              "#7201a8"
             ],
             [
              0.3333333333333333,
              "#9c179e"
             ],
             [
              0.4444444444444444,
              "#bd3786"
             ],
             [
              0.5555555555555556,
              "#d8576b"
             ],
             [
              0.6666666666666666,
              "#ed7953"
             ],
             [
              0.7777777777777778,
              "#fb9f3a"
             ],
             [
              0.8888888888888888,
              "#fdca26"
             ],
             [
              1,
              "#f0f921"
             ]
            ],
            "type": "contour"
           }
          ],
          "contourcarpet": [
           {
            "colorbar": {
             "outlinewidth": 0,
             "ticks": ""
            },
            "type": "contourcarpet"
           }
          ],
          "heatmap": [
           {
            "colorbar": {
             "outlinewidth": 0,
             "ticks": ""
            },
            "colorscale": [
             [
              0,
              "#0d0887"
             ],
             [
              0.1111111111111111,
              "#46039f"
             ],
             [
              0.2222222222222222,
              "#7201a8"
             ],
             [
              0.3333333333333333,
              "#9c179e"
             ],
             [
              0.4444444444444444,
              "#bd3786"
             ],
             [
              0.5555555555555556,
              "#d8576b"
             ],
             [
              0.6666666666666666,
              "#ed7953"
             ],
             [
              0.7777777777777778,
              "#fb9f3a"
             ],
             [
              0.8888888888888888,
              "#fdca26"
             ],
             [
              1,
              "#f0f921"
             ]
            ],
            "type": "heatmap"
           }
          ],
          "heatmapgl": [
           {
            "colorbar": {
             "outlinewidth": 0,
             "ticks": ""
            },
            "colorscale": [
             [
              0,
              "#0d0887"
             ],
             [
              0.1111111111111111,
              "#46039f"
             ],
             [
              0.2222222222222222,
              "#7201a8"
             ],
             [
              0.3333333333333333,
              "#9c179e"
             ],
             [
              0.4444444444444444,
              "#bd3786"
             ],
             [
              0.5555555555555556,
              "#d8576b"
             ],
             [
              0.6666666666666666,
              "#ed7953"
             ],
             [
              0.7777777777777778,
              "#fb9f3a"
             ],
             [
              0.8888888888888888,
              "#fdca26"
             ],
             [
              1,
              "#f0f921"
             ]
            ],
            "type": "heatmapgl"
           }
          ],
          "histogram": [
           {
            "marker": {
             "pattern": {
              "fillmode": "overlay",
              "size": 10,
              "solidity": 0.2
             }
            },
            "type": "histogram"
           }
          ],
          "histogram2d": [
           {
            "colorbar": {
             "outlinewidth": 0,
             "ticks": ""
            },
            "colorscale": [
             [
              0,
              "#0d0887"
             ],
             [
              0.1111111111111111,
              "#46039f"
             ],
             [
              0.2222222222222222,
              "#7201a8"
             ],
             [
              0.3333333333333333,
              "#9c179e"
             ],
             [
              0.4444444444444444,
              "#bd3786"
             ],
             [
              0.5555555555555556,
              "#d8576b"
             ],
             [
              0.6666666666666666,
              "#ed7953"
             ],
             [
              0.7777777777777778,
              "#fb9f3a"
             ],
             [
              0.8888888888888888,
              "#fdca26"
             ],
             [
              1,
              "#f0f921"
             ]
            ],
            "type": "histogram2d"
           }
          ],
          "histogram2dcontour": [
           {
            "colorbar": {
             "outlinewidth": 0,
             "ticks": ""
            },
            "colorscale": [
             [
              0,
              "#0d0887"
             ],
             [
              0.1111111111111111,
              "#46039f"
             ],
             [
              0.2222222222222222,
              "#7201a8"
             ],
             [
              0.3333333333333333,
              "#9c179e"
             ],
             [
              0.4444444444444444,
              "#bd3786"
             ],
             [
              0.5555555555555556,
              "#d8576b"
             ],
             [
              0.6666666666666666,
              "#ed7953"
             ],
             [
              0.7777777777777778,
              "#fb9f3a"
             ],
             [
              0.8888888888888888,
              "#fdca26"
             ],
             [
              1,
              "#f0f921"
             ]
            ],
            "type": "histogram2dcontour"
           }
          ],
          "mesh3d": [
           {
            "colorbar": {
             "outlinewidth": 0,
             "ticks": ""
            },
            "type": "mesh3d"
           }
          ],
          "parcoords": [
           {
            "line": {
             "colorbar": {
              "outlinewidth": 0,
              "ticks": ""
             }
            },
            "type": "parcoords"
           }
          ],
          "pie": [
           {
            "automargin": true,
            "type": "pie"
           }
          ],
          "scatter": [
           {
            "marker": {
             "colorbar": {
              "outlinewidth": 0,
              "ticks": ""
             }
            },
            "type": "scatter"
           }
          ],
          "scatter3d": [
           {
            "line": {
             "colorbar": {
              "outlinewidth": 0,
              "ticks": ""
             }
            },
            "marker": {
             "colorbar": {
              "outlinewidth": 0,
              "ticks": ""
             }
            },
            "type": "scatter3d"
           }
          ],
          "scattercarpet": [
           {
            "marker": {
             "colorbar": {
              "outlinewidth": 0,
              "ticks": ""
             }
            },
            "type": "scattercarpet"
           }
          ],
          "scattergeo": [
           {
            "marker": {
             "colorbar": {
              "outlinewidth": 0,
              "ticks": ""
             }
            },
            "type": "scattergeo"
           }
          ],
          "scattergl": [
           {
            "marker": {
             "colorbar": {
              "outlinewidth": 0,
              "ticks": ""
             }
            },
            "type": "scattergl"
           }
          ],
          "scattermapbox": [
           {
            "marker": {
             "colorbar": {
              "outlinewidth": 0,
              "ticks": ""
             }
            },
            "type": "scattermapbox"
           }
          ],
          "scatterpolar": [
           {
            "marker": {
             "colorbar": {
              "outlinewidth": 0,
              "ticks": ""
             }
            },
            "type": "scatterpolar"
           }
          ],
          "scatterpolargl": [
           {
            "marker": {
             "colorbar": {
              "outlinewidth": 0,
              "ticks": ""
             }
            },
            "type": "scatterpolargl"
           }
          ],
          "scatterternary": [
           {
            "marker": {
             "colorbar": {
              "outlinewidth": 0,
              "ticks": ""
             }
            },
            "type": "scatterternary"
           }
          ],
          "surface": [
           {
            "colorbar": {
             "outlinewidth": 0,
             "ticks": ""
            },
            "colorscale": [
             [
              0,
              "#0d0887"
             ],
             [
              0.1111111111111111,
              "#46039f"
             ],
             [
              0.2222222222222222,
              "#7201a8"
             ],
             [
              0.3333333333333333,
              "#9c179e"
             ],
             [
              0.4444444444444444,
              "#bd3786"
             ],
             [
              0.5555555555555556,
              "#d8576b"
             ],
             [
              0.6666666666666666,
              "#ed7953"
             ],
             [
              0.7777777777777778,
              "#fb9f3a"
             ],
             [
              0.8888888888888888,
              "#fdca26"
             ],
             [
              1,
              "#f0f921"
             ]
            ],
            "type": "surface"
           }
          ],
          "table": [
           {
            "cells": {
             "fill": {
              "color": "#EBF0F8"
             },
             "line": {
              "color": "white"
             }
            },
            "header": {
             "fill": {
              "color": "#C8D4E3"
             },
             "line": {
              "color": "white"
             }
            },
            "type": "table"
           }
          ]
         },
         "layout": {
          "annotationdefaults": {
           "arrowcolor": "#2a3f5f",
           "arrowhead": 0,
           "arrowwidth": 1
          },
          "autotypenumbers": "strict",
          "coloraxis": {
           "colorbar": {
            "outlinewidth": 0,
            "ticks": ""
           }
          },
          "colorscale": {
           "diverging": [
            [
             0,
             "#8e0152"
            ],
            [
             0.1,
             "#c51b7d"
            ],
            [
             0.2,
             "#de77ae"
            ],
            [
             0.3,
             "#f1b6da"
            ],
            [
             0.4,
             "#fde0ef"
            ],
            [
             0.5,
             "#f7f7f7"
            ],
            [
             0.6,
             "#e6f5d0"
            ],
            [
             0.7,
             "#b8e186"
            ],
            [
             0.8,
             "#7fbc41"
            ],
            [
             0.9,
             "#4d9221"
            ],
            [
             1,
             "#276419"
            ]
           ],
           "sequential": [
            [
             0,
             "#0d0887"
            ],
            [
             0.1111111111111111,
             "#46039f"
            ],
            [
             0.2222222222222222,
             "#7201a8"
            ],
            [
             0.3333333333333333,
             "#9c179e"
            ],
            [
             0.4444444444444444,
             "#bd3786"
            ],
            [
             0.5555555555555556,
             "#d8576b"
            ],
            [
             0.6666666666666666,
             "#ed7953"
            ],
            [
             0.7777777777777778,
             "#fb9f3a"
            ],
            [
             0.8888888888888888,
             "#fdca26"
            ],
            [
             1,
             "#f0f921"
            ]
           ],
           "sequentialminus": [
            [
             0,
             "#0d0887"
            ],
            [
             0.1111111111111111,
             "#46039f"
            ],
            [
             0.2222222222222222,
             "#7201a8"
            ],
            [
             0.3333333333333333,
             "#9c179e"
            ],
            [
             0.4444444444444444,
             "#bd3786"
            ],
            [
             0.5555555555555556,
             "#d8576b"
            ],
            [
             0.6666666666666666,
             "#ed7953"
            ],
            [
             0.7777777777777778,
             "#fb9f3a"
            ],
            [
             0.8888888888888888,
             "#fdca26"
            ],
            [
             1,
             "#f0f921"
            ]
           ]
          },
          "colorway": [
           "#636efa",
           "#EF553B",
           "#00cc96",
           "#ab63fa",
           "#FFA15A",
           "#19d3f3",
           "#FF6692",
           "#B6E880",
           "#FF97FF",
           "#FECB52"
          ],
          "font": {
           "color": "#2a3f5f"
          },
          "geo": {
           "bgcolor": "white",
           "lakecolor": "white",
           "landcolor": "#E5ECF6",
           "showlakes": true,
           "showland": true,
           "subunitcolor": "white"
          },
          "hoverlabel": {
           "align": "left"
          },
          "hovermode": "closest",
          "mapbox": {
           "style": "light"
          },
          "paper_bgcolor": "white",
          "plot_bgcolor": "#E5ECF6",
          "polar": {
           "angularaxis": {
            "gridcolor": "white",
            "linecolor": "white",
            "ticks": ""
           },
           "bgcolor": "#E5ECF6",
           "radialaxis": {
            "gridcolor": "white",
            "linecolor": "white",
            "ticks": ""
           }
          },
          "scene": {
           "xaxis": {
            "backgroundcolor": "#E5ECF6",
            "gridcolor": "white",
            "gridwidth": 2,
            "linecolor": "white",
            "showbackground": true,
            "ticks": "",
            "zerolinecolor": "white"
           },
           "yaxis": {
            "backgroundcolor": "#E5ECF6",
            "gridcolor": "white",
            "gridwidth": 2,
            "linecolor": "white",
            "showbackground": true,
            "ticks": "",
            "zerolinecolor": "white"
           },
           "zaxis": {
            "backgroundcolor": "#E5ECF6",
            "gridcolor": "white",
            "gridwidth": 2,
            "linecolor": "white",
            "showbackground": true,
            "ticks": "",
            "zerolinecolor": "white"
           }
          },
          "shapedefaults": {
           "line": {
            "color": "#2a3f5f"
           }
          },
          "ternary": {
           "aaxis": {
            "gridcolor": "white",
            "linecolor": "white",
            "ticks": ""
           },
           "baxis": {
            "gridcolor": "white",
            "linecolor": "white",
            "ticks": ""
           },
           "bgcolor": "#E5ECF6",
           "caxis": {
            "gridcolor": "white",
            "linecolor": "white",
            "ticks": ""
           }
          },
          "title": {
           "x": 0.05
          },
          "xaxis": {
           "automargin": true,
           "gridcolor": "white",
           "linecolor": "white",
           "ticks": "",
           "title": {
            "standoff": 15
           },
           "zerolinecolor": "white",
           "zerolinewidth": 2
          },
          "yaxis": {
           "automargin": true,
           "gridcolor": "white",
           "linecolor": "white",
           "ticks": "",
           "title": {
            "standoff": 15
           },
           "zerolinecolor": "white",
           "zerolinewidth": 2
          }
         }
        },
        "title": {
         "text": "Revenue Histogram"
        },
        "xaxis": {
         "anchor": "y",
         "domain": [
          0,
          1
         ],
         "title": {
          "text": "Revenue"
         }
        },
        "yaxis": {
         "anchor": "x",
         "domain": [
          0,
          1
         ],
         "title": {
          "text": "count"
         }
        }
       }
      }
     },
     "metadata": {},
     "output_type": "display_data"
    }
   ],
   "source": [
    "fig = px.histogram(df_user, x=\"Revenue\",title='Revenue Histogram')\n",
    "fig.show()"
   ]
  },
  {
   "cell_type": "code",
   "execution_count": 171,
   "metadata": {},
   "outputs": [
    {
     "name": "stderr",
     "output_type": "stream",
     "text": [
      "C:\\Users\\DUONG-PC\\AppData\\Roaming\\Python\\Python39\\site-packages\\sklearn\\cluster\\_kmeans.py:870: FutureWarning:\n",
      "\n",
      "The default value of `n_init` will change from 10 to 'auto' in 1.4. Set the value of `n_init` explicitly to suppress the warning\n",
      "\n",
      "C:\\Users\\DUONG-PC\\AppData\\Local\\Temp\\ipykernel_9152\\3845021336.py:5: SettingWithCopyWarning:\n",
      "\n",
      "\n",
      "A value is trying to be set on a copy of a slice from a DataFrame.\n",
      "Try using .loc[row_indexer,col_indexer] = value instead\n",
      "\n",
      "See the caveats in the documentation: https://pandas.pydata.org/pandas-docs/stable/user_guide/indexing.html#returning-a-view-versus-a-copy\n",
      "\n",
      "C:\\Users\\DUONG-PC\\AppData\\Roaming\\Python\\Python39\\site-packages\\sklearn\\cluster\\_kmeans.py:870: FutureWarning:\n",
      "\n",
      "The default value of `n_init` will change from 10 to 'auto' in 1.4. Set the value of `n_init` explicitly to suppress the warning\n",
      "\n",
      "C:\\Users\\DUONG-PC\\AppData\\Local\\Temp\\ipykernel_9152\\3845021336.py:5: SettingWithCopyWarning:\n",
      "\n",
      "\n",
      "A value is trying to be set on a copy of a slice from a DataFrame.\n",
      "Try using .loc[row_indexer,col_indexer] = value instead\n",
      "\n",
      "See the caveats in the documentation: https://pandas.pydata.org/pandas-docs/stable/user_guide/indexing.html#returning-a-view-versus-a-copy\n",
      "\n",
      "C:\\Users\\DUONG-PC\\AppData\\Roaming\\Python\\Python39\\site-packages\\sklearn\\cluster\\_kmeans.py:870: FutureWarning:\n",
      "\n",
      "The default value of `n_init` will change from 10 to 'auto' in 1.4. Set the value of `n_init` explicitly to suppress the warning\n",
      "\n",
      "C:\\Users\\DUONG-PC\\AppData\\Local\\Temp\\ipykernel_9152\\3845021336.py:5: SettingWithCopyWarning:\n",
      "\n",
      "\n",
      "A value is trying to be set on a copy of a slice from a DataFrame.\n",
      "Try using .loc[row_indexer,col_indexer] = value instead\n",
      "\n",
      "See the caveats in the documentation: https://pandas.pydata.org/pandas-docs/stable/user_guide/indexing.html#returning-a-view-versus-a-copy\n",
      "\n",
      "C:\\Users\\DUONG-PC\\AppData\\Roaming\\Python\\Python39\\site-packages\\sklearn\\cluster\\_kmeans.py:870: FutureWarning:\n",
      "\n",
      "The default value of `n_init` will change from 10 to 'auto' in 1.4. Set the value of `n_init` explicitly to suppress the warning\n",
      "\n",
      "C:\\Users\\DUONG-PC\\AppData\\Local\\Temp\\ipykernel_9152\\3845021336.py:5: SettingWithCopyWarning:\n",
      "\n",
      "\n",
      "A value is trying to be set on a copy of a slice from a DataFrame.\n",
      "Try using .loc[row_indexer,col_indexer] = value instead\n",
      "\n",
      "See the caveats in the documentation: https://pandas.pydata.org/pandas-docs/stable/user_guide/indexing.html#returning-a-view-versus-a-copy\n",
      "\n",
      "C:\\Users\\DUONG-PC\\AppData\\Roaming\\Python\\Python39\\site-packages\\sklearn\\cluster\\_kmeans.py:870: FutureWarning:\n",
      "\n",
      "The default value of `n_init` will change from 10 to 'auto' in 1.4. Set the value of `n_init` explicitly to suppress the warning\n",
      "\n",
      "C:\\Users\\DUONG-PC\\AppData\\Local\\Temp\\ipykernel_9152\\3845021336.py:5: SettingWithCopyWarning:\n",
      "\n",
      "\n",
      "A value is trying to be set on a copy of a slice from a DataFrame.\n",
      "Try using .loc[row_indexer,col_indexer] = value instead\n",
      "\n",
      "See the caveats in the documentation: https://pandas.pydata.org/pandas-docs/stable/user_guide/indexing.html#returning-a-view-versus-a-copy\n",
      "\n",
      "C:\\Users\\DUONG-PC\\AppData\\Roaming\\Python\\Python39\\site-packages\\sklearn\\cluster\\_kmeans.py:870: FutureWarning:\n",
      "\n",
      "The default value of `n_init` will change from 10 to 'auto' in 1.4. Set the value of `n_init` explicitly to suppress the warning\n",
      "\n",
      "C:\\Users\\DUONG-PC\\AppData\\Local\\Temp\\ipykernel_9152\\3845021336.py:5: SettingWithCopyWarning:\n",
      "\n",
      "\n",
      "A value is trying to be set on a copy of a slice from a DataFrame.\n",
      "Try using .loc[row_indexer,col_indexer] = value instead\n",
      "\n",
      "See the caveats in the documentation: https://pandas.pydata.org/pandas-docs/stable/user_guide/indexing.html#returning-a-view-versus-a-copy\n",
      "\n",
      "C:\\Users\\DUONG-PC\\AppData\\Roaming\\Python\\Python39\\site-packages\\sklearn\\cluster\\_kmeans.py:870: FutureWarning:\n",
      "\n",
      "The default value of `n_init` will change from 10 to 'auto' in 1.4. Set the value of `n_init` explicitly to suppress the warning\n",
      "\n",
      "C:\\Users\\DUONG-PC\\AppData\\Local\\Temp\\ipykernel_9152\\3845021336.py:5: SettingWithCopyWarning:\n",
      "\n",
      "\n",
      "A value is trying to be set on a copy of a slice from a DataFrame.\n",
      "Try using .loc[row_indexer,col_indexer] = value instead\n",
      "\n",
      "See the caveats in the documentation: https://pandas.pydata.org/pandas-docs/stable/user_guide/indexing.html#returning-a-view-versus-a-copy\n",
      "\n",
      "C:\\Users\\DUONG-PC\\AppData\\Roaming\\Python\\Python39\\site-packages\\sklearn\\cluster\\_kmeans.py:870: FutureWarning:\n",
      "\n",
      "The default value of `n_init` will change from 10 to 'auto' in 1.4. Set the value of `n_init` explicitly to suppress the warning\n",
      "\n",
      "C:\\Users\\DUONG-PC\\AppData\\Local\\Temp\\ipykernel_9152\\3845021336.py:5: SettingWithCopyWarning:\n",
      "\n",
      "\n",
      "A value is trying to be set on a copy of a slice from a DataFrame.\n",
      "Try using .loc[row_indexer,col_indexer] = value instead\n",
      "\n",
      "See the caveats in the documentation: https://pandas.pydata.org/pandas-docs/stable/user_guide/indexing.html#returning-a-view-versus-a-copy\n",
      "\n",
      "C:\\Users\\DUONG-PC\\AppData\\Roaming\\Python\\Python39\\site-packages\\sklearn\\cluster\\_kmeans.py:870: FutureWarning:\n",
      "\n",
      "The default value of `n_init` will change from 10 to 'auto' in 1.4. Set the value of `n_init` explicitly to suppress the warning\n",
      "\n",
      "C:\\Users\\DUONG-PC\\AppData\\Local\\Temp\\ipykernel_9152\\3845021336.py:5: SettingWithCopyWarning:\n",
      "\n",
      "\n",
      "A value is trying to be set on a copy of a slice from a DataFrame.\n",
      "Try using .loc[row_indexer,col_indexer] = value instead\n",
      "\n",
      "See the caveats in the documentation: https://pandas.pydata.org/pandas-docs/stable/user_guide/indexing.html#returning-a-view-versus-a-copy\n",
      "\n"
     ]
    },
    {
     "data": {
      "image/png": "[encoded data removed]",
      "text/plain": [
       "<Figure size 432x288 with 1 Axes>"
      ]
     },
     "metadata": {
      "needs_background": "light"
     },
     "output_type": "display_data"
    }
   ],
   "source": [
    "sse={}\n",
    "df_Revenue3m = df_user[['Revenue']]\n",
    "for k in range(1,10):\n",
    "    kmeans=KMeans(n_clusters=k,max_iter=1000).fit(df_Revenue3m)\n",
    "    df_Revenue3m[\"clusters\"] = kmeans.labels_\n",
    "    sse[k]=kmeans.inertia_ # binh phuong khoang cach toi trung tam cua cac cum\n",
    "plt.figure()\n",
    "plt.plot(list(sse.keys()),list(sse.values()))\n",
    "plt.xlabel('Number of cluster')\n",
    "plt.show()"
   ]
  },
  {
   "cell_type": "code",
   "execution_count": 173,
   "metadata": {},
   "outputs": [
    {
     "name": "stderr",
     "output_type": "stream",
     "text": [
      "C:\\Users\\DUONG-PC\\AppData\\Roaming\\Python\\Python39\\site-packages\\sklearn\\cluster\\_kmeans.py:870: FutureWarning:\n",
      "\n",
      "The default value of `n_init` will change from 10 to 'auto' in 1.4. Set the value of `n_init` explicitly to suppress the warning\n",
      "\n"
     ]
    },
    {
     "data": {
      "text/html": [
       "<div>\n",
       "<style scoped>\n",
       "    .dataframe tbody tr th:only-of-type {\n",
       "        vertical-align: middle;\n",
       "    }\n",
       "\n",
       "    .dataframe tbody tr th {\n",
       "        vertical-align: top;\n",
       "    }\n",
       "\n",
       "    .dataframe thead th {\n",
       "        text-align: right;\n",
       "    }\n",
       "</style>\n",
       "<table border=\"1\" class=\"dataframe\">\n",
       "  <thead>\n",
       "    <tr style=\"text-align: right;\">\n",
       "      <th></th>\n",
       "      <th>CustomerID</th>\n",
       "      <th>MaxPurchaseDate</th>\n",
       "      <th>Recency</th>\n",
       "      <th>RencencyCLuster</th>\n",
       "      <th>Frequency</th>\n",
       "      <th>FrequencyCluster</th>\n",
       "      <th>Revenue</th>\n",
       "      <th>RevenueCluster</th>\n",
       "    </tr>\n",
       "  </thead>\n",
       "  <tbody>\n",
       "    <tr>\n",
       "      <th>0</th>\n",
       "      <td>14620.0</td>\n",
       "      <td>2011-05-19</td>\n",
       "      <td>12</td>\n",
       "      <td>3</td>\n",
       "      <td>30</td>\n",
       "      <td>0</td>\n",
       "      <td>393.28</td>\n",
       "      <td>0</td>\n",
       "    </tr>\n",
       "    <tr>\n",
       "      <th>1</th>\n",
       "      <td>18075.0</td>\n",
       "      <td>2011-05-19</td>\n",
       "      <td>12</td>\n",
       "      <td>3</td>\n",
       "      <td>35</td>\n",
       "      <td>0</td>\n",
       "      <td>638.12</td>\n",
       "      <td>0</td>\n",
       "    </tr>\n",
       "    <tr>\n",
       "      <th>2</th>\n",
       "      <td>15660.0</td>\n",
       "      <td>2011-05-27</td>\n",
       "      <td>4</td>\n",
       "      <td>3</td>\n",
       "      <td>34</td>\n",
       "      <td>0</td>\n",
       "      <td>484.62</td>\n",
       "      <td>0</td>\n",
       "    </tr>\n",
       "    <tr>\n",
       "      <th>3</th>\n",
       "      <td>14676.0</td>\n",
       "      <td>2011-05-16</td>\n",
       "      <td>15</td>\n",
       "      <td>3</td>\n",
       "      <td>18</td>\n",
       "      <td>0</td>\n",
       "      <td>1144.77</td>\n",
       "      <td>0</td>\n",
       "    </tr>\n",
       "    <tr>\n",
       "      <th>4</th>\n",
       "      <td>12747.0</td>\n",
       "      <td>2011-05-25</td>\n",
       "      <td>6</td>\n",
       "      <td>3</td>\n",
       "      <td>35</td>\n",
       "      <td>0</td>\n",
       "      <td>1082.09</td>\n",
       "      <td>0</td>\n",
       "    </tr>\n",
       "    <tr>\n",
       "      <th>...</th>\n",
       "      <td>...</td>\n",
       "      <td>...</td>\n",
       "      <td>...</td>\n",
       "      <td>...</td>\n",
       "      <td>...</td>\n",
       "      <td>...</td>\n",
       "      <td>...</td>\n",
       "      <td>...</td>\n",
       "    </tr>\n",
       "    <tr>\n",
       "      <th>1835</th>\n",
       "      <td>15039.0</td>\n",
       "      <td>2011-05-25</td>\n",
       "      <td>6</td>\n",
       "      <td>3</td>\n",
       "      <td>436</td>\n",
       "      <td>3</td>\n",
       "      <td>6741.59</td>\n",
       "      <td>3</td>\n",
       "    </tr>\n",
       "    <tr>\n",
       "      <th>1836</th>\n",
       "      <td>13089.0</td>\n",
       "      <td>2011-05-26</td>\n",
       "      <td>5</td>\n",
       "      <td>3</td>\n",
       "      <td>452</td>\n",
       "      <td>3</td>\n",
       "      <td>11757.87</td>\n",
       "      <td>1</td>\n",
       "    </tr>\n",
       "    <tr>\n",
       "      <th>1837</th>\n",
       "      <td>12748.0</td>\n",
       "      <td>2011-05-31</td>\n",
       "      <td>0</td>\n",
       "      <td>3</td>\n",
       "      <td>582</td>\n",
       "      <td>3</td>\n",
       "      <td>4336.73</td>\n",
       "      <td>3</td>\n",
       "    </tr>\n",
       "    <tr>\n",
       "      <th>1838</th>\n",
       "      <td>14769.0</td>\n",
       "      <td>2011-05-22</td>\n",
       "      <td>9</td>\n",
       "      <td>3</td>\n",
       "      <td>558</td>\n",
       "      <td>3</td>\n",
       "      <td>4966.36</td>\n",
       "      <td>3</td>\n",
       "    </tr>\n",
       "    <tr>\n",
       "      <th>1839</th>\n",
       "      <td>14298.0</td>\n",
       "      <td>2011-05-04</td>\n",
       "      <td>27</td>\n",
       "      <td>2</td>\n",
       "      <td>433</td>\n",
       "      <td>3</td>\n",
       "      <td>14984.73</td>\n",
       "      <td>1</td>\n",
       "    </tr>\n",
       "  </tbody>\n",
       "</table>\n",
       "<p>1840 rows × 8 columns</p>\n",
       "</div>"
      ],
      "text/plain": [
       "      CustomerID MaxPurchaseDate  Recency  RencencyCLuster  Frequency  \\\n",
       "0        14620.0      2011-05-19       12                3         30   \n",
       "1        18075.0      2011-05-19       12                3         35   \n",
       "2        15660.0      2011-05-27        4                3         34   \n",
       "3        14676.0      2011-05-16       15                3         18   \n",
       "4        12747.0      2011-05-25        6                3         35   \n",
       "...          ...             ...      ...              ...        ...   \n",
       "1835     15039.0      2011-05-25        6                3        436   \n",
       "1836     13089.0      2011-05-26        5                3        452   \n",
       "1837     12748.0      2011-05-31        0                3        582   \n",
       "1838     14769.0      2011-05-22        9                3        558   \n",
       "1839     14298.0      2011-05-04       27                2        433   \n",
       "\n",
       "      FrequencyCluster   Revenue  RevenueCluster  \n",
       "0                    0    393.28               0  \n",
       "1                    0    638.12               0  \n",
       "2                    0    484.62               0  \n",
       "3                    0   1144.77               0  \n",
       "4                    0   1082.09               0  \n",
       "...                ...       ...             ...  \n",
       "1835                 3   6741.59               3  \n",
       "1836                 3  11757.87               1  \n",
       "1837                 3   4336.73               3  \n",
       "1838                 3   4966.36               3  \n",
       "1839                 3  14984.73               1  \n",
       "\n",
       "[1840 rows x 8 columns]"
      ]
     },
     "execution_count": 173,
     "metadata": {},
     "output_type": "execute_result"
    }
   ],
   "source": [
    "kmeans = KMeans(n_clusters= 4)\n",
    "kmeans.fit(df_user[['Revenue']])\n",
    "df_user['RevenueCluster'] = kmeans.predict(df_user[['Revenue']])\n",
    "df_user"
   ]
  },
  {
   "cell_type": "code",
   "execution_count": 175,
   "metadata": {},
   "outputs": [
    {
     "data": {
      "text/html": [
       "<div>\n",
       "<style scoped>\n",
       "    .dataframe tbody tr th:only-of-type {\n",
       "        vertical-align: middle;\n",
       "    }\n",
       "\n",
       "    .dataframe tbody tr th {\n",
       "        vertical-align: top;\n",
       "    }\n",
       "\n",
       "    .dataframe thead th {\n",
       "        text-align: right;\n",
       "    }\n",
       "</style>\n",
       "<table border=\"1\" class=\"dataframe\">\n",
       "  <thead>\n",
       "    <tr style=\"text-align: right;\">\n",
       "      <th></th>\n",
       "      <th>CustomerID</th>\n",
       "      <th>MaxPurchaseDate</th>\n",
       "      <th>Recency</th>\n",
       "      <th>RencencyCLuster</th>\n",
       "      <th>Frequency</th>\n",
       "      <th>FrequencyCluster</th>\n",
       "      <th>Revenue</th>\n",
       "      <th>RevenueCluster</th>\n",
       "    </tr>\n",
       "  </thead>\n",
       "  <tbody>\n",
       "    <tr>\n",
       "      <th>0</th>\n",
       "      <td>14620.0</td>\n",
       "      <td>2011-05-19</td>\n",
       "      <td>12</td>\n",
       "      <td>3</td>\n",
       "      <td>30</td>\n",
       "      <td>0</td>\n",
       "      <td>393.28</td>\n",
       "      <td>0</td>\n",
       "    </tr>\n",
       "    <tr>\n",
       "      <th>1</th>\n",
       "      <td>18075.0</td>\n",
       "      <td>2011-05-19</td>\n",
       "      <td>12</td>\n",
       "      <td>3</td>\n",
       "      <td>35</td>\n",
       "      <td>0</td>\n",
       "      <td>638.12</td>\n",
       "      <td>0</td>\n",
       "    </tr>\n",
       "    <tr>\n",
       "      <th>2</th>\n",
       "      <td>15660.0</td>\n",
       "      <td>2011-05-27</td>\n",
       "      <td>4</td>\n",
       "      <td>3</td>\n",
       "      <td>34</td>\n",
       "      <td>0</td>\n",
       "      <td>484.62</td>\n",
       "      <td>0</td>\n",
       "    </tr>\n",
       "    <tr>\n",
       "      <th>3</th>\n",
       "      <td>14676.0</td>\n",
       "      <td>2011-05-16</td>\n",
       "      <td>15</td>\n",
       "      <td>3</td>\n",
       "      <td>18</td>\n",
       "      <td>0</td>\n",
       "      <td>1144.77</td>\n",
       "      <td>0</td>\n",
       "    </tr>\n",
       "    <tr>\n",
       "      <th>4</th>\n",
       "      <td>12747.0</td>\n",
       "      <td>2011-05-25</td>\n",
       "      <td>6</td>\n",
       "      <td>3</td>\n",
       "      <td>35</td>\n",
       "      <td>0</td>\n",
       "      <td>1082.09</td>\n",
       "      <td>0</td>\n",
       "    </tr>\n",
       "    <tr>\n",
       "      <th>...</th>\n",
       "      <td>...</td>\n",
       "      <td>...</td>\n",
       "      <td>...</td>\n",
       "      <td>...</td>\n",
       "      <td>...</td>\n",
       "      <td>...</td>\n",
       "      <td>...</td>\n",
       "      <td>...</td>\n",
       "    </tr>\n",
       "    <tr>\n",
       "      <th>1835</th>\n",
       "      <td>15311.0</td>\n",
       "      <td>2011-05-27</td>\n",
       "      <td>4</td>\n",
       "      <td>3</td>\n",
       "      <td>522</td>\n",
       "      <td>3</td>\n",
       "      <td>16309.61</td>\n",
       "      <td>2</td>\n",
       "    </tr>\n",
       "    <tr>\n",
       "      <th>1836</th>\n",
       "      <td>13089.0</td>\n",
       "      <td>2011-05-26</td>\n",
       "      <td>5</td>\n",
       "      <td>3</td>\n",
       "      <td>452</td>\n",
       "      <td>3</td>\n",
       "      <td>11757.87</td>\n",
       "      <td>2</td>\n",
       "    </tr>\n",
       "    <tr>\n",
       "      <th>1837</th>\n",
       "      <td>14298.0</td>\n",
       "      <td>2011-05-04</td>\n",
       "      <td>27</td>\n",
       "      <td>2</td>\n",
       "      <td>433</td>\n",
       "      <td>3</td>\n",
       "      <td>14984.73</td>\n",
       "      <td>2</td>\n",
       "    </tr>\n",
       "    <tr>\n",
       "      <th>1838</th>\n",
       "      <td>18102.0</td>\n",
       "      <td>2011-05-17</td>\n",
       "      <td>14</td>\n",
       "      <td>3</td>\n",
       "      <td>55</td>\n",
       "      <td>0</td>\n",
       "      <td>26113.81</td>\n",
       "      <td>3</td>\n",
       "    </tr>\n",
       "    <tr>\n",
       "      <th>1839</th>\n",
       "      <td>17450.0</td>\n",
       "      <td>2011-05-31</td>\n",
       "      <td>0</td>\n",
       "      <td>3</td>\n",
       "      <td>47</td>\n",
       "      <td>0</td>\n",
       "      <td>35085.48</td>\n",
       "      <td>3</td>\n",
       "    </tr>\n",
       "  </tbody>\n",
       "</table>\n",
       "<p>1840 rows × 8 columns</p>\n",
       "</div>"
      ],
      "text/plain": [
       "      CustomerID MaxPurchaseDate  Recency  RencencyCLuster  Frequency  \\\n",
       "0        14620.0      2011-05-19       12                3         30   \n",
       "1        18075.0      2011-05-19       12                3         35   \n",
       "2        15660.0      2011-05-27        4                3         34   \n",
       "3        14676.0      2011-05-16       15                3         18   \n",
       "4        12747.0      2011-05-25        6                3         35   \n",
       "...          ...             ...      ...              ...        ...   \n",
       "1835     15311.0      2011-05-27        4                3        522   \n",
       "1836     13089.0      2011-05-26        5                3        452   \n",
       "1837     14298.0      2011-05-04       27                2        433   \n",
       "1838     18102.0      2011-05-17       14                3         55   \n",
       "1839     17450.0      2011-05-31        0                3         47   \n",
       "\n",
       "      FrequencyCluster   Revenue  RevenueCluster  \n",
       "0                    0    393.28               0  \n",
       "1                    0    638.12               0  \n",
       "2                    0    484.62               0  \n",
       "3                    0   1144.77               0  \n",
       "4                    0   1082.09               0  \n",
       "...                ...       ...             ...  \n",
       "1835                 3  16309.61               2  \n",
       "1836                 3  11757.87               2  \n",
       "1837                 3  14984.73               2  \n",
       "1838                 0  26113.81               3  \n",
       "1839                 0  35085.48               3  \n",
       "\n",
       "[1840 rows x 8 columns]"
      ]
     },
     "execution_count": 175,
     "metadata": {},
     "output_type": "execute_result"
    }
   ],
   "source": [
    "df_CTE3 = df_user.groupby('RevenueCluster')['Revenue'].mean().reset_index()\n",
    "df_CTE3 = df_CTE3.sort_values(by='Revenue',ascending=True).reset_index(drop=True)\n",
    "df_CTE3['index'] = df_CTE3.index\n",
    "df_user = df_user.merge(df_CTE3[['RevenueCluster','index']], on = 'RevenueCluster',how='inner')\n",
    "df_user = df_user.drop(['RevenueCluster'],axis= 1)\n",
    "df_user = df_user.rename(columns={'index':'RevenueCluster'})\n",
    "df_user"
   ]
  },
  {
   "cell_type": "code",
   "execution_count": 176,
   "metadata": {},
   "outputs": [
    {
     "data": {
      "text/html": [
       "<div>\n",
       "<style scoped>\n",
       "    .dataframe tbody tr th:only-of-type {\n",
       "        vertical-align: middle;\n",
       "    }\n",
       "\n",
       "    .dataframe tbody tr th {\n",
       "        vertical-align: top;\n",
       "    }\n",
       "\n",
       "    .dataframe thead th {\n",
       "        text-align: right;\n",
       "    }\n",
       "</style>\n",
       "<table border=\"1\" class=\"dataframe\">\n",
       "  <thead>\n",
       "    <tr style=\"text-align: right;\">\n",
       "      <th></th>\n",
       "      <th>CustomerID</th>\n",
       "      <th>MaxPurchaseDate</th>\n",
       "      <th>Recency</th>\n",
       "      <th>RencencyCLuster</th>\n",
       "      <th>Frequency</th>\n",
       "      <th>FrequencyCluster</th>\n",
       "      <th>Revenue</th>\n",
       "      <th>RevenueCluster</th>\n",
       "      <th>Overrall</th>\n",
       "    </tr>\n",
       "  </thead>\n",
       "  <tbody>\n",
       "    <tr>\n",
       "      <th>0</th>\n",
       "      <td>14620.0</td>\n",
       "      <td>2011-05-19</td>\n",
       "      <td>12</td>\n",
       "      <td>3</td>\n",
       "      <td>30</td>\n",
       "      <td>0</td>\n",
       "      <td>393.28</td>\n",
       "      <td>0</td>\n",
       "      <td>3</td>\n",
       "    </tr>\n",
       "    <tr>\n",
       "      <th>1</th>\n",
       "      <td>18075.0</td>\n",
       "      <td>2011-05-19</td>\n",
       "      <td>12</td>\n",
       "      <td>3</td>\n",
       "      <td>35</td>\n",
       "      <td>0</td>\n",
       "      <td>638.12</td>\n",
       "      <td>0</td>\n",
       "      <td>3</td>\n",
       "    </tr>\n",
       "    <tr>\n",
       "      <th>2</th>\n",
       "      <td>15660.0</td>\n",
       "      <td>2011-05-27</td>\n",
       "      <td>4</td>\n",
       "      <td>3</td>\n",
       "      <td>34</td>\n",
       "      <td>0</td>\n",
       "      <td>484.62</td>\n",
       "      <td>0</td>\n",
       "      <td>3</td>\n",
       "    </tr>\n",
       "    <tr>\n",
       "      <th>3</th>\n",
       "      <td>14676.0</td>\n",
       "      <td>2011-05-16</td>\n",
       "      <td>15</td>\n",
       "      <td>3</td>\n",
       "      <td>18</td>\n",
       "      <td>0</td>\n",
       "      <td>1144.77</td>\n",
       "      <td>0</td>\n",
       "      <td>3</td>\n",
       "    </tr>\n",
       "    <tr>\n",
       "      <th>4</th>\n",
       "      <td>12747.0</td>\n",
       "      <td>2011-05-25</td>\n",
       "      <td>6</td>\n",
       "      <td>3</td>\n",
       "      <td>35</td>\n",
       "      <td>0</td>\n",
       "      <td>1082.09</td>\n",
       "      <td>0</td>\n",
       "      <td>3</td>\n",
       "    </tr>\n",
       "    <tr>\n",
       "      <th>...</th>\n",
       "      <td>...</td>\n",
       "      <td>...</td>\n",
       "      <td>...</td>\n",
       "      <td>...</td>\n",
       "      <td>...</td>\n",
       "      <td>...</td>\n",
       "      <td>...</td>\n",
       "      <td>...</td>\n",
       "      <td>...</td>\n",
       "    </tr>\n",
       "    <tr>\n",
       "      <th>1835</th>\n",
       "      <td>15311.0</td>\n",
       "      <td>2011-05-27</td>\n",
       "      <td>4</td>\n",
       "      <td>3</td>\n",
       "      <td>522</td>\n",
       "      <td>3</td>\n",
       "      <td>16309.61</td>\n",
       "      <td>2</td>\n",
       "      <td>8</td>\n",
       "    </tr>\n",
       "    <tr>\n",
       "      <th>1836</th>\n",
       "      <td>13089.0</td>\n",
       "      <td>2011-05-26</td>\n",
       "      <td>5</td>\n",
       "      <td>3</td>\n",
       "      <td>452</td>\n",
       "      <td>3</td>\n",
       "      <td>11757.87</td>\n",
       "      <td>2</td>\n",
       "      <td>8</td>\n",
       "    </tr>\n",
       "    <tr>\n",
       "      <th>1837</th>\n",
       "      <td>14298.0</td>\n",
       "      <td>2011-05-04</td>\n",
       "      <td>27</td>\n",
       "      <td>2</td>\n",
       "      <td>433</td>\n",
       "      <td>3</td>\n",
       "      <td>14984.73</td>\n",
       "      <td>2</td>\n",
       "      <td>7</td>\n",
       "    </tr>\n",
       "    <tr>\n",
       "      <th>1838</th>\n",
       "      <td>18102.0</td>\n",
       "      <td>2011-05-17</td>\n",
       "      <td>14</td>\n",
       "      <td>3</td>\n",
       "      <td>55</td>\n",
       "      <td>0</td>\n",
       "      <td>26113.81</td>\n",
       "      <td>3</td>\n",
       "      <td>6</td>\n",
       "    </tr>\n",
       "    <tr>\n",
       "      <th>1839</th>\n",
       "      <td>17450.0</td>\n",
       "      <td>2011-05-31</td>\n",
       "      <td>0</td>\n",
       "      <td>3</td>\n",
       "      <td>47</td>\n",
       "      <td>0</td>\n",
       "      <td>35085.48</td>\n",
       "      <td>3</td>\n",
       "      <td>6</td>\n",
       "    </tr>\n",
       "  </tbody>\n",
       "</table>\n",
       "<p>1840 rows × 9 columns</p>\n",
       "</div>"
      ],
      "text/plain": [
       "      CustomerID MaxPurchaseDate  Recency  RencencyCLuster  Frequency  \\\n",
       "0        14620.0      2011-05-19       12                3         30   \n",
       "1        18075.0      2011-05-19       12                3         35   \n",
       "2        15660.0      2011-05-27        4                3         34   \n",
       "3        14676.0      2011-05-16       15                3         18   \n",
       "4        12747.0      2011-05-25        6                3         35   \n",
       "...          ...             ...      ...              ...        ...   \n",
       "1835     15311.0      2011-05-27        4                3        522   \n",
       "1836     13089.0      2011-05-26        5                3        452   \n",
       "1837     14298.0      2011-05-04       27                2        433   \n",
       "1838     18102.0      2011-05-17       14                3         55   \n",
       "1839     17450.0      2011-05-31        0                3         47   \n",
       "\n",
       "      FrequencyCluster   Revenue  RevenueCluster  Overrall  \n",
       "0                    0    393.28               0         3  \n",
       "1                    0    638.12               0         3  \n",
       "2                    0    484.62               0         3  \n",
       "3                    0   1144.77               0         3  \n",
       "4                    0   1082.09               0         3  \n",
       "...                ...       ...             ...       ...  \n",
       "1835                 3  16309.61               2         8  \n",
       "1836                 3  11757.87               2         8  \n",
       "1837                 3  14984.73               2         7  \n",
       "1838                 0  26113.81               3         6  \n",
       "1839                 0  35085.48               3         6  \n",
       "\n",
       "[1840 rows x 9 columns]"
      ]
     },
     "execution_count": 176,
     "metadata": {},
     "output_type": "execute_result"
    }
   ],
   "source": [
    "df_user['Overrall'] = df_user['RencencyCLuster'] + df_user['FrequencyCluster'] + df_user['RevenueCluster']\n",
    "df_user"
   ]
  },
  {
   "cell_type": "code",
   "execution_count": 177,
   "metadata": {},
   "outputs": [
    {
     "data": {
      "text/html": [
       "<div>\n",
       "<style scoped>\n",
       "    .dataframe tbody tr th:only-of-type {\n",
       "        vertical-align: middle;\n",
       "    }\n",
       "\n",
       "    .dataframe tbody tr th {\n",
       "        vertical-align: top;\n",
       "    }\n",
       "\n",
       "    .dataframe thead th {\n",
       "        text-align: right;\n",
       "    }\n",
       "</style>\n",
       "<table border=\"1\" class=\"dataframe\">\n",
       "  <thead>\n",
       "    <tr style=\"text-align: right;\">\n",
       "      <th></th>\n",
       "      <th>CustomerID</th>\n",
       "      <th>MaxPurchaseDate</th>\n",
       "      <th>Recency</th>\n",
       "      <th>RencencyCLuster</th>\n",
       "      <th>Frequency</th>\n",
       "      <th>FrequencyCluster</th>\n",
       "      <th>Revenue</th>\n",
       "      <th>RevenueCluster</th>\n",
       "      <th>Overrall</th>\n",
       "      <th>Segment</th>\n",
       "    </tr>\n",
       "  </thead>\n",
       "  <tbody>\n",
       "    <tr>\n",
       "      <th>0</th>\n",
       "      <td>14620.0</td>\n",
       "      <td>2011-05-19</td>\n",
       "      <td>12</td>\n",
       "      <td>3</td>\n",
       "      <td>30</td>\n",
       "      <td>0</td>\n",
       "      <td>393.28</td>\n",
       "      <td>0</td>\n",
       "      <td>3</td>\n",
       "      <td>Mid-Value</td>\n",
       "    </tr>\n",
       "    <tr>\n",
       "      <th>1</th>\n",
       "      <td>18075.0</td>\n",
       "      <td>2011-05-19</td>\n",
       "      <td>12</td>\n",
       "      <td>3</td>\n",
       "      <td>35</td>\n",
       "      <td>0</td>\n",
       "      <td>638.12</td>\n",
       "      <td>0</td>\n",
       "      <td>3</td>\n",
       "      <td>Mid-Value</td>\n",
       "    </tr>\n",
       "    <tr>\n",
       "      <th>2</th>\n",
       "      <td>15660.0</td>\n",
       "      <td>2011-05-27</td>\n",
       "      <td>4</td>\n",
       "      <td>3</td>\n",
       "      <td>34</td>\n",
       "      <td>0</td>\n",
       "      <td>484.62</td>\n",
       "      <td>0</td>\n",
       "      <td>3</td>\n",
       "      <td>Mid-Value</td>\n",
       "    </tr>\n",
       "    <tr>\n",
       "      <th>3</th>\n",
       "      <td>14676.0</td>\n",
       "      <td>2011-05-16</td>\n",
       "      <td>15</td>\n",
       "      <td>3</td>\n",
       "      <td>18</td>\n",
       "      <td>0</td>\n",
       "      <td>1144.77</td>\n",
       "      <td>0</td>\n",
       "      <td>3</td>\n",
       "      <td>Mid-Value</td>\n",
       "    </tr>\n",
       "    <tr>\n",
       "      <th>4</th>\n",
       "      <td>12747.0</td>\n",
       "      <td>2011-05-25</td>\n",
       "      <td>6</td>\n",
       "      <td>3</td>\n",
       "      <td>35</td>\n",
       "      <td>0</td>\n",
       "      <td>1082.09</td>\n",
       "      <td>0</td>\n",
       "      <td>3</td>\n",
       "      <td>Mid-Value</td>\n",
       "    </tr>\n",
       "    <tr>\n",
       "      <th>...</th>\n",
       "      <td>...</td>\n",
       "      <td>...</td>\n",
       "      <td>...</td>\n",
       "      <td>...</td>\n",
       "      <td>...</td>\n",
       "      <td>...</td>\n",
       "      <td>...</td>\n",
       "      <td>...</td>\n",
       "      <td>...</td>\n",
       "      <td>...</td>\n",
       "    </tr>\n",
       "    <tr>\n",
       "      <th>1835</th>\n",
       "      <td>15311.0</td>\n",
       "      <td>2011-05-27</td>\n",
       "      <td>4</td>\n",
       "      <td>3</td>\n",
       "      <td>522</td>\n",
       "      <td>3</td>\n",
       "      <td>16309.61</td>\n",
       "      <td>2</td>\n",
       "      <td>8</td>\n",
       "      <td>High-Value</td>\n",
       "    </tr>\n",
       "    <tr>\n",
       "      <th>1836</th>\n",
       "      <td>13089.0</td>\n",
       "      <td>2011-05-26</td>\n",
       "      <td>5</td>\n",
       "      <td>3</td>\n",
       "      <td>452</td>\n",
       "      <td>3</td>\n",
       "      <td>11757.87</td>\n",
       "      <td>2</td>\n",
       "      <td>8</td>\n",
       "      <td>High-Value</td>\n",
       "    </tr>\n",
       "    <tr>\n",
       "      <th>1837</th>\n",
       "      <td>14298.0</td>\n",
       "      <td>2011-05-04</td>\n",
       "      <td>27</td>\n",
       "      <td>2</td>\n",
       "      <td>433</td>\n",
       "      <td>3</td>\n",
       "      <td>14984.73</td>\n",
       "      <td>2</td>\n",
       "      <td>7</td>\n",
       "      <td>High-Value</td>\n",
       "    </tr>\n",
       "    <tr>\n",
       "      <th>1838</th>\n",
       "      <td>18102.0</td>\n",
       "      <td>2011-05-17</td>\n",
       "      <td>14</td>\n",
       "      <td>3</td>\n",
       "      <td>55</td>\n",
       "      <td>0</td>\n",
       "      <td>26113.81</td>\n",
       "      <td>3</td>\n",
       "      <td>6</td>\n",
       "      <td>High-Value</td>\n",
       "    </tr>\n",
       "    <tr>\n",
       "      <th>1839</th>\n",
       "      <td>17450.0</td>\n",
       "      <td>2011-05-31</td>\n",
       "      <td>0</td>\n",
       "      <td>3</td>\n",
       "      <td>47</td>\n",
       "      <td>0</td>\n",
       "      <td>35085.48</td>\n",
       "      <td>3</td>\n",
       "      <td>6</td>\n",
       "      <td>High-Value</td>\n",
       "    </tr>\n",
       "  </tbody>\n",
       "</table>\n",
       "<p>1840 rows × 10 columns</p>\n",
       "</div>"
      ],
      "text/plain": [
       "      CustomerID MaxPurchaseDate  Recency  RencencyCLuster  Frequency  \\\n",
       "0        14620.0      2011-05-19       12                3         30   \n",
       "1        18075.0      2011-05-19       12                3         35   \n",
       "2        15660.0      2011-05-27        4                3         34   \n",
       "3        14676.0      2011-05-16       15                3         18   \n",
       "4        12747.0      2011-05-25        6                3         35   \n",
       "...          ...             ...      ...              ...        ...   \n",
       "1835     15311.0      2011-05-27        4                3        522   \n",
       "1836     13089.0      2011-05-26        5                3        452   \n",
       "1837     14298.0      2011-05-04       27                2        433   \n",
       "1838     18102.0      2011-05-17       14                3         55   \n",
       "1839     17450.0      2011-05-31        0                3         47   \n",
       "\n",
       "      FrequencyCluster   Revenue  RevenueCluster  Overrall     Segment  \n",
       "0                    0    393.28               0         3   Mid-Value  \n",
       "1                    0    638.12               0         3   Mid-Value  \n",
       "2                    0    484.62               0         3   Mid-Value  \n",
       "3                    0   1144.77               0         3   Mid-Value  \n",
       "4                    0   1082.09               0         3   Mid-Value  \n",
       "...                ...       ...             ...       ...         ...  \n",
       "1835                 3  16309.61               2         8  High-Value  \n",
       "1836                 3  11757.87               2         8  High-Value  \n",
       "1837                 3  14984.73               2         7  High-Value  \n",
       "1838                 0  26113.81               3         6  High-Value  \n",
       "1839                 0  35085.48               3         6  High-Value  \n",
       "\n",
       "[1840 rows x 10 columns]"
      ]
     },
     "execution_count": 177,
     "metadata": {},
     "output_type": "execute_result"
    }
   ],
   "source": [
    "df_user['Segment'] = 'Low-value'\n",
    "df_user.loc[df_user['Overrall']> 2,'Segment'] = 'Mid-Value'\n",
    "df_user.loc[df_user['Overrall']> 4,'Segment'] = 'High-Value'\n",
    "df_user"
   ]
  },
  {
   "cell_type": "code",
   "execution_count": 183,
   "metadata": {},
   "outputs": [
    {
     "data": {
      "image/png": "[encoded data removed]",
      "text/plain": [
       "<Figure size 1944x576 with 1 Axes>"
      ]
     },
     "metadata": {
      "needs_background": "light"
     },
     "output_type": "display_data"
    }
   ],
   "source": [
    "fig = plt.figure(figsize=(27,8))\n",
    "sns.countplot(data=df_user,x='Segment')\n",
    "plt.title('RFM Count Value')\n",
    "plt.show()"
   ]
  },
  {
   "cell_type": "markdown",
   "metadata": {},
   "source": [
    "LTV - Life Time Value"
   ]
  },
  {
   "cell_type": "code",
   "execution_count": 185,
   "metadata": {},
   "outputs": [
    {
     "data": {
      "text/html": [
       "<div>\n",
       "<style scoped>\n",
       "    .dataframe tbody tr th:only-of-type {\n",
       "        vertical-align: middle;\n",
       "    }\n",
       "\n",
       "    .dataframe tbody tr th {\n",
       "        vertical-align: top;\n",
       "    }\n",
       "\n",
       "    .dataframe thead th {\n",
       "        text-align: right;\n",
       "    }\n",
       "</style>\n",
       "<table border=\"1\" class=\"dataframe\">\n",
       "  <thead>\n",
       "    <tr style=\"text-align: right;\">\n",
       "      <th></th>\n",
       "      <th>InvoiceNo</th>\n",
       "      <th>StockCode</th>\n",
       "      <th>Description</th>\n",
       "      <th>Quantity</th>\n",
       "      <th>InvoiceDate</th>\n",
       "      <th>UnitPrice</th>\n",
       "      <th>CustomerID</th>\n",
       "      <th>Country</th>\n",
       "      <th>Invoice_year</th>\n",
       "      <th>Invoice_month</th>\n",
       "      <th>Invoice_date</th>\n",
       "      <th>Invoice_hour</th>\n",
       "      <th>Invoice_YearMonth</th>\n",
       "      <th>Revenue</th>\n",
       "      <th>Invoiceonlydate</th>\n",
       "    </tr>\n",
       "  </thead>\n",
       "  <tbody>\n",
       "    <tr>\n",
       "      <th>192586</th>\n",
       "      <td>555156</td>\n",
       "      <td>23299</td>\n",
       "      <td>FOOD COVER WITH BEADS SET 2</td>\n",
       "      <td>6</td>\n",
       "      <td>2011-06-01 07:37:00</td>\n",
       "      <td>3.75</td>\n",
       "      <td>15643.0</td>\n",
       "      <td>United Kingdom</td>\n",
       "      <td>2011</td>\n",
       "      <td>6</td>\n",
       "      <td>1</td>\n",
       "      <td>7</td>\n",
       "      <td>201106</td>\n",
       "      <td>22.50</td>\n",
       "      <td>2011-06-01</td>\n",
       "    </tr>\n",
       "    <tr>\n",
       "      <th>192587</th>\n",
       "      <td>555156</td>\n",
       "      <td>22847</td>\n",
       "      <td>BREAD BIN DINER STYLE IVORY</td>\n",
       "      <td>1</td>\n",
       "      <td>2011-06-01 07:37:00</td>\n",
       "      <td>16.95</td>\n",
       "      <td>15643.0</td>\n",
       "      <td>United Kingdom</td>\n",
       "      <td>2011</td>\n",
       "      <td>6</td>\n",
       "      <td>1</td>\n",
       "      <td>7</td>\n",
       "      <td>201106</td>\n",
       "      <td>16.95</td>\n",
       "      <td>2011-06-01</td>\n",
       "    </tr>\n",
       "    <tr>\n",
       "      <th>192588</th>\n",
       "      <td>555157</td>\n",
       "      <td>23075</td>\n",
       "      <td>PARLOUR CERAMIC WALL HOOK</td>\n",
       "      <td>16</td>\n",
       "      <td>2011-06-01 07:38:00</td>\n",
       "      <td>4.15</td>\n",
       "      <td>15643.0</td>\n",
       "      <td>United Kingdom</td>\n",
       "      <td>2011</td>\n",
       "      <td>6</td>\n",
       "      <td>1</td>\n",
       "      <td>7</td>\n",
       "      <td>201106</td>\n",
       "      <td>66.40</td>\n",
       "      <td>2011-06-01</td>\n",
       "    </tr>\n",
       "    <tr>\n",
       "      <th>192589</th>\n",
       "      <td>555157</td>\n",
       "      <td>47590B</td>\n",
       "      <td>PINK HAPPY BIRTHDAY BUNTING</td>\n",
       "      <td>6</td>\n",
       "      <td>2011-06-01 07:38:00</td>\n",
       "      <td>5.45</td>\n",
       "      <td>15643.0</td>\n",
       "      <td>United Kingdom</td>\n",
       "      <td>2011</td>\n",
       "      <td>6</td>\n",
       "      <td>1</td>\n",
       "      <td>7</td>\n",
       "      <td>201106</td>\n",
       "      <td>32.70</td>\n",
       "      <td>2011-06-01</td>\n",
       "    </tr>\n",
       "    <tr>\n",
       "      <th>192590</th>\n",
       "      <td>555157</td>\n",
       "      <td>22423</td>\n",
       "      <td>REGENCY CAKESTAND 3 TIER</td>\n",
       "      <td>4</td>\n",
       "      <td>2011-06-01 07:38:00</td>\n",
       "      <td>12.75</td>\n",
       "      <td>15643.0</td>\n",
       "      <td>United Kingdom</td>\n",
       "      <td>2011</td>\n",
       "      <td>6</td>\n",
       "      <td>1</td>\n",
       "      <td>7</td>\n",
       "      <td>201106</td>\n",
       "      <td>51.00</td>\n",
       "      <td>2011-06-01</td>\n",
       "    </tr>\n",
       "    <tr>\n",
       "      <th>...</th>\n",
       "      <td>...</td>\n",
       "      <td>...</td>\n",
       "      <td>...</td>\n",
       "      <td>...</td>\n",
       "      <td>...</td>\n",
       "      <td>...</td>\n",
       "      <td>...</td>\n",
       "      <td>...</td>\n",
       "      <td>...</td>\n",
       "      <td>...</td>\n",
       "      <td>...</td>\n",
       "      <td>...</td>\n",
       "      <td>...</td>\n",
       "      <td>...</td>\n",
       "      <td>...</td>\n",
       "    </tr>\n",
       "    <tr>\n",
       "      <th>495473</th>\n",
       "      <td>581585</td>\n",
       "      <td>22466</td>\n",
       "      <td>FAIRY TALE COTTAGE NIGHT LIGHT</td>\n",
       "      <td>12</td>\n",
       "      <td>2011-12-09 12:31:00</td>\n",
       "      <td>1.95</td>\n",
       "      <td>15804.0</td>\n",
       "      <td>United Kingdom</td>\n",
       "      <td>2011</td>\n",
       "      <td>12</td>\n",
       "      <td>9</td>\n",
       "      <td>12</td>\n",
       "      <td>201112</td>\n",
       "      <td>23.40</td>\n",
       "      <td>2011-12-09</td>\n",
       "    </tr>\n",
       "    <tr>\n",
       "      <th>495474</th>\n",
       "      <td>581586</td>\n",
       "      <td>22061</td>\n",
       "      <td>LARGE CAKE STAND  HANGING STRAWBERY</td>\n",
       "      <td>8</td>\n",
       "      <td>2011-12-09 12:49:00</td>\n",
       "      <td>2.95</td>\n",
       "      <td>13113.0</td>\n",
       "      <td>United Kingdom</td>\n",
       "      <td>2011</td>\n",
       "      <td>12</td>\n",
       "      <td>9</td>\n",
       "      <td>12</td>\n",
       "      <td>201112</td>\n",
       "      <td>23.60</td>\n",
       "      <td>2011-12-09</td>\n",
       "    </tr>\n",
       "    <tr>\n",
       "      <th>495475</th>\n",
       "      <td>581586</td>\n",
       "      <td>23275</td>\n",
       "      <td>SET OF 3 HANGING OWLS OLLIE BEAK</td>\n",
       "      <td>24</td>\n",
       "      <td>2011-12-09 12:49:00</td>\n",
       "      <td>1.25</td>\n",
       "      <td>13113.0</td>\n",
       "      <td>United Kingdom</td>\n",
       "      <td>2011</td>\n",
       "      <td>12</td>\n",
       "      <td>9</td>\n",
       "      <td>12</td>\n",
       "      <td>201112</td>\n",
       "      <td>30.00</td>\n",
       "      <td>2011-12-09</td>\n",
       "    </tr>\n",
       "    <tr>\n",
       "      <th>495476</th>\n",
       "      <td>581586</td>\n",
       "      <td>21217</td>\n",
       "      <td>RED RETROSPOT ROUND CAKE TINS</td>\n",
       "      <td>24</td>\n",
       "      <td>2011-12-09 12:49:00</td>\n",
       "      <td>8.95</td>\n",
       "      <td>13113.0</td>\n",
       "      <td>United Kingdom</td>\n",
       "      <td>2011</td>\n",
       "      <td>12</td>\n",
       "      <td>9</td>\n",
       "      <td>12</td>\n",
       "      <td>201112</td>\n",
       "      <td>214.80</td>\n",
       "      <td>2011-12-09</td>\n",
       "    </tr>\n",
       "    <tr>\n",
       "      <th>495477</th>\n",
       "      <td>581586</td>\n",
       "      <td>20685</td>\n",
       "      <td>DOORMAT RED RETROSPOT</td>\n",
       "      <td>10</td>\n",
       "      <td>2011-12-09 12:49:00</td>\n",
       "      <td>7.08</td>\n",
       "      <td>13113.0</td>\n",
       "      <td>United Kingdom</td>\n",
       "      <td>2011</td>\n",
       "      <td>12</td>\n",
       "      <td>9</td>\n",
       "      <td>12</td>\n",
       "      <td>201112</td>\n",
       "      <td>70.80</td>\n",
       "      <td>2011-12-09</td>\n",
       "    </tr>\n",
       "  </tbody>\n",
       "</table>\n",
       "<p>302892 rows × 15 columns</p>\n",
       "</div>"
      ],
      "text/plain": [
       "       InvoiceNo StockCode                          Description  Quantity  \\\n",
       "192586    555156     23299         FOOD COVER WITH BEADS SET 2          6   \n",
       "192587    555156     22847          BREAD BIN DINER STYLE IVORY         1   \n",
       "192588    555157     23075            PARLOUR CERAMIC WALL HOOK        16   \n",
       "192589    555157    47590B          PINK HAPPY BIRTHDAY BUNTING         6   \n",
       "192590    555157     22423             REGENCY CAKESTAND 3 TIER         4   \n",
       "...          ...       ...                                  ...       ...   \n",
       "495473    581585     22466       FAIRY TALE COTTAGE NIGHT LIGHT        12   \n",
       "495474    581586     22061  LARGE CAKE STAND  HANGING STRAWBERY         8   \n",
       "495475    581586     23275     SET OF 3 HANGING OWLS OLLIE BEAK        24   \n",
       "495476    581586     21217        RED RETROSPOT ROUND CAKE TINS        24   \n",
       "495477    581586     20685                DOORMAT RED RETROSPOT        10   \n",
       "\n",
       "               InvoiceDate  UnitPrice  CustomerID         Country  \\\n",
       "192586 2011-06-01 07:37:00       3.75     15643.0  United Kingdom   \n",
       "192587 2011-06-01 07:37:00      16.95     15643.0  United Kingdom   \n",
       "192588 2011-06-01 07:38:00       4.15     15643.0  United Kingdom   \n",
       "192589 2011-06-01 07:38:00       5.45     15643.0  United Kingdom   \n",
       "192590 2011-06-01 07:38:00      12.75     15643.0  United Kingdom   \n",
       "...                    ...        ...         ...             ...   \n",
       "495473 2011-12-09 12:31:00       1.95     15804.0  United Kingdom   \n",
       "495474 2011-12-09 12:49:00       2.95     13113.0  United Kingdom   \n",
       "495475 2011-12-09 12:49:00       1.25     13113.0  United Kingdom   \n",
       "495476 2011-12-09 12:49:00       8.95     13113.0  United Kingdom   \n",
       "495477 2011-12-09 12:49:00       7.08     13113.0  United Kingdom   \n",
       "\n",
       "        Invoice_year  Invoice_month  Invoice_date  Invoice_hour  \\\n",
       "192586          2011              6             1             7   \n",
       "192587          2011              6             1             7   \n",
       "192588          2011              6             1             7   \n",
       "192589          2011              6             1             7   \n",
       "192590          2011              6             1             7   \n",
       "...              ...            ...           ...           ...   \n",
       "495473          2011             12             9            12   \n",
       "495474          2011             12             9            12   \n",
       "495475          2011             12             9            12   \n",
       "495476          2011             12             9            12   \n",
       "495477          2011             12             9            12   \n",
       "\n",
       "        Invoice_YearMonth  Revenue Invoiceonlydate  \n",
       "192586             201106    22.50      2011-06-01  \n",
       "192587             201106    16.95      2011-06-01  \n",
       "192588             201106    66.40      2011-06-01  \n",
       "192589             201106    32.70      2011-06-01  \n",
       "192590             201106    51.00      2011-06-01  \n",
       "...                   ...      ...             ...  \n",
       "495473             201112    23.40      2011-12-09  \n",
       "495474             201112    23.60      2011-12-09  \n",
       "495475             201112    30.00      2011-12-09  \n",
       "495476             201112   214.80      2011-12-09  \n",
       "495477             201112    70.80      2011-12-09  \n",
       "\n",
       "[302892 rows x 15 columns]"
      ]
     },
     "execution_count": 185,
     "metadata": {},
     "output_type": "execute_result"
    }
   ],
   "source": [
    "df_6m = df_uk[(df_uk['Invoiceonlydate']>=date(2011,6,1)) & (df_uk['Invoiceonlydate']<=date(2011,12,31))]\n",
    "df_6m"
   ]
  },
  {
   "cell_type": "code",
   "execution_count": 186,
   "metadata": {},
   "outputs": [
    {
     "data": {
      "text/html": [
       "<div>\n",
       "<style scoped>\n",
       "    .dataframe tbody tr th:only-of-type {\n",
       "        vertical-align: middle;\n",
       "    }\n",
       "\n",
       "    .dataframe tbody tr th {\n",
       "        vertical-align: top;\n",
       "    }\n",
       "\n",
       "    .dataframe thead th {\n",
       "        text-align: right;\n",
       "    }\n",
       "</style>\n",
       "<table border=\"1\" class=\"dataframe\">\n",
       "  <thead>\n",
       "    <tr style=\"text-align: right;\">\n",
       "      <th></th>\n",
       "      <th>CustomerID</th>\n",
       "      <th>m6_Revenue</th>\n",
       "    </tr>\n",
       "  </thead>\n",
       "  <tbody>\n",
       "    <tr>\n",
       "      <th>0</th>\n",
       "      <td>12747.0</td>\n",
       "      <td>2104.61</td>\n",
       "    </tr>\n",
       "    <tr>\n",
       "      <th>1</th>\n",
       "      <td>12748.0</td>\n",
       "      <td>19749.28</td>\n",
       "    </tr>\n",
       "    <tr>\n",
       "      <th>2</th>\n",
       "      <td>12749.0</td>\n",
       "      <td>3086.10</td>\n",
       "    </tr>\n",
       "    <tr>\n",
       "      <th>3</th>\n",
       "      <td>12820.0</td>\n",
       "      <td>771.88</td>\n",
       "    </tr>\n",
       "    <tr>\n",
       "      <th>4</th>\n",
       "      <td>12822.0</td>\n",
       "      <td>918.98</td>\n",
       "    </tr>\n",
       "    <tr>\n",
       "      <th>...</th>\n",
       "      <td>...</td>\n",
       "      <td>...</td>\n",
       "    </tr>\n",
       "    <tr>\n",
       "      <th>3230</th>\n",
       "      <td>18278.0</td>\n",
       "      <td>173.90</td>\n",
       "    </tr>\n",
       "    <tr>\n",
       "      <th>3231</th>\n",
       "      <td>18281.0</td>\n",
       "      <td>80.82</td>\n",
       "    </tr>\n",
       "    <tr>\n",
       "      <th>3232</th>\n",
       "      <td>18282.0</td>\n",
       "      <td>176.60</td>\n",
       "    </tr>\n",
       "    <tr>\n",
       "      <th>3233</th>\n",
       "      <td>18283.0</td>\n",
       "      <td>1559.83</td>\n",
       "    </tr>\n",
       "    <tr>\n",
       "      <th>3234</th>\n",
       "      <td>18287.0</td>\n",
       "      <td>1072.00</td>\n",
       "    </tr>\n",
       "  </tbody>\n",
       "</table>\n",
       "<p>3235 rows × 2 columns</p>\n",
       "</div>"
      ],
      "text/plain": [
       "      CustomerID  m6_Revenue\n",
       "0        12747.0     2104.61\n",
       "1        12748.0    19749.28\n",
       "2        12749.0     3086.10\n",
       "3        12820.0      771.88\n",
       "4        12822.0      918.98\n",
       "...          ...         ...\n",
       "3230     18278.0      173.90\n",
       "3231     18281.0       80.82\n",
       "3232     18282.0      176.60\n",
       "3233     18283.0     1559.83\n",
       "3234     18287.0     1072.00\n",
       "\n",
       "[3235 rows x 2 columns]"
      ]
     },
     "execution_count": 186,
     "metadata": {},
     "output_type": "execute_result"
    }
   ],
   "source": [
    "df_user_6m= df_6m.groupby('CustomerID')['Revenue'].sum().reset_index(name='m6_Revenue')\n",
    "df_user_6m"
   ]
  },
  {
   "cell_type": "code",
   "execution_count": 193,
   "metadata": {},
   "outputs": [
    {
     "data": {
      "application/vnd.plotly.v1+json": {
       "config": {
        "plotlyServerURL": "https://plot.ly"
       },
       "data": [
        {
         "alignmentgroup": "True",
         "bingroup": "x",
         "hovertemplate": "m6_Revenue=%{x}<br>count=%{y}<extra></extra>",
         "legendgroup": "",
         "marker": {
          "color": "#636efa",
          "pattern": {
           "shape": ""
          }
         },
         "name": "",
         "offsetgroup": "",
         "orientation": "v",
         "showlegend": false,
         "type": "histogram",
         "x": [
          2104.61,
          3086.1,
          771.88,
          918.98,
          765,
          397.12,
          771.02,
          430.15000000000003,
          1018.71,
          6748.4,
          383.03,
          417.38,
          951.46,
          134.1,
          292.34000000000003,
          4191.03,
          1148.8,
          1915.14,
          808.26,
          1053.7,
          325.96000000000004,
          871.54,
          346.39,
          135.18,
          1019.1,
          514.13,
          2162.68,
          521.2,
          147.12,
          2255.93,
          248.06,
          248.64,
          49.470000000000006,
          853.73,
          -13.35,
          552.5699999999999,
          1463.04,
          703.47,
          309.05,
          1158.27,
          603.4,
          380.46999999999997,
          85,
          188.14,
          347.3,
          8726.9,
          509.58,
          2919.81,
          318,
          628.06,
          1932.54,
          1662.3,
          1617.24,
          164,
          693.37,
          594,
          1301.44,
          164.23,
          405.38,
          176.97,
          278.43,
          694.05,
          1282.66,
          -12.75,
          409.9,
          496.78,
          1294.47,
          1012.9,
          1076.04,
          114.14,
          4353.48,
          876.29,
          287.38,
          317.56,
          536.82,
          1167.44,
          1916.52,
          1843,
          425.69,
          1382.8400000000001,
          329.85,
          4036.84,
          2866.12,
          266.39,
          1490.83,
          771.91,
          160.18,
          -436.2,
          135.95,
          428.44,
          6331.54,
          39.239999999999995,
          2595.4500000000003,
          372.21999999999997,
          97.5,
          1215.6200000000001,
          240.7,
          3532.87,
          312,
          503.76,
          239.46,
          585.82,
          200.72,
          614.67,
          76.32000000000001,
          2474.9700000000003,
          90,
          3181.21,
          192.05,
          81.57,
          609.33,
          2414.7000000000003,
          2072.45,
          1583.24,
          789.89,
          204,
          3603.7400000000002,
          1846.43,
          689.9,
          692.43,
          3072,
          659.68,
          865,
          371.74,
          996.52,
          476.90999999999997,
          553.63,
          303.75,
          513.36,
          676.99,
          305.28000000000003,
          431.59,
          1425.42,
          865.99,
          502.90000000000003,
          2906.45,
          857.1,
          271.40000000000003,
          248.61,
          346.98,
          916.19,
          430.9,
          115.46000000000001,
          179,
          1516.62,
          919.61,
          151.83,
          8088.17,
          220.10000000000002,
          58.08,
          1653.45,
          303.75,
          137.98000000000002,
          5751.82,
          319.82,
          38.08,
          774.7800000000001,
          74.39999999999999,
          2897.96,
          207.35999999999999,
          2654.93,
          243.94,
          884.76,
          59.5,
          964.78,
          766.84,
          756.1800000000001,
          2663.64,
          2220.23,
          485.19,
          233.54,
          338.71000000000004,
          18.72,
          1292.21,
          1002.27,
          259.17,
          64,
          1039.3,
          1250.88,
          1992.67,
          2741.2400000000002,
          575.54,
          3885.77,
          264.21,
          987.72,
          307.09,
          319.77000000000004,
          228.91,
          712.8000000000001,
          1751.51,
          1299.32,
          486.22,
          -611.86,
          402.56,
          1243.28,
          944.65,
          1379.75,
          91.8,
          386.6,
          666.84,
          791.33,
          346.53000000000003,
          207.68,
          116.00999999999999,
          286.46,
          187.71,
          708.76,
          492.84,
          282.45,
          3006.27,
          121.18,
          2430.7000000000003,
          924.98,
          1539.69,
          114.60000000000001,
          260.68,
          447.62,
          117.88,
          60.7,
          1285.65,
          1307.29,
          6063.8,
          870.09,
          703.75,
          250.26000000000002,
          505.69,
          3513.02,
          353.48,
          1086.72,
          780.58,
          1103.15,
          133.62,
          62.63999999999999,
          259.6,
          2150.85,
          2721.96,
          358,
          963.93,
          665.7,
          300.88,
          727.27,
          589.6800000000001,
          221.24,
          166.4,
          121.74000000000001,
          430.5,
          273.58,
          501.12,
          465.68,
          419.57000000000005,
          553.92,
          164.96,
          0,
          473.96,
          292.32,
          557.62,
          4163.32,
          982.78,
          2278.86,
          2275.85,
          1368.71,
          3296.34,
          178.26,
          276.56,
          138.98,
          590.9300000000001,
          258.4,
          542.73,
          126.30000000000001,
          115.5,
          705.69,
          93.66,
          1535.85,
          361.11,
          329.37,
          390.09,
          87.4,
          2089.85,
          360,
          365.29,
          290.32,
          63.75,
          1360.61,
          15,
          552.66,
          910.15,
          297.78,
          598.57,
          945.58,
          578.66,
          4355.25,
          864.3000000000001,
          640.76,
          6227.7,
          1025.09,
          567.36,
          199.48000000000002,
          787.85,
          3306.66,
          675.3,
          2195.62,
          484.79999999999995,
          805.11,
          350.9,
          1876.38,
          795.12,
          431.82,
          7058.45,
          303.93,
          887.57,
          341.36,
          233.76,
          247.32,
          910.72,
          373.94,
          389.28,
          743.53,
          674.7,
          768.24,
          431.26,
          1503.96,
          992.5,
          0,
          1490.62,
          56.160000000000004,
          378.64,
          2324.55,
          772.9,
          249.76,
          572.56,
          2555.46,
          4122.28,
          627.15,
          540.07,
          544.08,
          1377.47,
          307.72,
          954.37,
          937.41,
          312.95,
          75,
          34.68,
          15.001,
          590.12,
          213.55,
          1000.5,
          712.5,
          404.83,
          2752.79,
          221.06,
          140.35,
          1026.04,
          2601.55,
          1222.64,
          2265.6800000000003,
          368.1,
          218.47,
          1006.8,
          648.6899999999999,
          1269.1,
          534.24,
          3794.4900000000002,
          196.89,
          3408.06,
          296.64,
          1104.23,
          2086.36,
          291.88,
          1365.1799999999998,
          1323.77,
          171.98,
          365.4,
          1530.16,
          3957.45,
          183.44,
          1445,
          -8.25,
          674.68,
          297.95,
          1083.71,
          2074.13,
          165,
          2531.58,
          181.38,
          153.3,
          385.87,
          938.55,
          810.57,
          140.34,
          1122.41,
          166.6,
          3388.08,
          213.84,
          184.19,
          972.44,
          152.32,
          692.37,
          1136.77,
          102.84,
          216.85,
          295.93,
          2479.16,
          329.7,
          1785.16,
          205.1,
          152.20000000000002,
          687.72,
          1243.41,
          2109.07,
          659.4399999999999,
          110.80000000000001,
          1093.65,
          125.80000000000001,
          1386.14,
          520.98,
          345.9,
          1678.1200000000001,
          126.66000000000001,
          210.31,
          124.14999999999999,
          3102.52,
          3448.29,
          776.55,
          315.69,
          168.5,
          438.83,
          401.4,
          405.65,
          1700.74,
          2559.23,
          343.38,
          605.06,
          174.37,
          1196.06,
          777.53,
          -550.64,
          130.04,
          874.71,
          192.85,
          255.43,
          1699.72,
          262.63,
          732.0699999999999,
          3967.55,
          1301.55,
          302.34,
          781.03,
          347,
          2331.82,
          379.65,
          1064.09,
          340.9,
          42.45,
          1014.13,
          396.97,
          697.04,
          167.42000000000002,
          3093.12,
          320.12,
          428.89,
          164.34,
          30.119999999999997,
          678.01,
          773.66,
          855.05,
          1404.71,
          544.18,
          177.34,
          213.85,
          140.42000000000002,
          1018.1,
          4904.36,
          1279.1599999999999,
          1691.77,
          1503.99,
          949.75,
          1071.03,
          407.66999999999996,
          387.9,
          122.64,
          1033.34,
          519.44,
          2597.52,
          252.1,
          1245.58,
          1090.82,
          94.2,
          456.84000000000003,
          1534.49,
          549.32,
          216.95,
          229.8,
          1538.87,
          356.92,
          189.47,
          20.6,
          305.02,
          2492.2,
          218.55,
          349.7,
          396.92,
          178.38000000000002,
          232.6,
          1330.83,
          827.83,
          59.5,
          3119.44,
          72,
          910,
          172.25,
          616.74,
          2218.65,
          151.29999999999998,
          308.58000000000004,
          1321.46,
          2295.31,
          393.72,
          5774.41,
          180.48,
          874.42,
          702.94,
          367.8,
          524.14,
          905.69,
          95.81,
          1079.6599999999999,
          333.48,
          522.21,
          752.6,
          491.86,
          1851.17,
          374.37,
          216.9,
          505.47,
          1479.84,
          986.9899999999999,
          263.2,
          291.54,
          367.4,
          958.46,
          461.61,
          126.6,
          2154.68,
          3741.51,
          839.03,
          659.4100000000001,
          151.70000000000002,
          1070.65,
          1689.46,
          1021.87,
          9796.02,
          1332.31,
          1166.85,
          903.71,
          345,
          178.7,
          360.01,
          550.7,
          1690.32,
          202.64000000000001,
          348.8,
          1047.68,
          120.95,
          347.15999999999997,
          324.8,
          943.36,
          1912.16,
          924.6,
          256.38,
          1747.66,
          115.49,
          632,
          957.66,
          465.96,
          174.65,
          412.05,
          209.49,
          1105,
          40.949999999999996,
          384.8,
          506.12,
          453.62,
          1557.15,
          361.62,
          312.98,
          201.13,
          320,
          1537.95,
          1586.81,
          2405.14,
          1056.94,
          2929.18,
          269,
          216.17,
          1240,
          1344.6,
          378.26,
          145.67000000000002,
          876.44,
          3192.54,
          1519.99,
          2207.2200000000003,
          3994.07,
          159.20000000000002,
          1103.11,
          122.7,
          117.24,
          1281.53,
          2193.14,
          1131.28,
          895.55,
          591.35,
          107.65,
          243.56,
          366.11,
          416.90000000000003,
          1675.6100000000001,
          578.4499999999999,
          385.02000000000004,
          2588.12,
          311.16,
          90.02,
          8.5,
          2218.9,
          131.52,
          1538.44,
          877,
          613.95,
          272.04,
          1014.64,
          351.13,
          1682.08,
          616.65,
          223.85000000000002,
          348.99,
          464.57,
          429.79999999999995,
          337.34,
          852.72,
          608.7900000000001,
          361.28,
          158.85,
          71.66,
          384.05,
          839.14,
          2869.05,
          75.6,
          90.6,
          2427.32,
          549.25,
          158.4,
          1765.68,
          378.59,
          117.86,
          732.75,
          260.76,
          230.22,
          51.95,
          80.7,
          7479.61,
          1775.44,
          44.349999999999994,
          413.59000000000003,
          1564.67,
          196.79000000000002,
          869.87,
          200.14,
          957.31,
          1045.09,
          -229.20000000000002,
          6383.7300000000005,
          320.46,
          2749.37,
          369.40999999999997,
          850.63,
          76.8,
          1921.09,
          2313.14,
          1083.24,
          2618.44,
          721.19,
          529.73,
          3682.62,
          2687.56,
          300.1,
          354.52,
          505.18,
          917.34,
          1398.96,
          642.8,
          130.2,
          310.93,
          327.7,
          104.82,
          467.66,
          925.07,
          7966.3,
          1434.17,
          512.02,
          727.44,
          35.400000000000006,
          844.0600000000001,
          152.2,
          2092.81,
          479.08,
          408,
          672.69,
          2592.71,
          746.36,
          9776.91,
          225.36,
          260.25,
          92.46,
          725.6400000000001,
          4830.37,
          3541.43,
          3178.28,
          5630.22,
          501.68,
          374.7,
          1082.01,
          139.54,
          634.34,
          122.47,
          299.81,
          465.39,
          375.1,
          45.599999999999994,
          528.96,
          1636.13,
          181.67,
          161,
          2275.28,
          442.85,
          147.35,
          1771.51,
          194.9,
          1817.4,
          1314.73,
          216.20999999999998,
          -5.9,
          1228.15,
          594.16,
          80.2,
          3981.63,
          594.4,
          1704.67,
          1403.17,
          1382.74,
          90,
          2740.3,
          419.58000000000004,
          2740.43,
          643.6300000000001,
          257.48,
          331.96,
          764.96,
          3580.13,
          287.64,
          2569.05,
          982.3800000000001,
          415.82,
          920.05,
          879.0300000000001,
          115.8,
          2019.6,
          2287.27,
          285.6,
          352.46000000000004,
          306.78000000000003,
          155.71,
          507.66,
          4026.21,
          111.68,
          1696.12,
          1631.77,
          315.84,
          363.79,
          336.8,
          134.46,
          2845.08,
          554.46,
          1620.93,
          719.78,
          1464.05,
          452.89,
          1258.01,
          2467.89,
          4255.66,
          430.85,
          7874.33,
          335.52,
          490.1,
          383.18,
          161.03,
          234.08,
          151.74,
          990.28,
          301.24,
          1327.46,
          1070.48,
          365.73,
          867.61,
          1839.3,
          1141.42,
          169.48000000000002,
          89.94,
          2563.87,
          683.17,
          686.23,
          554.8,
          522.7900000000001,
          924.59,
          785.0699999999999,
          227.86,
          1352.4,
          488.41,
          775.46,
          1829.31,
          301.56,
          1085.81,
          663.49,
          213.70000000000002,
          1037.81,
          -4.12,
          1024.42,
          1904.05,
          2879.7000000000003,
          2467.13,
          5042.26,
          120,
          1163.45,
          2378.23,
          218.27,
          470.08,
          305.87,
          341.27,
          754.49,
          1920.16,
          578.45,
          1910.01,
          2545.73,
          67.95,
          317.04,
          1537.0900000000001,
          2259.84,
          3727.07,
          538.5400000000001,
          166.20000000000002,
          1051.46,
          2327.66,
          43.2,
          632.04,
          1803.76,
          2083.42,
          1300.74,
          1416.65,
          1017.5699999999999,
          120,
          1926.58,
          508.58000000000004,
          1203.93,
          287.54,
          311.65,
          2842.7400000000002,
          462.65999999999997,
          866.31,
          351.45,
          873.98,
          500.52000000000004,
          -25.75,
          1479.13,
          358.96,
          244.05,
          108.97999999999999,
          759.14,
          133.5,
          51,
          233.64000000000001,
          163.62,
          666.9399999999999,
          225.77,
          882.58,
          2128.23,
          161.2,
          2600.15,
          6422.46,
          257.68,
          302.45,
          237.12,
          202.68,
          626.0699999999999,
          1247.69,
          202.11,
          1770.56,
          2012.3,
          1012.26,
          3562.34,
          1855.92,
          377.64,
          2314.44,
          559.7,
          3487.86,
          499.79999999999995,
          750.74,
          156.75,
          1138.1,
          1900.89,
          1393.3500000000001,
          -133.5,
          761.3299999999999,
          1267.93,
          3442.36,
          490.22,
          1937.25,
          750.5,
          385.87,
          357.93,
          3862.33,
          322.08,
          2447.57,
          363.34000000000003,
          903.76,
          2255.51,
          1372.8,
          89.06,
          -106.4,
          1171.97,
          1284.4,
          811.8,
          736.54,
          562.2,
          273,
          505.8,
          213.8,
          302.59,
          264.44,
          119.93,
          3047.63,
          1837.92,
          404.34,
          1326.83,
          1043.8700000000001,
          413.7,
          1236.75,
          467.06,
          163.55,
          608.66,
          149.34000000000003,
          537.71,
          514.82,
          1142.81,
          279.05,
          333.65,
          1830.05,
          -7.9,
          321.92,
          165.75,
          1071.23,
          1047.43,
          213.73,
          2362.84,
          139.56,
          123.8,
          1791.1,
          689.3,
          356.85,
          123.38000000000001,
          1379.04,
          3543.26,
          130.55,
          2671.38,
          1445.31,
          767.87,
          276.42,
          1267.4099999999999,
          148.95999999999998,
          138.24,
          652.24,
          1676.69,
          330.45,
          174.37,
          105.60000000000001,
          695.91,
          241.09,
          1090.1,
          3019.8,
          4678.53,
          364.21999999999997,
          620.04,
          1779,
          1379.12,
          2361.87,
          1987.1200000000001,
          355.56,
          281.75,
          537.48,
          800.36,
          447.9,
          103.25,
          1236.48,
          902.53,
          1629.51,
          3986.7400000000002,
          326.4,
          765.62,
          60.8,
          165.07,
          546.95,
          2381.04,
          126.2,
          0,
          952.13,
          1080.76,
          3793.12,
          1206.72,
          1524.46,
          227.39,
          1740.71,
          274.52,
          391.7,
          168.63,
          138.6,
          114.11,
          878.04,
          554.46,
          157.05,
          320.81,
          1196.92,
          570.46,
          278.4,
          124.83,
          1576.8,
          883.15,
          221.97,
          213.96,
          5063.11,
          1581.15,
          457.56,
          341.64,
          1460.06,
          320.58000000000004,
          676.67,
          225.85,
          -13.5,
          2187.67,
          340.38,
          939.21,
          376.90000000000003,
          309.66,
          443.6,
          1749.36,
          1645.35,
          110.46,
          96.12,
          335.87,
          592.96,
          356.99,
          833.0699999999999,
          238.28,
          114.18,
          1602.74,
          1119.5900000000001,
          157.94,
          323.82,
          247.15,
          1344.9,
          285.74,
          107.95,
          246.31,
          637.89,
          544.52,
          195.25,
          5287.39,
          1362.91,
          604.75,
          1399.72,
          105,
          31.200000000000003,
          717.02,
          628.38,
          2338.79,
          358.61,
          1674.73,
          111.25,
          1199.6200000000001,
          1250.76,
          1513.75,
          792.1700000000001,
          2028.49,
          318.17,
          1546.91,
          707.31,
          3310.9,
          606.13,
          1424.96,
          917.07,
          1464.33,
          160.19,
          619.9300000000001,
          329.68,
          1368.72,
          663.81,
          187.92000000000002,
          687.3000000000001,
          718.08,
          1449.46,
          129,
          1705.8600000000001,
          1641.18,
          3510.28,
          730.55,
          764.25,
          2591.48,
          -25,
          905.04,
          171.95,
          979.66,
          644.62,
          389.64,
          563.15,
          409.78,
          3147.77,
          738.96,
          420.5,
          277.12,
          1053.72,
          158.4,
          250.55,
          254.11,
          1307.16,
          139.5,
          4814.4,
          139.26,
          605.3399999999999,
          1120.98,
          -2.95,
          396.81,
          447.68,
          175.31,
          77.4,
          679.4399999999999,
          197.64,
          592.9,
          0,
          214.14,
          626.47,
          131.45000000000002,
          4475.78,
          98.06,
          157.7,
          1139.99,
          193.14,
          114.76,
          353.27,
          445.4,
          193.39000000000001,
          2175.37,
          809.18,
          778.5,
          539.55,
          187.35,
          507.29,
          110.78,
          1127.71,
          1201.04,
          312.21999999999997,
          197.13,
          1469.11,
          102.44999999999999,
          1148.94,
          1513.91,
          2441.8,
          2315.26,
          309.4,
          5498.07,
          305.22,
          2346.29,
          248.54999999999998,
          1558.56,
          645.65,
          1311.3799999999999,
          1165.65,
          1056.88,
          168.62,
          125.79,
          841.1999999999999,
          266.76,
          15,
          96.14,
          2500.31,
          721.95,
          273.78000000000003,
          1090.6200000000001,
          633.8,
          576.99,
          255.4,
          589.7,
          446.08,
          765.3199999999999,
          1862,
          554.38,
          1237.8500000000001,
          655.75,
          7146.13,
          1190.88,
          692.59,
          924.24,
          314.11,
          986.05,
          1025.44,
          291.35,
          2519.41,
          277.8,
          389.86,
          611.6,
          116.55000000000001,
          969.79,
          1610.15,
          413.06,
          749.1,
          223.88,
          4558.22,
          100.9,
          290.82,
          788.17,
          361.25,
          311.69,
          4507.4800000000005,
          289.82,
          336.17,
          289.03,
          262.59,
          221.27,
          3865.02,
          1487.8,
          599,
          191.32,
          463.8,
          147.59,
          809.81,
          1116.57,
          114.77,
          659.85,
          114.39,
          279.94,
          340.6,
          394.14,
          213.27,
          163.2,
          113.92,
          540.98,
          246.23,
          490.52,
          494.17,
          1246.32,
          3616.39,
          502.09,
          156.91,
          1261.78,
          308.94,
          231.98,
          260.17,
          170.04,
          125.58,
          204.87,
          1206.49,
          905.04,
          3905.43,
          973.24,
          377.01,
          238.22,
          412.03000000000003,
          441.16,
          365.52000000000004,
          517.31,
          1401.88,
          1622.08,
          252.73000000000002,
          465.55,
          264.23,
          6893.2300000000005,
          180.35,
          537,
          3184.95,
          346.76,
          2746.55,
          124.12,
          1727.17,
          1391.61,
          475.14,
          302.1,
          1384.23,
          763.75,
          303.09,
          173.82,
          1751.73,
          760.59,
          896.71,
          313.4,
          1109.53,
          393.40000000000003,
          612.43,
          748.87,
          773.03,
          880.85,
          5890.59,
          256.75,
          1140.27,
          2420.84,
          476.96,
          1200.34,
          594.2,
          219.39000000000001,
          248.08,
          649.5,
          410.48,
          215.25,
          703.36,
          -24.9,
          2298.93,
          629.28,
          809.1,
          1278.98,
          3439.41,
          2042.65,
          340.11,
          873.1,
          1237.73,
          244.8,
          343.82,
          162.57,
          701.07,
          1129.84,
          184.19,
          3904.02,
          406.53,
          970.5,
          2327.02,
          330.11,
          488.06,
          324.52,
          1148.54,
          1282.45,
          1222.55,
          498.74,
          4885.42,
          470.7,
          492.94,
          301.29,
          520.8000000000001,
          4802.72,
          4684.24,
          329.25,
          240.27,
          961.49,
          814.28,
          401.40000000000003,
          149.47,
          474.87,
          106.56,
          1097.85,
          224.14,
          747.58,
          389.47999999999996,
          252.37,
          406.76,
          310.62,
          411.41,
          4238.48,
          729.32,
          499.32,
          3938.84,
          3861,
          302.59,
          193.64,
          611.55,
          337.35,
          1134.9,
          648.8299999999999,
          402.59999999999997,
          802.22,
          511.34000000000003,
          1146.51,
          656.79,
          96.6,
          3999.63,
          305.75,
          920.77,
          342.58,
          2472.11,
          612.06,
          318.67,
          1056.54,
          764.34,
          1077.47,
          791.04,
          316.68,
          333.63,
          1264.36,
          356,
          3824.44,
          6281.34,
          740.78,
          915.3,
          300.36,
          890.85,
          98.45,
          307.5,
          898.1700000000001,
          254.82,
          156.51,
          393.74,
          793.88,
          1717.36,
          408.8,
          1025.85,
          1750.21,
          721.94,
          716.57,
          609.19,
          135.31,
          255.89999999999998,
          113.12,
          376.84000000000003,
          240.55,
          485.24,
          682.52,
          559.65,
          5817.85,
          1980.01,
          1832.5,
          635.04,
          2535.66,
          1424,
          496.44,
          2924.12,
          303.65,
          1174.35,
          205.3,
          316.95,
          52,
          551.54,
          312.62,
          267.13,
          1491.26,
          602.97,
          162.29,
          208.75,
          1023.2,
          714.96,
          351.67,
          173.97,
          299.67,
          2020.52,
          391.76,
          364.5,
          476.58,
          367.69,
          158.04,
          473.81,
          1600.8600000000001,
          277.05,
          1564.69,
          3973.33,
          427.93,
          581.39,
          1121.8400000000001,
          496.97,
          461.40999999999997,
          446.94000000000005,
          -1592.49,
          1232.61,
          2007.3999999999999,
          1224.16,
          168,
          579.19,
          440.18,
          1452.2600000000002,
          4352.59,
          338.84,
          316.88,
          394.14,
          500,
          1196.55,
          107.76,
          747.1,
          288.18,
          1339.63,
          815.77,
          320.6,
          185.78,
          349.1,
          174.32,
          726.58,
          1649.95,
          1346.38,
          190.53,
          738.7,
          1699.94,
          508.8,
          135.86,
          211,
          43.5,
          771.87,
          1483.14,
          93.78,
          364.90000000000003,
          171.19,
          -115.43,
          734.5200000000001,
          149.29,
          633.48,
          156.57999999999998,
          257.88,
          2774.45,
          1418.26,
          626.95,
          429.84,
          291.48,
          1388.37,
          161.64,
          234.6,
          126.14,
          2102.71,
          334.53,
          511.88,
          439.71,
          504.5,
          469.48,
          371.56,
          1465.2,
          454.10999999999996,
          1441.42,
          5131.28,
          118.96,
          3563.11,
          1296.37,
          91.32000000000001,
          741.77,
          1445.93,
          659.4599999999999,
          1028.75,
          1299.23,
          291.6,
          6850.65,
          1131.56,
          3321.5499999999997,
          52.83,
          3497.14,
          979.26,
          492.36,
          371.16,
          909.23,
          19.799999999999997,
          8603.26,
          1577.52,
          62.43,
          938.97,
          343.5,
          1031.87,
          398.84,
          412.01000000000005,
          440,
          497.09,
          148.44,
          1448.78,
          2035.57,
          949.22,
          2007.44,
          1160.73,
          746.92,
          125.01,
          110.92,
          538.46,
          213.3,
          85.13000000000001,
          1783.04,
          157.39000000000001,
          2550.31,
          751.16,
          437.73,
          436.06,
          437.23,
          3129.27,
          279.77,
          473.65000000000003,
          456.99,
          584.0699999999999,
          173.16,
          186.01,
          758.29,
          1087.21,
          1640.1,
          650.4300000000001,
          1676.82,
          607.45,
          112.1,
          940.6700000000001,
          229.23,
          127.1,
          149,
          2795.01,
          379.3,
          722.61,
          455.3,
          568.8000000000001,
          388.58,
          199.8,
          1503.87,
          16.9,
          315.71999999999997,
          235.68,
          312.90999999999997,
          2003.97,
          742.17,
          48.480000000000004,
          216.39,
          508.05,
          596.29,
          1093.68,
          270.03000000000003,
          112.46000000000001,
          1252.79,
          195.15,
          5652.18,
          747.031,
          336.40000000000003,
          670.34,
          1158.77,
          717.78,
          301.03,
          276.73,
          809.23,
          393.92,
          2174.63,
          789.49,
          1920.71,
          243.55,
          418.06,
          223.36,
          425.32,
          6684.43,
          581.82,
          310.3,
          389.81,
          612.01,
          107.60000000000001,
          418.98,
          337.74,
          877.4399999999999,
          922.53,
          441.64,
          30,
          7.5,
          306.45,
          858.09,
          138.14,
          386.43,
          765.79,
          301.32,
          478.89000000000004,
          1619.3600000000001,
          1095.29,
          1066.94,
          278.69,
          2446.69,
          657.23,
          352.7,
          781.28,
          854.79,
          600.6800000000001,
          193.75,
          1589,
          150.6,
          239.76,
          191.04,
          3802.42,
          1093.6100000000001,
          309.65,
          664.03,
          1542.14,
          1354.77,
          1001.8100000000001,
          945.58,
          1277.64,
          772.5600000000001,
          185.55,
          330.88,
          216.37,
          2612.9900000000002,
          598.73,
          507.08,
          1857.16,
          415.25,
          1928.09,
          -134.8,
          653.45,
          760.8000000000001,
          651.9300000000001,
          2199.38,
          449.12,
          154.88,
          784.46,
          34.8,
          768.39,
          182.96,
          974.04,
          149.31,
          1852.91,
          1583.75,
          363.87,
          1698.15,
          283.84,
          453.06,
          205.25,
          583.75,
          1048.67,
          2124.54,
          315.06,
          142.68,
          635.6800000000001,
          270.8,
          241.62,
          72.52,
          250.21,
          2593.94,
          246.3,
          984.3,
          4834.2,
          948.05,
          220.85,
          381.20000000000005,
          642.32,
          610.01,
          1692.77,
          367.2,
          563.92,
          454.58,
          1042.19,
          -451.42,
          415.82000000000005,
          3323.19,
          2971.44,
          484.22,
          903.9,
          15.899999999999997,
          291.31,
          917.88,
          1036.38,
          1842.73,
          706.52,
          728.3100000000001,
          570.96,
          445.27,
          532.94,
          929.36,
          889.1,
          636.14,
          547.7,
          491.82,
          827.38,
          465.78,
          117.47,
          391.98,
          1020.74,
          345.66,
          595.84,
          130.73999999999998,
          2164.71,
          208.59,
          238.85,
          57.5,
          110.8,
          1390.26,
          369.73,
          9263.9,
          297,
          622.63,
          556.95,
          2277.88,
          341.87,
          59.64,
          1541.2600000000002,
          581.2,
          230.53,
          2042.74,
          354.09000000000003,
          360.93,
          2194.4700000000003,
          440.78,
          396.48,
          364.35,
          181.09,
          141.27,
          148.95,
          179.17,
          385.89,
          351.11,
          363.88,
          4485.12,
          164.68,
          884.53,
          716.27,
          191.94,
          681.57,
          123.13,
          774.36,
          192.23,
          369.17,
          167.5,
          336.03000000000003,
          426.63,
          1201.37,
          1107.46,
          145.35,
          69.28,
          1482.66,
          337.44,
          1708.24,
          955.24,
          364.72,
          1276.44,
          294.40000000000003,
          573.92,
          827.29,
          2944.19,
          428.89,
          104.35,
          470.76,
          689.45,
          245.03,
          582.9,
          3113.7,
          1868.66,
          371.01,
          220.95,
          1054.73,
          1098.78,
          1638.68,
          1786.28,
          326.75,
          2034.89,
          137.84,
          168.12,
          935.2,
          158.03,
          390.74,
          41.989999999999995,
          2756.82,
          427.07,
          389.51,
          1301.95,
          1554.3700000000001,
          437.8,
          1332.19,
          339.63,
          992.71,
          2371.87,
          1415.29,
          390.2,
          690.54,
          674.24,
          211.88,
          408.90000000000003,
          960.74,
          851.01,
          219.12,
          251.24,
          439.65999999999997,
          236.09,
          417.95000000000005,
          243.31,
          5522.08,
          570.19,
          137.38,
          891.12,
          3166.4,
          1172.32,
          97.5,
          479.45,
          -12.75,
          1111.79,
          137.9,
          362.06,
          1511.95,
          783.9,
          664.85,
          1165.98,
          812.16,
          575.44,
          1521.87,
          852.15,
          326.24,
          1868.08,
          1352,
          86.9,
          2238.77,
          979.64,
          656.47,
          534.33,
          157.81,
          185.63,
          17,
          826.13,
          995.33,
          413.6,
          1245.96,
          1842.14,
          895.1800000000001,
          302.36,
          108.38,
          3204.1600000000003,
          816.1,
          643.55,
          59.599999999999994,
          161.38,
          135.75000000000003,
          1157.07,
          232.21,
          423.36,
          1294.14,
          579.22,
          434.58000000000004,
          307.78,
          5396.42,
          656.25,
          1491.92,
          1842.02,
          7851.76,
          334.56,
          550.08,
          495.61,
          579.63,
          620.4,
          850.77,
          2441.41,
          75,
          375,
          280.52,
          1025.19,
          1422.32,
          1980.05,
          644.24,
          1009.4499999999999,
          3190.9700000000003,
          802.53,
          2518.79,
          1822.97,
          1254.84,
          73.2,
          940.83,
          1406.57,
          1009.5500000000001,
          570.61,
          331.95,
          197.9,
          215.83,
          7472.05,
          305.54,
          4100.65,
          338.71000000000004,
          1007.32,
          194.41,
          2944.73,
          4276.6,
          416.09,
          215.48,
          215.08,
          2362.2400000000002,
          400.68100000000004,
          1080.6200000000001,
          1821.52,
          274.6,
          405.71,
          761.38,
          248.31,
          394.38,
          166.67,
          1956.6700000000003,
          542.77,
          192.19,
          159,
          313.08000000000004,
          242.35,
          1326.1100000000001,
          549.49,
          752.09,
          679.71,
          652.4,
          266.1,
          616.76,
          210.18,
          522.85,
          432.2,
          372.9,
          3693.81,
          1773.91,
          3210.31,
          409.1,
          907.23,
          114.56,
          152.94,
          779.54,
          1965.22,
          1547.63,
          46.95,
          4171.05,
          1035.45,
          491.87,
          2571.86,
          490.05,
          667.65,
          1290.07,
          411.7,
          810.6000000000001,
          537.83,
          1509.58,
          2062.06,
          1253.7,
          823.97,
          142.5,
          280.9,
          1107,
          1328.55,
          598.2,
          212.82,
          4478.65,
          361.21999999999997,
          1600,
          352.47,
          616.26,
          274.15000000000003,
          974.75,
          770.89,
          328.15,
          326.75,
          428.68,
          372.82000000000005,
          2550.28,
          1374.58,
          242.21,
          1460.9,
          151.05,
          214.79999999999998,
          549.07,
          1167.17,
          322.41,
          370.47999999999996,
          101.10000000000001,
          575.41,
          887.65,
          1013.75,
          739.77,
          494.44,
          4520.43,
          395.8,
          520.98,
          2024.95,
          705.91,
          3411.69,
          896.66,
          652.07,
          109.36000000000001,
          707.04,
          1051.06,
          327.3,
          633.58,
          497.43,
          1199.21,
          1045.02,
          367.93,
          316.73,
          977.52,
          2131.9,
          1780.59,
          358.90000000000003,
          175.4,
          407.66,
          256.1,
          692.1,
          2118.48,
          804.5799999999999,
          1036.34,
          481.09999999999997,
          230.16,
          303.93,
          2404.6,
          443.05,
          163.07,
          1332.19,
          1225.32,
          83.15,
          151.83,
          262.2,
          75.45,
          210.35,
          1026.99,
          529.36,
          455.3,
          346.12,
          133.56,
          1579.88,
          -2.95,
          284.55,
          300.85,
          287.4,
          184.26,
          798.03,
          798.35,
          3368.21,
          170.2,
          179.76,
          414.59,
          230.51,
          0,
          259.01,
          -33,
          311.92,
          266.97,
          6.9,
          707.4,
          581.76,
          2343.34,
          814.72,
          151.42,
          68,
          1069.28,
          1314.68,
          1279.39,
          74.9,
          373.55,
          416.73,
          98.3,
          1811.47,
          234.3,
          941.95,
          331,
          300.83,
          769.29,
          220.62,
          379.4,
          363.65,
          492.2,
          731.5,
          961.86,
          437.9,
          377.18,
          1414.99,
          86.12,
          235.86,
          338.54,
          484.38,
          777.6,
          90.30000000000001,
          609.51,
          874.59,
          1004.8,
          101.69999999999999,
          293.62,
          111.38,
          413.7,
          6489.97,
          5336.9800000000005,
          290.36,
          228.06,
          244.41,
          455.25,
          759.76,
          4838.4,
          1026.94,
          593.75,
          539.02,
          335.2,
          119.62,
          339.3,
          4035.15,
          1242.61,
          611.05,
          988.64,
          420.53999999999996,
          285.89,
          1674.97,
          281.85,
          4869.05,
          484.33,
          511.12,
          1077.74,
          333.89,
          124.2,
          2194.87,
          848.54,
          657.12,
          366.03,
          451.44,
          70.44,
          313.62,
          324.14,
          459.24,
          213.5,
          2944.35,
          260.43,
          181.09,
          360.16,
          129.5,
          90.04,
          576.06,
          244.79999999999998,
          494.72999999999996,
          482.47,
          1616.61,
          3463.34,
          129.49,
          907.61,
          618.59,
          506.19,
          500.42,
          1206.3,
          83.2,
          322.78,
          384.14,
          3586,
          322.8,
          1470.13,
          417.73,
          2430.63,
          820.97,
          469.28000000000003,
          698.23,
          231.10000000000002,
          380.6,
          111.37,
          86.31,
          270.85999999999996,
          518.42,
          3647.04,
          1166.92,
          99.42,
          2982.27,
          5053.91,
          691.07,
          39.12,
          426.09,
          118.98,
          366.78,
          184.14,
          1370.8700000000001,
          2112.9900000000002,
          1692.27,
          4631.35,
          319.61,
          493.62,
          1749.68,
          183.7,
          894.5,
          1028,
          324.24,
          1833.26,
          1260.86,
          303.26,
          122.13,
          324.45,
          99,
          2107.07,
          3310.15,
          7353.3,
          531.35,
          656.63,
          1045.28,
          845.4,
          1052.23,
          2441.06,
          4290,
          301.71999999999997,
          3000.21,
          812.19,
          155.24,
          2751.05,
          589.15,
          586.83,
          727.74,
          4242.15,
          262.17,
          603.75,
          650.51,
          1174.59,
          417.59999999999997,
          312.55,
          0,
          1130.09,
          1304.76,
          3582.67,
          3805.13,
          826.96,
          605.7,
          505.23,
          1764.72,
          223.92000000000002,
          576.16,
          369.34000000000003,
          772.84,
          316.62,
          1501.38,
          -16.95,
          2758.25,
          2931.54,
          274.79,
          113.62,
          590.86,
          171.59,
          654.92,
          1003.86,
          388.28,
          49.1,
          152.76,
          6692.9400000000005,
          263.3,
          919.8000000000001,
          107.6,
          300.31,
          80.8,
          1520.1200000000001,
          1130.13,
          243.84,
          1201.51,
          305.62,
          1201.49,
          140.85,
          332.3,
          418.94,
          245.82,
          387.12,
          469.76,
          121.92,
          571.61,
          547.07,
          1486.73,
          2327.7400000000002,
          91.61,
          553.8000000000001,
          2623.33,
          497.61,
          460.64,
          775.1800000000001,
          341.7,
          128.5,
          197.22,
          325.91,
          62.5,
          435.24,
          99.1,
          251.87,
          1356.24,
          8785.83,
          1138.12,
          739.87,
          6354.67,
          214.32,
          193.44,
          281.42,
          124.57,
          342.45,
          144.91000000000003,
          328.4,
          35.400000000000006,
          213.29999999999998,
          173.76,
          318.55,
          207.73999999999998,
          805.62,
          774.52,
          680.02,
          3877.01,
          1265.18,
          775.97,
          0,
          1519.08,
          432,
          489.41999999999996,
          148.7,
          429.84000000000003,
          280.86,
          194.88,
          577.44,
          512.79,
          219.14,
          392.73,
          934.01,
          187.6900000000001,
          1706.88,
          373.24,
          2466.1,
          2248.5,
          366.13,
          397.65,
          364.14,
          1510.06,
          1397.22,
          208.46,
          454.89000000000004,
          378.18,
          767.5600000000001,
          541.1,
          169.79,
          4016.29,
          739.5,
          201.6,
          1896.24,
          1295.39,
          380.55,
          2701.11,
          161.94,
          322.05,
          950.9300000000001,
          262.68,
          1635.5300000000002,
          2292.2,
          1316.15,
          2571.82,
          194.48,
          655.52,
          1006.56,
          208.96,
          167.61,
          20.8,
          1143.6,
          163.69,
          292.34,
          117.35000000000001,
          305.52,
          234.17,
          110.55000000000001,
          994.0699999999999,
          319.02,
          439.43,
          650.41,
          232.20999999999998,
          344.33,
          1471.85,
          384.06,
          1308.9099999999999,
          4392.42,
          2548.7599999999998,
          1873.2,
          1412,
          126.12,
          1133.25,
          943.1600000000001,
          735.4300000000001,
          7.42,
          484.82,
          2187.63,
          494.26,
          1412.94,
          781.78,
          427.2,
          185.46,
          270.9,
          565.58,
          1842.56,
          4157.24,
          515.1,
          276.68,
          71,
          95.85,
          196.8,
          121.67999999999999,
          446.41,
          358,
          146.87,
          380.35,
          422.04,
          592.77,
          1253.22,
          112.4,
          449.73,
          777.07,
          548.99,
          1560.58,
          932.53,
          299.49,
          642.02,
          351.47,
          125,
          4012.98,
          1028,
          413.75,
          496.38,
          435.01,
          360.23,
          1584.37,
          1982,
          1112.17,
          711.5,
          -112.35,
          2195.2400000000002,
          1609.15,
          312.14,
          1612.35,
          1446.09,
          138.05,
          506.88,
          378.2,
          118.80000000000001,
          211.29999999999998,
          290.16,
          1366.91,
          409.76,
          2949.75,
          347.75,
          2050.08,
          975.1800000000001,
          1392.8,
          2434.04,
          1642.88,
          762.35,
          859.19,
          971.74,
          1621.73,
          346.38,
          6261.62,
          405.09000000000003,
          163.29999999999998,
          248.61,
          317.03,
          506.83000000000004,
          593.61,
          138.32,
          345.29999999999995,
          298.89,
          259.35,
          486.53,
          2463.17,
          3850.57,
          94.5,
          639.18,
          5894.87,
          984.57,
          185.9,
          741.48,
          124.88,
          213.78,
          329.34,
          251.70000000000002,
          306.55,
          568.42,
          1534.73,
          2312.96,
          887.9,
          293.1,
          1523.18,
          78.75,
          816.88,
          313.26,
          3755.65,
          911.86,
          223.48,
          231.17,
          84.39999999999999,
          3286.9100000000003,
          144,
          1049.79,
          157.18,
          54.740000000000016,
          1274.25,
          1674.46,
          1013.01,
          170.56,
          342.63,
          3563.85,
          305.55,
          384.08,
          204.24,
          1063.28,
          1844.28,
          370.45,
          1012.14,
          114.23,
          1733.47,
          335.13,
          354.15,
          573.1700000000001,
          1218.51,
          318.76,
          1803.66,
          421.52,
          190.88,
          149.89000000000001,
          208.16,
          352.31,
          314.69,
          2381.05,
          1135.04,
          5794.55,
          954.9,
          282.19,
          318.65,
          221.87,
          353.86,
          178.26,
          272.44,
          185.95,
          112.10000000000001,
          221.73000000000002,
          298,
          562.9,
          310.64,
          317.62,
          487.15999999999997,
          739.1899999999999,
          111.97999999999999,
          187.82999999999998,
          961.56,
          713.23,
          153.92,
          563.77,
          756.03,
          936.16,
          525.24,
          1405.76,
          556.95,
          131.78,
          498.42,
          669.11,
          197.63,
          816.81,
          5421.87,
          82.75,
          828.39,
          644.3,
          2288.13,
          1738.21,
          3628.97,
          2524.02,
          290.52,
          700.86,
          616.67,
          288,
          279.75,
          363.9,
          175.2,
          494.25,
          24,
          2968.93,
          183.36,
          6355.49,
          267.76,
          160.57,
          409.40999999999997,
          1812.44,
          228.96,
          999.37,
          110.75,
          1256.19,
          388.55,
          1740,
          1393.06,
          388.14,
          127.86,
          585.79,
          443.2,
          2379.33,
          2904.37,
          1023.75,
          446.18,
          326.26,
          597.38,
          501.67,
          -27.6,
          97.35,
          2503.3,
          404.66,
          6454.3,
          65.4,
          199.29,
          108.75,
          261.11,
          2686.42,
          784.11,
          496.36,
          508.8,
          6933.3,
          696.41,
          124.92999999999999,
          817.44,
          1849.48,
          281.62,
          967.22,
          32.65,
          511.3,
          912.3199999999999,
          493.36,
          548.24,
          778,
          507.84,
          3435.33,
          296.07,
          2165.92,
          467.98,
          1300.21,
          231.49,
          759.17,
          3828.38,
          100.8,
          9871.08,
          325.26,
          153.16,
          365.76,
          303.15999999999997,
          2333.42,
          93.89999999999999,
          53.65,
          1425.03,
          52.800000000000004,
          541.53,
          -4287.63,
          1182.17,
          1648.95,
          486.71999999999997,
          340.06,
          316.5,
          657.3,
          -3.552713678800501e-15,
          757.46,
          199.53,
          937.6,
          289.96000000000004,
          763.28,
          137,
          1537.7,
          501.96000000000004,
          259.27,
          194.37,
          506.51,
          1249.34,
          414.04,
          168.07999999999998,
          1926.8799999999999,
          2352.06,
          497.56,
          272.22,
          1138,
          689.1,
          558.96,
          658.85,
          294.29,
          6100.74,
          308.48,
          1622.57,
          513.2,
          208.65,
          67.65,
          312.87,
          888.4200000000001,
          546.81,
          562.4,
          822.29,
          652.74,
          307.2,
          637.3100000000001,
          3540.1,
          1017.14,
          293.45,
          223.36,
          76.5,
          266.92,
          98.42,
          301.6,
          645.96,
          148.86,
          611.4399999999999,
          1487.6,
          1952.45,
          287.81,
          541.46,
          368.90000000000003,
          167.62,
          1107.38,
          454.01,
          901.21,
          2148.49,
          1138.56,
          74.55,
          362.9,
          2085.9,
          -18.72,
          440.2,
          7552.65,
          1227.3,
          611.54,
          843,
          1813.4,
          1479.22,
          576.4,
          3248.66,
          678.18,
          388.79,
          2081.02,
          161.67000000000002,
          4283.72,
          -609.4000000000001,
          193.42,
          574.53,
          1925.93,
          1360.14,
          1990.3100000000002,
          390.07,
          57.3,
          163.2,
          304.8,
          81.44,
          434.32,
          527.0500000000001,
          443.18,
          1497.32,
          75.75,
          1207.93,
          168.1,
          225.78,
          1309.84,
          547.3,
          265.93,
          547.0600000000001,
          621.66,
          712.29,
          1922.26,
          133.06,
          682.16,
          861.74,
          166.08,
          3886.67,
          4104.89,
          1175.88,
          1036.24,
          1674.69,
          168.28,
          1884.51,
          196,
          1005.4100000000001,
          278.45,
          728.16,
          698.84,
          347.75,
          1795.72,
          601.9,
          1954.28,
          842.16,
          250.38,
          1082.57,
          1992.1100000000001,
          184.4,
          1351.92,
          239.41,
          1678.81,
          2702.71,
          2616.15,
          117.47999999999999,
          187.02,
          283.12,
          765.34,
          1712.16,
          1409.07,
          1368.07,
          798.74,
          497.90000000000003,
          1423.82,
          9208.52,
          68.7,
          156.48,
          137.45,
          164.57,
          522.91,
          4054.17,
          3702.19,
          663.56,
          680.46,
          2529.6000000000004,
          995.6500000000001,
          2154.5,
          1042.55,
          2515.68,
          3849.69,
          878.2,
          475.24,
          587.65,
          8091.01,
          337.49,
          168.24,
          1083.43,
          1715.28,
          52.54,
          1033.44,
          64.65,
          305.51,
          1797.57,
          1508.02,
          3266.59,
          2401.87,
          834.99,
          115.05,
          712.78,
          556.85,
          109.33,
          271.2,
          2273.1800000000003,
          3075.87,
          130.01,
          182.77,
          620.47,
          665.86,
          642.17,
          86.02,
          171.06,
          131.94,
          163.89,
          149.02,
          1117.9,
          1068.54,
          106.1,
          323.04,
          187.14000000000001,
          75.9,
          780.43,
          1667.6,
          844.16,
          1151.64,
          512.31,
          546.04,
          1976.92,
          3776.93,
          514.61,
          1714.6,
          15.25,
          117.97999999999999,
          835.8499999999999,
          -7.1000000000000005,
          298.4,
          411.65,
          111.05,
          35.400000000000006,
          155.37,
          350.64,
          110.21000000000001,
          1560.53,
          625,
          338.8,
          2033.1,
          512.8299999999999,
          114.34,
          199.5,
          275.4,
          2535.86,
          1601.22,
          1788.1,
          389.09000000000003,
          6124.41,
          325.7,
          31.44999999999999,
          117.22,
          1563,
          668.1800000000001,
          122.76,
          237.61,
          379.45,
          178.51999999999998,
          552.42,
          114.61,
          190.19,
          503.35,
          111.35,
          347,
          203.85999999999999,
          244.1,
          251.96,
          98,
          256.32,
          131.98,
          52.22,
          155.8,
          15,
          110.38,
          178.92,
          406.09000000000003,
          366.23,
          193.54999999999998,
          336.43,
          110.82,
          1304.04,
          2630.51,
          545.95,
          2437.83,
          185.56,
          134.28,
          399.5,
          1349.8799999999999,
          111.16000000000001,
          742.56,
          704.25,
          145.79,
          389.84,
          973.74,
          99.14,
          644.5,
          304.56,
          77.50000000000001,
          176.68,
          358.56000000000006,
          219.03,
          599.0400000000001,
          1151.42,
          111.68,
          508.4599999999999,
          73.78,
          422.05,
          102.83,
          209.94,
          1292.54,
          951.43,
          103,
          337.04,
          568.02,
          1707.69,
          288.14,
          516.04,
          248.7,
          152.68,
          634.95,
          20.8,
          198.57,
          126.17999999999999,
          324.34,
          1511.3,
          191.72,
          417.23,
          249.72,
          444.68,
          50.78,
          187.29,
          166.42,
          120.03,
          1158.81,
          358,
          84.69,
          38.45,
          668.11,
          236.77999999999997,
          115.31,
          220.7,
          97.97,
          422.88,
          730.4,
          294.82,
          9.2,
          118.2,
          1552.38,
          165.04999999999998,
          107.7,
          1202.44,
          189.4,
          297.07,
          3421.66,
          170.16,
          296.71,
          928.79,
          234.6,
          406,
          1245.1,
          318,
          396.33,
          1337.21,
          -5.329070518200751e-15,
          3623.36,
          1322.75,
          1753.6299999999999,
          2039.14,
          390,
          343.45,
          703.37,
          90.47999999999999,
          608,
          167.67000000000002,
          5069.5199999999995,
          989,
          1240.1000000000001,
          911.15,
          1236.29,
          168.31,
          223.65,
          754.64,
          113.48000000000002,
          5514.14,
          206.05,
          352.69,
          163.56,
          320.72,
          2315.94,
          673.1,
          1826.21,
          589.4399999999999,
          197.85,
          206.82999999999998,
          348.73,
          1045.74,
          681.9100000000001,
          183.48000000000002,
          8393.22,
          734.52,
          1000.16,
          1283.1,
          1837.77,
          83.7,
          179.33999999999997,
          62.400000000000006,
          339,
          340.8,
          399.19,
          233.89000000000001,
          528.71,
          451.75,
          319.51,
          1066.47,
          394.7,
          302.46000000000004,
          1355.51,
          115.15,
          202.65,
          676.1,
          761.77,
          3781.26,
          378,
          104,
          627.77,
          480.97,
          690.01,
          1843.75,
          382.8,
          49.8,
          1571.89,
          457.14,
          957.97,
          233.81,
          896,
          238.35,
          1908.6000000000001,
          163.8,
          160.42000000000002,
          1429.87,
          517.36,
          139.10000000000002,
          2478.98,
          462.17,
          299.34000000000003,
          481.75,
          621.75,
          1107.46,
          798.84,
          443,
          3627.38,
          3791.65,
          2983.43,
          769.2,
          4418.2,
          1543.3000000000002,
          211.49,
          1366.02,
          759.04,
          987.1,
          422.58,
          1692.26,
          1538.41,
          1260.77,
          363.2,
          783.02,
          95.34,
          4314.72,
          526.67,
          103.3,
          1603.23,
          1962.3000000000002,
          427.13,
          324.24,
          149.48,
          903.48,
          801.51,
          0,
          171.20000000000002,
          2098.04,
          153,
          1.7763568394002505e-15,
          323.36,
          110.38,
          173.9,
          80.82,
          176.6,
          1559.83,
          1072
         ],
         "xaxis": "x",
         "yaxis": "y"
        }
       ],
       "layout": {
        "barmode": "relative",
        "legend": {
         "tracegroupgap": 0
        },
        "template": {
         "data": {
          "bar": [
           {
            "error_x": {
             "color": "#2a3f5f"
            },
            "error_y": {
             "color": "#2a3f5f"
            },
            "marker": {
             "line": {
              "color": "#E5ECF6",
              "width": 0.5
             },
             "pattern": {
              "fillmode": "overlay",
              "size": 10,
              "solidity": 0.2
             }
            },
            "type": "bar"
           }
          ],
          "barpolar": [
           {
            "marker": {
             "line": {
              "color": "#E5ECF6",
              "width": 0.5
             },
             "pattern": {
              "fillmode": "overlay",
              "size": 10,
              "solidity": 0.2
             }
            },
            "type": "barpolar"
           }
          ],
          "carpet": [
           {
            "aaxis": {
             "endlinecolor": "#2a3f5f",
             "gridcolor": "white",
             "linecolor": "white",
             "minorgridcolor": "white",
             "startlinecolor": "#2a3f5f"
            },
            "baxis": {
             "endlinecolor": "#2a3f5f",
             "gridcolor": "white",
             "linecolor": "white",
             "minorgridcolor": "white",
             "startlinecolor": "#2a3f5f"
            },
            "type": "carpet"
           }
          ],
          "choropleth": [
           {
            "colorbar": {
             "outlinewidth": 0,
             "ticks": ""
            },
            "type": "choropleth"
           }
          ],
          "contour": [
           {
            "colorbar": {
             "outlinewidth": 0,
             "ticks": ""
            },
            "colorscale": [
             [
              0,
              "#0d0887"
             ],
             [
              0.1111111111111111,
              "#46039f"
             ],
             [
              0.2222222222222222,
              "#7201a8"
             ],
             [
              0.3333333333333333,
              "#9c179e"
             ],
             [
              0.4444444444444444,
              "#bd3786"
             ],
             [
              0.5555555555555556,
              "#d8576b"
             ],
             [
              0.6666666666666666,
              "#ed7953"
             ],
             [
              0.7777777777777778,
              "#fb9f3a"
             ],
             [
              0.8888888888888888,
              "#fdca26"
             ],
             [
              1,
              "#f0f921"
             ]
            ],
            "type": "contour"
           }
          ],
          "contourcarpet": [
           {
            "colorbar": {
             "outlinewidth": 0,
             "ticks": ""
            },
            "type": "contourcarpet"
           }
          ],
          "heatmap": [
           {
            "colorbar": {
             "outlinewidth": 0,
             "ticks": ""
            },
            "colorscale": [
             [
              0,
              "#0d0887"
             ],
             [
              0.1111111111111111,
              "#46039f"
             ],
             [
              0.2222222222222222,
              "#7201a8"
             ],
             [
              0.3333333333333333,
              "#9c179e"
             ],
             [
              0.4444444444444444,
              "#bd3786"
             ],
             [
              0.5555555555555556,
              "#d8576b"
             ],
             [
              0.6666666666666666,
              "#ed7953"
             ],
             [
              0.7777777777777778,
              "#fb9f3a"
             ],
             [
              0.8888888888888888,
              "#fdca26"
             ],
             [
              1,
              "#f0f921"
             ]
            ],
            "type": "heatmap"
           }
          ],
          "heatmapgl": [
           {
            "colorbar": {
             "outlinewidth": 0,
             "ticks": ""
            },
            "colorscale": [
             [
              0,
              "#0d0887"
             ],
             [
              0.1111111111111111,
              "#46039f"
             ],
             [
              0.2222222222222222,
              "#7201a8"
             ],
             [
              0.3333333333333333,
              "#9c179e"
             ],
             [
              0.4444444444444444,
              "#bd3786"
             ],
             [
              0.5555555555555556,
              "#d8576b"
             ],
             [
              0.6666666666666666,
              "#ed7953"
             ],
             [
              0.7777777777777778,
              "#fb9f3a"
             ],
             [
              0.8888888888888888,
              "#fdca26"
             ],
             [
              1,
              "#f0f921"
             ]
            ],
            "type": "heatmapgl"
           }
          ],
          "histogram": [
           {
            "marker": {
             "pattern": {
              "fillmode": "overlay",
              "size": 10,
              "solidity": 0.2
             }
            },
            "type": "histogram"
           }
          ],
          "histogram2d": [
           {
            "colorbar": {
             "outlinewidth": 0,
             "ticks": ""
            },
            "colorscale": [
             [
              0,
              "#0d0887"
             ],
             [
              0.1111111111111111,
              "#46039f"
             ],
             [
              0.2222222222222222,
              "#7201a8"
             ],
             [
              0.3333333333333333,
              "#9c179e"
             ],
             [
              0.4444444444444444,
              "#bd3786"
             ],
             [
              0.5555555555555556,
              "#d8576b"
             ],
             [
              0.6666666666666666,
              "#ed7953"
             ],
             [
              0.7777777777777778,
              "#fb9f3a"
             ],
             [
              0.8888888888888888,
              "#fdca26"
             ],
             [
              1,
              "#f0f921"
             ]
            ],
            "type": "histogram2d"
           }
          ],
          "histogram2dcontour": [
           {
            "colorbar": {
             "outlinewidth": 0,
             "ticks": ""
            },
            "colorscale": [
             [
              0,
              "#0d0887"
             ],
             [
              0.1111111111111111,
              "#46039f"
             ],
             [
              0.2222222222222222,
              "#7201a8"
             ],
             [
              0.3333333333333333,
              "#9c179e"
             ],
             [
              0.4444444444444444,
              "#bd3786"
             ],
             [
              0.5555555555555556,
              "#d8576b"
             ],
             [
              0.6666666666666666,
              "#ed7953"
             ],
             [
              0.7777777777777778,
              "#fb9f3a"
             ],
             [
              0.8888888888888888,
              "#fdca26"
             ],
             [
              1,
              "#f0f921"
             ]
            ],
            "type": "histogram2dcontour"
           }
          ],
          "mesh3d": [
           {
            "colorbar": {
             "outlinewidth": 0,
             "ticks": ""
            },
            "type": "mesh3d"
           }
          ],
          "parcoords": [
           {
            "line": {
             "colorbar": {
              "outlinewidth": 0,
              "ticks": ""
             }
            },
            "type": "parcoords"
           }
          ],
          "pie": [
           {
            "automargin": true,
            "type": "pie"
           }
          ],
          "scatter": [
           {
            "marker": {
             "colorbar": {
              "outlinewidth": 0,
              "ticks": ""
             }
            },
            "type": "scatter"
           }
          ],
          "scatter3d": [
           {
            "line": {
             "colorbar": {
              "outlinewidth": 0,
              "ticks": ""
             }
            },
            "marker": {
             "colorbar": {
              "outlinewidth": 0,
              "ticks": ""
             }
            },
            "type": "scatter3d"
           }
          ],
          "scattercarpet": [
           {
            "marker": {
             "colorbar": {
              "outlinewidth": 0,
              "ticks": ""
             }
            },
            "type": "scattercarpet"
           }
          ],
          "scattergeo": [
           {
            "marker": {
             "colorbar": {
              "outlinewidth": 0,
              "ticks": ""
             }
            },
            "type": "scattergeo"
           }
          ],
          "scattergl": [
           {
            "marker": {
             "colorbar": {
              "outlinewidth": 0,
              "ticks": ""
             }
            },
            "type": "scattergl"
           }
          ],
          "scattermapbox": [
           {
            "marker": {
             "colorbar": {
              "outlinewidth": 0,
              "ticks": ""
             }
            },
            "type": "scattermapbox"
           }
          ],
          "scatterpolar": [
           {
            "marker": {
             "colorbar": {
              "outlinewidth": 0,
              "ticks": ""
             }
            },
            "type": "scatterpolar"
           }
          ],
          "scatterpolargl": [
           {
            "marker": {
             "colorbar": {
              "outlinewidth": 0,
              "ticks": ""
             }
            },
            "type": "scatterpolargl"
           }
          ],
          "scatterternary": [
           {
            "marker": {
             "colorbar": {
              "outlinewidth": 0,
              "ticks": ""
             }
            },
            "type": "scatterternary"
           }
          ],
          "surface": [
           {
            "colorbar": {
             "outlinewidth": 0,
             "ticks": ""
            },
            "colorscale": [
             [
              0,
              "#0d0887"
             ],
             [
              0.1111111111111111,
              "#46039f"
             ],
             [
              0.2222222222222222,
              "#7201a8"
             ],
             [
              0.3333333333333333,
              "#9c179e"
             ],
             [
              0.4444444444444444,
              "#bd3786"
             ],
             [
              0.5555555555555556,
              "#d8576b"
             ],
             [
              0.6666666666666666,
              "#ed7953"
             ],
             [
              0.7777777777777778,
              "#fb9f3a"
             ],
             [
              0.8888888888888888,
              "#fdca26"
             ],
             [
              1,
              "#f0f921"
             ]
            ],
            "type": "surface"
           }
          ],
          "table": [
           {
            "cells": {
             "fill": {
              "color": "#EBF0F8"
             },
             "line": {
              "color": "white"
             }
            },
            "header": {
             "fill": {
              "color": "#C8D4E3"
             },
             "line": {
              "color": "white"
             }
            },
            "type": "table"
           }
          ]
         },
         "layout": {
          "annotationdefaults": {
           "arrowcolor": "#2a3f5f",
           "arrowhead": 0,
           "arrowwidth": 1
          },
          "autotypenumbers": "strict",
          "coloraxis": {
           "colorbar": {
            "outlinewidth": 0,
            "ticks": ""
           }
          },
          "colorscale": {
           "diverging": [
            [
             0,
             "#8e0152"
            ],
            [
             0.1,
             "#c51b7d"
            ],
            [
             0.2,
             "#de77ae"
            ],
            [
             0.3,
             "#f1b6da"
            ],
            [
             0.4,
             "#fde0ef"
            ],
            [
             0.5,
             "#f7f7f7"
            ],
            [
             0.6,
             "#e6f5d0"
            ],
            [
             0.7,
             "#b8e186"
            ],
            [
             0.8,
             "#7fbc41"
            ],
            [
             0.9,
             "#4d9221"
            ],
            [
             1,
             "#276419"
            ]
           ],
           "sequential": [
            [
             0,
             "#0d0887"
            ],
            [
             0.1111111111111111,
             "#46039f"
            ],
            [
             0.2222222222222222,
             "#7201a8"
            ],
            [
             0.3333333333333333,
             "#9c179e"
            ],
            [
             0.4444444444444444,
             "#bd3786"
            ],
            [
             0.5555555555555556,
             "#d8576b"
            ],
            [
             0.6666666666666666,
             "#ed7953"
            ],
            [
             0.7777777777777778,
             "#fb9f3a"
            ],
            [
             0.8888888888888888,
             "#fdca26"
            ],
            [
             1,
             "#f0f921"
            ]
           ],
           "sequentialminus": [
            [
             0,
             "#0d0887"
            ],
            [
             0.1111111111111111,
             "#46039f"
            ],
            [
             0.2222222222222222,
             "#7201a8"
            ],
            [
             0.3333333333333333,
             "#9c179e"
            ],
            [
             0.4444444444444444,
             "#bd3786"
            ],
            [
             0.5555555555555556,
             "#d8576b"
            ],
            [
             0.6666666666666666,
             "#ed7953"
            ],
            [
             0.7777777777777778,
             "#fb9f3a"
            ],
            [
             0.8888888888888888,
             "#fdca26"
            ],
            [
             1,
             "#f0f921"
            ]
           ]
          },
          "colorway": [
           "#636efa",
           "#EF553B",
           "#00cc96",
           "#ab63fa",
           "#FFA15A",
           "#19d3f3",
           "#FF6692",
           "#B6E880",
           "#FF97FF",
           "#FECB52"
          ],
          "font": {
           "color": "#2a3f5f"
          },
          "geo": {
           "bgcolor": "white",
           "lakecolor": "white",
           "landcolor": "#E5ECF6",
           "showlakes": true,
           "showland": true,
           "subunitcolor": "white"
          },
          "hoverlabel": {
           "align": "left"
          },
          "hovermode": "closest",
          "mapbox": {
           "style": "light"
          },
          "paper_bgcolor": "white",
          "plot_bgcolor": "#E5ECF6",
          "polar": {
           "angularaxis": {
            "gridcolor": "white",
            "linecolor": "white",
            "ticks": ""
           },
           "bgcolor": "#E5ECF6",
           "radialaxis": {
            "gridcolor": "white",
            "linecolor": "white",
            "ticks": ""
           }
          },
          "scene": {
           "xaxis": {
            "backgroundcolor": "#E5ECF6",
            "gridcolor": "white",
            "gridwidth": 2,
            "linecolor": "white",
            "showbackground": true,
            "ticks": "",
            "zerolinecolor": "white"
           },
           "yaxis": {
            "backgroundcolor": "#E5ECF6",
            "gridcolor": "white",
            "gridwidth": 2,
            "linecolor": "white",
            "showbackground": true,
            "ticks": "",
            "zerolinecolor": "white"
           },
           "zaxis": {
            "backgroundcolor": "#E5ECF6",
            "gridcolor": "white",
            "gridwidth": 2,
            "linecolor": "white",
            "showbackground": true,
            "ticks": "",
            "zerolinecolor": "white"
           }
          },
          "shapedefaults": {
           "line": {
            "color": "#2a3f5f"
           }
          },
          "ternary": {
           "aaxis": {
            "gridcolor": "white",
            "linecolor": "white",
            "ticks": ""
           },
           "baxis": {
            "gridcolor": "white",
            "linecolor": "white",
            "ticks": ""
           },
           "bgcolor": "#E5ECF6",
           "caxis": {
            "gridcolor": "white",
            "linecolor": "white",
            "ticks": ""
           }
          },
          "title": {
           "x": 0.05
          },
          "xaxis": {
           "automargin": true,
           "gridcolor": "white",
           "linecolor": "white",
           "ticks": "",
           "title": {
            "standoff": 15
           },
           "zerolinecolor": "white",
           "zerolinewidth": 2
          },
          "yaxis": {
           "automargin": true,
           "gridcolor": "white",
           "linecolor": "white",
           "ticks": "",
           "title": {
            "standoff": 15
           },
           "zerolinecolor": "white",
           "zerolinewidth": 2
          }
         }
        },
        "title": {
         "text": "Revenue 6m Histogram"
        },
        "xaxis": {
         "anchor": "y",
         "domain": [
          0,
          1
         ],
         "title": {
          "text": "m6_Revenue"
         }
        },
        "yaxis": {
         "anchor": "x",
         "domain": [
          0,
          1
         ],
         "title": {
          "text": "count"
         }
        }
       }
      }
     },
     "metadata": {},
     "output_type": "display_data"
    }
   ],
   "source": [
    "data= df_user_6m[df_user_6m['m6_Revenue']<10000]\n",
    "fig = px.histogram(data,x='m6_Revenue',title='Revenue 6m Histogram')\n",
    "fig.show()"
   ]
  },
  {
   "cell_type": "code",
   "execution_count": 196,
   "metadata": {},
   "outputs": [
    {
     "data": {
      "text/html": [
       "<div>\n",
       "<style scoped>\n",
       "    .dataframe tbody tr th:only-of-type {\n",
       "        vertical-align: middle;\n",
       "    }\n",
       "\n",
       "    .dataframe tbody tr th {\n",
       "        vertical-align: top;\n",
       "    }\n",
       "\n",
       "    .dataframe thead th {\n",
       "        text-align: right;\n",
       "    }\n",
       "</style>\n",
       "<table border=\"1\" class=\"dataframe\">\n",
       "  <thead>\n",
       "    <tr style=\"text-align: right;\">\n",
       "      <th></th>\n",
       "      <th>CustomerID</th>\n",
       "      <th>MaxPurchaseDate</th>\n",
       "      <th>Recency</th>\n",
       "      <th>RencencyCLuster</th>\n",
       "      <th>Frequency</th>\n",
       "      <th>FrequencyCluster</th>\n",
       "      <th>Revenue</th>\n",
       "      <th>RevenueCluster</th>\n",
       "      <th>Overrall</th>\n",
       "      <th>Segment</th>\n",
       "      <th>m6_Revenue</th>\n",
       "    </tr>\n",
       "  </thead>\n",
       "  <tbody>\n",
       "    <tr>\n",
       "      <th>0</th>\n",
       "      <td>14620.0</td>\n",
       "      <td>2011-05-19</td>\n",
       "      <td>12</td>\n",
       "      <td>3</td>\n",
       "      <td>30</td>\n",
       "      <td>0</td>\n",
       "      <td>393.28</td>\n",
       "      <td>0</td>\n",
       "      <td>3</td>\n",
       "      <td>Mid-Value</td>\n",
       "      <td>0.00</td>\n",
       "    </tr>\n",
       "    <tr>\n",
       "      <th>1</th>\n",
       "      <td>18075.0</td>\n",
       "      <td>2011-05-19</td>\n",
       "      <td>12</td>\n",
       "      <td>3</td>\n",
       "      <td>35</td>\n",
       "      <td>0</td>\n",
       "      <td>638.12</td>\n",
       "      <td>0</td>\n",
       "      <td>3</td>\n",
       "      <td>Mid-Value</td>\n",
       "      <td>1322.75</td>\n",
       "    </tr>\n",
       "    <tr>\n",
       "      <th>2</th>\n",
       "      <td>15660.0</td>\n",
       "      <td>2011-05-27</td>\n",
       "      <td>4</td>\n",
       "      <td>3</td>\n",
       "      <td>34</td>\n",
       "      <td>0</td>\n",
       "      <td>484.62</td>\n",
       "      <td>0</td>\n",
       "      <td>3</td>\n",
       "      <td>Mid-Value</td>\n",
       "      <td>858.09</td>\n",
       "    </tr>\n",
       "    <tr>\n",
       "      <th>3</th>\n",
       "      <td>14676.0</td>\n",
       "      <td>2011-05-16</td>\n",
       "      <td>15</td>\n",
       "      <td>3</td>\n",
       "      <td>18</td>\n",
       "      <td>0</td>\n",
       "      <td>1144.77</td>\n",
       "      <td>0</td>\n",
       "      <td>3</td>\n",
       "      <td>Mid-Value</td>\n",
       "      <td>1399.72</td>\n",
       "    </tr>\n",
       "    <tr>\n",
       "      <th>4</th>\n",
       "      <td>12747.0</td>\n",
       "      <td>2011-05-25</td>\n",
       "      <td>6</td>\n",
       "      <td>3</td>\n",
       "      <td>35</td>\n",
       "      <td>0</td>\n",
       "      <td>1082.09</td>\n",
       "      <td>0</td>\n",
       "      <td>3</td>\n",
       "      <td>Mid-Value</td>\n",
       "      <td>2104.61</td>\n",
       "    </tr>\n",
       "    <tr>\n",
       "      <th>...</th>\n",
       "      <td>...</td>\n",
       "      <td>...</td>\n",
       "      <td>...</td>\n",
       "      <td>...</td>\n",
       "      <td>...</td>\n",
       "      <td>...</td>\n",
       "      <td>...</td>\n",
       "      <td>...</td>\n",
       "      <td>...</td>\n",
       "      <td>...</td>\n",
       "      <td>...</td>\n",
       "    </tr>\n",
       "    <tr>\n",
       "      <th>1835</th>\n",
       "      <td>15311.0</td>\n",
       "      <td>2011-05-27</td>\n",
       "      <td>4</td>\n",
       "      <td>3</td>\n",
       "      <td>522</td>\n",
       "      <td>3</td>\n",
       "      <td>16309.61</td>\n",
       "      <td>2</td>\n",
       "      <td>8</td>\n",
       "      <td>High-Value</td>\n",
       "      <td>30379.72</td>\n",
       "    </tr>\n",
       "    <tr>\n",
       "      <th>1836</th>\n",
       "      <td>13089.0</td>\n",
       "      <td>2011-05-26</td>\n",
       "      <td>5</td>\n",
       "      <td>3</td>\n",
       "      <td>452</td>\n",
       "      <td>3</td>\n",
       "      <td>11757.87</td>\n",
       "      <td>2</td>\n",
       "      <td>8</td>\n",
       "      <td>High-Value</td>\n",
       "      <td>30694.99</td>\n",
       "    </tr>\n",
       "    <tr>\n",
       "      <th>1837</th>\n",
       "      <td>14298.0</td>\n",
       "      <td>2011-05-04</td>\n",
       "      <td>27</td>\n",
       "      <td>2</td>\n",
       "      <td>433</td>\n",
       "      <td>3</td>\n",
       "      <td>14984.73</td>\n",
       "      <td>2</td>\n",
       "      <td>7</td>\n",
       "      <td>High-Value</td>\n",
       "      <td>24053.81</td>\n",
       "    </tr>\n",
       "    <tr>\n",
       "      <th>1838</th>\n",
       "      <td>18102.0</td>\n",
       "      <td>2011-05-17</td>\n",
       "      <td>14</td>\n",
       "      <td>3</td>\n",
       "      <td>55</td>\n",
       "      <td>0</td>\n",
       "      <td>26113.81</td>\n",
       "      <td>3</td>\n",
       "      <td>6</td>\n",
       "      <td>High-Value</td>\n",
       "      <td>191954.59</td>\n",
       "    </tr>\n",
       "    <tr>\n",
       "      <th>1839</th>\n",
       "      <td>17450.0</td>\n",
       "      <td>2011-05-31</td>\n",
       "      <td>0</td>\n",
       "      <td>3</td>\n",
       "      <td>47</td>\n",
       "      <td>0</td>\n",
       "      <td>35085.48</td>\n",
       "      <td>3</td>\n",
       "      <td>6</td>\n",
       "      <td>High-Value</td>\n",
       "      <td>132879.73</td>\n",
       "    </tr>\n",
       "  </tbody>\n",
       "</table>\n",
       "<p>1840 rows × 11 columns</p>\n",
       "</div>"
      ],
      "text/plain": [
       "      CustomerID MaxPurchaseDate  Recency  RencencyCLuster  Frequency  \\\n",
       "0        14620.0      2011-05-19       12                3         30   \n",
       "1        18075.0      2011-05-19       12                3         35   \n",
       "2        15660.0      2011-05-27        4                3         34   \n",
       "3        14676.0      2011-05-16       15                3         18   \n",
       "4        12747.0      2011-05-25        6                3         35   \n",
       "...          ...             ...      ...              ...        ...   \n",
       "1835     15311.0      2011-05-27        4                3        522   \n",
       "1836     13089.0      2011-05-26        5                3        452   \n",
       "1837     14298.0      2011-05-04       27                2        433   \n",
       "1838     18102.0      2011-05-17       14                3         55   \n",
       "1839     17450.0      2011-05-31        0                3         47   \n",
       "\n",
       "      FrequencyCluster   Revenue  RevenueCluster  Overrall     Segment  \\\n",
       "0                    0    393.28               0         3   Mid-Value   \n",
       "1                    0    638.12               0         3   Mid-Value   \n",
       "2                    0    484.62               0         3   Mid-Value   \n",
       "3                    0   1144.77               0         3   Mid-Value   \n",
       "4                    0   1082.09               0         3   Mid-Value   \n",
       "...                ...       ...             ...       ...         ...   \n",
       "1835                 3  16309.61               2         8  High-Value   \n",
       "1836                 3  11757.87               2         8  High-Value   \n",
       "1837                 3  14984.73               2         7  High-Value   \n",
       "1838                 0  26113.81               3         6  High-Value   \n",
       "1839                 0  35085.48               3         6  High-Value   \n",
       "\n",
       "      m6_Revenue  \n",
       "0           0.00  \n",
       "1        1322.75  \n",
       "2         858.09  \n",
       "3        1399.72  \n",
       "4        2104.61  \n",
       "...          ...  \n",
       "1835    30379.72  \n",
       "1836    30694.99  \n",
       "1837    24053.81  \n",
       "1838   191954.59  \n",
       "1839   132879.73  \n",
       "\n",
       "[1840 rows x 11 columns]"
      ]
     },
     "execution_count": 196,
     "metadata": {},
     "output_type": "execute_result"
    }
   ],
   "source": [
    "# merge quy 2 voi quy 3&4\n",
    "df_merge = df_user.merge(df_user_6m, on='CustomerID',how='left')\n",
    "df_merge=df_merge.fillna(0)\n",
    "df_merge"
   ]
  },
  {
   "cell_type": "code",
   "execution_count": 197,
   "metadata": {},
   "outputs": [],
   "source": [
    "#remove outliers\n",
    "df_merge = df_merge[df_merge['m6_Revenue']<df_merge['m6_Revenue'].quantile(0.99)]"
   ]
  },
  {
   "cell_type": "code",
   "execution_count": 199,
   "metadata": {},
   "outputs": [
    {
     "name": "stderr",
     "output_type": "stream",
     "text": [
      "C:\\Users\\DUONG-PC\\AppData\\Roaming\\Python\\Python39\\site-packages\\sklearn\\cluster\\_kmeans.py:870: FutureWarning:\n",
      "\n",
      "The default value of `n_init` will change from 10 to 'auto' in 1.4. Set the value of `n_init` explicitly to suppress the warning\n",
      "\n",
      "C:\\Users\\DUONG-PC\\AppData\\Local\\Temp\\ipykernel_9152\\135346850.py:4: SettingWithCopyWarning:\n",
      "\n",
      "\n",
      "A value is trying to be set on a copy of a slice from a DataFrame.\n",
      "Try using .loc[row_indexer,col_indexer] = value instead\n",
      "\n",
      "See the caveats in the documentation: https://pandas.pydata.org/pandas-docs/stable/user_guide/indexing.html#returning-a-view-versus-a-copy\n",
      "\n"
     ]
    }
   ],
   "source": [
    "#create 3 clusters\n",
    "kmeans = KMeans(n_clusters= 3)\n",
    "kmeans.fit(df_merge[['m6_Revenue']])\n",
    "df_merge['LTVCluster'] = kmeans.predict(df_merge[['m6_Revenue']])"
   ]
  },
  {
   "cell_type": "code",
   "execution_count": 204,
   "metadata": {},
   "outputs": [
    {
     "data": {
      "text/html": [
       "<div>\n",
       "<style scoped>\n",
       "    .dataframe tbody tr th:only-of-type {\n",
       "        vertical-align: middle;\n",
       "    }\n",
       "\n",
       "    .dataframe tbody tr th {\n",
       "        vertical-align: top;\n",
       "    }\n",
       "\n",
       "    .dataframe thead th {\n",
       "        text-align: right;\n",
       "    }\n",
       "</style>\n",
       "<table border=\"1\" class=\"dataframe\">\n",
       "  <thead>\n",
       "    <tr style=\"text-align: right;\">\n",
       "      <th></th>\n",
       "      <th>CustomerID</th>\n",
       "      <th>MaxPurchaseDate</th>\n",
       "      <th>Recency</th>\n",
       "      <th>RencencyCLuster</th>\n",
       "      <th>Frequency</th>\n",
       "      <th>FrequencyCluster</th>\n",
       "      <th>Revenue</th>\n",
       "      <th>RevenueCluster</th>\n",
       "      <th>Overrall</th>\n",
       "      <th>Segment</th>\n",
       "      <th>m6_Revenue</th>\n",
       "      <th>LTVCluster</th>\n",
       "    </tr>\n",
       "  </thead>\n",
       "  <tbody>\n",
       "    <tr>\n",
       "      <th>0</th>\n",
       "      <td>14620.0</td>\n",
       "      <td>2011-05-19</td>\n",
       "      <td>12</td>\n",
       "      <td>3</td>\n",
       "      <td>30</td>\n",
       "      <td>0</td>\n",
       "      <td>393.28</td>\n",
       "      <td>0</td>\n",
       "      <td>3</td>\n",
       "      <td>Mid-Value</td>\n",
       "      <td>0.00</td>\n",
       "      <td>1</td>\n",
       "    </tr>\n",
       "    <tr>\n",
       "      <th>1</th>\n",
       "      <td>18075.0</td>\n",
       "      <td>2011-05-19</td>\n",
       "      <td>12</td>\n",
       "      <td>3</td>\n",
       "      <td>35</td>\n",
       "      <td>0</td>\n",
       "      <td>638.12</td>\n",
       "      <td>0</td>\n",
       "      <td>3</td>\n",
       "      <td>Mid-Value</td>\n",
       "      <td>1322.75</td>\n",
       "      <td>1</td>\n",
       "    </tr>\n",
       "    <tr>\n",
       "      <th>2</th>\n",
       "      <td>15660.0</td>\n",
       "      <td>2011-05-27</td>\n",
       "      <td>4</td>\n",
       "      <td>3</td>\n",
       "      <td>34</td>\n",
       "      <td>0</td>\n",
       "      <td>484.62</td>\n",
       "      <td>0</td>\n",
       "      <td>3</td>\n",
       "      <td>Mid-Value</td>\n",
       "      <td>858.09</td>\n",
       "      <td>1</td>\n",
       "    </tr>\n",
       "    <tr>\n",
       "      <th>3</th>\n",
       "      <td>14676.0</td>\n",
       "      <td>2011-05-16</td>\n",
       "      <td>15</td>\n",
       "      <td>3</td>\n",
       "      <td>18</td>\n",
       "      <td>0</td>\n",
       "      <td>1144.77</td>\n",
       "      <td>0</td>\n",
       "      <td>3</td>\n",
       "      <td>Mid-Value</td>\n",
       "      <td>1399.72</td>\n",
       "      <td>1</td>\n",
       "    </tr>\n",
       "    <tr>\n",
       "      <th>4</th>\n",
       "      <td>12747.0</td>\n",
       "      <td>2011-05-25</td>\n",
       "      <td>6</td>\n",
       "      <td>3</td>\n",
       "      <td>35</td>\n",
       "      <td>0</td>\n",
       "      <td>1082.09</td>\n",
       "      <td>0</td>\n",
       "      <td>3</td>\n",
       "      <td>Mid-Value</td>\n",
       "      <td>2104.61</td>\n",
       "      <td>0</td>\n",
       "    </tr>\n",
       "    <tr>\n",
       "      <th>...</th>\n",
       "      <td>...</td>\n",
       "      <td>...</td>\n",
       "      <td>...</td>\n",
       "      <td>...</td>\n",
       "      <td>...</td>\n",
       "      <td>...</td>\n",
       "      <td>...</td>\n",
       "      <td>...</td>\n",
       "      <td>...</td>\n",
       "      <td>...</td>\n",
       "      <td>...</td>\n",
       "      <td>...</td>\n",
       "    </tr>\n",
       "    <tr>\n",
       "      <th>1825</th>\n",
       "      <td>15039.0</td>\n",
       "      <td>2011-05-25</td>\n",
       "      <td>6</td>\n",
       "      <td>3</td>\n",
       "      <td>436</td>\n",
       "      <td>3</td>\n",
       "      <td>6741.59</td>\n",
       "      <td>1</td>\n",
       "      <td>7</td>\n",
       "      <td>High-Value</td>\n",
       "      <td>6893.23</td>\n",
       "      <td>0</td>\n",
       "    </tr>\n",
       "    <tr>\n",
       "      <th>1827</th>\n",
       "      <td>14769.0</td>\n",
       "      <td>2011-05-22</td>\n",
       "      <td>9</td>\n",
       "      <td>3</td>\n",
       "      <td>558</td>\n",
       "      <td>3</td>\n",
       "      <td>4966.36</td>\n",
       "      <td>1</td>\n",
       "      <td>7</td>\n",
       "      <td>High-Value</td>\n",
       "      <td>4814.40</td>\n",
       "      <td>0</td>\n",
       "    </tr>\n",
       "    <tr>\n",
       "      <th>1828</th>\n",
       "      <td>16333.0</td>\n",
       "      <td>2011-05-31</td>\n",
       "      <td>0</td>\n",
       "      <td>3</td>\n",
       "      <td>29</td>\n",
       "      <td>0</td>\n",
       "      <td>10578.72</td>\n",
       "      <td>2</td>\n",
       "      <td>5</td>\n",
       "      <td>High-Value</td>\n",
       "      <td>13539.60</td>\n",
       "      <td>2</td>\n",
       "    </tr>\n",
       "    <tr>\n",
       "      <th>1831</th>\n",
       "      <td>16422.0</td>\n",
       "      <td>2011-05-27</td>\n",
       "      <td>4</td>\n",
       "      <td>3</td>\n",
       "      <td>129</td>\n",
       "      <td>1</td>\n",
       "      <td>10348.13</td>\n",
       "      <td>2</td>\n",
       "      <td>6</td>\n",
       "      <td>High-Value</td>\n",
       "      <td>16756.31</td>\n",
       "      <td>2</td>\n",
       "    </tr>\n",
       "    <tr>\n",
       "      <th>1833</th>\n",
       "      <td>13798.0</td>\n",
       "      <td>2011-05-27</td>\n",
       "      <td>4</td>\n",
       "      <td>3</td>\n",
       "      <td>122</td>\n",
       "      <td>1</td>\n",
       "      <td>11105.20</td>\n",
       "      <td>2</td>\n",
       "      <td>6</td>\n",
       "      <td>High-Value</td>\n",
       "      <td>14751.23</td>\n",
       "      <td>2</td>\n",
       "    </tr>\n",
       "  </tbody>\n",
       "</table>\n",
       "<p>1821 rows × 12 columns</p>\n",
       "</div>"
      ],
      "text/plain": [
       "      CustomerID MaxPurchaseDate  Recency  RencencyCLuster  Frequency  \\\n",
       "0        14620.0      2011-05-19       12                3         30   \n",
       "1        18075.0      2011-05-19       12                3         35   \n",
       "2        15660.0      2011-05-27        4                3         34   \n",
       "3        14676.0      2011-05-16       15                3         18   \n",
       "4        12747.0      2011-05-25        6                3         35   \n",
       "...          ...             ...      ...              ...        ...   \n",
       "1825     15039.0      2011-05-25        6                3        436   \n",
       "1827     14769.0      2011-05-22        9                3        558   \n",
       "1828     16333.0      2011-05-31        0                3         29   \n",
       "1831     16422.0      2011-05-27        4                3        129   \n",
       "1833     13798.0      2011-05-27        4                3        122   \n",
       "\n",
       "      FrequencyCluster   Revenue  RevenueCluster  Overrall     Segment  \\\n",
       "0                    0    393.28               0         3   Mid-Value   \n",
       "1                    0    638.12               0         3   Mid-Value   \n",
       "2                    0    484.62               0         3   Mid-Value   \n",
       "3                    0   1144.77               0         3   Mid-Value   \n",
       "4                    0   1082.09               0         3   Mid-Value   \n",
       "...                ...       ...             ...       ...         ...   \n",
       "1825                 3   6741.59               1         7  High-Value   \n",
       "1827                 3   4966.36               1         7  High-Value   \n",
       "1828                 0  10578.72               2         5  High-Value   \n",
       "1831                 1  10348.13               2         6  High-Value   \n",
       "1833                 1  11105.20               2         6  High-Value   \n",
       "\n",
       "      m6_Revenue  LTVCluster  \n",
       "0           0.00           1  \n",
       "1        1322.75           1  \n",
       "2         858.09           1  \n",
       "3        1399.72           1  \n",
       "4        2104.61           0  \n",
       "...          ...         ...  \n",
       "1825     6893.23           0  \n",
       "1827     4814.40           0  \n",
       "1828    13539.60           2  \n",
       "1831    16756.31           2  \n",
       "1833    14751.23           2  \n",
       "\n",
       "[1821 rows x 12 columns]"
      ]
     },
     "execution_count": 204,
     "metadata": {},
     "output_type": "execute_result"
    }
   ],
   "source": [
    "df_merge"
   ]
  },
  {
   "cell_type": "code",
   "execution_count": 206,
   "metadata": {},
   "outputs": [
    {
     "data": {
      "text/html": [
       "<div>\n",
       "<style scoped>\n",
       "    .dataframe tbody tr th:only-of-type {\n",
       "        vertical-align: middle;\n",
       "    }\n",
       "\n",
       "    .dataframe tbody tr th {\n",
       "        vertical-align: top;\n",
       "    }\n",
       "\n",
       "    .dataframe thead th {\n",
       "        text-align: right;\n",
       "    }\n",
       "</style>\n",
       "<table border=\"1\" class=\"dataframe\">\n",
       "  <thead>\n",
       "    <tr style=\"text-align: right;\">\n",
       "      <th></th>\n",
       "      <th>CustomerID</th>\n",
       "      <th>MaxPurchaseDate</th>\n",
       "      <th>Recency</th>\n",
       "      <th>RencencyCLuster</th>\n",
       "      <th>Frequency</th>\n",
       "      <th>FrequencyCluster</th>\n",
       "      <th>Revenue</th>\n",
       "      <th>RevenueCluster</th>\n",
       "      <th>Overrall</th>\n",
       "      <th>Segment</th>\n",
       "      <th>m6_Revenue</th>\n",
       "      <th>LTVCluster</th>\n",
       "    </tr>\n",
       "  </thead>\n",
       "  <tbody>\n",
       "    <tr>\n",
       "      <th>0</th>\n",
       "      <td>14620.0</td>\n",
       "      <td>2011-05-19</td>\n",
       "      <td>12</td>\n",
       "      <td>3</td>\n",
       "      <td>30</td>\n",
       "      <td>0</td>\n",
       "      <td>393.28</td>\n",
       "      <td>0</td>\n",
       "      <td>3</td>\n",
       "      <td>Mid-Value</td>\n",
       "      <td>0.00</td>\n",
       "      <td>0</td>\n",
       "    </tr>\n",
       "    <tr>\n",
       "      <th>1</th>\n",
       "      <td>18075.0</td>\n",
       "      <td>2011-05-19</td>\n",
       "      <td>12</td>\n",
       "      <td>3</td>\n",
       "      <td>35</td>\n",
       "      <td>0</td>\n",
       "      <td>638.12</td>\n",
       "      <td>0</td>\n",
       "      <td>3</td>\n",
       "      <td>Mid-Value</td>\n",
       "      <td>1322.75</td>\n",
       "      <td>0</td>\n",
       "    </tr>\n",
       "    <tr>\n",
       "      <th>2</th>\n",
       "      <td>15660.0</td>\n",
       "      <td>2011-05-27</td>\n",
       "      <td>4</td>\n",
       "      <td>3</td>\n",
       "      <td>34</td>\n",
       "      <td>0</td>\n",
       "      <td>484.62</td>\n",
       "      <td>0</td>\n",
       "      <td>3</td>\n",
       "      <td>Mid-Value</td>\n",
       "      <td>858.09</td>\n",
       "      <td>0</td>\n",
       "    </tr>\n",
       "    <tr>\n",
       "      <th>3</th>\n",
       "      <td>14676.0</td>\n",
       "      <td>2011-05-16</td>\n",
       "      <td>15</td>\n",
       "      <td>3</td>\n",
       "      <td>18</td>\n",
       "      <td>0</td>\n",
       "      <td>1144.77</td>\n",
       "      <td>0</td>\n",
       "      <td>3</td>\n",
       "      <td>Mid-Value</td>\n",
       "      <td>1399.72</td>\n",
       "      <td>0</td>\n",
       "    </tr>\n",
       "    <tr>\n",
       "      <th>4</th>\n",
       "      <td>14560.0</td>\n",
       "      <td>2011-05-27</td>\n",
       "      <td>4</td>\n",
       "      <td>3</td>\n",
       "      <td>12</td>\n",
       "      <td>0</td>\n",
       "      <td>562.28</td>\n",
       "      <td>0</td>\n",
       "      <td>3</td>\n",
       "      <td>Mid-Value</td>\n",
       "      <td>952.13</td>\n",
       "      <td>0</td>\n",
       "    </tr>\n",
       "    <tr>\n",
       "      <th>...</th>\n",
       "      <td>...</td>\n",
       "      <td>...</td>\n",
       "      <td>...</td>\n",
       "      <td>...</td>\n",
       "      <td>...</td>\n",
       "      <td>...</td>\n",
       "      <td>...</td>\n",
       "      <td>...</td>\n",
       "      <td>...</td>\n",
       "      <td>...</td>\n",
       "      <td>...</td>\n",
       "      <td>...</td>\n",
       "    </tr>\n",
       "    <tr>\n",
       "      <th>1816</th>\n",
       "      <td>15856.0</td>\n",
       "      <td>2011-05-20</td>\n",
       "      <td>11</td>\n",
       "      <td>3</td>\n",
       "      <td>129</td>\n",
       "      <td>1</td>\n",
       "      <td>2579.26</td>\n",
       "      <td>1</td>\n",
       "      <td>5</td>\n",
       "      <td>High-Value</td>\n",
       "      <td>9263.90</td>\n",
       "      <td>2</td>\n",
       "    </tr>\n",
       "    <tr>\n",
       "      <th>1817</th>\n",
       "      <td>17735.0</td>\n",
       "      <td>2011-05-05</td>\n",
       "      <td>26</td>\n",
       "      <td>2</td>\n",
       "      <td>184</td>\n",
       "      <td>1</td>\n",
       "      <td>3122.99</td>\n",
       "      <td>1</td>\n",
       "      <td>4</td>\n",
       "      <td>Mid-Value</td>\n",
       "      <td>8091.01</td>\n",
       "      <td>2</td>\n",
       "    </tr>\n",
       "    <tr>\n",
       "      <th>1818</th>\n",
       "      <td>16333.0</td>\n",
       "      <td>2011-05-31</td>\n",
       "      <td>0</td>\n",
       "      <td>3</td>\n",
       "      <td>29</td>\n",
       "      <td>0</td>\n",
       "      <td>10578.72</td>\n",
       "      <td>2</td>\n",
       "      <td>5</td>\n",
       "      <td>High-Value</td>\n",
       "      <td>13539.60</td>\n",
       "      <td>2</td>\n",
       "    </tr>\n",
       "    <tr>\n",
       "      <th>1819</th>\n",
       "      <td>16422.0</td>\n",
       "      <td>2011-05-27</td>\n",
       "      <td>4</td>\n",
       "      <td>3</td>\n",
       "      <td>129</td>\n",
       "      <td>1</td>\n",
       "      <td>10348.13</td>\n",
       "      <td>2</td>\n",
       "      <td>6</td>\n",
       "      <td>High-Value</td>\n",
       "      <td>16756.31</td>\n",
       "      <td>2</td>\n",
       "    </tr>\n",
       "    <tr>\n",
       "      <th>1820</th>\n",
       "      <td>13798.0</td>\n",
       "      <td>2011-05-27</td>\n",
       "      <td>4</td>\n",
       "      <td>3</td>\n",
       "      <td>122</td>\n",
       "      <td>1</td>\n",
       "      <td>11105.20</td>\n",
       "      <td>2</td>\n",
       "      <td>6</td>\n",
       "      <td>High-Value</td>\n",
       "      <td>14751.23</td>\n",
       "      <td>2</td>\n",
       "    </tr>\n",
       "  </tbody>\n",
       "</table>\n",
       "<p>1821 rows × 12 columns</p>\n",
       "</div>"
      ],
      "text/plain": [
       "      CustomerID MaxPurchaseDate  Recency  RencencyCLuster  Frequency  \\\n",
       "0        14620.0      2011-05-19       12                3         30   \n",
       "1        18075.0      2011-05-19       12                3         35   \n",
       "2        15660.0      2011-05-27        4                3         34   \n",
       "3        14676.0      2011-05-16       15                3         18   \n",
       "4        14560.0      2011-05-27        4                3         12   \n",
       "...          ...             ...      ...              ...        ...   \n",
       "1816     15856.0      2011-05-20       11                3        129   \n",
       "1817     17735.0      2011-05-05       26                2        184   \n",
       "1818     16333.0      2011-05-31        0                3         29   \n",
       "1819     16422.0      2011-05-27        4                3        129   \n",
       "1820     13798.0      2011-05-27        4                3        122   \n",
       "\n",
       "      FrequencyCluster   Revenue  RevenueCluster  Overrall     Segment  \\\n",
       "0                    0    393.28               0         3   Mid-Value   \n",
       "1                    0    638.12               0         3   Mid-Value   \n",
       "2                    0    484.62               0         3   Mid-Value   \n",
       "3                    0   1144.77               0         3   Mid-Value   \n",
       "4                    0    562.28               0         3   Mid-Value   \n",
       "...                ...       ...             ...       ...         ...   \n",
       "1816                 1   2579.26               1         5  High-Value   \n",
       "1817                 1   3122.99               1         4   Mid-Value   \n",
       "1818                 0  10578.72               2         5  High-Value   \n",
       "1819                 1  10348.13               2         6  High-Value   \n",
       "1820                 1  11105.20               2         6  High-Value   \n",
       "\n",
       "      m6_Revenue  LTVCluster  \n",
       "0           0.00           0  \n",
       "1        1322.75           0  \n",
       "2         858.09           0  \n",
       "3        1399.72           0  \n",
       "4         952.13           0  \n",
       "...          ...         ...  \n",
       "1816     9263.90           2  \n",
       "1817     8091.01           2  \n",
       "1818    13539.60           2  \n",
       "1819    16756.31           2  \n",
       "1820    14751.23           2  \n",
       "\n",
       "[1821 rows x 12 columns]"
      ]
     },
     "execution_count": 206,
     "metadata": {},
     "output_type": "execute_result"
    }
   ],
   "source": [
    "#order cluster number base on LTV\n",
    "df_CTE4 = df_merge.groupby('LTVCluster')['m6_Revenue'].mean().reset_index()\n",
    "df_CTE4 = df_CTE4.sort_values(by='m6_Revenue',ascending=True).reset_index(drop=True)\n",
    "df_CTE4['index'] = df_CTE4.index\n",
    "df_merge = df_merge.merge(df_CTE4[['LTVCluster','index']], on = 'LTVCluster',how='inner')\n",
    "df_merge = df_merge.drop(['LTVCluster'],axis= 1)\n",
    "df_merge = df_merge.rename(columns={'index':'LTVCluster'})\n",
    "df_merge"
   ]
  },
  {
   "cell_type": "code",
   "execution_count": 207,
   "metadata": {},
   "outputs": [
    {
     "data": {
      "text/html": [
       "<div>\n",
       "<style scoped>\n",
       "    .dataframe tbody tr th:only-of-type {\n",
       "        vertical-align: middle;\n",
       "    }\n",
       "\n",
       "    .dataframe tbody tr th {\n",
       "        vertical-align: top;\n",
       "    }\n",
       "\n",
       "    .dataframe thead th {\n",
       "        text-align: right;\n",
       "    }\n",
       "</style>\n",
       "<table border=\"1\" class=\"dataframe\">\n",
       "  <thead>\n",
       "    <tr style=\"text-align: right;\">\n",
       "      <th></th>\n",
       "      <th>count</th>\n",
       "      <th>mean</th>\n",
       "      <th>std</th>\n",
       "      <th>min</th>\n",
       "      <th>25%</th>\n",
       "      <th>50%</th>\n",
       "      <th>75%</th>\n",
       "      <th>max</th>\n",
       "    </tr>\n",
       "    <tr>\n",
       "      <th>LTVCluster</th>\n",
       "      <th></th>\n",
       "      <th></th>\n",
       "      <th></th>\n",
       "      <th></th>\n",
       "      <th></th>\n",
       "      <th></th>\n",
       "      <th></th>\n",
       "      <th></th>\n",
       "    </tr>\n",
       "  </thead>\n",
       "  <tbody>\n",
       "    <tr>\n",
       "      <th>0</th>\n",
       "      <td>1498.0</td>\n",
       "      <td>508.969760</td>\n",
       "      <td>532.798944</td>\n",
       "      <td>-609.40</td>\n",
       "      <td>0.0000</td>\n",
       "      <td>355.72</td>\n",
       "      <td>858.9150</td>\n",
       "      <td>1884.51</td>\n",
       "    </tr>\n",
       "    <tr>\n",
       "      <th>1</th>\n",
       "      <td>289.0</td>\n",
       "      <td>3281.868547</td>\n",
       "      <td>1246.415961</td>\n",
       "      <td>1896.24</td>\n",
       "      <td>2315.2600</td>\n",
       "      <td>2904.37</td>\n",
       "      <td>3957.4500</td>\n",
       "      <td>6893.23</td>\n",
       "    </tr>\n",
       "    <tr>\n",
       "      <th>2</th>\n",
       "      <td>34.0</td>\n",
       "      <td>10705.821176</td>\n",
       "      <td>3170.445646</td>\n",
       "      <td>7058.45</td>\n",
       "      <td>7996.7675</td>\n",
       "      <td>9833.55</td>\n",
       "      <td>13243.6075</td>\n",
       "      <td>18052.00</td>\n",
       "    </tr>\n",
       "  </tbody>\n",
       "</table>\n",
       "</div>"
      ],
      "text/plain": [
       "             count          mean          std      min        25%      50%  \\\n",
       "LTVCluster                                                                   \n",
       "0           1498.0    508.969760   532.798944  -609.40     0.0000   355.72   \n",
       "1            289.0   3281.868547  1246.415961  1896.24  2315.2600  2904.37   \n",
       "2             34.0  10705.821176  3170.445646  7058.45  7996.7675  9833.55   \n",
       "\n",
       "                   75%       max  \n",
       "LTVCluster                        \n",
       "0             858.9150   1884.51  \n",
       "1            3957.4500   6893.23  \n",
       "2           13243.6075  18052.00  "
      ]
     },
     "execution_count": 207,
     "metadata": {},
     "output_type": "execute_result"
    }
   ],
   "source": [
    "df_merge.groupby('LTVCluster')['m6_Revenue'].describe()"
   ]
  },
  {
   "cell_type": "code",
   "execution_count": 208,
   "metadata": {},
   "outputs": [
    {
     "data": {
      "text/html": [
       "<div>\n",
       "<style scoped>\n",
       "    .dataframe tbody tr th:only-of-type {\n",
       "        vertical-align: middle;\n",
       "    }\n",
       "\n",
       "    .dataframe tbody tr th {\n",
       "        vertical-align: top;\n",
       "    }\n",
       "\n",
       "    .dataframe thead th {\n",
       "        text-align: right;\n",
       "    }\n",
       "</style>\n",
       "<table border=\"1\" class=\"dataframe\">\n",
       "  <thead>\n",
       "    <tr style=\"text-align: right;\">\n",
       "      <th></th>\n",
       "      <th>CustomerID</th>\n",
       "      <th>MaxPurchaseDate</th>\n",
       "      <th>Recency</th>\n",
       "      <th>RencencyCLuster</th>\n",
       "      <th>Frequency</th>\n",
       "      <th>FrequencyCluster</th>\n",
       "      <th>Revenue</th>\n",
       "      <th>RevenueCluster</th>\n",
       "      <th>Overrall</th>\n",
       "      <th>Segment</th>\n",
       "      <th>m6_Revenue</th>\n",
       "      <th>LTVCluster</th>\n",
       "    </tr>\n",
       "  </thead>\n",
       "  <tbody>\n",
       "    <tr>\n",
       "      <th>0</th>\n",
       "      <td>14620.0</td>\n",
       "      <td>2011-05-19</td>\n",
       "      <td>12</td>\n",
       "      <td>3</td>\n",
       "      <td>30</td>\n",
       "      <td>0</td>\n",
       "      <td>393.28</td>\n",
       "      <td>0</td>\n",
       "      <td>3</td>\n",
       "      <td>Mid-Value</td>\n",
       "      <td>0.00</td>\n",
       "      <td>0</td>\n",
       "    </tr>\n",
       "    <tr>\n",
       "      <th>1</th>\n",
       "      <td>18075.0</td>\n",
       "      <td>2011-05-19</td>\n",
       "      <td>12</td>\n",
       "      <td>3</td>\n",
       "      <td>35</td>\n",
       "      <td>0</td>\n",
       "      <td>638.12</td>\n",
       "      <td>0</td>\n",
       "      <td>3</td>\n",
       "      <td>Mid-Value</td>\n",
       "      <td>1322.75</td>\n",
       "      <td>0</td>\n",
       "    </tr>\n",
       "    <tr>\n",
       "      <th>2</th>\n",
       "      <td>15660.0</td>\n",
       "      <td>2011-05-27</td>\n",
       "      <td>4</td>\n",
       "      <td>3</td>\n",
       "      <td>34</td>\n",
       "      <td>0</td>\n",
       "      <td>484.62</td>\n",
       "      <td>0</td>\n",
       "      <td>3</td>\n",
       "      <td>Mid-Value</td>\n",
       "      <td>858.09</td>\n",
       "      <td>0</td>\n",
       "    </tr>\n",
       "    <tr>\n",
       "      <th>3</th>\n",
       "      <td>14676.0</td>\n",
       "      <td>2011-05-16</td>\n",
       "      <td>15</td>\n",
       "      <td>3</td>\n",
       "      <td>18</td>\n",
       "      <td>0</td>\n",
       "      <td>1144.77</td>\n",
       "      <td>0</td>\n",
       "      <td>3</td>\n",
       "      <td>Mid-Value</td>\n",
       "      <td>1399.72</td>\n",
       "      <td>0</td>\n",
       "    </tr>\n",
       "    <tr>\n",
       "      <th>4</th>\n",
       "      <td>14560.0</td>\n",
       "      <td>2011-05-27</td>\n",
       "      <td>4</td>\n",
       "      <td>3</td>\n",
       "      <td>12</td>\n",
       "      <td>0</td>\n",
       "      <td>562.28</td>\n",
       "      <td>0</td>\n",
       "      <td>3</td>\n",
       "      <td>Mid-Value</td>\n",
       "      <td>952.13</td>\n",
       "      <td>0</td>\n",
       "    </tr>\n",
       "    <tr>\n",
       "      <th>...</th>\n",
       "      <td>...</td>\n",
       "      <td>...</td>\n",
       "      <td>...</td>\n",
       "      <td>...</td>\n",
       "      <td>...</td>\n",
       "      <td>...</td>\n",
       "      <td>...</td>\n",
       "      <td>...</td>\n",
       "      <td>...</td>\n",
       "      <td>...</td>\n",
       "      <td>...</td>\n",
       "      <td>...</td>\n",
       "    </tr>\n",
       "    <tr>\n",
       "      <th>1816</th>\n",
       "      <td>15856.0</td>\n",
       "      <td>2011-05-20</td>\n",
       "      <td>11</td>\n",
       "      <td>3</td>\n",
       "      <td>129</td>\n",
       "      <td>1</td>\n",
       "      <td>2579.26</td>\n",
       "      <td>1</td>\n",
       "      <td>5</td>\n",
       "      <td>High-Value</td>\n",
       "      <td>9263.90</td>\n",
       "      <td>2</td>\n",
       "    </tr>\n",
       "    <tr>\n",
       "      <th>1817</th>\n",
       "      <td>17735.0</td>\n",
       "      <td>2011-05-05</td>\n",
       "      <td>26</td>\n",
       "      <td>2</td>\n",
       "      <td>184</td>\n",
       "      <td>1</td>\n",
       "      <td>3122.99</td>\n",
       "      <td>1</td>\n",
       "      <td>4</td>\n",
       "      <td>Mid-Value</td>\n",
       "      <td>8091.01</td>\n",
       "      <td>2</td>\n",
       "    </tr>\n",
       "    <tr>\n",
       "      <th>1818</th>\n",
       "      <td>16333.0</td>\n",
       "      <td>2011-05-31</td>\n",
       "      <td>0</td>\n",
       "      <td>3</td>\n",
       "      <td>29</td>\n",
       "      <td>0</td>\n",
       "      <td>10578.72</td>\n",
       "      <td>2</td>\n",
       "      <td>5</td>\n",
       "      <td>High-Value</td>\n",
       "      <td>13539.60</td>\n",
       "      <td>2</td>\n",
       "    </tr>\n",
       "    <tr>\n",
       "      <th>1819</th>\n",
       "      <td>16422.0</td>\n",
       "      <td>2011-05-27</td>\n",
       "      <td>4</td>\n",
       "      <td>3</td>\n",
       "      <td>129</td>\n",
       "      <td>1</td>\n",
       "      <td>10348.13</td>\n",
       "      <td>2</td>\n",
       "      <td>6</td>\n",
       "      <td>High-Value</td>\n",
       "      <td>16756.31</td>\n",
       "      <td>2</td>\n",
       "    </tr>\n",
       "    <tr>\n",
       "      <th>1820</th>\n",
       "      <td>13798.0</td>\n",
       "      <td>2011-05-27</td>\n",
       "      <td>4</td>\n",
       "      <td>3</td>\n",
       "      <td>122</td>\n",
       "      <td>1</td>\n",
       "      <td>11105.20</td>\n",
       "      <td>2</td>\n",
       "      <td>6</td>\n",
       "      <td>High-Value</td>\n",
       "      <td>14751.23</td>\n",
       "      <td>2</td>\n",
       "    </tr>\n",
       "  </tbody>\n",
       "</table>\n",
       "<p>1821 rows × 12 columns</p>\n",
       "</div>"
      ],
      "text/plain": [
       "      CustomerID MaxPurchaseDate  Recency  RencencyCLuster  Frequency  \\\n",
       "0        14620.0      2011-05-19       12                3         30   \n",
       "1        18075.0      2011-05-19       12                3         35   \n",
       "2        15660.0      2011-05-27        4                3         34   \n",
       "3        14676.0      2011-05-16       15                3         18   \n",
       "4        14560.0      2011-05-27        4                3         12   \n",
       "...          ...             ...      ...              ...        ...   \n",
       "1816     15856.0      2011-05-20       11                3        129   \n",
       "1817     17735.0      2011-05-05       26                2        184   \n",
       "1818     16333.0      2011-05-31        0                3         29   \n",
       "1819     16422.0      2011-05-27        4                3        129   \n",
       "1820     13798.0      2011-05-27        4                3        122   \n",
       "\n",
       "      FrequencyCluster   Revenue  RevenueCluster  Overrall     Segment  \\\n",
       "0                    0    393.28               0         3   Mid-Value   \n",
       "1                    0    638.12               0         3   Mid-Value   \n",
       "2                    0    484.62               0         3   Mid-Value   \n",
       "3                    0   1144.77               0         3   Mid-Value   \n",
       "4                    0    562.28               0         3   Mid-Value   \n",
       "...                ...       ...             ...       ...         ...   \n",
       "1816                 1   2579.26               1         5  High-Value   \n",
       "1817                 1   3122.99               1         4   Mid-Value   \n",
       "1818                 0  10578.72               2         5  High-Value   \n",
       "1819                 1  10348.13               2         6  High-Value   \n",
       "1820                 1  11105.20               2         6  High-Value   \n",
       "\n",
       "      m6_Revenue  LTVCluster  \n",
       "0           0.00           0  \n",
       "1        1322.75           0  \n",
       "2         858.09           0  \n",
       "3        1399.72           0  \n",
       "4         952.13           0  \n",
       "...          ...         ...  \n",
       "1816     9263.90           2  \n",
       "1817     8091.01           2  \n",
       "1818    13539.60           2  \n",
       "1819    16756.31           2  \n",
       "1820    14751.23           2  \n",
       "\n",
       "[1821 rows x 12 columns]"
      ]
     },
     "execution_count": 208,
     "metadata": {},
     "output_type": "execute_result"
    }
   ],
   "source": [
    "df_cluster = df_merge.copy()\n",
    "df_cluster"
   ]
  },
  {
   "cell_type": "code",
   "execution_count": 209,
   "metadata": {},
   "outputs": [
    {
     "data": {
      "text/html": [
       "<div>\n",
       "<style scoped>\n",
       "    .dataframe tbody tr th:only-of-type {\n",
       "        vertical-align: middle;\n",
       "    }\n",
       "\n",
       "    .dataframe tbody tr th {\n",
       "        vertical-align: top;\n",
       "    }\n",
       "\n",
       "    .dataframe thead th {\n",
       "        text-align: right;\n",
       "    }\n",
       "</style>\n",
       "<table border=\"1\" class=\"dataframe\">\n",
       "  <thead>\n",
       "    <tr style=\"text-align: right;\">\n",
       "      <th></th>\n",
       "      <th>CustomerID</th>\n",
       "      <th>Recency</th>\n",
       "      <th>RencencyCLuster</th>\n",
       "      <th>Frequency</th>\n",
       "      <th>FrequencyCluster</th>\n",
       "      <th>Revenue</th>\n",
       "      <th>RevenueCluster</th>\n",
       "      <th>Overrall</th>\n",
       "      <th>m6_Revenue</th>\n",
       "      <th>LTVCluster</th>\n",
       "      <th>...</th>\n",
       "      <th>MaxPurchaseDate_2011-05-23</th>\n",
       "      <th>MaxPurchaseDate_2011-05-24</th>\n",
       "      <th>MaxPurchaseDate_2011-05-25</th>\n",
       "      <th>MaxPurchaseDate_2011-05-26</th>\n",
       "      <th>MaxPurchaseDate_2011-05-27</th>\n",
       "      <th>MaxPurchaseDate_2011-05-29</th>\n",
       "      <th>MaxPurchaseDate_2011-05-31</th>\n",
       "      <th>Segment_High-Value</th>\n",
       "      <th>Segment_Low-value</th>\n",
       "      <th>Segment_Mid-Value</th>\n",
       "    </tr>\n",
       "  </thead>\n",
       "  <tbody>\n",
       "    <tr>\n",
       "      <th>0</th>\n",
       "      <td>14620.0</td>\n",
       "      <td>12</td>\n",
       "      <td>3</td>\n",
       "      <td>30</td>\n",
       "      <td>0</td>\n",
       "      <td>393.28</td>\n",
       "      <td>0</td>\n",
       "      <td>3</td>\n",
       "      <td>0.00</td>\n",
       "      <td>0</td>\n",
       "      <td>...</td>\n",
       "      <td>0</td>\n",
       "      <td>0</td>\n",
       "      <td>0</td>\n",
       "      <td>0</td>\n",
       "      <td>0</td>\n",
       "      <td>0</td>\n",
       "      <td>0</td>\n",
       "      <td>0</td>\n",
       "      <td>0</td>\n",
       "      <td>1</td>\n",
       "    </tr>\n",
       "    <tr>\n",
       "      <th>1</th>\n",
       "      <td>18075.0</td>\n",
       "      <td>12</td>\n",
       "      <td>3</td>\n",
       "      <td>35</td>\n",
       "      <td>0</td>\n",
       "      <td>638.12</td>\n",
       "      <td>0</td>\n",
       "      <td>3</td>\n",
       "      <td>1322.75</td>\n",
       "      <td>0</td>\n",
       "      <td>...</td>\n",
       "      <td>0</td>\n",
       "      <td>0</td>\n",
       "      <td>0</td>\n",
       "      <td>0</td>\n",
       "      <td>0</td>\n",
       "      <td>0</td>\n",
       "      <td>0</td>\n",
       "      <td>0</td>\n",
       "      <td>0</td>\n",
       "      <td>1</td>\n",
       "    </tr>\n",
       "    <tr>\n",
       "      <th>2</th>\n",
       "      <td>15660.0</td>\n",
       "      <td>4</td>\n",
       "      <td>3</td>\n",
       "      <td>34</td>\n",
       "      <td>0</td>\n",
       "      <td>484.62</td>\n",
       "      <td>0</td>\n",
       "      <td>3</td>\n",
       "      <td>858.09</td>\n",
       "      <td>0</td>\n",
       "      <td>...</td>\n",
       "      <td>0</td>\n",
       "      <td>0</td>\n",
       "      <td>0</td>\n",
       "      <td>0</td>\n",
       "      <td>1</td>\n",
       "      <td>0</td>\n",
       "      <td>0</td>\n",
       "      <td>0</td>\n",
       "      <td>0</td>\n",
       "      <td>1</td>\n",
       "    </tr>\n",
       "    <tr>\n",
       "      <th>3</th>\n",
       "      <td>14676.0</td>\n",
       "      <td>15</td>\n",
       "      <td>3</td>\n",
       "      <td>18</td>\n",
       "      <td>0</td>\n",
       "      <td>1144.77</td>\n",
       "      <td>0</td>\n",
       "      <td>3</td>\n",
       "      <td>1399.72</td>\n",
       "      <td>0</td>\n",
       "      <td>...</td>\n",
       "      <td>0</td>\n",
       "      <td>0</td>\n",
       "      <td>0</td>\n",
       "      <td>0</td>\n",
       "      <td>0</td>\n",
       "      <td>0</td>\n",
       "      <td>0</td>\n",
       "      <td>0</td>\n",
       "      <td>0</td>\n",
       "      <td>1</td>\n",
       "    </tr>\n",
       "    <tr>\n",
       "      <th>4</th>\n",
       "      <td>14560.0</td>\n",
       "      <td>4</td>\n",
       "      <td>3</td>\n",
       "      <td>12</td>\n",
       "      <td>0</td>\n",
       "      <td>562.28</td>\n",
       "      <td>0</td>\n",
       "      <td>3</td>\n",
       "      <td>952.13</td>\n",
       "      <td>0</td>\n",
       "      <td>...</td>\n",
       "      <td>0</td>\n",
       "      <td>0</td>\n",
       "      <td>0</td>\n",
       "      <td>0</td>\n",
       "      <td>1</td>\n",
       "      <td>0</td>\n",
       "      <td>0</td>\n",
       "      <td>0</td>\n",
       "      <td>0</td>\n",
       "      <td>1</td>\n",
       "    </tr>\n",
       "  </tbody>\n",
       "</table>\n",
       "<p>5 rows × 86 columns</p>\n",
       "</div>"
      ],
      "text/plain": [
       "   CustomerID  Recency  RencencyCLuster  Frequency  FrequencyCluster  Revenue  \\\n",
       "0     14620.0       12                3         30                 0   393.28   \n",
       "1     18075.0       12                3         35                 0   638.12   \n",
       "2     15660.0        4                3         34                 0   484.62   \n",
       "3     14676.0       15                3         18                 0  1144.77   \n",
       "4     14560.0        4                3         12                 0   562.28   \n",
       "\n",
       "   RevenueCluster  Overrall  m6_Revenue  LTVCluster  ...  \\\n",
       "0               0         3        0.00           0  ...   \n",
       "1               0         3     1322.75           0  ...   \n",
       "2               0         3      858.09           0  ...   \n",
       "3               0         3     1399.72           0  ...   \n",
       "4               0         3      952.13           0  ...   \n",
       "\n",
       "   MaxPurchaseDate_2011-05-23  MaxPurchaseDate_2011-05-24  \\\n",
       "0                           0                           0   \n",
       "1                           0                           0   \n",
       "2                           0                           0   \n",
       "3                           0                           0   \n",
       "4                           0                           0   \n",
       "\n",
       "   MaxPurchaseDate_2011-05-25  MaxPurchaseDate_2011-05-26  \\\n",
       "0                           0                           0   \n",
       "1                           0                           0   \n",
       "2                           0                           0   \n",
       "3                           0                           0   \n",
       "4                           0                           0   \n",
       "\n",
       "   MaxPurchaseDate_2011-05-27  MaxPurchaseDate_2011-05-29  \\\n",
       "0                           0                           0   \n",
       "1                           0                           0   \n",
       "2                           1                           0   \n",
       "3                           0                           0   \n",
       "4                           1                           0   \n",
       "\n",
       "   MaxPurchaseDate_2011-05-31  Segment_High-Value  Segment_Low-value  \\\n",
       "0                           0                   0                  0   \n",
       "1                           0                   0                  0   \n",
       "2                           0                   0                  0   \n",
       "3                           0                   0                  0   \n",
       "4                           0                   0                  0   \n",
       "\n",
       "   Segment_Mid-Value  \n",
       "0                  1  \n",
       "1                  1  \n",
       "2                  1  \n",
       "3                  1  \n",
       "4                  1  \n",
       "\n",
       "[5 rows x 86 columns]"
      ]
     },
     "execution_count": 209,
     "metadata": {},
     "output_type": "execute_result"
    }
   ],
   "source": [
    "#convert categorical columns to numerical\n",
    "df_class = pd.get_dummies(df_cluster)\n",
    "df_class.head()"
   ]
  },
  {
   "cell_type": "code",
   "execution_count": 213,
   "metadata": {},
   "outputs": [
    {
     "data": {
      "text/html": [
       "<div>\n",
       "<style scoped>\n",
       "    .dataframe tbody tr th:only-of-type {\n",
       "        vertical-align: middle;\n",
       "    }\n",
       "\n",
       "    .dataframe tbody tr th {\n",
       "        vertical-align: top;\n",
       "    }\n",
       "\n",
       "    .dataframe thead th {\n",
       "        text-align: right;\n",
       "    }\n",
       "</style>\n",
       "<table border=\"1\" class=\"dataframe\">\n",
       "  <thead>\n",
       "    <tr style=\"text-align: right;\">\n",
       "      <th></th>\n",
       "      <th>CustomerID</th>\n",
       "      <th>Recency</th>\n",
       "      <th>RencencyCLuster</th>\n",
       "      <th>Frequency</th>\n",
       "      <th>FrequencyCluster</th>\n",
       "      <th>Revenue</th>\n",
       "      <th>RevenueCluster</th>\n",
       "      <th>Overrall</th>\n",
       "      <th>m6_Revenue</th>\n",
       "      <th>LTVCluster</th>\n",
       "      <th>...</th>\n",
       "      <th>MaxPurchaseDate_2011-05-23</th>\n",
       "      <th>MaxPurchaseDate_2011-05-24</th>\n",
       "      <th>MaxPurchaseDate_2011-05-25</th>\n",
       "      <th>MaxPurchaseDate_2011-05-26</th>\n",
       "      <th>MaxPurchaseDate_2011-05-27</th>\n",
       "      <th>MaxPurchaseDate_2011-05-29</th>\n",
       "      <th>MaxPurchaseDate_2011-05-31</th>\n",
       "      <th>Segment_High-Value</th>\n",
       "      <th>Segment_Low-value</th>\n",
       "      <th>Segment_Mid-Value</th>\n",
       "    </tr>\n",
       "  </thead>\n",
       "  <tbody>\n",
       "    <tr>\n",
       "      <th>CustomerID</th>\n",
       "      <td>1.000000</td>\n",
       "      <td>-0.002399</td>\n",
       "      <td>0.005977</td>\n",
       "      <td>-0.041699</td>\n",
       "      <td>-0.005271</td>\n",
       "      <td>-0.059981</td>\n",
       "      <td>-0.043978</td>\n",
       "      <td>-0.003133</td>\n",
       "      <td>-0.035490</td>\n",
       "      <td>-0.039404</td>\n",
       "      <td>...</td>\n",
       "      <td>-0.027530</td>\n",
       "      <td>0.000772</td>\n",
       "      <td>-0.054146</td>\n",
       "      <td>-0.038451</td>\n",
       "      <td>-0.021073</td>\n",
       "      <td>0.053450</td>\n",
       "      <td>0.056717</td>\n",
       "      <td>-0.051896</td>\n",
       "      <td>0.005218</td>\n",
       "      <td>0.009580</td>\n",
       "    </tr>\n",
       "    <tr>\n",
       "      <th>Recency</th>\n",
       "      <td>-0.002399</td>\n",
       "      <td>1.000000</td>\n",
       "      <td>-0.965430</td>\n",
       "      <td>-0.255521</td>\n",
       "      <td>-0.213802</td>\n",
       "      <td>-0.311287</td>\n",
       "      <td>-0.176972</td>\n",
       "      <td>-0.908939</td>\n",
       "      <td>-0.252471</td>\n",
       "      <td>-0.231388</td>\n",
       "      <td>...</td>\n",
       "      <td>-0.167876</td>\n",
       "      <td>-0.198215</td>\n",
       "      <td>-0.186093</td>\n",
       "      <td>-0.179647</td>\n",
       "      <td>-0.217035</td>\n",
       "      <td>-0.131818</td>\n",
       "      <td>-0.195874</td>\n",
       "      <td>-0.153373</td>\n",
       "      <td>0.731578</td>\n",
       "      <td>-0.697008</td>\n",
       "    </tr>\n",
       "    <tr>\n",
       "      <th>RencencyCLuster</th>\n",
       "      <td>0.005977</td>\n",
       "      <td>-0.965430</td>\n",
       "      <td>1.000000</td>\n",
       "      <td>0.250221</td>\n",
       "      <td>0.206953</td>\n",
       "      <td>0.313415</td>\n",
       "      <td>0.174161</td>\n",
       "      <td>0.935990</td>\n",
       "      <td>0.253233</td>\n",
       "      <td>0.231937</td>\n",
       "      <td>...</td>\n",
       "      <td>0.185469</td>\n",
       "      <td>0.211336</td>\n",
       "      <td>0.191713</td>\n",
       "      <td>0.179029</td>\n",
       "      <td>0.209447</td>\n",
       "      <td>0.119642</td>\n",
       "      <td>0.167799</td>\n",
       "      <td>0.160717</td>\n",
       "      <td>-0.807378</td>\n",
       "      <td>0.771674</td>\n",
       "    </tr>\n",
       "    <tr>\n",
       "      <th>Frequency</th>\n",
       "      <td>-0.041699</td>\n",
       "      <td>-0.255521</td>\n",
       "      <td>0.250221</td>\n",
       "      <td>1.000000</td>\n",
       "      <td>0.834486</td>\n",
       "      <td>0.493238</td>\n",
       "      <td>0.340535</td>\n",
       "      <td>0.500686</td>\n",
       "      <td>0.368590</td>\n",
       "      <td>0.363708</td>\n",
       "      <td>...</td>\n",
       "      <td>0.044773</td>\n",
       "      <td>0.056876</td>\n",
       "      <td>0.125245</td>\n",
       "      <td>0.096450</td>\n",
       "      <td>0.064549</td>\n",
       "      <td>0.134517</td>\n",
       "      <td>0.055771</td>\n",
       "      <td>0.470076</td>\n",
       "      <td>-0.334609</td>\n",
       "      <td>0.204241</td>\n",
       "    </tr>\n",
       "    <tr>\n",
       "      <th>FrequencyCluster</th>\n",
       "      <td>-0.005271</td>\n",
       "      <td>-0.213802</td>\n",
       "      <td>0.206953</td>\n",
       "      <td>0.834486</td>\n",
       "      <td>1.000000</td>\n",
       "      <td>0.459825</td>\n",
       "      <td>0.323870</td>\n",
       "      <td>0.508060</td>\n",
       "      <td>0.366576</td>\n",
       "      <td>0.359915</td>\n",
       "      <td>...</td>\n",
       "      <td>0.029559</td>\n",
       "      <td>0.062398</td>\n",
       "      <td>0.089807</td>\n",
       "      <td>0.123388</td>\n",
       "      <td>0.098114</td>\n",
       "      <td>0.109566</td>\n",
       "      <td>0.043563</td>\n",
       "      <td>0.466097</td>\n",
       "      <td>-0.341146</td>\n",
       "      <td>0.212002</td>\n",
       "    </tr>\n",
       "    <tr>\n",
       "      <th>...</th>\n",
       "      <td>...</td>\n",
       "      <td>...</td>\n",
       "      <td>...</td>\n",
       "      <td>...</td>\n",
       "      <td>...</td>\n",
       "      <td>...</td>\n",
       "      <td>...</td>\n",
       "      <td>...</td>\n",
       "      <td>...</td>\n",
       "      <td>...</td>\n",
       "      <td>...</td>\n",
       "      <td>...</td>\n",
       "      <td>...</td>\n",
       "      <td>...</td>\n",
       "      <td>...</td>\n",
       "      <td>...</td>\n",
       "      <td>...</td>\n",
       "      <td>...</td>\n",
       "      <td>...</td>\n",
       "      <td>...</td>\n",
       "      <td>...</td>\n",
       "    </tr>\n",
       "    <tr>\n",
       "      <th>MaxPurchaseDate_2011-05-29</th>\n",
       "      <td>0.053450</td>\n",
       "      <td>-0.131818</td>\n",
       "      <td>0.119642</td>\n",
       "      <td>0.134517</td>\n",
       "      <td>0.109566</td>\n",
       "      <td>0.029070</td>\n",
       "      <td>0.007263</td>\n",
       "      <td>0.133856</td>\n",
       "      <td>0.022049</td>\n",
       "      <td>0.040087</td>\n",
       "      <td>...</td>\n",
       "      <td>-0.016345</td>\n",
       "      <td>-0.018625</td>\n",
       "      <td>-0.016895</td>\n",
       "      <td>-0.015777</td>\n",
       "      <td>-0.018458</td>\n",
       "      <td>1.000000</td>\n",
       "      <td>-0.014788</td>\n",
       "      <td>0.025762</td>\n",
       "      <td>-0.138319</td>\n",
       "      <td>0.132710</td>\n",
       "    </tr>\n",
       "    <tr>\n",
       "      <th>MaxPurchaseDate_2011-05-31</th>\n",
       "      <td>0.056717</td>\n",
       "      <td>-0.195874</td>\n",
       "      <td>0.167799</td>\n",
       "      <td>0.055771</td>\n",
       "      <td>0.043563</td>\n",
       "      <td>0.107635</td>\n",
       "      <td>0.069404</td>\n",
       "      <td>0.165702</td>\n",
       "      <td>0.028587</td>\n",
       "      <td>0.024209</td>\n",
       "      <td>...</td>\n",
       "      <td>-0.022924</td>\n",
       "      <td>-0.026121</td>\n",
       "      <td>-0.023696</td>\n",
       "      <td>-0.022128</td>\n",
       "      <td>-0.025888</td>\n",
       "      <td>-0.014788</td>\n",
       "      <td>1.000000</td>\n",
       "      <td>0.037645</td>\n",
       "      <td>-0.193993</td>\n",
       "      <td>0.185692</td>\n",
       "    </tr>\n",
       "    <tr>\n",
       "      <th>Segment_High-Value</th>\n",
       "      <td>-0.051896</td>\n",
       "      <td>-0.153373</td>\n",
       "      <td>0.160717</td>\n",
       "      <td>0.470076</td>\n",
       "      <td>0.466097</td>\n",
       "      <td>0.577521</td>\n",
       "      <td>0.681262</td>\n",
       "      <td>0.372638</td>\n",
       "      <td>0.469082</td>\n",
       "      <td>0.388979</td>\n",
       "      <td>...</td>\n",
       "      <td>0.030308</td>\n",
       "      <td>0.044290</td>\n",
       "      <td>0.053276</td>\n",
       "      <td>0.113940</td>\n",
       "      <td>0.208186</td>\n",
       "      <td>0.025762</td>\n",
       "      <td>0.037645</td>\n",
       "      <td>1.000000</td>\n",
       "      <td>-0.185806</td>\n",
       "      <td>-0.098259</td>\n",
       "    </tr>\n",
       "    <tr>\n",
       "      <th>Segment_Low-value</th>\n",
       "      <td>0.005218</td>\n",
       "      <td>0.731578</td>\n",
       "      <td>-0.807378</td>\n",
       "      <td>-0.334609</td>\n",
       "      <td>-0.341146</td>\n",
       "      <td>-0.364761</td>\n",
       "      <td>-0.240919</td>\n",
       "      <td>-0.820202</td>\n",
       "      <td>-0.286622</td>\n",
       "      <td>-0.268072</td>\n",
       "      <td>...</td>\n",
       "      <td>-0.214421</td>\n",
       "      <td>-0.244326</td>\n",
       "      <td>-0.221640</td>\n",
       "      <td>-0.206975</td>\n",
       "      <td>-0.242142</td>\n",
       "      <td>-0.138319</td>\n",
       "      <td>-0.193993</td>\n",
       "      <td>-0.185806</td>\n",
       "      <td>1.000000</td>\n",
       "      <td>-0.959574</td>\n",
       "    </tr>\n",
       "    <tr>\n",
       "      <th>Segment_Mid-Value</th>\n",
       "      <td>0.009580</td>\n",
       "      <td>-0.697008</td>\n",
       "      <td>0.771674</td>\n",
       "      <td>0.204241</td>\n",
       "      <td>0.212002</td>\n",
       "      <td>0.204002</td>\n",
       "      <td>0.048860</td>\n",
       "      <td>0.723959</td>\n",
       "      <td>0.155924</td>\n",
       "      <td>0.160082</td>\n",
       "      <td>...</td>\n",
       "      <td>0.208483</td>\n",
       "      <td>0.234766</td>\n",
       "      <td>0.209216</td>\n",
       "      <td>0.176987</td>\n",
       "      <td>0.185607</td>\n",
       "      <td>0.132710</td>\n",
       "      <td>0.185692</td>\n",
       "      <td>-0.098259</td>\n",
       "      <td>-0.959574</td>\n",
       "      <td>1.000000</td>\n",
       "    </tr>\n",
       "  </tbody>\n",
       "</table>\n",
       "<p>86 rows × 86 columns</p>\n",
       "</div>"
      ],
      "text/plain": [
       "                            CustomerID   Recency  RencencyCLuster  Frequency  \\\n",
       "CustomerID                    1.000000 -0.002399         0.005977  -0.041699   \n",
       "Recency                      -0.002399  1.000000        -0.965430  -0.255521   \n",
       "RencencyCLuster               0.005977 -0.965430         1.000000   0.250221   \n",
       "Frequency                    -0.041699 -0.255521         0.250221   1.000000   \n",
       "FrequencyCluster             -0.005271 -0.213802         0.206953   0.834486   \n",
       "...                                ...       ...              ...        ...   \n",
       "MaxPurchaseDate_2011-05-29    0.053450 -0.131818         0.119642   0.134517   \n",
       "MaxPurchaseDate_2011-05-31    0.056717 -0.195874         0.167799   0.055771   \n",
       "Segment_High-Value           -0.051896 -0.153373         0.160717   0.470076   \n",
       "Segment_Low-value             0.005218  0.731578        -0.807378  -0.334609   \n",
       "Segment_Mid-Value             0.009580 -0.697008         0.771674   0.204241   \n",
       "\n",
       "                            FrequencyCluster   Revenue  RevenueCluster  \\\n",
       "CustomerID                         -0.005271 -0.059981       -0.043978   \n",
       "Recency                            -0.213802 -0.311287       -0.176972   \n",
       "RencencyCLuster                     0.206953  0.313415        0.174161   \n",
       "Frequency                           0.834486  0.493238        0.340535   \n",
       "FrequencyCluster                    1.000000  0.459825        0.323870   \n",
       "...                                      ...       ...             ...   \n",
       "MaxPurchaseDate_2011-05-29          0.109566  0.029070        0.007263   \n",
       "MaxPurchaseDate_2011-05-31          0.043563  0.107635        0.069404   \n",
       "Segment_High-Value                  0.466097  0.577521        0.681262   \n",
       "Segment_Low-value                  -0.341146 -0.364761       -0.240919   \n",
       "Segment_Mid-Value                   0.212002  0.204002        0.048860   \n",
       "\n",
       "                            Overrall  m6_Revenue  LTVCluster  ...  \\\n",
       "CustomerID                 -0.003133   -0.035490   -0.039404  ...   \n",
       "Recency                    -0.908939   -0.252471   -0.231388  ...   \n",
       "RencencyCLuster             0.935990    0.253233    0.231937  ...   \n",
       "Frequency                   0.500686    0.368590    0.363708  ...   \n",
       "FrequencyCluster            0.508060    0.366576    0.359915  ...   \n",
       "...                              ...         ...         ...  ...   \n",
       "MaxPurchaseDate_2011-05-29  0.133856    0.022049    0.040087  ...   \n",
       "MaxPurchaseDate_2011-05-31  0.165702    0.028587    0.024209  ...   \n",
       "Segment_High-Value          0.372638    0.469082    0.388979  ...   \n",
       "Segment_Low-value          -0.820202   -0.286622   -0.268072  ...   \n",
       "Segment_Mid-Value           0.723959    0.155924    0.160082  ...   \n",
       "\n",
       "                            MaxPurchaseDate_2011-05-23  \\\n",
       "CustomerID                                   -0.027530   \n",
       "Recency                                      -0.167876   \n",
       "RencencyCLuster                               0.185469   \n",
       "Frequency                                     0.044773   \n",
       "FrequencyCluster                              0.029559   \n",
       "...                                                ...   \n",
       "MaxPurchaseDate_2011-05-29                   -0.016345   \n",
       "MaxPurchaseDate_2011-05-31                   -0.022924   \n",
       "Segment_High-Value                            0.030308   \n",
       "Segment_Low-value                            -0.214421   \n",
       "Segment_Mid-Value                             0.208483   \n",
       "\n",
       "                            MaxPurchaseDate_2011-05-24  \\\n",
       "CustomerID                                    0.000772   \n",
       "Recency                                      -0.198215   \n",
       "RencencyCLuster                               0.211336   \n",
       "Frequency                                     0.056876   \n",
       "FrequencyCluster                              0.062398   \n",
       "...                                                ...   \n",
       "MaxPurchaseDate_2011-05-29                   -0.018625   \n",
       "MaxPurchaseDate_2011-05-31                   -0.026121   \n",
       "Segment_High-Value                            0.044290   \n",
       "Segment_Low-value                            -0.244326   \n",
       "Segment_Mid-Value                             0.234766   \n",
       "\n",
       "                            MaxPurchaseDate_2011-05-25  \\\n",
       "CustomerID                                   -0.054146   \n",
       "Recency                                      -0.186093   \n",
       "RencencyCLuster                               0.191713   \n",
       "Frequency                                     0.125245   \n",
       "FrequencyCluster                              0.089807   \n",
       "...                                                ...   \n",
       "MaxPurchaseDate_2011-05-29                   -0.016895   \n",
       "MaxPurchaseDate_2011-05-31                   -0.023696   \n",
       "Segment_High-Value                            0.053276   \n",
       "Segment_Low-value                            -0.221640   \n",
       "Segment_Mid-Value                             0.209216   \n",
       "\n",
       "                            MaxPurchaseDate_2011-05-26  \\\n",
       "CustomerID                                   -0.038451   \n",
       "Recency                                      -0.179647   \n",
       "RencencyCLuster                               0.179029   \n",
       "Frequency                                     0.096450   \n",
       "FrequencyCluster                              0.123388   \n",
       "...                                                ...   \n",
       "MaxPurchaseDate_2011-05-29                   -0.015777   \n",
       "MaxPurchaseDate_2011-05-31                   -0.022128   \n",
       "Segment_High-Value                            0.113940   \n",
       "Segment_Low-value                            -0.206975   \n",
       "Segment_Mid-Value                             0.176987   \n",
       "\n",
       "                            MaxPurchaseDate_2011-05-27  \\\n",
       "CustomerID                                   -0.021073   \n",
       "Recency                                      -0.217035   \n",
       "RencencyCLuster                               0.209447   \n",
       "Frequency                                     0.064549   \n",
       "FrequencyCluster                              0.098114   \n",
       "...                                                ...   \n",
       "MaxPurchaseDate_2011-05-29                   -0.018458   \n",
       "MaxPurchaseDate_2011-05-31                   -0.025888   \n",
       "Segment_High-Value                            0.208186   \n",
       "Segment_Low-value                            -0.242142   \n",
       "Segment_Mid-Value                             0.185607   \n",
       "\n",
       "                            MaxPurchaseDate_2011-05-29  \\\n",
       "CustomerID                                    0.053450   \n",
       "Recency                                      -0.131818   \n",
       "RencencyCLuster                               0.119642   \n",
       "Frequency                                     0.134517   \n",
       "FrequencyCluster                              0.109566   \n",
       "...                                                ...   \n",
       "MaxPurchaseDate_2011-05-29                    1.000000   \n",
       "MaxPurchaseDate_2011-05-31                   -0.014788   \n",
       "Segment_High-Value                            0.025762   \n",
       "Segment_Low-value                            -0.138319   \n",
       "Segment_Mid-Value                             0.132710   \n",
       "\n",
       "                            MaxPurchaseDate_2011-05-31  Segment_High-Value  \\\n",
       "CustomerID                                    0.056717           -0.051896   \n",
       "Recency                                      -0.195874           -0.153373   \n",
       "RencencyCLuster                               0.167799            0.160717   \n",
       "Frequency                                     0.055771            0.470076   \n",
       "FrequencyCluster                              0.043563            0.466097   \n",
       "...                                                ...                 ...   \n",
       "MaxPurchaseDate_2011-05-29                   -0.014788            0.025762   \n",
       "MaxPurchaseDate_2011-05-31                    1.000000            0.037645   \n",
       "Segment_High-Value                            0.037645            1.000000   \n",
       "Segment_Low-value                            -0.193993           -0.185806   \n",
       "Segment_Mid-Value                             0.185692           -0.098259   \n",
       "\n",
       "                            Segment_Low-value  Segment_Mid-Value  \n",
       "CustomerID                           0.005218           0.009580  \n",
       "Recency                              0.731578          -0.697008  \n",
       "RencencyCLuster                     -0.807378           0.771674  \n",
       "Frequency                           -0.334609           0.204241  \n",
       "FrequencyCluster                    -0.341146           0.212002  \n",
       "...                                       ...                ...  \n",
       "MaxPurchaseDate_2011-05-29          -0.138319           0.132710  \n",
       "MaxPurchaseDate_2011-05-31          -0.193993           0.185692  \n",
       "Segment_High-Value                  -0.185806          -0.098259  \n",
       "Segment_Low-value                    1.000000          -0.959574  \n",
       "Segment_Mid-Value                   -0.959574           1.000000  \n",
       "\n",
       "[86 rows x 86 columns]"
      ]
     },
     "execution_count": 213,
     "metadata": {},
     "output_type": "execute_result"
    }
   ],
   "source": [
    "# calculate and show corr\n",
    "corr_matrix = df_class.corr()\n",
    "corr_matrix"
   ]
  },
  {
   "cell_type": "code",
   "execution_count": 214,
   "metadata": {},
   "outputs": [
    {
     "data": {
      "text/plain": [
       "LTVCluster                    1.000000\n",
       "m6_Revenue                    0.853229\n",
       "Revenue                       0.614746\n",
       "RevenueCluster                0.497610\n",
       "Segment_High-Value            0.388979\n",
       "                                ...   \n",
       "MaxPurchaseDate_2011-04-19   -0.046549\n",
       "MaxPurchaseDate_2011-04-21   -0.050997\n",
       "MaxPurchaseDate_2011-04-08   -0.051313\n",
       "Recency                      -0.231388\n",
       "Segment_Low-value            -0.268072\n",
       "Name: LTVCluster, Length: 86, dtype: float64"
      ]
     },
     "execution_count": 214,
     "metadata": {},
     "output_type": "execute_result"
    }
   ],
   "source": [
    "corr_matrix['LTVCluster'].sort_values(ascending=False)"
   ]
  },
  {
   "cell_type": "code",
   "execution_count": 229,
   "metadata": {},
   "outputs": [],
   "source": [
    "import xgboost as xgb\n",
    "from sklearn.model_selection import KFold, cross_val_score, train_test_split\n",
    "from sklearn.metrics import classification_report, confusion_matrix"
   ]
  },
  {
   "cell_type": "code",
   "execution_count": 221,
   "metadata": {},
   "outputs": [],
   "source": [
    "X= df_class.drop(['LTVCluster','m6_Revenue'],axis= 1)\n",
    "y = df_class['LTVCluster']"
   ]
  },
  {
   "cell_type": "code",
   "execution_count": 222,
   "metadata": {},
   "outputs": [],
   "source": [
    "X_train,X_test,y_train,y_test = train_test_split(X,y,test_size=0.05,random_state=56)"
   ]
  },
  {
   "cell_type": "code",
   "execution_count": 223,
   "metadata": {},
   "outputs": [],
   "source": [
    "ltv_xgb_model = xgb.XGBClassifier(max_depth = 5, learning_rate = 0.1,objective='multi:softprob',n_jobs=-1).fit(X_train,y_train)"
   ]
  },
  {
   "cell_type": "code",
   "execution_count": 233,
   "metadata": {},
   "outputs": [
    {
     "name": "stdout",
     "output_type": "stream",
     "text": [
      "Accuracy of XGB classifier on training set: 0.94\n",
      "Accuracy of XGB classifier on test set: 0.85\n"
     ]
    }
   ],
   "source": [
    "print('Accuracy of XGB classifier on training set: {:.2f}'\n",
    "      .format(ltv_xgb_model.score(X_train,y_train)))\n",
    "print('Accuracy of XGB classifier on test set: {:.2f}'\n",
    "      .format(ltv_xgb_model.score(X_test[X_train.columns],y_test)))\n"
   ]
  },
  {
   "cell_type": "code",
   "execution_count": 236,
   "metadata": {},
   "outputs": [
    {
     "data": {
      "text/plain": [
       "array([0, 0, 0, 0, 0, 0, 0, 0, 1, 1, 1, 0, 0, 0, 0, 0, 0, 0, 0, 0, 0, 0,\n",
       "       0, 0, 0, 0, 0, 0, 0, 1, 0, 0, 0, 0, 0, 0, 0, 1, 0, 0, 0, 0, 0, 1,\n",
       "       0, 0, 1, 0, 0, 1, 0, 1, 1, 1, 0, 0, 0, 0, 0, 0, 1, 0, 0, 0, 0, 0,\n",
       "       1, 0, 1, 0, 0, 0, 0, 0, 0, 0, 0, 0, 2, 0, 0, 0, 0, 1, 0, 0, 0, 0,\n",
       "       0, 0, 0, 0], dtype=int64)"
      ]
     },
     "execution_count": 236,
     "metadata": {},
     "output_type": "execute_result"
    }
   ],
   "source": [
    "y_pred = ltv_xgb_model.predict(X_test)\n",
    "y_pred"
   ]
  },
  {
   "cell_type": "code",
   "execution_count": 237,
   "metadata": {},
   "outputs": [
    {
     "name": "stdout",
     "output_type": "stream",
     "text": [
      "              precision    recall  f1-score   support\n",
      "\n",
      "           0       0.89      0.92      0.91        74\n",
      "           1       0.60      0.56      0.58        16\n",
      "           2       1.00      0.50      0.67         2\n",
      "\n",
      "    accuracy                           0.85        92\n",
      "   macro avg       0.83      0.66      0.72        92\n",
      "weighted avg       0.85      0.85      0.84        92\n",
      "\n"
     ]
    }
   ],
   "source": [
    "print(classification_report(y_test,y_pred))"
   ]
  },
  {
   "cell_type": "markdown",
   "metadata": {},
   "source": [
    "Predict customer next purchase day"
   ]
  },
  {
   "cell_type": "code",
   "execution_count": 239,
   "metadata": {},
   "outputs": [],
   "source": [
    "import sklearn.cluster as KMeans\n",
    "from sklearn.metrics import classification_report, confusion_matrix\n",
    "from sklearn.svm import SVC\n",
    "from sklearn.multioutput import MultiOutputClassifier\n",
    "from sklearn.ensemble import GradientBoostingClassifier\n",
    "from sklearn.tree import DecisionTreeClassifier\n",
    "from sklearn.neighbors import KNeighborsClassifier\n",
    "from sklearn.naive_bayes import GaussianNB\n",
    "from sklearn.ensemble import RandomForestClassifier\n",
    "from sklearn.linear_model import LogisticRegression\n",
    "import xgboost as xgb\n",
    "from sklearn.model_selection import KFold, cross_val_score,train_test_split"
   ]
  },
  {
   "cell_type": "code",
   "execution_count": 242,
   "metadata": {},
   "outputs": [],
   "source": [
    "df_39 = df_uk[(df_uk['Invoiceonlydate'] <date(2011,9,1)) & (df_uk['Invoiceonlydate'] >=date(2011,3,1))].reset_index(drop=True) # data tu thang 4 toi thang 9\n",
    "df_912 = df_uk[(df_uk['Invoiceonlydate'] <date(2011,12,1)) & (df_uk['Invoiceonlydate'] >=date(2011,9,1))].reset_index(drop=True) # data tu thang 9 toi thang 12"
   ]
  },
  {
   "cell_type": "code",
   "execution_count": 243,
   "metadata": {},
   "outputs": [
    {
     "data": {
      "text/plain": [
       "count         178694\n",
       "unique            78\n",
       "top       2011-11-29\n",
       "freq            4166\n",
       "Name: Invoiceonlydate, dtype: object"
      ]
     },
     "execution_count": 243,
     "metadata": {},
     "output_type": "execute_result"
    }
   ],
   "source": [
    "df_912['Invoiceonlydate'].describe()"
   ]
  },
  {
   "cell_type": "code",
   "execution_count": 247,
   "metadata": {},
   "outputs": [
    {
     "data": {
      "text/html": [
       "<div>\n",
       "<style scoped>\n",
       "    .dataframe tbody tr th:only-of-type {\n",
       "        vertical-align: middle;\n",
       "    }\n",
       "\n",
       "    .dataframe tbody tr th {\n",
       "        vertical-align: top;\n",
       "    }\n",
       "\n",
       "    .dataframe thead th {\n",
       "        text-align: right;\n",
       "    }\n",
       "</style>\n",
       "<table border=\"1\" class=\"dataframe\">\n",
       "  <thead>\n",
       "    <tr style=\"text-align: right;\">\n",
       "      <th></th>\n",
       "      <th>CustomerID</th>\n",
       "    </tr>\n",
       "  </thead>\n",
       "  <tbody>\n",
       "    <tr>\n",
       "      <th>0</th>\n",
       "      <td>14620.0</td>\n",
       "    </tr>\n",
       "    <tr>\n",
       "      <th>1</th>\n",
       "      <td>14740.0</td>\n",
       "    </tr>\n",
       "    <tr>\n",
       "      <th>2</th>\n",
       "      <td>13880.0</td>\n",
       "    </tr>\n",
       "    <tr>\n",
       "      <th>3</th>\n",
       "      <td>16462.0</td>\n",
       "    </tr>\n",
       "    <tr>\n",
       "      <th>4</th>\n",
       "      <td>17068.0</td>\n",
       "    </tr>\n",
       "    <tr>\n",
       "      <th>...</th>\n",
       "      <td>...</td>\n",
       "    </tr>\n",
       "    <tr>\n",
       "      <th>2564</th>\n",
       "      <td>16083.0</td>\n",
       "    </tr>\n",
       "    <tr>\n",
       "      <th>2565</th>\n",
       "      <td>13726.0</td>\n",
       "    </tr>\n",
       "    <tr>\n",
       "      <th>2566</th>\n",
       "      <td>15690.0</td>\n",
       "    </tr>\n",
       "    <tr>\n",
       "      <th>2567</th>\n",
       "      <td>17777.0</td>\n",
       "    </tr>\n",
       "    <tr>\n",
       "      <th>2568</th>\n",
       "      <td>16278.0</td>\n",
       "    </tr>\n",
       "  </tbody>\n",
       "</table>\n",
       "<p>2569 rows × 1 columns</p>\n",
       "</div>"
      ],
      "text/plain": [
       "      CustomerID\n",
       "0        14620.0\n",
       "1        14740.0\n",
       "2        13880.0\n",
       "3        16462.0\n",
       "4        17068.0\n",
       "...          ...\n",
       "2564     16083.0\n",
       "2565     13726.0\n",
       "2566     15690.0\n",
       "2567     17777.0\n",
       "2568     16278.0\n",
       "\n",
       "[2569 rows x 1 columns]"
      ]
     },
     "execution_count": 247,
     "metadata": {},
     "output_type": "execute_result"
    }
   ],
   "source": [
    "df_user_39 = pd.DataFrame(df_39['CustomerID'].unique())\n",
    "df_user_39.columns = ['CustomerID']\n",
    "df_user_39"
   ]
  },
  {
   "cell_type": "code",
   "execution_count": 251,
   "metadata": {},
   "outputs": [
    {
     "data": {
      "text/html": [
       "<div>\n",
       "<style scoped>\n",
       "    .dataframe tbody tr th:only-of-type {\n",
       "        vertical-align: middle;\n",
       "    }\n",
       "\n",
       "    .dataframe tbody tr th {\n",
       "        vertical-align: top;\n",
       "    }\n",
       "\n",
       "    .dataframe thead th {\n",
       "        text-align: right;\n",
       "    }\n",
       "</style>\n",
       "<table border=\"1\" class=\"dataframe\">\n",
       "  <thead>\n",
       "    <tr style=\"text-align: right;\">\n",
       "      <th></th>\n",
       "      <th>CustomerID</th>\n",
       "      <th>MinPurchaseDate</th>\n",
       "    </tr>\n",
       "  </thead>\n",
       "  <tbody>\n",
       "    <tr>\n",
       "      <th>0</th>\n",
       "      <td>12747.0</td>\n",
       "      <td>2011-10-04</td>\n",
       "    </tr>\n",
       "    <tr>\n",
       "      <th>1</th>\n",
       "      <td>12748.0</td>\n",
       "      <td>2011-09-02</td>\n",
       "    </tr>\n",
       "    <tr>\n",
       "      <th>2</th>\n",
       "      <td>12749.0</td>\n",
       "      <td>2011-11-17</td>\n",
       "    </tr>\n",
       "    <tr>\n",
       "      <th>3</th>\n",
       "      <td>12820.0</td>\n",
       "      <td>2011-09-26</td>\n",
       "    </tr>\n",
       "    <tr>\n",
       "      <th>4</th>\n",
       "      <td>12822.0</td>\n",
       "      <td>2011-09-13</td>\n",
       "    </tr>\n",
       "    <tr>\n",
       "      <th>...</th>\n",
       "      <td>...</td>\n",
       "      <td>...</td>\n",
       "    </tr>\n",
       "    <tr>\n",
       "      <th>2592</th>\n",
       "      <td>18276.0</td>\n",
       "      <td>2011-10-27</td>\n",
       "    </tr>\n",
       "    <tr>\n",
       "      <th>2593</th>\n",
       "      <td>18277.0</td>\n",
       "      <td>2011-10-12</td>\n",
       "    </tr>\n",
       "    <tr>\n",
       "      <th>2594</th>\n",
       "      <td>18278.0</td>\n",
       "      <td>2011-09-27</td>\n",
       "    </tr>\n",
       "    <tr>\n",
       "      <th>2595</th>\n",
       "      <td>18283.0</td>\n",
       "      <td>2011-09-05</td>\n",
       "    </tr>\n",
       "    <tr>\n",
       "      <th>2596</th>\n",
       "      <td>18287.0</td>\n",
       "      <td>2011-10-12</td>\n",
       "    </tr>\n",
       "  </tbody>\n",
       "</table>\n",
       "<p>2597 rows × 2 columns</p>\n",
       "</div>"
      ],
      "text/plain": [
       "      CustomerID MinPurchaseDate\n",
       "0        12747.0      2011-10-04\n",
       "1        12748.0      2011-09-02\n",
       "2        12749.0      2011-11-17\n",
       "3        12820.0      2011-09-26\n",
       "4        12822.0      2011-09-13\n",
       "...          ...             ...\n",
       "2592     18276.0      2011-10-27\n",
       "2593     18277.0      2011-10-12\n",
       "2594     18278.0      2011-09-27\n",
       "2595     18283.0      2011-09-05\n",
       "2596     18287.0      2011-10-12\n",
       "\n",
       "[2597 rows x 2 columns]"
      ]
     },
     "execution_count": 251,
     "metadata": {},
     "output_type": "execute_result"
    }
   ],
   "source": [
    "df_912_first_purchase = df_912.groupby('CustomerID')['Invoiceonlydate'].min().reset_index(name = 'MinPurchaseDate')\n",
    "df_912_first_purchase"
   ]
  },
  {
   "cell_type": "code",
   "execution_count": 252,
   "metadata": {},
   "outputs": [
    {
     "data": {
      "text/html": [
       "<div>\n",
       "<style scoped>\n",
       "    .dataframe tbody tr th:only-of-type {\n",
       "        vertical-align: middle;\n",
       "    }\n",
       "\n",
       "    .dataframe tbody tr th {\n",
       "        vertical-align: top;\n",
       "    }\n",
       "\n",
       "    .dataframe thead th {\n",
       "        text-align: right;\n",
       "    }\n",
       "</style>\n",
       "<table border=\"1\" class=\"dataframe\">\n",
       "  <thead>\n",
       "    <tr style=\"text-align: right;\">\n",
       "      <th></th>\n",
       "      <th>CustomerID</th>\n",
       "      <th>MaxPurchaseDate</th>\n",
       "    </tr>\n",
       "  </thead>\n",
       "  <tbody>\n",
       "    <tr>\n",
       "      <th>0</th>\n",
       "      <td>12747.0</td>\n",
       "      <td>2011-08-22</td>\n",
       "    </tr>\n",
       "    <tr>\n",
       "      <th>1</th>\n",
       "      <td>12748.0</td>\n",
       "      <td>2011-08-30</td>\n",
       "    </tr>\n",
       "    <tr>\n",
       "      <th>2</th>\n",
       "      <td>12749.0</td>\n",
       "      <td>2011-08-18</td>\n",
       "    </tr>\n",
       "    <tr>\n",
       "      <th>3</th>\n",
       "      <td>12821.0</td>\n",
       "      <td>2011-05-09</td>\n",
       "    </tr>\n",
       "    <tr>\n",
       "      <th>4</th>\n",
       "      <td>12823.0</td>\n",
       "      <td>2011-08-04</td>\n",
       "    </tr>\n",
       "    <tr>\n",
       "      <th>...</th>\n",
       "      <td>...</td>\n",
       "      <td>...</td>\n",
       "    </tr>\n",
       "    <tr>\n",
       "      <th>2563</th>\n",
       "      <td>18280.0</td>\n",
       "      <td>2011-03-07</td>\n",
       "    </tr>\n",
       "    <tr>\n",
       "      <th>2564</th>\n",
       "      <td>18281.0</td>\n",
       "      <td>2011-06-12</td>\n",
       "    </tr>\n",
       "    <tr>\n",
       "      <th>2565</th>\n",
       "      <td>18282.0</td>\n",
       "      <td>2011-08-09</td>\n",
       "    </tr>\n",
       "    <tr>\n",
       "      <th>2566</th>\n",
       "      <td>18283.0</td>\n",
       "      <td>2011-07-14</td>\n",
       "    </tr>\n",
       "    <tr>\n",
       "      <th>2567</th>\n",
       "      <td>18287.0</td>\n",
       "      <td>2011-05-22</td>\n",
       "    </tr>\n",
       "  </tbody>\n",
       "</table>\n",
       "<p>2568 rows × 2 columns</p>\n",
       "</div>"
      ],
      "text/plain": [
       "      CustomerID MaxPurchaseDate\n",
       "0        12747.0      2011-08-22\n",
       "1        12748.0      2011-08-30\n",
       "2        12749.0      2011-08-18\n",
       "3        12821.0      2011-05-09\n",
       "4        12823.0      2011-08-04\n",
       "...          ...             ...\n",
       "2563     18280.0      2011-03-07\n",
       "2564     18281.0      2011-06-12\n",
       "2565     18282.0      2011-08-09\n",
       "2566     18283.0      2011-07-14\n",
       "2567     18287.0      2011-05-22\n",
       "\n",
       "[2568 rows x 2 columns]"
      ]
     },
     "execution_count": 252,
     "metadata": {},
     "output_type": "execute_result"
    }
   ],
   "source": [
    "df_39_last_purchase = df_39.groupby('CustomerID')['Invoiceonlydate'].max().reset_index(name='MaxPurchaseDate')\n",
    "df_39_last_purchase"
   ]
  },
  {
   "cell_type": "code",
   "execution_count": 259,
   "metadata": {},
   "outputs": [
    {
     "data": {
      "text/html": [
       "<div>\n",
       "<style scoped>\n",
       "    .dataframe tbody tr th:only-of-type {\n",
       "        vertical-align: middle;\n",
       "    }\n",
       "\n",
       "    .dataframe tbody tr th {\n",
       "        vertical-align: top;\n",
       "    }\n",
       "\n",
       "    .dataframe thead th {\n",
       "        text-align: right;\n",
       "    }\n",
       "</style>\n",
       "<table border=\"1\" class=\"dataframe\">\n",
       "  <thead>\n",
       "    <tr style=\"text-align: right;\">\n",
       "      <th></th>\n",
       "      <th>CustomerID</th>\n",
       "      <th>MaxPurchaseDate</th>\n",
       "      <th>MinPurchaseDate</th>\n",
       "    </tr>\n",
       "  </thead>\n",
       "  <tbody>\n",
       "    <tr>\n",
       "      <th>0</th>\n",
       "      <td>12747.0</td>\n",
       "      <td>2011-08-22</td>\n",
       "      <td>2011-10-04</td>\n",
       "    </tr>\n",
       "    <tr>\n",
       "      <th>1</th>\n",
       "      <td>12748.0</td>\n",
       "      <td>2011-08-30</td>\n",
       "      <td>2011-09-02</td>\n",
       "    </tr>\n",
       "    <tr>\n",
       "      <th>2</th>\n",
       "      <td>12749.0</td>\n",
       "      <td>2011-08-18</td>\n",
       "      <td>2011-11-17</td>\n",
       "    </tr>\n",
       "    <tr>\n",
       "      <th>3</th>\n",
       "      <td>12821.0</td>\n",
       "      <td>2011-05-09</td>\n",
       "      <td>NaN</td>\n",
       "    </tr>\n",
       "    <tr>\n",
       "      <th>4</th>\n",
       "      <td>12823.0</td>\n",
       "      <td>2011-08-04</td>\n",
       "      <td>2011-09-26</td>\n",
       "    </tr>\n",
       "    <tr>\n",
       "      <th>...</th>\n",
       "      <td>...</td>\n",
       "      <td>...</td>\n",
       "      <td>...</td>\n",
       "    </tr>\n",
       "    <tr>\n",
       "      <th>2563</th>\n",
       "      <td>18280.0</td>\n",
       "      <td>2011-03-07</td>\n",
       "      <td>NaN</td>\n",
       "    </tr>\n",
       "    <tr>\n",
       "      <th>2564</th>\n",
       "      <td>18281.0</td>\n",
       "      <td>2011-06-12</td>\n",
       "      <td>NaN</td>\n",
       "    </tr>\n",
       "    <tr>\n",
       "      <th>2565</th>\n",
       "      <td>18282.0</td>\n",
       "      <td>2011-08-09</td>\n",
       "      <td>NaN</td>\n",
       "    </tr>\n",
       "    <tr>\n",
       "      <th>2566</th>\n",
       "      <td>18283.0</td>\n",
       "      <td>2011-07-14</td>\n",
       "      <td>2011-09-05</td>\n",
       "    </tr>\n",
       "    <tr>\n",
       "      <th>2567</th>\n",
       "      <td>18287.0</td>\n",
       "      <td>2011-05-22</td>\n",
       "      <td>2011-10-12</td>\n",
       "    </tr>\n",
       "  </tbody>\n",
       "</table>\n",
       "<p>2568 rows × 3 columns</p>\n",
       "</div>"
      ],
      "text/plain": [
       "      CustomerID MaxPurchaseDate MinPurchaseDate\n",
       "0        12747.0      2011-08-22      2011-10-04\n",
       "1        12748.0      2011-08-30      2011-09-02\n",
       "2        12749.0      2011-08-18      2011-11-17\n",
       "3        12821.0      2011-05-09             NaN\n",
       "4        12823.0      2011-08-04      2011-09-26\n",
       "...          ...             ...             ...\n",
       "2563     18280.0      2011-03-07             NaN\n",
       "2564     18281.0      2011-06-12             NaN\n",
       "2565     18282.0      2011-08-09             NaN\n",
       "2566     18283.0      2011-07-14      2011-09-05\n",
       "2567     18287.0      2011-05-22      2011-10-12\n",
       "\n",
       "[2568 rows x 3 columns]"
      ]
     },
     "execution_count": 259,
     "metadata": {},
     "output_type": "execute_result"
    }
   ],
   "source": [
    "df_purchase_date = pd.merge(df_39_last_purchase,df_912_first_purchase,how='left',on='CustomerID')\n",
    "df_purchase_date"
   ]
  },
  {
   "cell_type": "code",
   "execution_count": 261,
   "metadata": {},
   "outputs": [
    {
     "data": {
      "text/html": [
       "<div>\n",
       "<style scoped>\n",
       "    .dataframe tbody tr th:only-of-type {\n",
       "        vertical-align: middle;\n",
       "    }\n",
       "\n",
       "    .dataframe tbody tr th {\n",
       "        vertical-align: top;\n",
       "    }\n",
       "\n",
       "    .dataframe thead th {\n",
       "        text-align: right;\n",
       "    }\n",
       "</style>\n",
       "<table border=\"1\" class=\"dataframe\">\n",
       "  <thead>\n",
       "    <tr style=\"text-align: right;\">\n",
       "      <th></th>\n",
       "      <th>CustomerID</th>\n",
       "      <th>MaxPurchaseDate</th>\n",
       "      <th>MinPurchaseDate</th>\n",
       "      <th>NextPurchaseDay</th>\n",
       "    </tr>\n",
       "  </thead>\n",
       "  <tbody>\n",
       "    <tr>\n",
       "      <th>0</th>\n",
       "      <td>12747.0</td>\n",
       "      <td>2011-08-22</td>\n",
       "      <td>2011-10-04</td>\n",
       "      <td>43.0</td>\n",
       "    </tr>\n",
       "    <tr>\n",
       "      <th>1</th>\n",
       "      <td>12748.0</td>\n",
       "      <td>2011-08-30</td>\n",
       "      <td>2011-09-02</td>\n",
       "      <td>3.0</td>\n",
       "    </tr>\n",
       "    <tr>\n",
       "      <th>2</th>\n",
       "      <td>12749.0</td>\n",
       "      <td>2011-08-18</td>\n",
       "      <td>2011-11-17</td>\n",
       "      <td>91.0</td>\n",
       "    </tr>\n",
       "    <tr>\n",
       "      <th>3</th>\n",
       "      <td>12821.0</td>\n",
       "      <td>2011-05-09</td>\n",
       "      <td>NaN</td>\n",
       "      <td>NaN</td>\n",
       "    </tr>\n",
       "    <tr>\n",
       "      <th>4</th>\n",
       "      <td>12823.0</td>\n",
       "      <td>2011-08-04</td>\n",
       "      <td>2011-09-26</td>\n",
       "      <td>53.0</td>\n",
       "    </tr>\n",
       "    <tr>\n",
       "      <th>...</th>\n",
       "      <td>...</td>\n",
       "      <td>...</td>\n",
       "      <td>...</td>\n",
       "      <td>...</td>\n",
       "    </tr>\n",
       "    <tr>\n",
       "      <th>2563</th>\n",
       "      <td>18280.0</td>\n",
       "      <td>2011-03-07</td>\n",
       "      <td>NaN</td>\n",
       "      <td>NaN</td>\n",
       "    </tr>\n",
       "    <tr>\n",
       "      <th>2564</th>\n",
       "      <td>18281.0</td>\n",
       "      <td>2011-06-12</td>\n",
       "      <td>NaN</td>\n",
       "      <td>NaN</td>\n",
       "    </tr>\n",
       "    <tr>\n",
       "      <th>2565</th>\n",
       "      <td>18282.0</td>\n",
       "      <td>2011-08-09</td>\n",
       "      <td>NaN</td>\n",
       "      <td>NaN</td>\n",
       "    </tr>\n",
       "    <tr>\n",
       "      <th>2566</th>\n",
       "      <td>18283.0</td>\n",
       "      <td>2011-07-14</td>\n",
       "      <td>2011-09-05</td>\n",
       "      <td>53.0</td>\n",
       "    </tr>\n",
       "    <tr>\n",
       "      <th>2567</th>\n",
       "      <td>18287.0</td>\n",
       "      <td>2011-05-22</td>\n",
       "      <td>2011-10-12</td>\n",
       "      <td>143.0</td>\n",
       "    </tr>\n",
       "  </tbody>\n",
       "</table>\n",
       "<p>2568 rows × 4 columns</p>\n",
       "</div>"
      ],
      "text/plain": [
       "      CustomerID MaxPurchaseDate MinPurchaseDate  NextPurchaseDay\n",
       "0        12747.0      2011-08-22      2011-10-04             43.0\n",
       "1        12748.0      2011-08-30      2011-09-02              3.0\n",
       "2        12749.0      2011-08-18      2011-11-17             91.0\n",
       "3        12821.0      2011-05-09             NaN              NaN\n",
       "4        12823.0      2011-08-04      2011-09-26             53.0\n",
       "...          ...             ...             ...              ...\n",
       "2563     18280.0      2011-03-07             NaN              NaN\n",
       "2564     18281.0      2011-06-12             NaN              NaN\n",
       "2565     18282.0      2011-08-09             NaN              NaN\n",
       "2566     18283.0      2011-07-14      2011-09-05             53.0\n",
       "2567     18287.0      2011-05-22      2011-10-12            143.0\n",
       "\n",
       "[2568 rows x 4 columns]"
      ]
     },
     "execution_count": 261,
     "metadata": {},
     "output_type": "execute_result"
    }
   ],
   "source": [
    "df_purchase_date['NextPurchaseDay'] = (df_purchase_date['MinPurchaseDate'] - df_purchase_date['MaxPurchaseDate']).dt.days\n",
    "df_purchase_date"
   ]
  },
  {
   "cell_type": "code",
   "execution_count": 265,
   "metadata": {},
   "outputs": [
    {
     "data": {
      "text/html": [
       "<div>\n",
       "<style scoped>\n",
       "    .dataframe tbody tr th:only-of-type {\n",
       "        vertical-align: middle;\n",
       "    }\n",
       "\n",
       "    .dataframe tbody tr th {\n",
       "        vertical-align: top;\n",
       "    }\n",
       "\n",
       "    .dataframe thead th {\n",
       "        text-align: right;\n",
       "    }\n",
       "</style>\n",
       "<table border=\"1\" class=\"dataframe\">\n",
       "  <thead>\n",
       "    <tr style=\"text-align: right;\">\n",
       "      <th></th>\n",
       "      <th>CustomerID</th>\n",
       "      <th>NextPurchaseDay_x</th>\n",
       "      <th>NextPurchaseDay_y</th>\n",
       "      <th>NextPurchaseDay</th>\n",
       "    </tr>\n",
       "  </thead>\n",
       "  <tbody>\n",
       "    <tr>\n",
       "      <th>0</th>\n",
       "      <td>14620.0</td>\n",
       "      <td>999.0</td>\n",
       "      <td>999.0</td>\n",
       "      <td>999.0</td>\n",
       "    </tr>\n",
       "    <tr>\n",
       "      <th>1</th>\n",
       "      <td>14740.0</td>\n",
       "      <td>999.0</td>\n",
       "      <td>999.0</td>\n",
       "      <td>999.0</td>\n",
       "    </tr>\n",
       "    <tr>\n",
       "      <th>2</th>\n",
       "      <td>13880.0</td>\n",
       "      <td>58.0</td>\n",
       "      <td>58.0</td>\n",
       "      <td>58.0</td>\n",
       "    </tr>\n",
       "    <tr>\n",
       "      <th>3</th>\n",
       "      <td>16462.0</td>\n",
       "      <td>112.0</td>\n",
       "      <td>112.0</td>\n",
       "      <td>112.0</td>\n",
       "    </tr>\n",
       "    <tr>\n",
       "      <th>4</th>\n",
       "      <td>17068.0</td>\n",
       "      <td>16.0</td>\n",
       "      <td>16.0</td>\n",
       "      <td>16.0</td>\n",
       "    </tr>\n",
       "    <tr>\n",
       "      <th>...</th>\n",
       "      <td>...</td>\n",
       "      <td>...</td>\n",
       "      <td>...</td>\n",
       "      <td>...</td>\n",
       "    </tr>\n",
       "    <tr>\n",
       "      <th>2564</th>\n",
       "      <td>16083.0</td>\n",
       "      <td>999.0</td>\n",
       "      <td>999.0</td>\n",
       "      <td>999.0</td>\n",
       "    </tr>\n",
       "    <tr>\n",
       "      <th>2565</th>\n",
       "      <td>13726.0</td>\n",
       "      <td>62.0</td>\n",
       "      <td>62.0</td>\n",
       "      <td>62.0</td>\n",
       "    </tr>\n",
       "    <tr>\n",
       "      <th>2566</th>\n",
       "      <td>15690.0</td>\n",
       "      <td>999.0</td>\n",
       "      <td>999.0</td>\n",
       "      <td>999.0</td>\n",
       "    </tr>\n",
       "    <tr>\n",
       "      <th>2567</th>\n",
       "      <td>17777.0</td>\n",
       "      <td>61.0</td>\n",
       "      <td>61.0</td>\n",
       "      <td>61.0</td>\n",
       "    </tr>\n",
       "    <tr>\n",
       "      <th>2568</th>\n",
       "      <td>16278.0</td>\n",
       "      <td>6.0</td>\n",
       "      <td>6.0</td>\n",
       "      <td>6.0</td>\n",
       "    </tr>\n",
       "  </tbody>\n",
       "</table>\n",
       "<p>2569 rows × 4 columns</p>\n",
       "</div>"
      ],
      "text/plain": [
       "      CustomerID  NextPurchaseDay_x  NextPurchaseDay_y  NextPurchaseDay\n",
       "0        14620.0              999.0              999.0            999.0\n",
       "1        14740.0              999.0              999.0            999.0\n",
       "2        13880.0               58.0               58.0             58.0\n",
       "3        16462.0              112.0              112.0            112.0\n",
       "4        17068.0               16.0               16.0             16.0\n",
       "...          ...                ...                ...              ...\n",
       "2564     16083.0              999.0              999.0            999.0\n",
       "2565     13726.0               62.0               62.0             62.0\n",
       "2566     15690.0              999.0              999.0            999.0\n",
       "2567     17777.0               61.0               61.0             61.0\n",
       "2568     16278.0                6.0                6.0              6.0\n",
       "\n",
       "[2569 rows x 4 columns]"
      ]
     },
     "execution_count": 265,
     "metadata": {},
     "output_type": "execute_result"
    }
   ],
   "source": [
    "df_user_39 = pd.merge(df_user_39,df_purchase_date[['CustomerID','NextPurchaseDay']],on='CustomerID',how='left')\n",
    "df_user_39=df_user_39.fillna(999)\n",
    "df_user_39"
   ]
  }
 ],
 "metadata": {
  "kernelspec": {
   "display_name": "base",
   "language": "python",
   "name": "python3"
  },
  "language_info": {
   "codemirror_mode": {
    "name": "ipython",
    "version": 3
   },
   "file_extension": ".py",
   "mimetype": "text/x-python",
   "name": "python",
   "nbconvert_exporter": "python",
   "pygments_lexer": "ipython3",
   "version": "3.9.12"
  },
  "orig_nbformat": 4
 },
 "nbformat": 4,
 "nbformat_minor": 2
}
